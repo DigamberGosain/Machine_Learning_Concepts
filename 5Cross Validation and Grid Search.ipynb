{
 "cells": [
  {
   "cell_type": "markdown",
   "metadata": {},
   "source": [
    "# <span style = \"color:#03520a ; font-family:sans serif\"> Cross Validation & Grid Search </span>"
   ]
  },
  {
   "cell_type": "markdown",
   "metadata": {},
   "source": [
    "### <span style = \"color:#03520a ; font-family:sans serif\"> Cross Validation in Detail\n",
    "* Train | Test Split\n",
    "* Train | Validation | test Split\n",
    "* Scikit_Learn cross_val_score\n",
    "* Scikit_Learn cross_validated"
   ]
  },
  {
   "cell_type": "markdown",
   "metadata": {},
   "source": [
    "## <span style = \"color:#03520a ; font-family:sans serif\"> Grid Search"
   ]
  },
  {
   "cell_type": "markdown",
   "metadata": {},
   "source": [
    "### <span style = \"color:#03520a ; font-sans serif\"> We will start with basic (Test | Train split) and then slowly build up tp the full K-fold Validation"
   ]
  },
  {
   "cell_type": "markdown",
   "metadata": {},
   "source": [
    "## <span style = \"color:#03520a ; font-family:sans serif\"> Train | Test Split"
   ]
  },
  {
   "cell_type": "code",
   "execution_count": 104,
   "metadata": {},
   "outputs": [],
   "source": [
    "import numpy as np\n",
    "import pandas as pd\n",
    "import matplotlib.pyplot as plt\n",
    "import seaborn as sns"
   ]
  },
  {
   "cell_type": "code",
   "execution_count": 105,
   "metadata": {},
   "outputs": [],
   "source": [
    "df = pd.read_csv(\"Advertising.csv\")"
   ]
  },
  {
   "cell_type": "code",
   "execution_count": 106,
   "metadata": {},
   "outputs": [
    {
     "data": {
      "text/html": [
       "<div>\n",
       "<style scoped>\n",
       "    .dataframe tbody tr th:only-of-type {\n",
       "        vertical-align: middle;\n",
       "    }\n",
       "\n",
       "    .dataframe tbody tr th {\n",
       "        vertical-align: top;\n",
       "    }\n",
       "\n",
       "    .dataframe thead th {\n",
       "        text-align: right;\n",
       "    }\n",
       "</style>\n",
       "<table border=\"1\" class=\"dataframe\">\n",
       "  <thead>\n",
       "    <tr style=\"text-align: right;\">\n",
       "      <th></th>\n",
       "      <th>TV</th>\n",
       "      <th>radio</th>\n",
       "      <th>newspaper</th>\n",
       "      <th>sales</th>\n",
       "    </tr>\n",
       "  </thead>\n",
       "  <tbody>\n",
       "    <tr>\n",
       "      <th>0</th>\n",
       "      <td>230.1</td>\n",
       "      <td>37.8</td>\n",
       "      <td>69.2</td>\n",
       "      <td>22.1</td>\n",
       "    </tr>\n",
       "    <tr>\n",
       "      <th>1</th>\n",
       "      <td>44.5</td>\n",
       "      <td>39.3</td>\n",
       "      <td>45.1</td>\n",
       "      <td>10.4</td>\n",
       "    </tr>\n",
       "    <tr>\n",
       "      <th>2</th>\n",
       "      <td>17.2</td>\n",
       "      <td>45.9</td>\n",
       "      <td>69.3</td>\n",
       "      <td>9.3</td>\n",
       "    </tr>\n",
       "    <tr>\n",
       "      <th>3</th>\n",
       "      <td>151.5</td>\n",
       "      <td>41.3</td>\n",
       "      <td>58.5</td>\n",
       "      <td>18.5</td>\n",
       "    </tr>\n",
       "    <tr>\n",
       "      <th>4</th>\n",
       "      <td>180.8</td>\n",
       "      <td>10.8</td>\n",
       "      <td>58.4</td>\n",
       "      <td>12.9</td>\n",
       "    </tr>\n",
       "  </tbody>\n",
       "</table>\n",
       "</div>"
      ],
      "text/plain": [
       "      TV  radio  newspaper  sales\n",
       "0  230.1   37.8       69.2   22.1\n",
       "1   44.5   39.3       45.1   10.4\n",
       "2   17.2   45.9       69.3    9.3\n",
       "3  151.5   41.3       58.5   18.5\n",
       "4  180.8   10.8       58.4   12.9"
      ]
     },
     "execution_count": 106,
     "metadata": {},
     "output_type": "execute_result"
    }
   ],
   "source": [
    "df.head()"
   ]
  },
  {
   "cell_type": "markdown",
   "metadata": {},
   "source": [
    "## <span style = \"color:#03520a ; font-family:sans serif\"> Train | Test split Procedure\n",
    "1. Clean and adjust data as necessary for X and y\n",
    "2. Split data in Train/Test for both X and y\n",
    "3. Fit/Train Scaler on Training X Data\n",
    "4. Scale X Test Data\n",
    "5. Create Model\n",
    "6. Fit/Train Model on X Train Data\n",
    "7. Evaluate Model on X Test data(by creating predictions and comparing to Y_test)\n",
    "8. Adjust Parameters as Necessary and repeate 6 and 7"
   ]
  },
  {
   "cell_type": "code",
   "execution_count": 107,
   "metadata": {},
   "outputs": [],
   "source": [
    "X = df.drop(\"sales\", axis = 1)"
   ]
  },
  {
   "cell_type": "code",
   "execution_count": 108,
   "metadata": {},
   "outputs": [],
   "source": [
    "y = df[\"sales\"]"
   ]
  },
  {
   "cell_type": "code",
   "execution_count": 109,
   "metadata": {},
   "outputs": [],
   "source": [
    "from sklearn.model_selection import train_test_split"
   ]
  },
  {
   "cell_type": "code",
   "execution_count": 110,
   "metadata": {},
   "outputs": [],
   "source": [
    "X_train, X_test, y_train, y_test = train_test_split(X, y, test_size=0.30, random_state=101)"
   ]
  },
  {
   "cell_type": "markdown",
   "metadata": {},
   "source": [
    "## <span style = \"color:#03520a ; font-family:sans serif\"> Above we have completed the train test split"
   ]
  },
  {
   "cell_type": "code",
   "execution_count": 111,
   "metadata": {},
   "outputs": [],
   "source": [
    "from sklearn.preprocessing import StandardScaler"
   ]
  },
  {
   "cell_type": "code",
   "execution_count": 112,
   "metadata": {},
   "outputs": [],
   "source": [
    "scaler = StandardScaler()"
   ]
  },
  {
   "cell_type": "code",
   "execution_count": 113,
   "metadata": {},
   "outputs": [
    {
     "data": {
      "text/plain": [
       "StandardScaler()"
      ]
     },
     "execution_count": 113,
     "metadata": {},
     "output_type": "execute_result"
    }
   ],
   "source": [
    "scaler.fit(X_train)"
   ]
  },
  {
   "cell_type": "code",
   "execution_count": 114,
   "metadata": {},
   "outputs": [],
   "source": [
    "X_train = scaler.transform(X_train)"
   ]
  },
  {
   "cell_type": "code",
   "execution_count": 115,
   "metadata": {},
   "outputs": [],
   "source": [
    "X_test =scaler.transform(X_test)"
   ]
  },
  {
   "cell_type": "markdown",
   "metadata": {},
   "source": [
    "### <span style = \"color:red ; font-family:sans serif\">Always remember we only fit X_train and transfrom X_train and X_test. y is not be scaled"
   ]
  },
  {
   "cell_type": "code",
   "execution_count": 116,
   "metadata": {},
   "outputs": [],
   "source": [
    "from sklearn.linear_model import Ridge"
   ]
  },
  {
   "cell_type": "code",
   "execution_count": 117,
   "metadata": {},
   "outputs": [],
   "source": [
    "model = Ridge(alpha = 100)"
   ]
  },
  {
   "cell_type": "code",
   "execution_count": 118,
   "metadata": {},
   "outputs": [
    {
     "data": {
      "text/plain": [
       "Ridge(alpha=100)"
      ]
     },
     "execution_count": 118,
     "metadata": {},
     "output_type": "execute_result"
    }
   ],
   "source": [
    "model.fit(X_train ,y_train)"
   ]
  },
  {
   "cell_type": "code",
   "execution_count": 119,
   "metadata": {},
   "outputs": [],
   "source": [
    "y_pred = model.predict(X_test)"
   ]
  },
  {
   "cell_type": "code",
   "execution_count": 120,
   "metadata": {},
   "outputs": [],
   "source": [
    "from sklearn.metrics import mean_squared_error"
   ]
  },
  {
   "cell_type": "code",
   "execution_count": 121,
   "metadata": {},
   "outputs": [
    {
     "data": {
      "text/plain": [
       "7.34177578903413"
      ]
     },
     "execution_count": 121,
     "metadata": {},
     "output_type": "execute_result"
    }
   ],
   "source": [
    "mean_squared_error(y_test,y_pred)"
   ]
  },
  {
   "cell_type": "markdown",
   "metadata": {},
   "source": [
    "### <span style = \"color:#03520a ; font-family:sans serif\"> We have high mean squared error in comparison to the last time we did the same."
   ]
  },
  {
   "cell_type": "markdown",
   "metadata": {},
   "source": [
    "## <span style = \"color:#03520a ; font-family:sans serif\"> Let's Discuss some advantages and disadvantages of simple Test | train Split</span>\n",
    "## <span style = \"color:#03520a ; font-family:sans serif\">Advantages\n",
    "* It is quite easy to do\n",
    "* It saves the computation time if we have a very large data set\n",
    "* Simple and intuitive </span>\n",
    "## <span style = \"color:#03520a ; font-family:sans serif\">Disadvantages\n",
    "* Getting optimal hyperparameter value is quite tedious as we need to the same steps again and again\n",
    "* The another major issue is when we tune hyperparameters to get the test results, model actual sees the whole data again and again."
   ]
  },
  {
   "cell_type": "markdown",
   "metadata": {},
   "source": [
    "## <span style = \"color:#03520a ; font-family:sans serif\"> Cross Validation</span>\n",
    "### <span style = \"color:#03520a ; font-family:sans serif\">Train | Validation | Test Split"
   ]
  },
  {
   "cell_type": "markdown",
   "metadata": {},
   "source": [
    "#### <span style = \"color:#03520a ; font-family:sans serif\">If we want a truly and fair set of performance metrics, We should get these metrics from a final test set that we do not allow ourselves to adjust on."
   ]
  },
  {
   "cell_type": "markdown",
   "metadata": {},
   "source": [
    "## <span style = \"color:#03520a ; font-family:sans serif\"> Split the data: Train, Validation, and Test.</span>\n",
    "### <span style = \"color:#03520a ; font-family:sans serif\"> Ideal situation you keep 70% for training and 15% on validation and 15% on test, but this can be change as per the Dataset size</span>"
   ]
  },
  {
   "cell_type": "markdown",
   "metadata": {},
   "source": [
    "### <span style = \"color:#03520a ; font-family:sans serif\"> To do train , test and validation split we will call the train test split twice."
   ]
  },
  {
   "cell_type": "code",
   "execution_count": 122,
   "metadata": {},
   "outputs": [],
   "source": [
    "df2 = pd.read_csv(\"Advertising.csv\")"
   ]
  },
  {
   "cell_type": "code",
   "execution_count": 123,
   "metadata": {},
   "outputs": [
    {
     "data": {
      "text/html": [
       "<div>\n",
       "<style scoped>\n",
       "    .dataframe tbody tr th:only-of-type {\n",
       "        vertical-align: middle;\n",
       "    }\n",
       "\n",
       "    .dataframe tbody tr th {\n",
       "        vertical-align: top;\n",
       "    }\n",
       "\n",
       "    .dataframe thead th {\n",
       "        text-align: right;\n",
       "    }\n",
       "</style>\n",
       "<table border=\"1\" class=\"dataframe\">\n",
       "  <thead>\n",
       "    <tr style=\"text-align: right;\">\n",
       "      <th></th>\n",
       "      <th>TV</th>\n",
       "      <th>radio</th>\n",
       "      <th>newspaper</th>\n",
       "      <th>sales</th>\n",
       "    </tr>\n",
       "  </thead>\n",
       "  <tbody>\n",
       "    <tr>\n",
       "      <th>0</th>\n",
       "      <td>230.1</td>\n",
       "      <td>37.8</td>\n",
       "      <td>69.2</td>\n",
       "      <td>22.1</td>\n",
       "    </tr>\n",
       "    <tr>\n",
       "      <th>1</th>\n",
       "      <td>44.5</td>\n",
       "      <td>39.3</td>\n",
       "      <td>45.1</td>\n",
       "      <td>10.4</td>\n",
       "    </tr>\n",
       "    <tr>\n",
       "      <th>2</th>\n",
       "      <td>17.2</td>\n",
       "      <td>45.9</td>\n",
       "      <td>69.3</td>\n",
       "      <td>9.3</td>\n",
       "    </tr>\n",
       "    <tr>\n",
       "      <th>3</th>\n",
       "      <td>151.5</td>\n",
       "      <td>41.3</td>\n",
       "      <td>58.5</td>\n",
       "      <td>18.5</td>\n",
       "    </tr>\n",
       "    <tr>\n",
       "      <th>4</th>\n",
       "      <td>180.8</td>\n",
       "      <td>10.8</td>\n",
       "      <td>58.4</td>\n",
       "      <td>12.9</td>\n",
       "    </tr>\n",
       "  </tbody>\n",
       "</table>\n",
       "</div>"
      ],
      "text/plain": [
       "      TV  radio  newspaper  sales\n",
       "0  230.1   37.8       69.2   22.1\n",
       "1   44.5   39.3       45.1   10.4\n",
       "2   17.2   45.9       69.3    9.3\n",
       "3  151.5   41.3       58.5   18.5\n",
       "4  180.8   10.8       58.4   12.9"
      ]
     },
     "execution_count": 123,
     "metadata": {},
     "output_type": "execute_result"
    }
   ],
   "source": [
    "df2.head()"
   ]
  },
  {
   "cell_type": "code",
   "execution_count": 124,
   "metadata": {},
   "outputs": [],
   "source": [
    "X=df2.drop(\"sales\",axis = 1)"
   ]
  },
  {
   "cell_type": "code",
   "execution_count": 125,
   "metadata": {},
   "outputs": [],
   "source": [
    "y = df[\"sales\"]"
   ]
  },
  {
   "cell_type": "code",
   "execution_count": 126,
   "metadata": {},
   "outputs": [],
   "source": [
    "from sklearn.model_selection import train_test_split"
   ]
  },
  {
   "cell_type": "code",
   "execution_count": 127,
   "metadata": {},
   "outputs": [],
   "source": [
    "X_train, X_other, y_train, y_other = train_test_split(X, y, test_size=0.30, random_state=101)"
   ]
  },
  {
   "cell_type": "code",
   "execution_count": 128,
   "metadata": {},
   "outputs": [],
   "source": [
    "X_eval, X_test, y_eval, y_test = train_test_split(X_other, y_other, test_size=0.5, random_state=101)"
   ]
  },
  {
   "cell_type": "code",
   "execution_count": 129,
   "metadata": {},
   "outputs": [
    {
     "data": {
      "text/plain": [
       "200"
      ]
     },
     "execution_count": 129,
     "metadata": {},
     "output_type": "execute_result"
    }
   ],
   "source": [
    "len(df2)"
   ]
  },
  {
   "cell_type": "code",
   "execution_count": 130,
   "metadata": {},
   "outputs": [
    {
     "data": {
      "text/plain": [
       "140"
      ]
     },
     "execution_count": 130,
     "metadata": {},
     "output_type": "execute_result"
    }
   ],
   "source": [
    "len(X_train)"
   ]
  },
  {
   "cell_type": "code",
   "execution_count": 131,
   "metadata": {},
   "outputs": [
    {
     "data": {
      "text/plain": [
       "30"
      ]
     },
     "execution_count": 131,
     "metadata": {},
     "output_type": "execute_result"
    }
   ],
   "source": [
    "len(X_eval)"
   ]
  },
  {
   "cell_type": "code",
   "execution_count": 132,
   "metadata": {},
   "outputs": [
    {
     "data": {
      "text/plain": [
       "30"
      ]
     },
     "execution_count": 132,
     "metadata": {},
     "output_type": "execute_result"
    }
   ],
   "source": [
    "len(X_test)"
   ]
  },
  {
   "cell_type": "markdown",
   "metadata": {},
   "source": [
    "### <span style = \"color:#03520a ; font-family:sans serif\"> As we can see from above the train test split has been done twice with X_ohter in replacement of X_test and second with X_eval in place of X_train and in parameter of second train test split X amd Y paramters were changed to X_ohter and y_other. Our length of X_train, X_eval, X_test is equal to length of total DataFrame."
   ]
  },
  {
   "cell_type": "code",
   "execution_count": 133,
   "metadata": {},
   "outputs": [],
   "source": [
    "from sklearn.preprocessing import StandardScaler"
   ]
  },
  {
   "cell_type": "code",
   "execution_count": 134,
   "metadata": {},
   "outputs": [],
   "source": [
    "scaler = StandardScaler()"
   ]
  },
  {
   "cell_type": "code",
   "execution_count": 135,
   "metadata": {},
   "outputs": [
    {
     "data": {
      "text/plain": [
       "StandardScaler()"
      ]
     },
     "execution_count": 135,
     "metadata": {},
     "output_type": "execute_result"
    }
   ],
   "source": [
    "scaler.fit(X_train)"
   ]
  },
  {
   "cell_type": "markdown",
   "metadata": {},
   "source": [
    "### <span style = \"color:#03520a ; font-family:sans serif\">We can see form above we will do scaler.transfrom on all thre to X_train, X_eval, X_test"
   ]
  },
  {
   "cell_type": "code",
   "execution_count": 136,
   "metadata": {},
   "outputs": [],
   "source": [
    "X_train = scaler.transform(X_train)"
   ]
  },
  {
   "cell_type": "code",
   "execution_count": 137,
   "metadata": {},
   "outputs": [],
   "source": [
    "X_eval = scaler.transform(X_eval)"
   ]
  },
  {
   "cell_type": "code",
   "execution_count": 138,
   "metadata": {},
   "outputs": [],
   "source": [
    "X_test = scaler.transform(X_test)"
   ]
  },
  {
   "cell_type": "code",
   "execution_count": 139,
   "metadata": {},
   "outputs": [],
   "source": [
    "from sklearn.linear_model import Ridge"
   ]
  },
  {
   "cell_type": "code",
   "execution_count": 140,
   "metadata": {},
   "outputs": [],
   "source": [
    "model_one = Ridge(alpha = 100)"
   ]
  },
  {
   "cell_type": "code",
   "execution_count": 141,
   "metadata": {},
   "outputs": [
    {
     "data": {
      "text/plain": [
       "Ridge(alpha=100)"
      ]
     },
     "execution_count": 141,
     "metadata": {},
     "output_type": "execute_result"
    }
   ],
   "source": [
    "model_one.fit(X_train, y_train)"
   ]
  },
  {
   "cell_type": "code",
   "execution_count": 142,
   "metadata": {},
   "outputs": [],
   "source": [
    "y_eval_predict = model.predict(X_eval)"
   ]
  },
  {
   "cell_type": "code",
   "execution_count": 143,
   "metadata": {},
   "outputs": [],
   "source": [
    "from sklearn.metrics import mean_squared_error"
   ]
  },
  {
   "cell_type": "code",
   "execution_count": 144,
   "metadata": {},
   "outputs": [
    {
     "data": {
      "text/plain": [
       "7.320101458823871"
      ]
     },
     "execution_count": 144,
     "metadata": {},
     "output_type": "execute_result"
    }
   ],
   "source": [
    "mean_squared_error(y_eval,y_eval_predict)"
   ]
  },
  {
   "cell_type": "code",
   "execution_count": 145,
   "metadata": {},
   "outputs": [],
   "source": [
    "model_two = Ridge(alpha = 1)"
   ]
  },
  {
   "cell_type": "code",
   "execution_count": 146,
   "metadata": {},
   "outputs": [
    {
     "data": {
      "text/plain": [
       "Ridge(alpha=1)"
      ]
     },
     "execution_count": 146,
     "metadata": {},
     "output_type": "execute_result"
    }
   ],
   "source": [
    "model_two.fit(X_train, y_train)"
   ]
  },
  {
   "cell_type": "code",
   "execution_count": 147,
   "metadata": {},
   "outputs": [],
   "source": [
    "new_pred_eval = model_two.predict(X_eval)"
   ]
  },
  {
   "cell_type": "code",
   "execution_count": 148,
   "metadata": {},
   "outputs": [
    {
     "data": {
      "text/plain": [
       "2.383783075056986"
      ]
     },
     "execution_count": 148,
     "metadata": {},
     "output_type": "execute_result"
    }
   ],
   "source": [
    "mean_squared_error(y_eval,new_pred_eval)"
   ]
  },
  {
   "cell_type": "markdown",
   "metadata": {},
   "source": [
    "### <span style = \"color:#03520a ; font-family:sans serif\"> This way we can do hypertuning of parameters like we did for alpha and keep some data avaiable as X_test for final performance test."
   ]
  },
  {
   "cell_type": "code",
   "execution_count": 149,
   "metadata": {},
   "outputs": [],
   "source": [
    "y_final_test_pred = model_two.predict(X_test)"
   ]
  },
  {
   "cell_type": "code",
   "execution_count": 150,
   "metadata": {},
   "outputs": [
    {
     "data": {
      "text/plain": [
       "2.254260083800517"
      ]
     },
     "execution_count": 150,
     "metadata": {},
     "output_type": "execute_result"
    }
   ],
   "source": [
    "mean_squared_error(y_test,y_final_test_pred)"
   ]
  },
  {
   "cell_type": "markdown",
   "metadata": {},
   "source": [
    "### <span style = \"color:red ; font-family:sans serif\"> This is our final model evalutaiton on hold out dataset \"y_test\", there is no going back and tunining any hyperparameters now"
   ]
  },
  {
   "cell_type": "markdown",
   "metadata": {},
   "source": [
    "#### <span style = \"color:#03520a ; font-family:sans serif\"> When it comes to deployment to the real world is going to be Fit and trained to the entire dataset just the X and y."
   ]
  },
  {
   "cell_type": "markdown",
   "metadata": {},
   "source": [
    "# <span style = \"color:#03520a ; font-family:sans serif\">Cross Validation - Using the cross_val_score funciton"
   ]
  },
  {
   "cell_type": "markdown",
   "metadata": {},
   "source": [
    "## <span style = \"color:#03520a ; font-family:sans serif\"> K_fold cross validation</span>\n",
    "## <span style = \"color:#03520a ; font-family:sans serif\"> The cross_val_score is sklearn inbuilt fucntion which uses a model and training set(along with a K and chosed metric) to perform all of this for us automatically!</span>\n",
    "## <span style = \"color:#03520a ; font-family:sans serif\"> This allows for K_fold Cross Validation to be perfromed on any model</span>"
   ]
  },
  {
   "cell_type": "code",
   "execution_count": 151,
   "metadata": {},
   "outputs": [],
   "source": [
    "df3 = pd.read_csv(\"Advertising.csv\")"
   ]
  },
  {
   "cell_type": "code",
   "execution_count": 152,
   "metadata": {},
   "outputs": [
    {
     "data": {
      "text/plain": [
       "<bound method NDFrame.head of         TV  radio  newspaper  sales\n",
       "0    230.1   37.8       69.2   22.1\n",
       "1     44.5   39.3       45.1   10.4\n",
       "2     17.2   45.9       69.3    9.3\n",
       "3    151.5   41.3       58.5   18.5\n",
       "4    180.8   10.8       58.4   12.9\n",
       "..     ...    ...        ...    ...\n",
       "195   38.2    3.7       13.8    7.6\n",
       "196   94.2    4.9        8.1    9.7\n",
       "197  177.0    9.3        6.4   12.8\n",
       "198  283.6   42.0       66.2   25.5\n",
       "199  232.1    8.6        8.7   13.4\n",
       "\n",
       "[200 rows x 4 columns]>"
      ]
     },
     "execution_count": 152,
     "metadata": {},
     "output_type": "execute_result"
    }
   ],
   "source": [
    "df3.head"
   ]
  },
  {
   "cell_type": "markdown",
   "metadata": {},
   "source": [
    "<img src=\"data:image/png;base64,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\" />"
   ]
  },
  {
   "cell_type": "markdown",
   "metadata": {},
   "source": [
    "#### <span style = \"color:#03520a ; font-family:sans serif\"> The above example of K = 5, K-fold corss validation.\n",
    "* First we have all the dataset\n",
    "* Then data is divied to training and Final hold out test set on which final performance evaluation will be done once we are satsifed with final model\n",
    "* Withing training dataset, each blue bars works as K-fold\n",
    "* With these K-fold validation we find best parameters"
   ]
  },
  {
   "cell_type": "code",
   "execution_count": 158,
   "metadata": {},
   "outputs": [],
   "source": [
    "X = df3.drop(\"sales\", axis = 1)"
   ]
  },
  {
   "cell_type": "code",
   "execution_count": 159,
   "metadata": {},
   "outputs": [],
   "source": [
    "y = df3[\"sales\"]"
   ]
  },
  {
   "cell_type": "code",
   "execution_count": 160,
   "metadata": {},
   "outputs": [],
   "source": [
    "from sklearn.model_selection import train_test_split"
   ]
  },
  {
   "cell_type": "code",
   "execution_count": 161,
   "metadata": {},
   "outputs": [],
   "source": [
    "X_train, X_test, y_train, y_test = train_test_split(X, y, test_size=0.30, random_state=101)"
   ]
  },
  {
   "cell_type": "markdown",
   "metadata": {},
   "source": [
    "### <span style = \"color:#03520a ; font-family:sans serif\"> Here one thing to be noted that test size  can be reduced, we don't need as large as 30% in this scenario.We have used it here just for the standard we have followed so far!"
   ]
  },
  {
   "cell_type": "code",
   "execution_count": 162,
   "metadata": {},
   "outputs": [],
   "source": [
    "from sklearn.preprocessing import StandardScaler"
   ]
  },
  {
   "cell_type": "code",
   "execution_count": 163,
   "metadata": {},
   "outputs": [],
   "source": [
    "scaler = StandardScaler()"
   ]
  },
  {
   "cell_type": "code",
   "execution_count": 164,
   "metadata": {},
   "outputs": [
    {
     "data": {
      "text/plain": [
       "StandardScaler()"
      ]
     },
     "execution_count": 164,
     "metadata": {},
     "output_type": "execute_result"
    }
   ],
   "source": [
    "scaler.fit(X_train)"
   ]
  },
  {
   "cell_type": "code",
   "execution_count": 165,
   "metadata": {},
   "outputs": [],
   "source": [
    "X_train= scaler.transform(X_train)"
   ]
  },
  {
   "cell_type": "code",
   "execution_count": 166,
   "metadata": {},
   "outputs": [],
   "source": [
    "X_test = scaler.transform(X_test)"
   ]
  },
  {
   "cell_type": "code",
   "execution_count": 167,
   "metadata": {},
   "outputs": [],
   "source": [
    "model = Ridge(alpha=100)"
   ]
  },
  {
   "cell_type": "markdown",
   "metadata": {},
   "source": [
    "## <span style = \"color:#03520a ; font-family:sans serif\"> Now here we will import cross_val_score from Sklear.model_selection"
   ]
  },
  {
   "cell_type": "code",
   "execution_count": 168,
   "metadata": {},
   "outputs": [],
   "source": [
    "from sklearn.model_selection import cross_val_score"
   ]
  },
  {
   "cell_type": "markdown",
   "metadata": {},
   "source": [
    "### <span style = \"color:#03520a ; font-family:sans serif\"> Let's check some parameters of cross_val_score before we proceed\n",
    "* estimator = it's sklear own term for machine learning model\n",
    "* X = X_train\n",
    "* y = y_train\n",
    "* cv = number of K-folds\n",
    "* scoring = it is the error which gets reported back from a scoring metric\n",
    "* We can refer to scoring metric anytime by visting(https://scikit-learn.org/stable/modules/model_evaluation.html)\n",
    "* Remember All scorer objects follow the convention that higher return values are better than lower return values.Thus metrics which measure the distance between the model and the data, like metrics.mean_squared_error, are available as neg_mean_squared_error which return the negated value of the metric."
   ]
  },
  {
   "cell_type": "code",
   "execution_count": 169,
   "metadata": {},
   "outputs": [],
   "source": [
    "scores = cross_val_score(model,X_train,y_train,scoring=\"neg_mean_squared_error\",cv = 5)"
   ]
  },
  {
   "cell_type": "code",
   "execution_count": 170,
   "metadata": {},
   "outputs": [
    {
     "data": {
      "text/plain": [
       "array([ -9.32552967,  -4.9449624 , -11.39665242,  -7.0242106 ,\n",
       "        -8.38562723])"
      ]
     },
     "execution_count": 170,
     "metadata": {},
     "output_type": "execute_result"
    }
   ],
   "source": [
    "scores"
   ]
  },
  {
   "cell_type": "code",
   "execution_count": 171,
   "metadata": {},
   "outputs": [
    {
     "data": {
      "text/plain": [
       "8.215396464543607"
      ]
     },
     "execution_count": 171,
     "metadata": {},
     "output_type": "execute_result"
    }
   ],
   "source": [
    "abs(scores.mean())"
   ]
  },
  {
   "cell_type": "markdown",
   "metadata": {},
   "source": [
    "### <span style = \"color:#03520a ; font-family:sans serif\">Certainly this is not the good model, but now what we can do here is change the model ann apply it again to scores"
   ]
  },
  {
   "cell_type": "code",
   "execution_count": 172,
   "metadata": {},
   "outputs": [],
   "source": [
    "model = Ridge(alpha=1)"
   ]
  },
  {
   "cell_type": "code",
   "execution_count": 173,
   "metadata": {},
   "outputs": [],
   "source": [
    "scores = cross_val_score(model,X_train,y_train,scoring=\"neg_mean_squared_error\",cv = 5)"
   ]
  },
  {
   "cell_type": "code",
   "execution_count": 175,
   "metadata": {},
   "outputs": [
    {
     "data": {
      "text/plain": [
       "array([-3.15513238, -1.58086982, -5.40455562, -2.21654481, -4.36709384])"
      ]
     },
     "execution_count": 175,
     "metadata": {},
     "output_type": "execute_result"
    }
   ],
   "source": [
    "scores"
   ]
  },
  {
   "cell_type": "markdown",
   "metadata": {},
   "source": [
    "## <span style = \"color:#03520a ; font-family:sans serif\"> The array retrun with scores contains negative mean squared error our evaluation metrics for 5 folds which we selected with CV"
   ]
  },
  {
   "cell_type": "code",
   "execution_count": 176,
   "metadata": {},
   "outputs": [
    {
     "data": {
      "text/plain": [
       "3.344839296530695"
      ]
     },
     "execution_count": 176,
     "metadata": {},
     "output_type": "execute_result"
    }
   ],
   "source": [
    "abs(scores.mean())"
   ]
  },
  {
   "cell_type": "markdown",
   "metadata": {},
   "source": [
    "### <span style = \"color:#03520a ; font-family:sans serif\"> These Test Results are not upto the last time we did because this is results of train set and its validation. we have not included the test set yet.We will create the model again with the complete set."
   ]
  },
  {
   "cell_type": "code",
   "execution_count": 177,
   "metadata": {},
   "outputs": [
    {
     "data": {
      "text/plain": [
       "Ridge(alpha=1)"
      ]
     },
     "execution_count": 177,
     "metadata": {},
     "output_type": "execute_result"
    }
   ],
   "source": [
    "model.fit(X_train,y_train)"
   ]
  },
  {
   "cell_type": "code",
   "execution_count": 178,
   "metadata": {},
   "outputs": [],
   "source": [
    "y_final_test_pred = model.predict(X_test)"
   ]
  },
  {
   "cell_type": "code",
   "execution_count": 179,
   "metadata": {},
   "outputs": [
    {
     "data": {
      "text/plain": [
       "2.319021579428752"
      ]
     },
     "execution_count": 179,
     "metadata": {},
     "output_type": "execute_result"
    }
   ],
   "source": [
    "mean_squared_error(y_test,y_final_test_pred)"
   ]
  },
  {
   "cell_type": "markdown",
   "metadata": {},
   "source": [
    "### <span style = \"color:#03520a ; font-family:sans serif\"> This is the final test result which we can expect in real world when model is deployed"
   ]
  },
  {
   "cell_type": "markdown",
   "metadata": {},
   "source": [
    "# <span style = \"color:#03520a ; font-family:sans serif\"> Another Sklearn Function cross_validate"
   ]
  },
  {
   "cell_type": "markdown",
   "metadata": {},
   "source": [
    "## <span style = \"color:#03520a ; font-family:sans serif\"> This function allows us to view multiple performace metrics from cross validation on a model adn explore how much time fitting and testing took"
   ]
  },
  {
   "cell_type": "code",
   "execution_count": 183,
   "metadata": {},
   "outputs": [],
   "source": [
    "# Lets create X and Y\n",
    "X= df3.drop('sales', axis =1)\n",
    "y = df3[\"sales\"]\n",
    "\n",
    "## Train test split\n",
    "from sklearn.model_selection import train_test_split\n",
    "X_train, X_test, y_train, y_test = train_test_split(X, y, test_size=0.3, random_state=101)\n",
    "## Scale the data\n",
    "from sklearn.preprocessing import StandardScaler\n",
    "scaler = StandardScaler()\n",
    "scaler.fit(X_train)\n",
    "X_train = scaler.transform(X_train)\n",
    "X_test = scaler.transform(X_test)"
   ]
  },
  {
   "cell_type": "code",
   "execution_count": 184,
   "metadata": {},
   "outputs": [],
   "source": [
    "from sklearn.model_selection import cross_validate"
   ]
  },
  {
   "cell_type": "code",
   "execution_count": 185,
   "metadata": {},
   "outputs": [],
   "source": [
    "model = Ridge(alpha=100)"
   ]
  },
  {
   "cell_type": "code",
   "execution_count": 186,
   "metadata": {},
   "outputs": [],
   "source": [
    "scores = cross_validate(model, X_train, y_train,scoring=['neg_mean_absolute_error', 'neg_mean_squared_error'], cv= 10)"
   ]
  },
  {
   "cell_type": "code",
   "execution_count": 188,
   "metadata": {},
   "outputs": [],
   "source": [
    "scores = pd.DataFrame(scores)"
   ]
  },
  {
   "cell_type": "code",
   "execution_count": 189,
   "metadata": {},
   "outputs": [
    {
     "data": {
      "text/html": [
       "<div>\n",
       "<style scoped>\n",
       "    .dataframe tbody tr th:only-of-type {\n",
       "        vertical-align: middle;\n",
       "    }\n",
       "\n",
       "    .dataframe tbody tr th {\n",
       "        vertical-align: top;\n",
       "    }\n",
       "\n",
       "    .dataframe thead th {\n",
       "        text-align: right;\n",
       "    }\n",
       "</style>\n",
       "<table border=\"1\" class=\"dataframe\">\n",
       "  <thead>\n",
       "    <tr style=\"text-align: right;\">\n",
       "      <th></th>\n",
       "      <th>fit_time</th>\n",
       "      <th>score_time</th>\n",
       "      <th>test_neg_mean_absolute_error</th>\n",
       "      <th>test_neg_mean_squared_error</th>\n",
       "    </tr>\n",
       "  </thead>\n",
       "  <tbody>\n",
       "    <tr>\n",
       "      <th>0</th>\n",
       "      <td>0.003002</td>\n",
       "      <td>0.000999</td>\n",
       "      <td>-1.810212</td>\n",
       "      <td>-6.060671</td>\n",
       "    </tr>\n",
       "    <tr>\n",
       "      <th>1</th>\n",
       "      <td>0.001999</td>\n",
       "      <td>0.001999</td>\n",
       "      <td>-2.541958</td>\n",
       "      <td>-10.627031</td>\n",
       "    </tr>\n",
       "    <tr>\n",
       "      <th>2</th>\n",
       "      <td>0.001999</td>\n",
       "      <td>0.001002</td>\n",
       "      <td>-1.469594</td>\n",
       "      <td>-3.993426</td>\n",
       "    </tr>\n",
       "    <tr>\n",
       "      <th>3</th>\n",
       "      <td>0.000996</td>\n",
       "      <td>0.001005</td>\n",
       "      <td>-1.862769</td>\n",
       "      <td>-5.009494</td>\n",
       "    </tr>\n",
       "    <tr>\n",
       "      <th>4</th>\n",
       "      <td>0.000998</td>\n",
       "      <td>0.001000</td>\n",
       "      <td>-2.520697</td>\n",
       "      <td>-9.141800</td>\n",
       "    </tr>\n",
       "    <tr>\n",
       "      <th>5</th>\n",
       "      <td>0.002002</td>\n",
       "      <td>0.001000</td>\n",
       "      <td>-2.459995</td>\n",
       "      <td>-13.086256</td>\n",
       "    </tr>\n",
       "    <tr>\n",
       "      <th>6</th>\n",
       "      <td>0.000998</td>\n",
       "      <td>0.001001</td>\n",
       "      <td>-1.451971</td>\n",
       "      <td>-3.839405</td>\n",
       "    </tr>\n",
       "    <tr>\n",
       "      <th>7</th>\n",
       "      <td>0.000996</td>\n",
       "      <td>0.000000</td>\n",
       "      <td>-2.377395</td>\n",
       "      <td>-9.058786</td>\n",
       "    </tr>\n",
       "    <tr>\n",
       "      <th>8</th>\n",
       "      <td>0.001004</td>\n",
       "      <td>0.000995</td>\n",
       "      <td>-2.443344</td>\n",
       "      <td>-9.055457</td>\n",
       "    </tr>\n",
       "    <tr>\n",
       "      <th>9</th>\n",
       "      <td>0.000998</td>\n",
       "      <td>0.000000</td>\n",
       "      <td>-1.899797</td>\n",
       "      <td>-5.778882</td>\n",
       "    </tr>\n",
       "  </tbody>\n",
       "</table>\n",
       "</div>"
      ],
      "text/plain": [
       "   fit_time  score_time  test_neg_mean_absolute_error  \\\n",
       "0  0.003002    0.000999                     -1.810212   \n",
       "1  0.001999    0.001999                     -2.541958   \n",
       "2  0.001999    0.001002                     -1.469594   \n",
       "3  0.000996    0.001005                     -1.862769   \n",
       "4  0.000998    0.001000                     -2.520697   \n",
       "5  0.002002    0.001000                     -2.459995   \n",
       "6  0.000998    0.001001                     -1.451971   \n",
       "7  0.000996    0.000000                     -2.377395   \n",
       "8  0.001004    0.000995                     -2.443344   \n",
       "9  0.000998    0.000000                     -1.899797   \n",
       "\n",
       "   test_neg_mean_squared_error  \n",
       "0                    -6.060671  \n",
       "1                   -10.627031  \n",
       "2                    -3.993426  \n",
       "3                    -5.009494  \n",
       "4                    -9.141800  \n",
       "5                   -13.086256  \n",
       "6                    -3.839405  \n",
       "7                    -9.058786  \n",
       "8                    -9.055457  \n",
       "9                    -5.778882  "
      ]
     },
     "execution_count": 189,
     "metadata": {},
     "output_type": "execute_result"
    }
   ],
   "source": [
    "scores"
   ]
  },
  {
   "cell_type": "code",
   "execution_count": 190,
   "metadata": {},
   "outputs": [
    {
     "data": {
      "text/plain": [
       "fit_time                        0.001499\n",
       "score_time                      0.000900\n",
       "test_neg_mean_absolute_error   -2.083773\n",
       "test_neg_mean_squared_error    -7.565121\n",
       "dtype: float64"
      ]
     },
     "execution_count": 190,
     "metadata": {},
     "output_type": "execute_result"
    }
   ],
   "source": [
    "scores.mean()"
   ]
  },
  {
   "cell_type": "code",
   "execution_count": 191,
   "metadata": {},
   "outputs": [],
   "source": [
    "model = Ridge(alpha=1)"
   ]
  },
  {
   "cell_type": "code",
   "execution_count": 192,
   "metadata": {},
   "outputs": [],
   "source": [
    "scores = cross_validate(model, X_train, y_train,scoring=['neg_mean_absolute_error', 'neg_mean_squared_error'], cv= 10)"
   ]
  },
  {
   "cell_type": "code",
   "execution_count": 193,
   "metadata": {},
   "outputs": [],
   "source": [
    "scores = pd.DataFrame(scores)"
   ]
  },
  {
   "cell_type": "code",
   "execution_count": 195,
   "metadata": {},
   "outputs": [
    {
     "data": {
      "text/plain": [
       "fit_time                        0.001100\n",
       "score_time                      0.000901\n",
       "test_neg_mean_absolute_error   -1.308467\n",
       "test_neg_mean_squared_error    -3.323018\n",
       "dtype: float64"
      ]
     },
     "execution_count": 195,
     "metadata": {},
     "output_type": "execute_result"
    }
   ],
   "source": [
    "scores.mean()"
   ]
  },
  {
   "cell_type": "markdown",
   "metadata": {},
   "source": [
    "#### <span style = \"color:#03520a ; font-family:sans serif\"> As we can see from the above that cross_validate allowed us to use two scoring metrics together and brings the score in a form of dictonary which can be changed to DataFrame for better viewing and see all 10 folds resuls. Also if you want to the see the mean of 10 folds we can simply to score.mean()"
   ]
  },
  {
   "cell_type": "markdown",
   "metadata": {},
   "source": [
    "### <span style = \"color:#03520a ; font-family:sans serif\"> Once we are Satsifed with model we can create final model"
   ]
  },
  {
   "cell_type": "code",
   "execution_count": 196,
   "metadata": {},
   "outputs": [
    {
     "data": {
      "text/plain": [
       "Ridge(alpha=1)"
      ]
     },
     "execution_count": 196,
     "metadata": {},
     "output_type": "execute_result"
    }
   ],
   "source": [
    "model.fit(X_train,y_train)"
   ]
  },
  {
   "cell_type": "code",
   "execution_count": 197,
   "metadata": {},
   "outputs": [],
   "source": [
    "y_final_test_pred = model.predict(X_test)"
   ]
  },
  {
   "cell_type": "code",
   "execution_count": 198,
   "metadata": {},
   "outputs": [
    {
     "data": {
      "text/plain": [
       "2.319021579428752"
      ]
     },
     "execution_count": 198,
     "metadata": {},
     "output_type": "execute_result"
    }
   ],
   "source": [
    "mean_squared_error(y_test,y_final_test_pred)"
   ]
  },
  {
   "cell_type": "markdown",
   "metadata": {},
   "source": [
    "#### <span style = \"color:#03520a ; font-family:sans serif\"> This will be final model which we will report out and use it for future deployment"
   ]
  },
  {
   "cell_type": "markdown",
   "metadata": {},
   "source": [
    "# <span style = \"color:#03520a ; font-family:sans serif\" class=\"bolded\"> Grid Search"
   ]
  },
  {
   "cell_type": "markdown",
   "metadata": {},
   "source": [
    "## <span style = \"color:#03520a ; font-family:sans serif \" >Often more complex models have multiple adjustable hyperparameters.</span>\n",
    "## <span style = \"color:#03520a ; font-family:sans serif\"> A grid seach is way of training and validating a model on every possibe combination of multiple hyperparameter options."
   ]
  },
  {
   "cell_type": "markdown",
   "metadata": {},
   "source": [
    "## <span style = \"color:#03520a ; font-family:sans serif\"> Scikit-Learn includes a GridSearchCV class callable of testing a dictonary of multiple hyperparameter options throug cross_validation.</span>\n",
    "## <span style = \"color:#03520a ; font-family:sans serif\"> This allows for both cross_validation and a grid search to be performed in a generalized way for any model."
   ]
  },
  {
   "cell_type": "code",
   "execution_count": 199,
   "metadata": {},
   "outputs": [],
   "source": [
    "df4 = pd.read_csv(\"Advertising.csv\")"
   ]
  },
  {
   "cell_type": "code",
   "execution_count": 200,
   "metadata": {},
   "outputs": [
    {
     "data": {
      "text/html": [
       "<div>\n",
       "<style scoped>\n",
       "    .dataframe tbody tr th:only-of-type {\n",
       "        vertical-align: middle;\n",
       "    }\n",
       "\n",
       "    .dataframe tbody tr th {\n",
       "        vertical-align: top;\n",
       "    }\n",
       "\n",
       "    .dataframe thead th {\n",
       "        text-align: right;\n",
       "    }\n",
       "</style>\n",
       "<table border=\"1\" class=\"dataframe\">\n",
       "  <thead>\n",
       "    <tr style=\"text-align: right;\">\n",
       "      <th></th>\n",
       "      <th>TV</th>\n",
       "      <th>radio</th>\n",
       "      <th>newspaper</th>\n",
       "      <th>sales</th>\n",
       "    </tr>\n",
       "  </thead>\n",
       "  <tbody>\n",
       "    <tr>\n",
       "      <th>0</th>\n",
       "      <td>230.1</td>\n",
       "      <td>37.8</td>\n",
       "      <td>69.2</td>\n",
       "      <td>22.1</td>\n",
       "    </tr>\n",
       "    <tr>\n",
       "      <th>1</th>\n",
       "      <td>44.5</td>\n",
       "      <td>39.3</td>\n",
       "      <td>45.1</td>\n",
       "      <td>10.4</td>\n",
       "    </tr>\n",
       "    <tr>\n",
       "      <th>2</th>\n",
       "      <td>17.2</td>\n",
       "      <td>45.9</td>\n",
       "      <td>69.3</td>\n",
       "      <td>9.3</td>\n",
       "    </tr>\n",
       "    <tr>\n",
       "      <th>3</th>\n",
       "      <td>151.5</td>\n",
       "      <td>41.3</td>\n",
       "      <td>58.5</td>\n",
       "      <td>18.5</td>\n",
       "    </tr>\n",
       "    <tr>\n",
       "      <th>4</th>\n",
       "      <td>180.8</td>\n",
       "      <td>10.8</td>\n",
       "      <td>58.4</td>\n",
       "      <td>12.9</td>\n",
       "    </tr>\n",
       "  </tbody>\n",
       "</table>\n",
       "</div>"
      ],
      "text/plain": [
       "      TV  radio  newspaper  sales\n",
       "0  230.1   37.8       69.2   22.1\n",
       "1   44.5   39.3       45.1   10.4\n",
       "2   17.2   45.9       69.3    9.3\n",
       "3  151.5   41.3       58.5   18.5\n",
       "4  180.8   10.8       58.4   12.9"
      ]
     },
     "execution_count": 200,
     "metadata": {},
     "output_type": "execute_result"
    }
   ],
   "source": [
    "df4.head()"
   ]
  },
  {
   "cell_type": "code",
   "execution_count": 201,
   "metadata": {},
   "outputs": [],
   "source": [
    "# Lets create X and Y\n",
    "X= df4.drop('sales', axis =1)\n",
    "y = df4[\"sales\"]\n",
    "\n",
    "## Train test split\n",
    "from sklearn.model_selection import train_test_split\n",
    "X_train, X_test, y_train, y_test = train_test_split(X, y, test_size=0.3, random_state=101)\n",
    "## Scale the data\n",
    "from sklearn.preprocessing import StandardScaler\n",
    "scaler = StandardScaler()\n",
    "scaler.fit(X_train)\n",
    "X_train = scaler.transform(X_train)\n",
    "X_test = scaler.transform(X_test)"
   ]
  },
  {
   "cell_type": "code",
   "execution_count": 202,
   "metadata": {},
   "outputs": [],
   "source": [
    "from sklearn.linear_model import ElasticNet"
   ]
  },
  {
   "cell_type": "markdown",
   "metadata": {},
   "source": [
    "## <span style = \"color:#03520a ; font-family:sans serif\"> Here we chose ElsticNet just to show how GridSeach work becasue if we remember from Elastic Net it taked the ratio L1 i.e. Lasso and L2 i.e. Ridge</span>"
   ]
  },
  {
   "cell_type": "code",
   "execution_count": null,
   "metadata": {},
   "outputs": [],
   "source": [
    "base_elastic_model = ElasticNet()# we are creating a intance without any hyperparameters"
   ]
  },
  {
   "cell_type": "code",
   "execution_count": 206,
   "metadata": {},
   "outputs": [],
   "source": [
    "param_grid = {'alpha':[0.1,1,5,10,50,100], 'l1_ratio':[.1,.5,.7,.95,.99,1]}# we create keys based on the hyperparamters of the model"
   ]
  },
  {
   "cell_type": "markdown",
   "metadata": {},
   "source": [
    "#### <span style = \"color:red ; font-family:sans serif\"> One thing to always keep in mind while creating keys, that should exatly match with hyperparameters"
   ]
  },
  {
   "cell_type": "code",
   "execution_count": 204,
   "metadata": {},
   "outputs": [],
   "source": [
    "from sklearn.model_selection import GridSearchCV"
   ]
  },
  {
   "cell_type": "code",
   "execution_count": 207,
   "metadata": {},
   "outputs": [],
   "source": [
    "grid_model = GridSearchCV(estimator=base_elastic_model,param_grid=pram_grid,\n",
    "                          scoring=\"neg_mean_squared_error\",cv = 5, verbose=2)"
   ]
  },
  {
   "cell_type": "code",
   "execution_count": 208,
   "metadata": {},
   "outputs": [
    {
     "name": "stdout",
     "output_type": "stream",
     "text": [
      "Fitting 5 folds for each of 36 candidates, totalling 180 fits\n",
      "[CV] alpha=0.1, l1_ratio=0.1 .........................................\n",
      "[CV] .......................... alpha=0.1, l1_ratio=0.1, total=   0.0s\n",
      "[CV] alpha=0.1, l1_ratio=0.1 .........................................\n",
      "[CV] .......................... alpha=0.1, l1_ratio=0.1, total=   0.0s\n",
      "[CV] alpha=0.1, l1_ratio=0.1 .........................................\n",
      "[CV] .......................... alpha=0.1, l1_ratio=0.1, total=   0.0s\n",
      "[CV] alpha=0.1, l1_ratio=0.1 .........................................\n",
      "[CV] .......................... alpha=0.1, l1_ratio=0.1, total=   0.0s\n",
      "[CV] alpha=0.1, l1_ratio=0.1 .........................................\n",
      "[CV] .......................... alpha=0.1, l1_ratio=0.1, total=   0.0s\n",
      "[CV] alpha=0.1, l1_ratio=0.5 .........................................\n",
      "[CV] .......................... alpha=0.1, l1_ratio=0.5, total=   0.0s\n",
      "[CV] alpha=0.1, l1_ratio=0.5 .........................................\n",
      "[CV] .......................... alpha=0.1, l1_ratio=0.5, total=   0.0s\n",
      "[CV] alpha=0.1, l1_ratio=0.5 .........................................\n",
      "[CV] .......................... alpha=0.1, l1_ratio=0.5, total=   0.0s\n",
      "[CV] alpha=0.1, l1_ratio=0.5 .........................................\n",
      "[CV] .......................... alpha=0.1, l1_ratio=0.5, total=   0.0s\n",
      "[CV] alpha=0.1, l1_ratio=0.5 .........................................\n",
      "[CV] .......................... alpha=0.1, l1_ratio=0.5, total=   0.0s\n",
      "[CV] alpha=0.1, l1_ratio=0.7 .........................................\n",
      "[CV] .......................... alpha=0.1, l1_ratio=0.7, total=   0.0s\n",
      "[CV] alpha=0.1, l1_ratio=0.7 .........................................\n",
      "[CV] .......................... alpha=0.1, l1_ratio=0.7, total=   0.0s\n",
      "[CV] alpha=0.1, l1_ratio=0.7 .........................................\n",
      "[CV] .......................... alpha=0.1, l1_ratio=0.7, total=   0.0s\n",
      "[CV] alpha=0.1, l1_ratio=0.7 .........................................\n",
      "[CV] .......................... alpha=0.1, l1_ratio=0.7, total=   0.0s\n",
      "[CV] alpha=0.1, l1_ratio=0.7 .........................................\n",
      "[CV] .......................... alpha=0.1, l1_ratio=0.7, total=   0.0s\n",
      "[CV] alpha=0.1, l1_ratio=0.95 ........................................\n",
      "[CV] ......................... alpha=0.1, l1_ratio=0.95, total=   0.0s\n",
      "[CV] alpha=0.1, l1_ratio=0.95 ........................................\n",
      "[CV] ......................... alpha=0.1, l1_ratio=0.95, total=   0.0s\n",
      "[CV] alpha=0.1, l1_ratio=0.95 ........................................\n",
      "[CV] ......................... alpha=0.1, l1_ratio=0.95, total=   0.0s\n",
      "[CV] alpha=0.1, l1_ratio=0.95 ........................................\n",
      "[CV] ......................... alpha=0.1, l1_ratio=0.95, total=   0.0s\n",
      "[CV] alpha=0.1, l1_ratio=0.95 ........................................\n",
      "[CV] ......................... alpha=0.1, l1_ratio=0.95, total=   0.0s\n",
      "[CV] alpha=0.1, l1_ratio=0.99 ........................................\n",
      "[CV] ......................... alpha=0.1, l1_ratio=0.99, total=   0.0s\n",
      "[CV] alpha=0.1, l1_ratio=0.99 ........................................\n",
      "[CV] ......................... alpha=0.1, l1_ratio=0.99, total=   0.0s\n",
      "[CV] alpha=0.1, l1_ratio=0.99 ........................................\n",
      "[CV] ......................... alpha=0.1, l1_ratio=0.99, total=   0.0s\n",
      "[CV] alpha=0.1, l1_ratio=0.99 ........................................\n",
      "[CV] ......................... alpha=0.1, l1_ratio=0.99, total=   0.0s\n",
      "[CV] alpha=0.1, l1_ratio=0.99 ........................................\n",
      "[CV] ......................... alpha=0.1, l1_ratio=0.99, total=   0.0s\n",
      "[CV] alpha=0.1, l1_ratio=1 ...........................................\n",
      "[CV] ............................ alpha=0.1, l1_ratio=1, total=   0.0s\n",
      "[CV] alpha=0.1, l1_ratio=1 ...........................................\n",
      "[CV] ............................ alpha=0.1, l1_ratio=1, total=   0.0s\n",
      "[CV] alpha=0.1, l1_ratio=1 ...........................................\n",
      "[CV] ............................ alpha=0.1, l1_ratio=1, total=   0.0s\n",
      "[CV] alpha=0.1, l1_ratio=1 ...........................................\n",
      "[CV] ............................ alpha=0.1, l1_ratio=1, total=   0.0s\n",
      "[CV] alpha=0.1, l1_ratio=1 ...........................................\n",
      "[CV] ............................ alpha=0.1, l1_ratio=1, total=   0.0s\n",
      "[CV] alpha=1, l1_ratio=0.1 ...........................................\n",
      "[CV] ............................ alpha=1, l1_ratio=0.1, total=   0.0s\n",
      "[CV] alpha=1, l1_ratio=0.1 ...........................................\n",
      "[CV] ............................ alpha=1, l1_ratio=0.1, total=   0.0s\n",
      "[CV] alpha=1, l1_ratio=0.1 ...........................................\n",
      "[CV] ............................ alpha=1, l1_ratio=0.1, total=   0.0s\n",
      "[CV] alpha=1, l1_ratio=0.1 ...........................................\n",
      "[CV] ............................ alpha=1, l1_ratio=0.1, total=   0.0s\n",
      "[CV] alpha=1, l1_ratio=0.1 ...........................................\n",
      "[CV] ............................ alpha=1, l1_ratio=0.1, total=   0.0s\n",
      "[CV] alpha=1, l1_ratio=0.5 ...........................................\n",
      "[CV] ............................ alpha=1, l1_ratio=0.5, total=   0.0s\n",
      "[CV] alpha=1, l1_ratio=0.5 ...........................................\n",
      "[CV] ............................ alpha=1, l1_ratio=0.5, total=   0.0s\n",
      "[CV] alpha=1, l1_ratio=0.5 ...........................................\n",
      "[CV] ............................ alpha=1, l1_ratio=0.5, total=   0.0s\n",
      "[CV] alpha=1, l1_ratio=0.5 ...........................................\n",
      "[CV] ............................ alpha=1, l1_ratio=0.5, total=   0.0s\n",
      "[CV] alpha=1, l1_ratio=0.5 ...........................................\n",
      "[CV] ............................ alpha=1, l1_ratio=0.5, total=   0.0s\n",
      "[CV] alpha=1, l1_ratio=0.7 ...........................................\n",
      "[CV] ............................ alpha=1, l1_ratio=0.7, total=   0.0s\n",
      "[CV] alpha=1, l1_ratio=0.7 ...........................................\n",
      "[CV] ............................ alpha=1, l1_ratio=0.7, total=   0.0s\n",
      "[CV] alpha=1, l1_ratio=0.7 ...........................................\n",
      "[CV] ............................ alpha=1, l1_ratio=0.7, total=   0.0s\n",
      "[CV] alpha=1, l1_ratio=0.7 ...........................................\n",
      "[CV] ............................ alpha=1, l1_ratio=0.7, total=   0.0s\n",
      "[CV] alpha=1, l1_ratio=0.7 ...........................................\n",
      "[CV] ............................ alpha=1, l1_ratio=0.7, total=   0.0s\n",
      "[CV] alpha=1, l1_ratio=0.95 ..........................................\n",
      "[CV] ........................... alpha=1, l1_ratio=0.95, total=   0.0s\n",
      "[CV] alpha=1, l1_ratio=0.95 ..........................................\n",
      "[CV] ........................... alpha=1, l1_ratio=0.95, total=   0.0s\n",
      "[CV] alpha=1, l1_ratio=0.95 ..........................................\n",
      "[CV] ........................... alpha=1, l1_ratio=0.95, total=   0.0s\n",
      "[CV] alpha=1, l1_ratio=0.95 ..........................................\n",
      "[CV] ........................... alpha=1, l1_ratio=0.95, total=   0.0s\n",
      "[CV] alpha=1, l1_ratio=0.95 ..........................................\n",
      "[CV] ........................... alpha=1, l1_ratio=0.95, total=   0.0s\n",
      "[CV] alpha=1, l1_ratio=0.99 ..........................................\n",
      "[CV] ........................... alpha=1, l1_ratio=0.99, total=   0.0s\n",
      "[CV] alpha=1, l1_ratio=0.99 ..........................................\n",
      "[CV] ........................... alpha=1, l1_ratio=0.99, total=   0.0s\n",
      "[CV] alpha=1, l1_ratio=0.99 ..........................................\n",
      "[CV] ........................... alpha=1, l1_ratio=0.99, total=   0.0s\n",
      "[CV] alpha=1, l1_ratio=0.99 ..........................................\n",
      "[CV] ........................... alpha=1, l1_ratio=0.99, total=   0.0s\n",
      "[CV] alpha=1, l1_ratio=0.99 ..........................................\n",
      "[CV] ........................... alpha=1, l1_ratio=0.99, total=   0.0s\n",
      "[CV] alpha=1, l1_ratio=1 .............................................\n",
      "[CV] .............................. alpha=1, l1_ratio=1, total=   0.0s\n",
      "[CV] alpha=1, l1_ratio=1 .............................................\n",
      "[CV] .............................. alpha=1, l1_ratio=1, total=   0.0s\n",
      "[CV] alpha=1, l1_ratio=1 .............................................\n",
      "[CV] .............................. alpha=1, l1_ratio=1, total=   0.0s\n",
      "[CV] alpha=1, l1_ratio=1 .............................................\n",
      "[CV] .............................. alpha=1, l1_ratio=1, total=   0.0s\n",
      "[CV] alpha=1, l1_ratio=1 .............................................\n",
      "[CV] .............................. alpha=1, l1_ratio=1, total=   0.0s\n",
      "[CV] alpha=5, l1_ratio=0.1 ...........................................\n",
      "[CV] ............................ alpha=5, l1_ratio=0.1, total=   0.0s\n",
      "[CV] alpha=5, l1_ratio=0.1 ...........................................\n",
      "[CV] ............................ alpha=5, l1_ratio=0.1, total=   0.0s\n",
      "[CV] alpha=5, l1_ratio=0.1 ...........................................\n",
      "[CV] ............................ alpha=5, l1_ratio=0.1, total=   0.0s\n",
      "[CV] alpha=5, l1_ratio=0.1 ...........................................\n",
      "[CV] ............................ alpha=5, l1_ratio=0.1, total=   0.0s\n",
      "[CV] alpha=5, l1_ratio=0.1 ...........................................\n",
      "[CV] ............................ alpha=5, l1_ratio=0.1, total=   0.0s\n",
      "[CV] alpha=5, l1_ratio=0.5 ...........................................\n",
      "[CV] ............................ alpha=5, l1_ratio=0.5, total=   0.0s\n",
      "[CV] alpha=5, l1_ratio=0.5 ...........................................\n",
      "[CV] ............................ alpha=5, l1_ratio=0.5, total=   0.0s\n",
      "[CV] alpha=5, l1_ratio=0.5 ...........................................\n",
      "[CV] ............................ alpha=5, l1_ratio=0.5, total=   0.0s\n",
      "[CV] alpha=5, l1_ratio=0.5 ...........................................\n",
      "[CV] ............................ alpha=5, l1_ratio=0.5, total=   0.0s\n",
      "[CV] alpha=5, l1_ratio=0.5 ...........................................\n",
      "[CV] ............................ alpha=5, l1_ratio=0.5, total=   0.0s\n",
      "[CV] alpha=5, l1_ratio=0.7 ...........................................\n",
      "[CV] ............................ alpha=5, l1_ratio=0.7, total=   0.0s\n",
      "[CV] alpha=5, l1_ratio=0.7 ...........................................\n",
      "[CV] ............................ alpha=5, l1_ratio=0.7, total=   0.0s\n",
      "[CV] alpha=5, l1_ratio=0.7 ...........................................\n",
      "[CV] ............................ alpha=5, l1_ratio=0.7, total=   0.0s\n",
      "[CV] alpha=5, l1_ratio=0.7 ...........................................\n",
      "[CV] ............................ alpha=5, l1_ratio=0.7, total=   0.0s\n",
      "[CV] alpha=5, l1_ratio=0.7 ...........................................\n",
      "[CV] ............................ alpha=5, l1_ratio=0.7, total=   0.0s\n",
      "[CV] alpha=5, l1_ratio=0.95 ..........................................\n",
      "[CV] ........................... alpha=5, l1_ratio=0.95, total=   0.0s\n",
      "[CV] alpha=5, l1_ratio=0.95 ..........................................\n"
     ]
    },
    {
     "name": "stderr",
     "output_type": "stream",
     "text": [
      "[Parallel(n_jobs=1)]: Using backend SequentialBackend with 1 concurrent workers.\n",
      "[Parallel(n_jobs=1)]: Done   1 out of   1 | elapsed:    0.0s remaining:    0.0s\n"
     ]
    },
    {
     "name": "stdout",
     "output_type": "stream",
     "text": [
      "[CV] ........................... alpha=5, l1_ratio=0.95, total=   0.0s\n",
      "[CV] alpha=5, l1_ratio=0.95 ..........................................\n",
      "[CV] ........................... alpha=5, l1_ratio=0.95, total=   0.0s\n",
      "[CV] alpha=5, l1_ratio=0.95 ..........................................\n",
      "[CV] ........................... alpha=5, l1_ratio=0.95, total=   0.0s\n",
      "[CV] alpha=5, l1_ratio=0.95 ..........................................\n",
      "[CV] ........................... alpha=5, l1_ratio=0.95, total=   0.0s\n",
      "[CV] alpha=5, l1_ratio=0.99 ..........................................\n",
      "[CV] ........................... alpha=5, l1_ratio=0.99, total=   0.0s\n",
      "[CV] alpha=5, l1_ratio=0.99 ..........................................\n",
      "[CV] ........................... alpha=5, l1_ratio=0.99, total=   0.0s\n",
      "[CV] alpha=5, l1_ratio=0.99 ..........................................\n",
      "[CV] ........................... alpha=5, l1_ratio=0.99, total=   0.0s\n",
      "[CV] alpha=5, l1_ratio=0.99 ..........................................\n",
      "[CV] ........................... alpha=5, l1_ratio=0.99, total=   0.0s\n",
      "[CV] alpha=5, l1_ratio=0.99 ..........................................\n",
      "[CV] ........................... alpha=5, l1_ratio=0.99, total=   0.0s\n",
      "[CV] alpha=5, l1_ratio=1 .............................................\n",
      "[CV] .............................. alpha=5, l1_ratio=1, total=   0.0s\n",
      "[CV] alpha=5, l1_ratio=1 .............................................\n",
      "[CV] .............................. alpha=5, l1_ratio=1, total=   0.0s\n",
      "[CV] alpha=5, l1_ratio=1 .............................................\n",
      "[CV] .............................. alpha=5, l1_ratio=1, total=   0.0s\n",
      "[CV] alpha=5, l1_ratio=1 .............................................\n",
      "[CV] .............................. alpha=5, l1_ratio=1, total=   0.0s\n",
      "[CV] alpha=5, l1_ratio=1 .............................................\n",
      "[CV] .............................. alpha=5, l1_ratio=1, total=   0.0s\n",
      "[CV] alpha=10, l1_ratio=0.1 ..........................................\n",
      "[CV] ........................... alpha=10, l1_ratio=0.1, total=   0.0s\n",
      "[CV] alpha=10, l1_ratio=0.1 ..........................................\n",
      "[CV] ........................... alpha=10, l1_ratio=0.1, total=   0.0s\n",
      "[CV] alpha=10, l1_ratio=0.1 ..........................................\n",
      "[CV] ........................... alpha=10, l1_ratio=0.1, total=   0.0s\n",
      "[CV] alpha=10, l1_ratio=0.1 ..........................................\n",
      "[CV] ........................... alpha=10, l1_ratio=0.1, total=   0.0s\n",
      "[CV] alpha=10, l1_ratio=0.1 ..........................................\n",
      "[CV] ........................... alpha=10, l1_ratio=0.1, total=   0.0s\n",
      "[CV] alpha=10, l1_ratio=0.5 ..........................................\n",
      "[CV] ........................... alpha=10, l1_ratio=0.5, total=   0.0s\n",
      "[CV] alpha=10, l1_ratio=0.5 ..........................................\n",
      "[CV] ........................... alpha=10, l1_ratio=0.5, total=   0.0s\n",
      "[CV] alpha=10, l1_ratio=0.5 ..........................................\n",
      "[CV] ........................... alpha=10, l1_ratio=0.5, total=   0.0s\n",
      "[CV] alpha=10, l1_ratio=0.5 ..........................................\n",
      "[CV] ........................... alpha=10, l1_ratio=0.5, total=   0.0s\n",
      "[CV] alpha=10, l1_ratio=0.5 ..........................................\n",
      "[CV] ........................... alpha=10, l1_ratio=0.5, total=   0.0s\n",
      "[CV] alpha=10, l1_ratio=0.7 ..........................................\n",
      "[CV] ........................... alpha=10, l1_ratio=0.7, total=   0.0s\n",
      "[CV] alpha=10, l1_ratio=0.7 ..........................................\n",
      "[CV] ........................... alpha=10, l1_ratio=0.7, total=   0.0s\n",
      "[CV] alpha=10, l1_ratio=0.7 ..........................................\n",
      "[CV] ........................... alpha=10, l1_ratio=0.7, total=   0.0s\n",
      "[CV] alpha=10, l1_ratio=0.7 ..........................................\n",
      "[CV] ........................... alpha=10, l1_ratio=0.7, total=   0.0s\n",
      "[CV] alpha=10, l1_ratio=0.7 ..........................................\n",
      "[CV] ........................... alpha=10, l1_ratio=0.7, total=   0.0s\n",
      "[CV] alpha=10, l1_ratio=0.95 .........................................\n",
      "[CV] .......................... alpha=10, l1_ratio=0.95, total=   0.0s\n",
      "[CV] alpha=10, l1_ratio=0.95 .........................................\n",
      "[CV] .......................... alpha=10, l1_ratio=0.95, total=   0.0s\n",
      "[CV] alpha=10, l1_ratio=0.95 .........................................\n",
      "[CV] .......................... alpha=10, l1_ratio=0.95, total=   0.0s\n",
      "[CV] alpha=10, l1_ratio=0.95 .........................................\n",
      "[CV] .......................... alpha=10, l1_ratio=0.95, total=   0.0s\n",
      "[CV] alpha=10, l1_ratio=0.95 .........................................\n",
      "[CV] .......................... alpha=10, l1_ratio=0.95, total=   0.0s\n",
      "[CV] alpha=10, l1_ratio=0.99 .........................................\n",
      "[CV] .......................... alpha=10, l1_ratio=0.99, total=   0.0s\n",
      "[CV] alpha=10, l1_ratio=0.99 .........................................\n",
      "[CV] .......................... alpha=10, l1_ratio=0.99, total=   0.0s\n",
      "[CV] alpha=10, l1_ratio=0.99 .........................................\n",
      "[CV] .......................... alpha=10, l1_ratio=0.99, total=   0.0s\n",
      "[CV] alpha=10, l1_ratio=0.99 .........................................\n",
      "[CV] .......................... alpha=10, l1_ratio=0.99, total=   0.0s\n",
      "[CV] alpha=10, l1_ratio=0.99 .........................................\n",
      "[CV] .......................... alpha=10, l1_ratio=0.99, total=   0.0s\n",
      "[CV] alpha=10, l1_ratio=1 ............................................\n",
      "[CV] ............................. alpha=10, l1_ratio=1, total=   0.0s\n",
      "[CV] alpha=10, l1_ratio=1 ............................................\n",
      "[CV] ............................. alpha=10, l1_ratio=1, total=   0.0s\n",
      "[CV] alpha=10, l1_ratio=1 ............................................\n",
      "[CV] ............................. alpha=10, l1_ratio=1, total=   0.0s\n",
      "[CV] alpha=10, l1_ratio=1 ............................................\n",
      "[CV] ............................. alpha=10, l1_ratio=1, total=   0.0s\n",
      "[CV] alpha=10, l1_ratio=1 ............................................\n",
      "[CV] ............................. alpha=10, l1_ratio=1, total=   0.0s\n",
      "[CV] alpha=50, l1_ratio=0.1 ..........................................\n",
      "[CV] ........................... alpha=50, l1_ratio=0.1, total=   0.0s\n",
      "[CV] alpha=50, l1_ratio=0.1 ..........................................\n",
      "[CV] ........................... alpha=50, l1_ratio=0.1, total=   0.0s\n",
      "[CV] alpha=50, l1_ratio=0.1 ..........................................\n",
      "[CV] ........................... alpha=50, l1_ratio=0.1, total=   0.0s\n",
      "[CV] alpha=50, l1_ratio=0.1 ..........................................\n",
      "[CV] ........................... alpha=50, l1_ratio=0.1, total=   0.0s\n",
      "[CV] alpha=50, l1_ratio=0.1 ..........................................\n",
      "[CV] ........................... alpha=50, l1_ratio=0.1, total=   0.0s\n",
      "[CV] alpha=50, l1_ratio=0.5 ..........................................\n",
      "[CV] ........................... alpha=50, l1_ratio=0.5, total=   0.0s\n",
      "[CV] alpha=50, l1_ratio=0.5 ..........................................\n",
      "[CV] ........................... alpha=50, l1_ratio=0.5, total=   0.0s\n",
      "[CV] alpha=50, l1_ratio=0.5 ..........................................\n",
      "[CV] ........................... alpha=50, l1_ratio=0.5, total=   0.0s\n",
      "[CV] alpha=50, l1_ratio=0.5 ..........................................\n",
      "[CV] ........................... alpha=50, l1_ratio=0.5, total=   0.0s\n",
      "[CV] alpha=50, l1_ratio=0.5 ..........................................\n",
      "[CV] ........................... alpha=50, l1_ratio=0.5, total=   0.0s\n",
      "[CV] alpha=50, l1_ratio=0.7 ..........................................\n",
      "[CV] ........................... alpha=50, l1_ratio=0.7, total=   0.0s\n",
      "[CV] alpha=50, l1_ratio=0.7 ..........................................\n",
      "[CV] ........................... alpha=50, l1_ratio=0.7, total=   0.0s\n",
      "[CV] alpha=50, l1_ratio=0.7 ..........................................\n",
      "[CV] ........................... alpha=50, l1_ratio=0.7, total=   0.0s\n",
      "[CV] alpha=50, l1_ratio=0.7 ..........................................\n",
      "[CV] ........................... alpha=50, l1_ratio=0.7, total=   0.0s\n",
      "[CV] alpha=50, l1_ratio=0.7 ..........................................\n",
      "[CV] ........................... alpha=50, l1_ratio=0.7, total=   0.0s\n",
      "[CV] alpha=50, l1_ratio=0.95 .........................................\n",
      "[CV] .......................... alpha=50, l1_ratio=0.95, total=   0.0s\n",
      "[CV] alpha=50, l1_ratio=0.95 .........................................\n",
      "[CV] .......................... alpha=50, l1_ratio=0.95, total=   0.0s\n",
      "[CV] alpha=50, l1_ratio=0.95 .........................................\n",
      "[CV] .......................... alpha=50, l1_ratio=0.95, total=   0.0s\n",
      "[CV] alpha=50, l1_ratio=0.95 .........................................\n",
      "[CV] .......................... alpha=50, l1_ratio=0.95, total=   0.0s\n",
      "[CV] alpha=50, l1_ratio=0.95 .........................................\n",
      "[CV] .......................... alpha=50, l1_ratio=0.95, total=   0.0s\n",
      "[CV] alpha=50, l1_ratio=0.99 .........................................\n",
      "[CV] .......................... alpha=50, l1_ratio=0.99, total=   0.0s\n",
      "[CV] alpha=50, l1_ratio=0.99 .........................................\n",
      "[CV] .......................... alpha=50, l1_ratio=0.99, total=   0.0s\n",
      "[CV] alpha=50, l1_ratio=0.99 .........................................\n",
      "[CV] .......................... alpha=50, l1_ratio=0.99, total=   0.0s\n",
      "[CV] alpha=50, l1_ratio=0.99 .........................................\n",
      "[CV] .......................... alpha=50, l1_ratio=0.99, total=   0.0s\n",
      "[CV] alpha=50, l1_ratio=0.99 .........................................\n",
      "[CV] .......................... alpha=50, l1_ratio=0.99, total=   0.0s\n",
      "[CV] alpha=50, l1_ratio=1 ............................................\n",
      "[CV] ............................. alpha=50, l1_ratio=1, total=   0.0s\n",
      "[CV] alpha=50, l1_ratio=1 ............................................\n",
      "[CV] ............................. alpha=50, l1_ratio=1, total=   0.0s\n",
      "[CV] alpha=50, l1_ratio=1 ............................................\n",
      "[CV] ............................. alpha=50, l1_ratio=1, total=   0.0s\n",
      "[CV] alpha=50, l1_ratio=1 ............................................\n",
      "[CV] ............................. alpha=50, l1_ratio=1, total=   0.0s\n",
      "[CV] alpha=50, l1_ratio=1 ............................................\n",
      "[CV] ............................. alpha=50, l1_ratio=1, total=   0.0s\n",
      "[CV] alpha=100, l1_ratio=0.1 .........................................\n",
      "[CV] .......................... alpha=100, l1_ratio=0.1, total=   0.0s\n",
      "[CV] alpha=100, l1_ratio=0.1 .........................................\n",
      "[CV] .......................... alpha=100, l1_ratio=0.1, total=   0.0s\n",
      "[CV] alpha=100, l1_ratio=0.1 .........................................\n",
      "[CV] .......................... alpha=100, l1_ratio=0.1, total=   0.0s\n",
      "[CV] alpha=100, l1_ratio=0.1 .........................................\n",
      "[CV] .......................... alpha=100, l1_ratio=0.1, total=   0.0s\n",
      "[CV] alpha=100, l1_ratio=0.1 .........................................\n",
      "[CV] .......................... alpha=100, l1_ratio=0.1, total=   0.0s\n",
      "[CV] alpha=100, l1_ratio=0.5 .........................................\n",
      "[CV] .......................... alpha=100, l1_ratio=0.5, total=   0.0s\n",
      "[CV] alpha=100, l1_ratio=0.5 .........................................\n",
      "[CV] .......................... alpha=100, l1_ratio=0.5, total=   0.0s\n",
      "[CV] alpha=100, l1_ratio=0.5 .........................................\n",
      "[CV] .......................... alpha=100, l1_ratio=0.5, total=   0.0s\n",
      "[CV] alpha=100, l1_ratio=0.5 .........................................\n",
      "[CV] .......................... alpha=100, l1_ratio=0.5, total=   0.0s\n",
      "[CV] alpha=100, l1_ratio=0.5 .........................................\n",
      "[CV] .......................... alpha=100, l1_ratio=0.5, total=   0.0s\n",
      "[CV] alpha=100, l1_ratio=0.7 .........................................\n",
      "[CV] .......................... alpha=100, l1_ratio=0.7, total=   0.0s\n",
      "[CV] alpha=100, l1_ratio=0.7 .........................................\n",
      "[CV] .......................... alpha=100, l1_ratio=0.7, total=   0.0s\n",
      "[CV] alpha=100, l1_ratio=0.7 .........................................\n",
      "[CV] .......................... alpha=100, l1_ratio=0.7, total=   0.0s\n",
      "[CV] alpha=100, l1_ratio=0.7 .........................................\n",
      "[CV] .......................... alpha=100, l1_ratio=0.7, total=   0.0s\n",
      "[CV] alpha=100, l1_ratio=0.7 .........................................\n",
      "[CV] .......................... alpha=100, l1_ratio=0.7, total=   0.0s\n",
      "[CV] alpha=100, l1_ratio=0.95 ........................................\n",
      "[CV] ......................... alpha=100, l1_ratio=0.95, total=   0.0s\n",
      "[CV] alpha=100, l1_ratio=0.95 ........................................\n",
      "[CV] ......................... alpha=100, l1_ratio=0.95, total=   0.0s\n",
      "[CV] alpha=100, l1_ratio=0.95 ........................................\n",
      "[CV] ......................... alpha=100, l1_ratio=0.95, total=   0.0s\n",
      "[CV] alpha=100, l1_ratio=0.95 ........................................\n",
      "[CV] ......................... alpha=100, l1_ratio=0.95, total=   0.0s\n",
      "[CV] alpha=100, l1_ratio=0.95 ........................................\n",
      "[CV] ......................... alpha=100, l1_ratio=0.95, total=   0.0s\n",
      "[CV] alpha=100, l1_ratio=0.99 ........................................\n",
      "[CV] ......................... alpha=100, l1_ratio=0.99, total=   0.0s\n",
      "[CV] alpha=100, l1_ratio=0.99 ........................................\n",
      "[CV] ......................... alpha=100, l1_ratio=0.99, total=   0.0s\n",
      "[CV] alpha=100, l1_ratio=0.99 ........................................\n",
      "[CV] ......................... alpha=100, l1_ratio=0.99, total=   0.0s\n",
      "[CV] alpha=100, l1_ratio=0.99 ........................................\n",
      "[CV] ......................... alpha=100, l1_ratio=0.99, total=   0.0s\n",
      "[CV] alpha=100, l1_ratio=0.99 ........................................\n",
      "[CV] ......................... alpha=100, l1_ratio=0.99, total=   0.0s\n",
      "[CV] alpha=100, l1_ratio=1 ...........................................\n",
      "[CV] ............................ alpha=100, l1_ratio=1, total=   0.0s\n",
      "[CV] alpha=100, l1_ratio=1 ...........................................\n",
      "[CV] ............................ alpha=100, l1_ratio=1, total=   0.0s\n",
      "[CV] alpha=100, l1_ratio=1 ...........................................\n",
      "[CV] ............................ alpha=100, l1_ratio=1, total=   0.0s\n",
      "[CV] alpha=100, l1_ratio=1 ...........................................\n",
      "[CV] ............................ alpha=100, l1_ratio=1, total=   0.0s\n",
      "[CV] alpha=100, l1_ratio=1 ...........................................\n",
      "[CV] ............................ alpha=100, l1_ratio=1, total=   0.0s\n"
     ]
    },
    {
     "name": "stderr",
     "output_type": "stream",
     "text": [
      "[Parallel(n_jobs=1)]: Done 180 out of 180 | elapsed:    0.3s finished\n"
     ]
    },
    {
     "data": {
      "text/plain": [
       "GridSearchCV(cv=5, estimator=ElasticNet(),\n",
       "             param_grid={'alpha': [0.1, 1, 5, 10, 50, 100],\n",
       "                         'l1_ratio': [0.1, 0.5, 0.7, 0.95, 0.99, 1]},\n",
       "             scoring='neg_mean_squared_error', verbose=2)"
      ]
     },
     "execution_count": 208,
     "metadata": {},
     "output_type": "execute_result"
    }
   ],
   "source": [
    "grid_model.fit(X_train,y_train)"
   ]
  },
  {
   "cell_type": "code",
   "execution_count": 209,
   "metadata": {},
   "outputs": [
    {
     "data": {
      "text/plain": [
       "ElasticNet(alpha=0.1, l1_ratio=1)"
      ]
     },
     "execution_count": 209,
     "metadata": {},
     "output_type": "execute_result"
    }
   ],
   "source": [
    "grid_model.best_estimator_"
   ]
  },
  {
   "cell_type": "markdown",
   "metadata": {},
   "source": [
    "### <span style = \"color:#03520a ; font-family:sans serif\" class=\"bolded\"> It gave us the best hyperprameters value so we don't need to change the model again and again do the same think as we did with Cross Validate or cross_val_score before"
   ]
  },
  {
   "cell_type": "code",
   "execution_count": 211,
   "metadata": {},
   "outputs": [
    {
     "data": {
      "text/plain": [
       "{'alpha': 0.1, 'l1_ratio': 1}"
      ]
     },
     "execution_count": 211,
     "metadata": {},
     "output_type": "execute_result"
    }
   ],
   "source": [
    "grid_model.best_params_ # it provides the same thing in dictonary form "
   ]
  },
  {
   "cell_type": "markdown",
   "metadata": {},
   "source": [
    "### <span style = \"color:#03520a ; font-family:sans serif\" class=\"bolded\"> To see how the other values of parameters did we can do the following"
   ]
  },
  {
   "cell_type": "code",
   "execution_count": 212,
   "metadata": {},
   "outputs": [
    {
     "data": {
      "text/plain": [
       "{'mean_fit_time': array([0.00119948, 0.00099983, 0.00152969, 0.00119457, 0.00079947,\n",
       "        0.00099912, 0.00099816, 0.00119743, 0.00120006, 0.00099926,\n",
       "        0.00100021, 0.00080113, 0.00079908, 0.00099974, 0.00100121,\n",
       "        0.00199909, 0.00040069, 0.00119958, 0.00120068, 0.00399985,\n",
       "        0.00100198, 0.0014008 , 0.00099902, 0.00099993, 0.00119953,\n",
       "        0.00100288, 0.00119791, 0.00099974, 0.00099983, 0.00120187,\n",
       "        0.00100069, 0.00099959, 0.00099864, 0.0010025 , 0.00119896,\n",
       "        0.0010006 ]),\n",
       " 'std_fit_time': array([3.99124864e-04, 6.30379509e-04, 6.77265800e-04, 3.90959440e-04,\n",
       "        3.99767016e-04, 4.05059063e-06, 1.89298947e-06, 4.00501022e-04,\n",
       "        4.00496679e-04, 2.83467559e-06, 6.33243111e-04, 4.00574161e-04,\n",
       "        3.99546991e-04, 2.09699950e-06, 3.08510325e-06, 1.99761397e-03,\n",
       "        4.90738916e-04, 3.99544942e-04, 4.01378368e-04, 6.00032807e-03,\n",
       "        4.55273371e-06, 8.00325660e-04, 6.32788985e-04, 2.79672209e-06,\n",
       "        3.98373814e-04, 4.17498095e-06, 4.00617048e-04, 6.32187845e-04,\n",
       "        3.38050306e-06, 3.99592526e-04, 3.52472660e-06, 3.27111681e-06,\n",
       "        3.93383431e-06, 6.87935730e-06, 4.01317280e-04, 2.70749465e-06]),\n",
       " 'mean_score_time': array([0.00079994, 0.00080166, 0.00030231, 0.00019965, 0.00039916,\n",
       "        0.00060225, 0.00020094, 0.0006032 , 0.00039887, 0.00100126,\n",
       "        0.00079947, 0.0004003 , 0.00040112, 0.00040255, 0.00059934,\n",
       "        0.00080185, 0.0007998 , 0.00060043, 0.00020022, 0.        ,\n",
       "        0.        , 0.00039992, 0.0006012 , 0.00040054, 0.00040102,\n",
       "        0.        , 0.00080137, 0.00079956, 0.        , 0.00019989,\n",
       "        0.00039997, 0.00040112, 0.00040202, 0.00059943, 0.        ,\n",
       "        0.0002007 ]),\n",
       " 'std_score_time': array([3.99991132e-04, 4.00831783e-04, 4.01164776e-04, 3.99303436e-04,\n",
       "        4.88874524e-04, 4.91735299e-04, 4.01878357e-04, 4.92512172e-04,\n",
       "        4.88519378e-04, 1.58579723e-06, 7.48214139e-04, 4.90271528e-04,\n",
       "        4.91269975e-04, 4.93021965e-04, 4.89357149e-04, 4.00926412e-04,\n",
       "        3.99901853e-04, 4.90258486e-04, 4.00447845e-04, 0.00000000e+00,\n",
       "        0.00000000e+00, 4.89805021e-04, 4.90878636e-04, 4.90570754e-04,\n",
       "        4.91155606e-04, 0.00000000e+00, 4.00695272e-04, 3.99783942e-04,\n",
       "        0.00000000e+00, 3.99780273e-04, 4.89865783e-04, 4.91265531e-04,\n",
       "        4.92378512e-04, 4.89461147e-04, 0.00000000e+00, 4.01401520e-04]),\n",
       " 'param_alpha': masked_array(data=[0.1, 0.1, 0.1, 0.1, 0.1, 0.1, 1, 1, 1, 1, 1, 1, 5, 5,\n",
       "                    5, 5, 5, 5, 10, 10, 10, 10, 10, 10, 50, 50, 50, 50, 50,\n",
       "                    50, 100, 100, 100, 100, 100, 100],\n",
       "              mask=[False, False, False, False, False, False, False, False,\n",
       "                    False, False, False, False, False, False, False, False,\n",
       "                    False, False, False, False, False, False, False, False,\n",
       "                    False, False, False, False, False, False, False, False,\n",
       "                    False, False, False, False],\n",
       "        fill_value='?',\n",
       "             dtype=object),\n",
       " 'param_l1_ratio': masked_array(data=[0.1, 0.5, 0.7, 0.95, 0.99, 1, 0.1, 0.5, 0.7, 0.95,\n",
       "                    0.99, 1, 0.1, 0.5, 0.7, 0.95, 0.99, 1, 0.1, 0.5, 0.7,\n",
       "                    0.95, 0.99, 1, 0.1, 0.5, 0.7, 0.95, 0.99, 1, 0.1, 0.5,\n",
       "                    0.7, 0.95, 0.99, 1],\n",
       "              mask=[False, False, False, False, False, False, False, False,\n",
       "                    False, False, False, False, False, False, False, False,\n",
       "                    False, False, False, False, False, False, False, False,\n",
       "                    False, False, False, False, False, False, False, False,\n",
       "                    False, False, False, False],\n",
       "        fill_value='?',\n",
       "             dtype=object),\n",
       " 'params': [{'alpha': 0.1, 'l1_ratio': 0.1},\n",
       "  {'alpha': 0.1, 'l1_ratio': 0.5},\n",
       "  {'alpha': 0.1, 'l1_ratio': 0.7},\n",
       "  {'alpha': 0.1, 'l1_ratio': 0.95},\n",
       "  {'alpha': 0.1, 'l1_ratio': 0.99},\n",
       "  {'alpha': 0.1, 'l1_ratio': 1},\n",
       "  {'alpha': 1, 'l1_ratio': 0.1},\n",
       "  {'alpha': 1, 'l1_ratio': 0.5},\n",
       "  {'alpha': 1, 'l1_ratio': 0.7},\n",
       "  {'alpha': 1, 'l1_ratio': 0.95},\n",
       "  {'alpha': 1, 'l1_ratio': 0.99},\n",
       "  {'alpha': 1, 'l1_ratio': 1},\n",
       "  {'alpha': 5, 'l1_ratio': 0.1},\n",
       "  {'alpha': 5, 'l1_ratio': 0.5},\n",
       "  {'alpha': 5, 'l1_ratio': 0.7},\n",
       "  {'alpha': 5, 'l1_ratio': 0.95},\n",
       "  {'alpha': 5, 'l1_ratio': 0.99},\n",
       "  {'alpha': 5, 'l1_ratio': 1},\n",
       "  {'alpha': 10, 'l1_ratio': 0.1},\n",
       "  {'alpha': 10, 'l1_ratio': 0.5},\n",
       "  {'alpha': 10, 'l1_ratio': 0.7},\n",
       "  {'alpha': 10, 'l1_ratio': 0.95},\n",
       "  {'alpha': 10, 'l1_ratio': 0.99},\n",
       "  {'alpha': 10, 'l1_ratio': 1},\n",
       "  {'alpha': 50, 'l1_ratio': 0.1},\n",
       "  {'alpha': 50, 'l1_ratio': 0.5},\n",
       "  {'alpha': 50, 'l1_ratio': 0.7},\n",
       "  {'alpha': 50, 'l1_ratio': 0.95},\n",
       "  {'alpha': 50, 'l1_ratio': 0.99},\n",
       "  {'alpha': 50, 'l1_ratio': 1},\n",
       "  {'alpha': 100, 'l1_ratio': 0.1},\n",
       "  {'alpha': 100, 'l1_ratio': 0.5},\n",
       "  {'alpha': 100, 'l1_ratio': 0.7},\n",
       "  {'alpha': 100, 'l1_ratio': 0.95},\n",
       "  {'alpha': 100, 'l1_ratio': 0.99},\n",
       "  {'alpha': 100, 'l1_ratio': 1}],\n",
       " 'split0_test_score': array([ -3.45302084,  -3.32543978,  -3.26988015,  -3.21305234,\n",
       "         -3.20812418,  -3.20694314,  -9.82747531,  -8.70707114,\n",
       "         -7.92086988,  -6.72943525,  -6.52134437,  -6.46880733,\n",
       "        -22.97926512, -27.79348798, -29.65550965, -31.13030692,\n",
       "        -31.13030692, -31.13030692, -27.38534621, -31.13030692,\n",
       "        -31.13030692, -31.13030692, -31.13030692, -31.13030692,\n",
       "        -31.13030692, -31.13030692, -31.13030692, -31.13030692,\n",
       "        -31.13030692, -31.13030692, -31.13030692, -31.13030692,\n",
       "        -31.13030692, -31.13030692, -31.13030692, -31.13030692]),\n",
       " 'split1_test_score': array([ -1.40519031,  -1.42752204,  -1.44243242,  -1.47241701,\n",
       "         -1.47848929,  -1.48006527,  -5.26152539,  -4.2142284 ,\n",
       "         -3.54956183,  -2.59128522,  -2.4313846 ,  -2.39148256,\n",
       "        -15.54710357, -18.60226868, -21.08505942, -22.5494332 ,\n",
       "        -22.5494332 , -22.5494332 , -19.15953413, -22.5494332 ,\n",
       "        -22.5494332 , -22.5494332 , -22.5494332 , -22.5494332 ,\n",
       "        -22.5494332 , -22.5494332 , -22.5494332 , -22.5494332 ,\n",
       "        -22.5494332 , -22.5494332 , -22.5494332 , -22.5494332 ,\n",
       "        -22.5494332 , -22.5494332 , -22.5494332 , -22.5494332 ]),\n",
       " 'split2_test_score': array([ -5.78912486,  -5.59560964,  -5.50243731,  -5.39625768,\n",
       "         -5.38024154,  -5.3762568 , -11.87534671, -10.87926082,\n",
       "        -10.02487666,  -8.7098418 ,  -8.47108601,  -8.410171  ,\n",
       "        -23.66824886, -27.1078486 , -29.62947804, -31.15520408,\n",
       "        -31.15520408, -31.15520408, -27.63546439, -31.15520408,\n",
       "        -31.15520408, -31.15520408, -31.15520408, -31.15520408,\n",
       "        -31.15520408, -31.15520408, -31.15520408, -31.15520408,\n",
       "        -31.15520408, -31.15520408, -31.15520408, -31.15520408,\n",
       "        -31.15520408, -31.15520408, -31.15520408, -31.15520408]),\n",
       " 'split3_test_score': array([ -2.18730248,  -2.16308873,  -2.16395003,  -2.17745178,\n",
       "         -2.18109704,  -2.18207608,  -7.44919523,  -6.20454503,\n",
       "         -5.37955333,  -4.15631737,  -3.9463265 ,  -3.8935656 ,\n",
       "        -19.92106289, -23.94522746, -26.72459503, -27.96344707,\n",
       "        -27.96344707, -27.96344707, -24.15410359, -27.96344707,\n",
       "        -27.96344707, -27.96344707, -27.96344707, -27.96344707,\n",
       "        -27.96344707, -27.96344707, -27.96344707, -27.96344707,\n",
       "        -27.96344707, -27.96344707, -27.96344707, -27.96344707,\n",
       "        -27.96344707, -27.96344707, -27.96344707, -27.96344707]),\n",
       " 'split4_test_score': array([ -4.64557625,  -4.45167948,  -4.3567377 ,  -4.24107995,\n",
       "         -4.22296809,  -4.2184595 ,  -8.54232854,  -7.17303106,\n",
       "         -6.3248362 ,  -5.32991608,  -5.15134446,  -5.10592176,\n",
       "        -16.26273734, -18.06463498, -20.22365404, -21.69819196,\n",
       "        -21.69819196, -21.69819196, -18.96816086, -21.69819196,\n",
       "        -21.69819196, -21.69819196, -21.69819196, -21.69819196,\n",
       "        -21.69819196, -21.69819196, -21.69819196, -21.69819196,\n",
       "        -21.69819196, -21.69819196, -21.69819196, -21.69819196,\n",
       "        -21.69819196, -21.69819196, -21.69819196, -21.69819196]),\n",
       " 'mean_test_score': array([ -3.49604295,  -3.39266793,  -3.34708752,  -3.30005175,\n",
       "         -3.29418403,  -3.29276016,  -8.59117424,  -7.43562729,\n",
       "         -6.63993958,  -5.50335914,  -5.30429719,  -5.25398965,\n",
       "        -19.67568356, -23.10269354, -25.46365924, -26.89931665,\n",
       "        -26.89931665, -26.89931665, -23.46052183, -26.89931665,\n",
       "        -26.89931665, -26.89931665, -26.89931665, -26.89931665,\n",
       "        -26.89931665, -26.89931665, -26.89931665, -26.89931665,\n",
       "        -26.89931665, -26.89931665, -26.89931665, -26.89931665,\n",
       "        -26.89931665, -26.89931665, -26.89931665, -26.89931665]),\n",
       " 'std_test_score': array([1.591601  , 1.50682717, 1.46276536, 1.40624761, 1.39695326,\n",
       "        1.39461278, 2.22293916, 2.25553153, 2.20621303, 2.10283486,\n",
       "        2.07994524, 2.07383159, 3.33490073, 4.10829748, 4.07787705,\n",
       "        4.07723961, 4.07723961, 4.07723961, 3.79460801, 4.07723961,\n",
       "        4.07723961, 4.07723961, 4.07723961, 4.07723961, 4.07723961,\n",
       "        4.07723961, 4.07723961, 4.07723961, 4.07723961, 4.07723961,\n",
       "        4.07723961, 4.07723961, 4.07723961, 4.07723961, 4.07723961,\n",
       "        4.07723961]),\n",
       " 'rank_test_score': array([ 6,  5,  4,  3,  2,  1, 12, 11, 10,  9,  8,  7, 13, 14, 16, 17, 17,\n",
       "        17, 15, 17, 17, 17, 17, 17, 17, 17, 17, 17, 17, 17, 17, 17, 17, 17,\n",
       "        17, 17])}"
      ]
     },
     "execution_count": 212,
     "metadata": {},
     "output_type": "execute_result"
    }
   ],
   "source": [
    "grid_model.cv_results_ # it brings the dictonary of results which can be later changed to DataFrame"
   ]
  },
  {
   "cell_type": "code",
   "execution_count": 213,
   "metadata": {
    "scrolled": false
   },
   "outputs": [
    {
     "data": {
      "text/html": [
       "<div>\n",
       "<style scoped>\n",
       "    .dataframe tbody tr th:only-of-type {\n",
       "        vertical-align: middle;\n",
       "    }\n",
       "\n",
       "    .dataframe tbody tr th {\n",
       "        vertical-align: top;\n",
       "    }\n",
       "\n",
       "    .dataframe thead th {\n",
       "        text-align: right;\n",
       "    }\n",
       "</style>\n",
       "<table border=\"1\" class=\"dataframe\">\n",
       "  <thead>\n",
       "    <tr style=\"text-align: right;\">\n",
       "      <th></th>\n",
       "      <th>mean_fit_time</th>\n",
       "      <th>std_fit_time</th>\n",
       "      <th>mean_score_time</th>\n",
       "      <th>std_score_time</th>\n",
       "      <th>param_alpha</th>\n",
       "      <th>param_l1_ratio</th>\n",
       "      <th>params</th>\n",
       "      <th>split0_test_score</th>\n",
       "      <th>split1_test_score</th>\n",
       "      <th>split2_test_score</th>\n",
       "      <th>split3_test_score</th>\n",
       "      <th>split4_test_score</th>\n",
       "      <th>mean_test_score</th>\n",
       "      <th>std_test_score</th>\n",
       "      <th>rank_test_score</th>\n",
       "    </tr>\n",
       "  </thead>\n",
       "  <tbody>\n",
       "    <tr>\n",
       "      <th>0</th>\n",
       "      <td>0.001199</td>\n",
       "      <td>0.000399</td>\n",
       "      <td>0.000800</td>\n",
       "      <td>0.000400</td>\n",
       "      <td>0.1</td>\n",
       "      <td>0.1</td>\n",
       "      <td>{'alpha': 0.1, 'l1_ratio': 0.1}</td>\n",
       "      <td>-3.453021</td>\n",
       "      <td>-1.405190</td>\n",
       "      <td>-5.789125</td>\n",
       "      <td>-2.187302</td>\n",
       "      <td>-4.645576</td>\n",
       "      <td>-3.496043</td>\n",
       "      <td>1.591601</td>\n",
       "      <td>6</td>\n",
       "    </tr>\n",
       "    <tr>\n",
       "      <th>1</th>\n",
       "      <td>0.001000</td>\n",
       "      <td>0.000630</td>\n",
       "      <td>0.000802</td>\n",
       "      <td>0.000401</td>\n",
       "      <td>0.1</td>\n",
       "      <td>0.5</td>\n",
       "      <td>{'alpha': 0.1, 'l1_ratio': 0.5}</td>\n",
       "      <td>-3.325440</td>\n",
       "      <td>-1.427522</td>\n",
       "      <td>-5.595610</td>\n",
       "      <td>-2.163089</td>\n",
       "      <td>-4.451679</td>\n",
       "      <td>-3.392668</td>\n",
       "      <td>1.506827</td>\n",
       "      <td>5</td>\n",
       "    </tr>\n",
       "    <tr>\n",
       "      <th>2</th>\n",
       "      <td>0.001530</td>\n",
       "      <td>0.000677</td>\n",
       "      <td>0.000302</td>\n",
       "      <td>0.000401</td>\n",
       "      <td>0.1</td>\n",
       "      <td>0.7</td>\n",
       "      <td>{'alpha': 0.1, 'l1_ratio': 0.7}</td>\n",
       "      <td>-3.269880</td>\n",
       "      <td>-1.442432</td>\n",
       "      <td>-5.502437</td>\n",
       "      <td>-2.163950</td>\n",
       "      <td>-4.356738</td>\n",
       "      <td>-3.347088</td>\n",
       "      <td>1.462765</td>\n",
       "      <td>4</td>\n",
       "    </tr>\n",
       "    <tr>\n",
       "      <th>3</th>\n",
       "      <td>0.001195</td>\n",
       "      <td>0.000391</td>\n",
       "      <td>0.000200</td>\n",
       "      <td>0.000399</td>\n",
       "      <td>0.1</td>\n",
       "      <td>0.95</td>\n",
       "      <td>{'alpha': 0.1, 'l1_ratio': 0.95}</td>\n",
       "      <td>-3.213052</td>\n",
       "      <td>-1.472417</td>\n",
       "      <td>-5.396258</td>\n",
       "      <td>-2.177452</td>\n",
       "      <td>-4.241080</td>\n",
       "      <td>-3.300052</td>\n",
       "      <td>1.406248</td>\n",
       "      <td>3</td>\n",
       "    </tr>\n",
       "    <tr>\n",
       "      <th>4</th>\n",
       "      <td>0.000799</td>\n",
       "      <td>0.000400</td>\n",
       "      <td>0.000399</td>\n",
       "      <td>0.000489</td>\n",
       "      <td>0.1</td>\n",
       "      <td>0.99</td>\n",
       "      <td>{'alpha': 0.1, 'l1_ratio': 0.99}</td>\n",
       "      <td>-3.208124</td>\n",
       "      <td>-1.478489</td>\n",
       "      <td>-5.380242</td>\n",
       "      <td>-2.181097</td>\n",
       "      <td>-4.222968</td>\n",
       "      <td>-3.294184</td>\n",
       "      <td>1.396953</td>\n",
       "      <td>2</td>\n",
       "    </tr>\n",
       "    <tr>\n",
       "      <th>5</th>\n",
       "      <td>0.000999</td>\n",
       "      <td>0.000004</td>\n",
       "      <td>0.000602</td>\n",
       "      <td>0.000492</td>\n",
       "      <td>0.1</td>\n",
       "      <td>1</td>\n",
       "      <td>{'alpha': 0.1, 'l1_ratio': 1}</td>\n",
       "      <td>-3.206943</td>\n",
       "      <td>-1.480065</td>\n",
       "      <td>-5.376257</td>\n",
       "      <td>-2.182076</td>\n",
       "      <td>-4.218460</td>\n",
       "      <td>-3.292760</td>\n",
       "      <td>1.394613</td>\n",
       "      <td>1</td>\n",
       "    </tr>\n",
       "    <tr>\n",
       "      <th>6</th>\n",
       "      <td>0.000998</td>\n",
       "      <td>0.000002</td>\n",
       "      <td>0.000201</td>\n",
       "      <td>0.000402</td>\n",
       "      <td>1</td>\n",
       "      <td>0.1</td>\n",
       "      <td>{'alpha': 1, 'l1_ratio': 0.1}</td>\n",
       "      <td>-9.827475</td>\n",
       "      <td>-5.261525</td>\n",
       "      <td>-11.875347</td>\n",
       "      <td>-7.449195</td>\n",
       "      <td>-8.542329</td>\n",
       "      <td>-8.591174</td>\n",
       "      <td>2.222939</td>\n",
       "      <td>12</td>\n",
       "    </tr>\n",
       "    <tr>\n",
       "      <th>7</th>\n",
       "      <td>0.001197</td>\n",
       "      <td>0.000401</td>\n",
       "      <td>0.000603</td>\n",
       "      <td>0.000493</td>\n",
       "      <td>1</td>\n",
       "      <td>0.5</td>\n",
       "      <td>{'alpha': 1, 'l1_ratio': 0.5}</td>\n",
       "      <td>-8.707071</td>\n",
       "      <td>-4.214228</td>\n",
       "      <td>-10.879261</td>\n",
       "      <td>-6.204545</td>\n",
       "      <td>-7.173031</td>\n",
       "      <td>-7.435627</td>\n",
       "      <td>2.255532</td>\n",
       "      <td>11</td>\n",
       "    </tr>\n",
       "    <tr>\n",
       "      <th>8</th>\n",
       "      <td>0.001200</td>\n",
       "      <td>0.000400</td>\n",
       "      <td>0.000399</td>\n",
       "      <td>0.000489</td>\n",
       "      <td>1</td>\n",
       "      <td>0.7</td>\n",
       "      <td>{'alpha': 1, 'l1_ratio': 0.7}</td>\n",
       "      <td>-7.920870</td>\n",
       "      <td>-3.549562</td>\n",
       "      <td>-10.024877</td>\n",
       "      <td>-5.379553</td>\n",
       "      <td>-6.324836</td>\n",
       "      <td>-6.639940</td>\n",
       "      <td>2.206213</td>\n",
       "      <td>10</td>\n",
       "    </tr>\n",
       "    <tr>\n",
       "      <th>9</th>\n",
       "      <td>0.000999</td>\n",
       "      <td>0.000003</td>\n",
       "      <td>0.001001</td>\n",
       "      <td>0.000002</td>\n",
       "      <td>1</td>\n",
       "      <td>0.95</td>\n",
       "      <td>{'alpha': 1, 'l1_ratio': 0.95}</td>\n",
       "      <td>-6.729435</td>\n",
       "      <td>-2.591285</td>\n",
       "      <td>-8.709842</td>\n",
       "      <td>-4.156317</td>\n",
       "      <td>-5.329916</td>\n",
       "      <td>-5.503359</td>\n",
       "      <td>2.102835</td>\n",
       "      <td>9</td>\n",
       "    </tr>\n",
       "    <tr>\n",
       "      <th>10</th>\n",
       "      <td>0.001000</td>\n",
       "      <td>0.000633</td>\n",
       "      <td>0.000799</td>\n",
       "      <td>0.000748</td>\n",
       "      <td>1</td>\n",
       "      <td>0.99</td>\n",
       "      <td>{'alpha': 1, 'l1_ratio': 0.99}</td>\n",
       "      <td>-6.521344</td>\n",
       "      <td>-2.431385</td>\n",
       "      <td>-8.471086</td>\n",
       "      <td>-3.946327</td>\n",
       "      <td>-5.151344</td>\n",
       "      <td>-5.304297</td>\n",
       "      <td>2.079945</td>\n",
       "      <td>8</td>\n",
       "    </tr>\n",
       "    <tr>\n",
       "      <th>11</th>\n",
       "      <td>0.000801</td>\n",
       "      <td>0.000401</td>\n",
       "      <td>0.000400</td>\n",
       "      <td>0.000490</td>\n",
       "      <td>1</td>\n",
       "      <td>1</td>\n",
       "      <td>{'alpha': 1, 'l1_ratio': 1}</td>\n",
       "      <td>-6.468807</td>\n",
       "      <td>-2.391483</td>\n",
       "      <td>-8.410171</td>\n",
       "      <td>-3.893566</td>\n",
       "      <td>-5.105922</td>\n",
       "      <td>-5.253990</td>\n",
       "      <td>2.073832</td>\n",
       "      <td>7</td>\n",
       "    </tr>\n",
       "    <tr>\n",
       "      <th>12</th>\n",
       "      <td>0.000799</td>\n",
       "      <td>0.000400</td>\n",
       "      <td>0.000401</td>\n",
       "      <td>0.000491</td>\n",
       "      <td>5</td>\n",
       "      <td>0.1</td>\n",
       "      <td>{'alpha': 5, 'l1_ratio': 0.1}</td>\n",
       "      <td>-22.979265</td>\n",
       "      <td>-15.547104</td>\n",
       "      <td>-23.668249</td>\n",
       "      <td>-19.921063</td>\n",
       "      <td>-16.262737</td>\n",
       "      <td>-19.675684</td>\n",
       "      <td>3.334901</td>\n",
       "      <td>13</td>\n",
       "    </tr>\n",
       "    <tr>\n",
       "      <th>13</th>\n",
       "      <td>0.001000</td>\n",
       "      <td>0.000002</td>\n",
       "      <td>0.000403</td>\n",
       "      <td>0.000493</td>\n",
       "      <td>5</td>\n",
       "      <td>0.5</td>\n",
       "      <td>{'alpha': 5, 'l1_ratio': 0.5}</td>\n",
       "      <td>-27.793488</td>\n",
       "      <td>-18.602269</td>\n",
       "      <td>-27.107849</td>\n",
       "      <td>-23.945227</td>\n",
       "      <td>-18.064635</td>\n",
       "      <td>-23.102694</td>\n",
       "      <td>4.108297</td>\n",
       "      <td>14</td>\n",
       "    </tr>\n",
       "    <tr>\n",
       "      <th>14</th>\n",
       "      <td>0.001001</td>\n",
       "      <td>0.000003</td>\n",
       "      <td>0.000599</td>\n",
       "      <td>0.000489</td>\n",
       "      <td>5</td>\n",
       "      <td>0.7</td>\n",
       "      <td>{'alpha': 5, 'l1_ratio': 0.7}</td>\n",
       "      <td>-29.655510</td>\n",
       "      <td>-21.085059</td>\n",
       "      <td>-29.629478</td>\n",
       "      <td>-26.724595</td>\n",
       "      <td>-20.223654</td>\n",
       "      <td>-25.463659</td>\n",
       "      <td>4.077877</td>\n",
       "      <td>16</td>\n",
       "    </tr>\n",
       "    <tr>\n",
       "      <th>15</th>\n",
       "      <td>0.001999</td>\n",
       "      <td>0.001998</td>\n",
       "      <td>0.000802</td>\n",
       "      <td>0.000401</td>\n",
       "      <td>5</td>\n",
       "      <td>0.95</td>\n",
       "      <td>{'alpha': 5, 'l1_ratio': 0.95}</td>\n",
       "      <td>-31.130307</td>\n",
       "      <td>-22.549433</td>\n",
       "      <td>-31.155204</td>\n",
       "      <td>-27.963447</td>\n",
       "      <td>-21.698192</td>\n",
       "      <td>-26.899317</td>\n",
       "      <td>4.077240</td>\n",
       "      <td>17</td>\n",
       "    </tr>\n",
       "    <tr>\n",
       "      <th>16</th>\n",
       "      <td>0.000401</td>\n",
       "      <td>0.000491</td>\n",
       "      <td>0.000800</td>\n",
       "      <td>0.000400</td>\n",
       "      <td>5</td>\n",
       "      <td>0.99</td>\n",
       "      <td>{'alpha': 5, 'l1_ratio': 0.99}</td>\n",
       "      <td>-31.130307</td>\n",
       "      <td>-22.549433</td>\n",
       "      <td>-31.155204</td>\n",
       "      <td>-27.963447</td>\n",
       "      <td>-21.698192</td>\n",
       "      <td>-26.899317</td>\n",
       "      <td>4.077240</td>\n",
       "      <td>17</td>\n",
       "    </tr>\n",
       "    <tr>\n",
       "      <th>17</th>\n",
       "      <td>0.001200</td>\n",
       "      <td>0.000400</td>\n",
       "      <td>0.000600</td>\n",
       "      <td>0.000490</td>\n",
       "      <td>5</td>\n",
       "      <td>1</td>\n",
       "      <td>{'alpha': 5, 'l1_ratio': 1}</td>\n",
       "      <td>-31.130307</td>\n",
       "      <td>-22.549433</td>\n",
       "      <td>-31.155204</td>\n",
       "      <td>-27.963447</td>\n",
       "      <td>-21.698192</td>\n",
       "      <td>-26.899317</td>\n",
       "      <td>4.077240</td>\n",
       "      <td>17</td>\n",
       "    </tr>\n",
       "    <tr>\n",
       "      <th>18</th>\n",
       "      <td>0.001201</td>\n",
       "      <td>0.000401</td>\n",
       "      <td>0.000200</td>\n",
       "      <td>0.000400</td>\n",
       "      <td>10</td>\n",
       "      <td>0.1</td>\n",
       "      <td>{'alpha': 10, 'l1_ratio': 0.1}</td>\n",
       "      <td>-27.385346</td>\n",
       "      <td>-19.159534</td>\n",
       "      <td>-27.635464</td>\n",
       "      <td>-24.154104</td>\n",
       "      <td>-18.968161</td>\n",
       "      <td>-23.460522</td>\n",
       "      <td>3.794608</td>\n",
       "      <td>15</td>\n",
       "    </tr>\n",
       "    <tr>\n",
       "      <th>19</th>\n",
       "      <td>0.004000</td>\n",
       "      <td>0.006000</td>\n",
       "      <td>0.000000</td>\n",
       "      <td>0.000000</td>\n",
       "      <td>10</td>\n",
       "      <td>0.5</td>\n",
       "      <td>{'alpha': 10, 'l1_ratio': 0.5}</td>\n",
       "      <td>-31.130307</td>\n",
       "      <td>-22.549433</td>\n",
       "      <td>-31.155204</td>\n",
       "      <td>-27.963447</td>\n",
       "      <td>-21.698192</td>\n",
       "      <td>-26.899317</td>\n",
       "      <td>4.077240</td>\n",
       "      <td>17</td>\n",
       "    </tr>\n",
       "    <tr>\n",
       "      <th>20</th>\n",
       "      <td>0.001002</td>\n",
       "      <td>0.000005</td>\n",
       "      <td>0.000000</td>\n",
       "      <td>0.000000</td>\n",
       "      <td>10</td>\n",
       "      <td>0.7</td>\n",
       "      <td>{'alpha': 10, 'l1_ratio': 0.7}</td>\n",
       "      <td>-31.130307</td>\n",
       "      <td>-22.549433</td>\n",
       "      <td>-31.155204</td>\n",
       "      <td>-27.963447</td>\n",
       "      <td>-21.698192</td>\n",
       "      <td>-26.899317</td>\n",
       "      <td>4.077240</td>\n",
       "      <td>17</td>\n",
       "    </tr>\n",
       "    <tr>\n",
       "      <th>21</th>\n",
       "      <td>0.001401</td>\n",
       "      <td>0.000800</td>\n",
       "      <td>0.000400</td>\n",
       "      <td>0.000490</td>\n",
       "      <td>10</td>\n",
       "      <td>0.95</td>\n",
       "      <td>{'alpha': 10, 'l1_ratio': 0.95}</td>\n",
       "      <td>-31.130307</td>\n",
       "      <td>-22.549433</td>\n",
       "      <td>-31.155204</td>\n",
       "      <td>-27.963447</td>\n",
       "      <td>-21.698192</td>\n",
       "      <td>-26.899317</td>\n",
       "      <td>4.077240</td>\n",
       "      <td>17</td>\n",
       "    </tr>\n",
       "    <tr>\n",
       "      <th>22</th>\n",
       "      <td>0.000999</td>\n",
       "      <td>0.000633</td>\n",
       "      <td>0.000601</td>\n",
       "      <td>0.000491</td>\n",
       "      <td>10</td>\n",
       "      <td>0.99</td>\n",
       "      <td>{'alpha': 10, 'l1_ratio': 0.99}</td>\n",
       "      <td>-31.130307</td>\n",
       "      <td>-22.549433</td>\n",
       "      <td>-31.155204</td>\n",
       "      <td>-27.963447</td>\n",
       "      <td>-21.698192</td>\n",
       "      <td>-26.899317</td>\n",
       "      <td>4.077240</td>\n",
       "      <td>17</td>\n",
       "    </tr>\n",
       "    <tr>\n",
       "      <th>23</th>\n",
       "      <td>0.001000</td>\n",
       "      <td>0.000003</td>\n",
       "      <td>0.000401</td>\n",
       "      <td>0.000491</td>\n",
       "      <td>10</td>\n",
       "      <td>1</td>\n",
       "      <td>{'alpha': 10, 'l1_ratio': 1}</td>\n",
       "      <td>-31.130307</td>\n",
       "      <td>-22.549433</td>\n",
       "      <td>-31.155204</td>\n",
       "      <td>-27.963447</td>\n",
       "      <td>-21.698192</td>\n",
       "      <td>-26.899317</td>\n",
       "      <td>4.077240</td>\n",
       "      <td>17</td>\n",
       "    </tr>\n",
       "    <tr>\n",
       "      <th>24</th>\n",
       "      <td>0.001200</td>\n",
       "      <td>0.000398</td>\n",
       "      <td>0.000401</td>\n",
       "      <td>0.000491</td>\n",
       "      <td>50</td>\n",
       "      <td>0.1</td>\n",
       "      <td>{'alpha': 50, 'l1_ratio': 0.1}</td>\n",
       "      <td>-31.130307</td>\n",
       "      <td>-22.549433</td>\n",
       "      <td>-31.155204</td>\n",
       "      <td>-27.963447</td>\n",
       "      <td>-21.698192</td>\n",
       "      <td>-26.899317</td>\n",
       "      <td>4.077240</td>\n",
       "      <td>17</td>\n",
       "    </tr>\n",
       "    <tr>\n",
       "      <th>25</th>\n",
       "      <td>0.001003</td>\n",
       "      <td>0.000004</td>\n",
       "      <td>0.000000</td>\n",
       "      <td>0.000000</td>\n",
       "      <td>50</td>\n",
       "      <td>0.5</td>\n",
       "      <td>{'alpha': 50, 'l1_ratio': 0.5}</td>\n",
       "      <td>-31.130307</td>\n",
       "      <td>-22.549433</td>\n",
       "      <td>-31.155204</td>\n",
       "      <td>-27.963447</td>\n",
       "      <td>-21.698192</td>\n",
       "      <td>-26.899317</td>\n",
       "      <td>4.077240</td>\n",
       "      <td>17</td>\n",
       "    </tr>\n",
       "    <tr>\n",
       "      <th>26</th>\n",
       "      <td>0.001198</td>\n",
       "      <td>0.000401</td>\n",
       "      <td>0.000801</td>\n",
       "      <td>0.000401</td>\n",
       "      <td>50</td>\n",
       "      <td>0.7</td>\n",
       "      <td>{'alpha': 50, 'l1_ratio': 0.7}</td>\n",
       "      <td>-31.130307</td>\n",
       "      <td>-22.549433</td>\n",
       "      <td>-31.155204</td>\n",
       "      <td>-27.963447</td>\n",
       "      <td>-21.698192</td>\n",
       "      <td>-26.899317</td>\n",
       "      <td>4.077240</td>\n",
       "      <td>17</td>\n",
       "    </tr>\n",
       "    <tr>\n",
       "      <th>27</th>\n",
       "      <td>0.001000</td>\n",
       "      <td>0.000632</td>\n",
       "      <td>0.000800</td>\n",
       "      <td>0.000400</td>\n",
       "      <td>50</td>\n",
       "      <td>0.95</td>\n",
       "      <td>{'alpha': 50, 'l1_ratio': 0.95}</td>\n",
       "      <td>-31.130307</td>\n",
       "      <td>-22.549433</td>\n",
       "      <td>-31.155204</td>\n",
       "      <td>-27.963447</td>\n",
       "      <td>-21.698192</td>\n",
       "      <td>-26.899317</td>\n",
       "      <td>4.077240</td>\n",
       "      <td>17</td>\n",
       "    </tr>\n",
       "    <tr>\n",
       "      <th>28</th>\n",
       "      <td>0.001000</td>\n",
       "      <td>0.000003</td>\n",
       "      <td>0.000000</td>\n",
       "      <td>0.000000</td>\n",
       "      <td>50</td>\n",
       "      <td>0.99</td>\n",
       "      <td>{'alpha': 50, 'l1_ratio': 0.99}</td>\n",
       "      <td>-31.130307</td>\n",
       "      <td>-22.549433</td>\n",
       "      <td>-31.155204</td>\n",
       "      <td>-27.963447</td>\n",
       "      <td>-21.698192</td>\n",
       "      <td>-26.899317</td>\n",
       "      <td>4.077240</td>\n",
       "      <td>17</td>\n",
       "    </tr>\n",
       "    <tr>\n",
       "      <th>29</th>\n",
       "      <td>0.001202</td>\n",
       "      <td>0.000400</td>\n",
       "      <td>0.000200</td>\n",
       "      <td>0.000400</td>\n",
       "      <td>50</td>\n",
       "      <td>1</td>\n",
       "      <td>{'alpha': 50, 'l1_ratio': 1}</td>\n",
       "      <td>-31.130307</td>\n",
       "      <td>-22.549433</td>\n",
       "      <td>-31.155204</td>\n",
       "      <td>-27.963447</td>\n",
       "      <td>-21.698192</td>\n",
       "      <td>-26.899317</td>\n",
       "      <td>4.077240</td>\n",
       "      <td>17</td>\n",
       "    </tr>\n",
       "    <tr>\n",
       "      <th>30</th>\n",
       "      <td>0.001001</td>\n",
       "      <td>0.000004</td>\n",
       "      <td>0.000400</td>\n",
       "      <td>0.000490</td>\n",
       "      <td>100</td>\n",
       "      <td>0.1</td>\n",
       "      <td>{'alpha': 100, 'l1_ratio': 0.1}</td>\n",
       "      <td>-31.130307</td>\n",
       "      <td>-22.549433</td>\n",
       "      <td>-31.155204</td>\n",
       "      <td>-27.963447</td>\n",
       "      <td>-21.698192</td>\n",
       "      <td>-26.899317</td>\n",
       "      <td>4.077240</td>\n",
       "      <td>17</td>\n",
       "    </tr>\n",
       "    <tr>\n",
       "      <th>31</th>\n",
       "      <td>0.001000</td>\n",
       "      <td>0.000003</td>\n",
       "      <td>0.000401</td>\n",
       "      <td>0.000491</td>\n",
       "      <td>100</td>\n",
       "      <td>0.5</td>\n",
       "      <td>{'alpha': 100, 'l1_ratio': 0.5}</td>\n",
       "      <td>-31.130307</td>\n",
       "      <td>-22.549433</td>\n",
       "      <td>-31.155204</td>\n",
       "      <td>-27.963447</td>\n",
       "      <td>-21.698192</td>\n",
       "      <td>-26.899317</td>\n",
       "      <td>4.077240</td>\n",
       "      <td>17</td>\n",
       "    </tr>\n",
       "    <tr>\n",
       "      <th>32</th>\n",
       "      <td>0.000999</td>\n",
       "      <td>0.000004</td>\n",
       "      <td>0.000402</td>\n",
       "      <td>0.000492</td>\n",
       "      <td>100</td>\n",
       "      <td>0.7</td>\n",
       "      <td>{'alpha': 100, 'l1_ratio': 0.7}</td>\n",
       "      <td>-31.130307</td>\n",
       "      <td>-22.549433</td>\n",
       "      <td>-31.155204</td>\n",
       "      <td>-27.963447</td>\n",
       "      <td>-21.698192</td>\n",
       "      <td>-26.899317</td>\n",
       "      <td>4.077240</td>\n",
       "      <td>17</td>\n",
       "    </tr>\n",
       "    <tr>\n",
       "      <th>33</th>\n",
       "      <td>0.001003</td>\n",
       "      <td>0.000007</td>\n",
       "      <td>0.000599</td>\n",
       "      <td>0.000489</td>\n",
       "      <td>100</td>\n",
       "      <td>0.95</td>\n",
       "      <td>{'alpha': 100, 'l1_ratio': 0.95}</td>\n",
       "      <td>-31.130307</td>\n",
       "      <td>-22.549433</td>\n",
       "      <td>-31.155204</td>\n",
       "      <td>-27.963447</td>\n",
       "      <td>-21.698192</td>\n",
       "      <td>-26.899317</td>\n",
       "      <td>4.077240</td>\n",
       "      <td>17</td>\n",
       "    </tr>\n",
       "    <tr>\n",
       "      <th>34</th>\n",
       "      <td>0.001199</td>\n",
       "      <td>0.000401</td>\n",
       "      <td>0.000000</td>\n",
       "      <td>0.000000</td>\n",
       "      <td>100</td>\n",
       "      <td>0.99</td>\n",
       "      <td>{'alpha': 100, 'l1_ratio': 0.99}</td>\n",
       "      <td>-31.130307</td>\n",
       "      <td>-22.549433</td>\n",
       "      <td>-31.155204</td>\n",
       "      <td>-27.963447</td>\n",
       "      <td>-21.698192</td>\n",
       "      <td>-26.899317</td>\n",
       "      <td>4.077240</td>\n",
       "      <td>17</td>\n",
       "    </tr>\n",
       "    <tr>\n",
       "      <th>35</th>\n",
       "      <td>0.001001</td>\n",
       "      <td>0.000003</td>\n",
       "      <td>0.000201</td>\n",
       "      <td>0.000401</td>\n",
       "      <td>100</td>\n",
       "      <td>1</td>\n",
       "      <td>{'alpha': 100, 'l1_ratio': 1}</td>\n",
       "      <td>-31.130307</td>\n",
       "      <td>-22.549433</td>\n",
       "      <td>-31.155204</td>\n",
       "      <td>-27.963447</td>\n",
       "      <td>-21.698192</td>\n",
       "      <td>-26.899317</td>\n",
       "      <td>4.077240</td>\n",
       "      <td>17</td>\n",
       "    </tr>\n",
       "  </tbody>\n",
       "</table>\n",
       "</div>"
      ],
      "text/plain": [
       "    mean_fit_time  std_fit_time  mean_score_time  std_score_time param_alpha  \\\n",
       "0        0.001199      0.000399         0.000800        0.000400         0.1   \n",
       "1        0.001000      0.000630         0.000802        0.000401         0.1   \n",
       "2        0.001530      0.000677         0.000302        0.000401         0.1   \n",
       "3        0.001195      0.000391         0.000200        0.000399         0.1   \n",
       "4        0.000799      0.000400         0.000399        0.000489         0.1   \n",
       "5        0.000999      0.000004         0.000602        0.000492         0.1   \n",
       "6        0.000998      0.000002         0.000201        0.000402           1   \n",
       "7        0.001197      0.000401         0.000603        0.000493           1   \n",
       "8        0.001200      0.000400         0.000399        0.000489           1   \n",
       "9        0.000999      0.000003         0.001001        0.000002           1   \n",
       "10       0.001000      0.000633         0.000799        0.000748           1   \n",
       "11       0.000801      0.000401         0.000400        0.000490           1   \n",
       "12       0.000799      0.000400         0.000401        0.000491           5   \n",
       "13       0.001000      0.000002         0.000403        0.000493           5   \n",
       "14       0.001001      0.000003         0.000599        0.000489           5   \n",
       "15       0.001999      0.001998         0.000802        0.000401           5   \n",
       "16       0.000401      0.000491         0.000800        0.000400           5   \n",
       "17       0.001200      0.000400         0.000600        0.000490           5   \n",
       "18       0.001201      0.000401         0.000200        0.000400          10   \n",
       "19       0.004000      0.006000         0.000000        0.000000          10   \n",
       "20       0.001002      0.000005         0.000000        0.000000          10   \n",
       "21       0.001401      0.000800         0.000400        0.000490          10   \n",
       "22       0.000999      0.000633         0.000601        0.000491          10   \n",
       "23       0.001000      0.000003         0.000401        0.000491          10   \n",
       "24       0.001200      0.000398         0.000401        0.000491          50   \n",
       "25       0.001003      0.000004         0.000000        0.000000          50   \n",
       "26       0.001198      0.000401         0.000801        0.000401          50   \n",
       "27       0.001000      0.000632         0.000800        0.000400          50   \n",
       "28       0.001000      0.000003         0.000000        0.000000          50   \n",
       "29       0.001202      0.000400         0.000200        0.000400          50   \n",
       "30       0.001001      0.000004         0.000400        0.000490         100   \n",
       "31       0.001000      0.000003         0.000401        0.000491         100   \n",
       "32       0.000999      0.000004         0.000402        0.000492         100   \n",
       "33       0.001003      0.000007         0.000599        0.000489         100   \n",
       "34       0.001199      0.000401         0.000000        0.000000         100   \n",
       "35       0.001001      0.000003         0.000201        0.000401         100   \n",
       "\n",
       "   param_l1_ratio                            params  split0_test_score  \\\n",
       "0             0.1   {'alpha': 0.1, 'l1_ratio': 0.1}          -3.453021   \n",
       "1             0.5   {'alpha': 0.1, 'l1_ratio': 0.5}          -3.325440   \n",
       "2             0.7   {'alpha': 0.1, 'l1_ratio': 0.7}          -3.269880   \n",
       "3            0.95  {'alpha': 0.1, 'l1_ratio': 0.95}          -3.213052   \n",
       "4            0.99  {'alpha': 0.1, 'l1_ratio': 0.99}          -3.208124   \n",
       "5               1     {'alpha': 0.1, 'l1_ratio': 1}          -3.206943   \n",
       "6             0.1     {'alpha': 1, 'l1_ratio': 0.1}          -9.827475   \n",
       "7             0.5     {'alpha': 1, 'l1_ratio': 0.5}          -8.707071   \n",
       "8             0.7     {'alpha': 1, 'l1_ratio': 0.7}          -7.920870   \n",
       "9            0.95    {'alpha': 1, 'l1_ratio': 0.95}          -6.729435   \n",
       "10           0.99    {'alpha': 1, 'l1_ratio': 0.99}          -6.521344   \n",
       "11              1       {'alpha': 1, 'l1_ratio': 1}          -6.468807   \n",
       "12            0.1     {'alpha': 5, 'l1_ratio': 0.1}         -22.979265   \n",
       "13            0.5     {'alpha': 5, 'l1_ratio': 0.5}         -27.793488   \n",
       "14            0.7     {'alpha': 5, 'l1_ratio': 0.7}         -29.655510   \n",
       "15           0.95    {'alpha': 5, 'l1_ratio': 0.95}         -31.130307   \n",
       "16           0.99    {'alpha': 5, 'l1_ratio': 0.99}         -31.130307   \n",
       "17              1       {'alpha': 5, 'l1_ratio': 1}         -31.130307   \n",
       "18            0.1    {'alpha': 10, 'l1_ratio': 0.1}         -27.385346   \n",
       "19            0.5    {'alpha': 10, 'l1_ratio': 0.5}         -31.130307   \n",
       "20            0.7    {'alpha': 10, 'l1_ratio': 0.7}         -31.130307   \n",
       "21           0.95   {'alpha': 10, 'l1_ratio': 0.95}         -31.130307   \n",
       "22           0.99   {'alpha': 10, 'l1_ratio': 0.99}         -31.130307   \n",
       "23              1      {'alpha': 10, 'l1_ratio': 1}         -31.130307   \n",
       "24            0.1    {'alpha': 50, 'l1_ratio': 0.1}         -31.130307   \n",
       "25            0.5    {'alpha': 50, 'l1_ratio': 0.5}         -31.130307   \n",
       "26            0.7    {'alpha': 50, 'l1_ratio': 0.7}         -31.130307   \n",
       "27           0.95   {'alpha': 50, 'l1_ratio': 0.95}         -31.130307   \n",
       "28           0.99   {'alpha': 50, 'l1_ratio': 0.99}         -31.130307   \n",
       "29              1      {'alpha': 50, 'l1_ratio': 1}         -31.130307   \n",
       "30            0.1   {'alpha': 100, 'l1_ratio': 0.1}         -31.130307   \n",
       "31            0.5   {'alpha': 100, 'l1_ratio': 0.5}         -31.130307   \n",
       "32            0.7   {'alpha': 100, 'l1_ratio': 0.7}         -31.130307   \n",
       "33           0.95  {'alpha': 100, 'l1_ratio': 0.95}         -31.130307   \n",
       "34           0.99  {'alpha': 100, 'l1_ratio': 0.99}         -31.130307   \n",
       "35              1     {'alpha': 100, 'l1_ratio': 1}         -31.130307   \n",
       "\n",
       "    split1_test_score  split2_test_score  split3_test_score  \\\n",
       "0           -1.405190          -5.789125          -2.187302   \n",
       "1           -1.427522          -5.595610          -2.163089   \n",
       "2           -1.442432          -5.502437          -2.163950   \n",
       "3           -1.472417          -5.396258          -2.177452   \n",
       "4           -1.478489          -5.380242          -2.181097   \n",
       "5           -1.480065          -5.376257          -2.182076   \n",
       "6           -5.261525         -11.875347          -7.449195   \n",
       "7           -4.214228         -10.879261          -6.204545   \n",
       "8           -3.549562         -10.024877          -5.379553   \n",
       "9           -2.591285          -8.709842          -4.156317   \n",
       "10          -2.431385          -8.471086          -3.946327   \n",
       "11          -2.391483          -8.410171          -3.893566   \n",
       "12         -15.547104         -23.668249         -19.921063   \n",
       "13         -18.602269         -27.107849         -23.945227   \n",
       "14         -21.085059         -29.629478         -26.724595   \n",
       "15         -22.549433         -31.155204         -27.963447   \n",
       "16         -22.549433         -31.155204         -27.963447   \n",
       "17         -22.549433         -31.155204         -27.963447   \n",
       "18         -19.159534         -27.635464         -24.154104   \n",
       "19         -22.549433         -31.155204         -27.963447   \n",
       "20         -22.549433         -31.155204         -27.963447   \n",
       "21         -22.549433         -31.155204         -27.963447   \n",
       "22         -22.549433         -31.155204         -27.963447   \n",
       "23         -22.549433         -31.155204         -27.963447   \n",
       "24         -22.549433         -31.155204         -27.963447   \n",
       "25         -22.549433         -31.155204         -27.963447   \n",
       "26         -22.549433         -31.155204         -27.963447   \n",
       "27         -22.549433         -31.155204         -27.963447   \n",
       "28         -22.549433         -31.155204         -27.963447   \n",
       "29         -22.549433         -31.155204         -27.963447   \n",
       "30         -22.549433         -31.155204         -27.963447   \n",
       "31         -22.549433         -31.155204         -27.963447   \n",
       "32         -22.549433         -31.155204         -27.963447   \n",
       "33         -22.549433         -31.155204         -27.963447   \n",
       "34         -22.549433         -31.155204         -27.963447   \n",
       "35         -22.549433         -31.155204         -27.963447   \n",
       "\n",
       "    split4_test_score  mean_test_score  std_test_score  rank_test_score  \n",
       "0           -4.645576        -3.496043        1.591601                6  \n",
       "1           -4.451679        -3.392668        1.506827                5  \n",
       "2           -4.356738        -3.347088        1.462765                4  \n",
       "3           -4.241080        -3.300052        1.406248                3  \n",
       "4           -4.222968        -3.294184        1.396953                2  \n",
       "5           -4.218460        -3.292760        1.394613                1  \n",
       "6           -8.542329        -8.591174        2.222939               12  \n",
       "7           -7.173031        -7.435627        2.255532               11  \n",
       "8           -6.324836        -6.639940        2.206213               10  \n",
       "9           -5.329916        -5.503359        2.102835                9  \n",
       "10          -5.151344        -5.304297        2.079945                8  \n",
       "11          -5.105922        -5.253990        2.073832                7  \n",
       "12         -16.262737       -19.675684        3.334901               13  \n",
       "13         -18.064635       -23.102694        4.108297               14  \n",
       "14         -20.223654       -25.463659        4.077877               16  \n",
       "15         -21.698192       -26.899317        4.077240               17  \n",
       "16         -21.698192       -26.899317        4.077240               17  \n",
       "17         -21.698192       -26.899317        4.077240               17  \n",
       "18         -18.968161       -23.460522        3.794608               15  \n",
       "19         -21.698192       -26.899317        4.077240               17  \n",
       "20         -21.698192       -26.899317        4.077240               17  \n",
       "21         -21.698192       -26.899317        4.077240               17  \n",
       "22         -21.698192       -26.899317        4.077240               17  \n",
       "23         -21.698192       -26.899317        4.077240               17  \n",
       "24         -21.698192       -26.899317        4.077240               17  \n",
       "25         -21.698192       -26.899317        4.077240               17  \n",
       "26         -21.698192       -26.899317        4.077240               17  \n",
       "27         -21.698192       -26.899317        4.077240               17  \n",
       "28         -21.698192       -26.899317        4.077240               17  \n",
       "29         -21.698192       -26.899317        4.077240               17  \n",
       "30         -21.698192       -26.899317        4.077240               17  \n",
       "31         -21.698192       -26.899317        4.077240               17  \n",
       "32         -21.698192       -26.899317        4.077240               17  \n",
       "33         -21.698192       -26.899317        4.077240               17  \n",
       "34         -21.698192       -26.899317        4.077240               17  \n",
       "35         -21.698192       -26.899317        4.077240               17  "
      ]
     },
     "execution_count": 213,
     "metadata": {},
     "output_type": "execute_result"
    }
   ],
   "source": [
    "pd.DataFrame(grid_model.cv_results_)"
   ]
  },
  {
   "cell_type": "markdown",
   "metadata": {},
   "source": [
    "## <span style = \"color:#03520a ; font-family:sans serif\" class=\"bolded\"> If we are not satified with the current results we can change the values of prameters in param_grid and re-run the model"
   ]
  },
  {
   "cell_type": "code",
   "execution_count": 214,
   "metadata": {},
   "outputs": [],
   "source": [
    "y_pred = grid_model.predict(X_test)"
   ]
  },
  {
   "cell_type": "code",
   "execution_count": 215,
   "metadata": {},
   "outputs": [],
   "source": [
    "from sklearn.metrics import mean_squared_error"
   ]
  },
  {
   "cell_type": "code",
   "execution_count": 216,
   "metadata": {},
   "outputs": [
    {
     "data": {
      "text/plain": [
       "2.3873426420874737"
      ]
     },
     "execution_count": 216,
     "metadata": {},
     "output_type": "execute_result"
    }
   ],
   "source": [
    "mean_squared_error(y_test,y_pred)"
   ]
  },
  {
   "cell_type": "code",
   "execution_count": null,
   "metadata": {},
   "outputs": [],
   "source": []
  }
 ],
 "metadata": {
  "kernelspec": {
   "display_name": "Python 3",
   "language": "python",
   "name": "python3"
  },
  "language_info": {
   "codemirror_mode": {
    "name": "ipython",
    "version": 3
   },
   "file_extension": ".py",
   "mimetype": "text/x-python",
   "name": "python",
   "nbconvert_exporter": "python",
   "pygments_lexer": "ipython3",
   "version": "3.8.5"
  }
 },
 "nbformat": 4,
 "nbformat_minor": 4
}
