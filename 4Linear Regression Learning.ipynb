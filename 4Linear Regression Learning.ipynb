{
 "cells": [
  {
   "cell_type": "markdown",
   "metadata": {},
   "source": [
    "# <span style = \"color:#3a8504 ; font-family:franklin gothic medium\">Linear Regression</span>\n"
   ]
  },
  {
   "cell_type": "markdown",
   "metadata": {},
   "source": [
    "## <span style = \"color:#3a8504 ; font-family:franklin gothic medium\">Linear Regression Assumptions\n",
    "* Linear Relationship between input and output or feature and label\n",
    "* No Multi Collinearity\n",
    "* Normality of Resuals\n",
    "* Homoscedasticity\n",
    "* No Autocorrelation of Erros"
   ]
  },
  {
   "cell_type": "markdown",
   "metadata": {},
   "source": [
    "### <span style = \"color:#3a8504 ; font-family:franklin gothic medium\">1. Linear relationship"
   ]
  },
  {
   "cell_type": "markdown",
   "metadata": {},
   "source": [
    "<img src=\"data:image/webp;base64,UklGRlAPAABXRUJQVlA4IEQPAABQSQCdASoEARgBPjEYi0OiIaEQ6l0sIAMEtLdwu0D+9/1HlHI+Hf6B+J3fH/N/xp/b3zHfG/xv8i/3O/yvsS7h38J+k31D+j/sH/Z/2850+AF+F/wb+cfz39hf6t/4f9R7RuzxAB+Mfxf+vf2L9oP73+73SV4gH8q/l/97/tn7K/37/9fPXeU0AP59/Xf73+aX9f+jD9a/yH+H/ej/L+x38j/rf+k/v/7z/5/7Af4x/MP8J/Zv8R/xf8P////Z9xHrs/Zj2Nf1L/535/jp3d3d3d3d3d3Tge27u7u7u7GZYsWHugxWqFQzMzMzMzMy/ZuVVVVVVVVUjsNmZmKcrg5vZyIh6BX8lNKwTqUPBJCWhZr1V2VgE47+Pu26V8J2pieLoIMLPXY3L+xbL8kmwRCDslhmrdtY1DUxg++73rqrC298wKqqn/0ey/jcRMW9S4WZ8MVB/t9vsJbiEfkWQVrROuC/dkP0dLDNQc0bxJ9+jqVc2lMLsIC36Kqq2qca8v10bgYabtOqpmG1/Mv56yRf8PysX6omvTp+mNqjAWi0PweiT/cOddVVVVKI20zMx1moHuRGtn3/Ve7RMb9WhtNzPSaE4K6sbJmZmZj/aSCkYeMKoh4Zmh08E7YWm4zMzMywDbthmZmZmZl2lA61U8TReCJovBE0Wc2VJnh9pl6RQ9IA4vcY4nuLKeRKCIiIiIiIiIiIiBBIwmelMy7EvAbntidd4xrOTinSjY88Jl9UxoOq0lMzMqUowSsBpFIjok4JwVQ6adb/KcQLsFO5WSyJUMuAAP7/6oMGcEN6QDOMZCksB+nAtEoUq/TJ4VYdhHbYabYobS4Xb/0xJBPl4kkXGX0iyDgb55jRd+Lxyh0uupsnGGx3CUKztZnuuaI2R03+a+w1Ki3sxNlv9EpDws3tPw6rfVIwOWig5RvCE9Z9CVrxAALO1I6FwRgQCl8D6hCUcHk/nQ1pfYkh7NV0/7hDpUnNH00aiiXVAhFb7njhwmNyCMs74R5FC6lke0VVU1GPBU4cyeovmnJ/LeLVYZuh/TYyUIJPICBFP9eWpxL7/f5ezVzG/Eoz2TBuDJy2fV17YFXdpMUw5Bis71v4y0WjisXTmy0Bt1pewHGXIZT9DJ7DbxlsRTuoTKRhEnF2Jn14QDED9XN04JfkseIx1Zh5R63ziqH5fQh5+dSOwnClmjN+zStLtMeDJNuv5x+3bLPp1W0PxXdGPRu6XQKkhbEDxQM91aFCVmE3K1v56jjcArYmwBGnQC1uiqtgTY1mtiIAKs9RnYXeTnE0psdaD7z/Vh1YmuqeV2SlQOOfIorN7E64XBEwdYq57isIo/heyA1d5H/2lmoeMVB14IP/nHk9HD5eccYd3AjGXSRO4X9aJylyZxFRyQGlkNMN9Zv1gXBjJqRs/UbqBkMBa0y9iG5tqr+PeBzuikJ5g9Y4n88eqA+Lp9vufWvGuTUtOUPxNjEr27Us9ec7mTN/YDh9IqxQ/NaoPOr5B7AALmq6rLFXM7sPG207veM1ZEfenB67PHdnXbESbErhsYFdy3MSXAfplsw3d9yuOzbbZ5LzNT3Vvmab/Ih5DGgZjL5h/2l7+V++u9zjMUfgHConOC/i2AlOsRFH+bjB0arHJHqbE2ggblIoMyRilCgg6BF1L/eMy4DlXZtgwiPFh4sesjfF7wxXw0tZkuG7ziLrXDD59VNA15/XSLJhJXpf9PGlTIdtNuYtLGv/lV54GG4Gk19Y9nL4gqOKe0yNRf8nJYxY2J9Xdcqv3rlM5mKx9PQDT8IUdWmjRiN8BsGSPwaj2pPtMJNJnB4embc7Ygg9XIuSZTIiFJr3RiL9hW29WKqU63U09GqTu90iolaTTu67ll9KFxbNRkEyTdJHmlLRDEeq18FtV4gWy5kIzqD1j5daEvQ2k7Z4+Sjy0L5gagCHfMb4CNdhCqY+p1b7U3BDcDKImxtW9l09/FRFc8lh3yo4uFSByDLIQvmwjgKFMV0bo65PzSwyEe6nFWl6oDURgfKmugCoBFpjbqgcCln2EOO1m+68HXNx6I1wkPFyDktdE5eR5PMGRacE/J8+cYlo4EtZ/5o3N0aTw+rka4enGlgtdvFVfOa157dHtE45szSV6FNPvWgro80Ckz/+dJyNtbTiAOZ9AqMASE2QdnkIqPU4kt+bCJSYG535IxFTRpyPJSmD2uD0uBrKMia4XJ/yyUnbwRkAd2ZOyWajOGXAkz1bk2BgHoK3n5KyAngxOAqR/xA109ZIuLgYMSpIPorfOGV7YMk3ocaTEBPDp1ha+hmKYmeUzZKGhJv4ft4z++R6+639QTagh3IC95jnO22xtBIpMJK5p+GFnLfJGH7HfUmSwVRXX7pbO8ZFSnfNQWB4Y+xun7+7joyf9F1+dFUFlGnn3ewI/bB/ANMW8bgzPTj8maIx04n5Utfg4QBaBS0A0c2ia73cW8UrdBf8snIigJLjTtVORQj+u4fvfeIoGYZd+wUvGBz5ogaZLEN8rgulsvF8X1XgZ513yGuLVsARtRVEPr7aENg0YeGl2jLIWnu5412+IaE+cAaAQuFX8wI3O8sErSuUlMPdKlPWDYWcF1v1sjuSkd7DQaN2bM3vVnDMuzKF/UafSUNNmzOjbax51RETCNJlbPB/J8vYWzqoIGqHRJ21D59MFDLZeWkbzqZ5QgTGBmvJXk66gz3pOaNZjEpTHfhH93TioGrardiX1NUzA21C637NEkpbWSf7lOWTE1j4O63iUq3qZ2ay2ozglM8GDSRVuihNGihDzCclsPY+6beMYb5dEMl6BIkFbfkzBDOXA2Qmd/XstyJAdxo/LbcT6w+cBKd1gt0MMCNeA556M/9zwunmcPVvjIolbTkvozBXkzbIfiXAIsmEpahwlEh7aw3r7h+FYZkJ4I+DOEoSEULAerO7/LJ4pZeUgJlBhZeTw9p8qTD+Dx0xSU6PG4bxuPI/4nc2IfpDuBUo7FE83Xwq04VE8kAqVYg+mjKLxDqVeLhYyZH0HNUZV4Gb0C2jOKAftuXeGOiE95V7QCLWj6hVe0zuYrdQTcQly1otdB2O4daUE+vgWqdg/GO40ElFSWuhNnAfe7o1Sv9MLqGAFeUUEv0QN4m8tknsi9/nm9vzN/lzLxitjtRgV2Wix0VqaJcb4P/WAQ02krxrNtW4udU9SNtq/m9sFvqKrZL/sVToGbe0bioxGlaIt7Ipz972ESJbGpWoSjBsq+Yu9+QeWjWCSMpwj3Ts4fWf0JPYo7gVoON2Yv3mV7/DMasVmSVt+ixuhqwirlU9UfSwsu3oelZ36d/WHbUsdPaXHXWuPKeqE6lNUmv4ZWWZG1MrpIWyBVCCLJh0lJL1tOd/G/8B71qhLBxu9+puOIO/gKzm38j1+BlXNoj2iOiMa24IFkdujfIhtllOAL0LoYxv+jMEWcK/23AqtjwNmiy//kfyP6vOPAiKhsQW77yiSZ7TpHKO22bihagbMDzZ484vNESJd9XIqU9nB2M7hBqLz/BSDhYrkeoqQpVlD0RWZl/nCPnkNcSC+YUn7x3Clj/r5HgUN929TPCnFj6H9irm4bMDHGkZbBYQknx73fLRrgAVXJFLBIEKPup2eeb/v12hqIlGe+yB+H6Yx4uFDCPipNLNwKBsFLNTLZR/6NT/sILvgivLFDkAa628KSSzyvdA6/wf2J2YvwHNRBtapscAA8cY4jU8nVIIVPN755YHYJMBDzZq3ZYcjg+URYU9SddFh6/P7HHL7HHH1lfDg6vTSePeB3V+iVncLSom/m9C2T8zMg4j3AVJPdoaJ6zkA2gABhIt/HPliRL4PWzSFSu5CFLXDbBbJ1jNA1ML8awVhGmkdb6y1q8Ym+Bp9nQ/QZaRoDg95OAZf/qE2lcgQNdu+N2qnYMcw2jHnW+CE7lPnJ5n16REOOuf99JydyFdCeXgaEFKhdEoitT1kyZ+Uj0LW3WGiMDNTMQXHGnoC1UyKKRJakQIPt2n81JCEo2p29lhkD/mHpg35wz3/6noH8twsWDF1c/oWfRf2ZCbjN0VC7cs5Pam2bawF7Yyf9vJbdSOT9xki7/9jioRL9u0R0yElXZOh2eBLgLtZmoFHQl/gDFihJWEdeaaTavf41doqvmX+f2PZmELMNl3Ry90JWobl/hLdndpeqRPbPiWXiCTYvv3NFX0CaF54IdpNvbqMG3VVBcKM5hQfTdh5Btm3/Kp9w7684Rj74Vfyb6frfyAk1SdhUZp5uXu+2j+12NME0xnLGffkcia3n6YypwwwVbmnMV9w/bPeXPK1on/BAF9jIsKm8EJi0YBCfKMXRaqR9LL6qF4+ianUpHGvV/hcP5HNIaqmDCWNRJK8upoxnALqVOkPxheI5LWpoEar+VCaAm11AuEKP8WoJIxud6iUWlRyW0GF1kryM8i4bZ3bqfphD1AdDokgc/X/Bbo3csRCSL/dl0dM2EUDLHr+EKCSSm6U75dp+b5uZ8BbI81nL3Sx8juoe+oFDupwkcDyAQXGAnJMlvgflYJkOxV/COm9YDipj5FI7q5s9yPCXkOK6C5mrQJmHU8eUcEa/dVMLE41eFvN1irsv//FZ8x5QWdacLG4UpOOA8bTIijzLdmNIU8lkhQ35vYruzS8k/gzuT6YbzUdqIrXqVFda9IkTMlSCBQxvGfOGetEiDnEWIM+ve92sc3/J1kCikIyRzng4x+7VHsQ6neSMv30gj5l1Zec9i9JOFWseGq0i98h8yRyb30/yhiS2tRVXiyCxtcoDOQyGOcbmZAG69XzZfz8ReDWJoUWR/pz5zq085aqMTEuryOksaINrTRX0BrHSFgR3vhEb4aDZDht770HfWNbnppwEbB8180w+KpqSqqOLf8EoWjNIgifVh+41SrzhHbm0YaiOEAzzFFLo5iO/CwhSXz23YvajS4rsS58OCOygY1cKO+phidCaXLW4wAElQsO4eOSYo+fVpGI8vprqPbXrEqjxxAiJR3fZzkCUuUSZ0BxBi84Br0xsxs7wLD8DC3P9K+iaZt/1RAbeMXJANgA1jJZBo3mR5lP7bMrhkk9gUIAVUWtHjgp/yju2mSl4LdSjEv76oYJ2853YdOIbiLMB6ecql6I3bcblkv1pzOpytJFpMEYOPkeiCXIMDatrz9tZmtzeZ6E8INxms5hOrm6WP54ryBetDJ6voDe0DCC/rCYk584rIaarUF93lwIAAAAA==\" />"
   ]
  },
  {
   "cell_type": "markdown",
   "metadata": {},
   "source": [
    "### <span style = \"color:#3a8504 ; font-family:franklin gothic medium\"> THe above example show one feature linear relationshop with label, However multiple fearure each feature should have a linear relation with Target."
   ]
  },
  {
   "cell_type": "markdown",
   "metadata": {},
   "source": [
    "### <span style = \"color:#3a8504 ; font-family:franklin gothic medium\">2. No Multicollinearity\n",
    "* There should not be any correlation between features.\n",
    "* Each feature makes some unique contribution in explaining the label\n",
    "* We can check with \n",
    "    * from statsmodels.stats.outliers_influence import variance_inflation_factor\n",
    "       vif = []\n",
    "      for i in range(X_train[1]:\n",
    "         vif.append(variance_inflation_factor(X_train,i))\n",
    "    pd.DataFrame(vif,index = df.columns[0:3]).T\n",
    "    \n",
    "* If resulting VIF is close to 1 that means we don't have multicollinearity or if VIF is close to 5 that means correlation exist\n",
    "* Or we can built a heatmap for all features and check diagnoalically."
   ]
  },
  {
   "cell_type": "markdown",
   "metadata": {},
   "source": [
    "### <span style = \"color:#3a8504 ; font-family:franklin gothic medium\">3: Residual are normal\n",
    "* residuals = y_test - y_pred\n",
    "* We can genetare kdeplot or distplot of the residuals and it should be normally distributed"
   ]
  },
  {
   "cell_type": "markdown",
   "metadata": {},
   "source": [
    "### <span style = \"color:#3a8504 ; font-family:franklin gothic medium\">4. Homoscedasticity</span>\n",
    "### <span style = \"color:#3a8504 ; font-family:franklin gothic medium\"> \"Homo\" means same and \"Scedasticity measn speard or scatter\n",
    "* It means the speard of the residuals are randomly spread and not concentrated. \n",
    "* We can create scatter plot sns.scatterplot(x = y_pred, y = test_residules) to represent that</span>\n",
    "\n",
    "### <span style = \"color:#3a8504 ; font-family:franklin gothic medium\"> Opposite to homoscedasicity is hetroscedasticity  which means the residuals speard is concentrated</span>"
   ]
  },
  {
   "cell_type": "markdown",
   "metadata": {},
   "source": [
    "### <span style = \"color:#3a8504 ; font-family:franklin gothic medium\">5: No Autocorrelation of Error\n",
    "* Which means if we plot out residules it should not creatre any pattern. It should be random like cyclic sturcture.\n",
    "* Which also means erro cannot be same for two time periods"
   ]
  },
  {
   "cell_type": "markdown",
   "metadata": {},
   "source": [
    "# <span style = \"color:#3a8504 ; font-family:franklin gothic medium\"> Topics Covered\n",
    " * Theory of Linear Regression\n",
    " * Simple Implemention with Python\n",
    " * Scikit-Learn Overview\n",
    " * Linear Regression with Scikit-Learn\n",
    " * Polynomical Regression\n",
    " * Regularization\n",
    " * Overview of Project Database</span>"
   ]
  },
  {
   "cell_type": "markdown",
   "metadata": {},
   "source": [
    "## <span style= \"color:#021e78 ; font-family:franklin gothic medium\"> Algorithm \n"
   ]
  },
  {
   "cell_type": "markdown",
   "metadata": {},
   "source": [
    "## <span style= \"color:#021e78 ; font-family:franklin gothic medium\"> Ordinary Least Squares</span>\n",
    "### <span style= \"color:#021e78 ; font-family:franklin gothic medium\"> It Works by minimizing the sum of the squared of the differences between the observed depedent variable(values of the varibale being observed) in the given dataset and those predicted by the linear function\n"
   ]
  },
  {
   "cell_type": "markdown",
   "metadata": {},
   "source": [
    "## <span style= \"color:#021e78 ; font-family:franklin gothic medium\"> OLS Equation</span>\n",
    "### <span style= \"color:#021e78 ; font-family:franklin gothic medium\"> Straight line equation\n",
    " * y = m*x + b\n",
    "   * m is the slope\n",
    "   * b is intercept with y-axis </span>"
   ]
  },
  {
   "cell_type": "markdown",
   "metadata": {},
   "source": [
    "### <span style= \"color:#021e78 ; font-family:franklin gothic medium\"> OLS EQUATION\n",
    " * $\\hat{y} = \\hat{\\beta}_{0} + \\sum \\limits_{j=1}^{p}X_{j}\\hat{\\beta}_{j}$</span>"
   ]
  },
  {
   "cell_type": "markdown",
   "metadata": {},
   "source": [
    "### <span style= \"color:#021e78 ; font-family:franklin gothic medium\"> Our goal is to predict the value of a dependent varibale (y) based on that of an independent varibale (x) </span>"
   ]
  },
  {
   "cell_type": "markdown",
   "metadata": {},
   "source": [
    "### <span style= \"color:#021e78 ; font-family:franklin gothic medium\"> beta 1 = person correlation coefficient of (x and y) * standard deviation of (x)/standard deviation of (y) </span>"
   ]
  },
  {
   "cell_type": "markdown",
   "metadata": {},
   "source": [
    "### <span style= \"color:#021e78 ; font-family:franklin gothic medium\"> \n",
    " * For one single x and y , we can do it manually but when we expand to more than a single feature, an analytical solution quickly become unscalable.\n",
    " * Instead we shift focus on minimizing a cost finction with gradient descent.\n",
    " * We can use gradient descent to solve a cost function to calculate Beta values!\n",
    " </span>"
   ]
  },
  {
   "cell_type": "markdown",
   "metadata": {},
   "source": [
    "### <span style= \"color:#021e78 ; font-family:franklin gothic medium\">Cost Funciton </span>"
   ]
  },
  {
   "cell_type": "markdown",
   "metadata": {},
   "source": [
    "### <span style= \"color:#021e78 ; font-family:franklin gothic medium\">We know\n",
    " * We can create some sort of Linear Relationships\n",
    "     * y - mx + b\n",
    " * OLS\n",
    "     * Solve simple linear regression\n",
    " * Not scalable for multiple features\n",
    " * Translating data to matrix notation\n",
    " * Generalized formula for Beta coefficients</span>"
   ]
  },
  {
   "cell_type": "markdown",
   "metadata": {},
   "source": [
    "### <span style= \"color:#021e78 ; font-family:franklin gothic medium\"> \"best-fit\" as minimizing the squared error </span>"
   ]
  },
  {
   "cell_type": "markdown",
   "metadata": {},
   "source": [
    "##  <span style= \"color:#021e78 ; font-family:franklin gothic medium\"> ${1}/{m}\\sum \\limits_{j=1}^{m}{(}y^{j}-\\hat{y}^{j}{)}^2$ </span>"
   ]
  },
  {
   "cell_type": "markdown",
   "metadata": {},
   "source": [
    "### <span style= \"color:#021e78 ; font-family:franklin gothic medium\"> We can define a cost function J </span>\n",
    "\n",
    "## <span style= \"color:#021e78 ; font-family:franklin gothic medium\"> ${J}{(}{\\beta}{)} $</span>\n"
   ]
  },
  {
   "cell_type": "markdown",
   "metadata": {},
   "source": [
    "### <span style= \"color:#021e78 ; font-family:franklin gothic medium\"> This means we wish to minimize the cost function.</span>\n",
    "##  <span style= \"color:#021e78 ; font-family:franklin gothic medium\">${J}{(}{\\beta}{)}  = {1}/{2m}\\sum \\limits_{j=1}^{m}{(}y^{j}-\\hat{y}^{j}{)}^2$</span>\n"
   ]
  },
  {
   "cell_type": "markdown",
   "metadata": {},
   "source": [
    "### <span style= \"color:red ; font-family:franklin gothic medium\"> Additional 1/2 added in the equation for convenience for derivative.</span>"
   ]
  },
  {
   "cell_type": "markdown",
   "metadata": {},
   "source": [
    "### <span style= \"color:#021e78 ; font-family:franklin gothic medium\"> It will be a function of Betas and Features! that means replacing the yhat.</span>\n",
    "##  <span style= \"color:#021e78 ; font-family:franklin gothic medium\">${J}{(}{\\beta}{)}  = {1}/{2m}\\sum \\limits_{j=1}^{m}{(}y^{j}-{\\beta}x_{i}^{j}{)}^2$</span>"
   ]
  },
  {
   "cell_type": "markdown",
   "metadata": {},
   "source": [
    "## <span style= \"color:#021e78 ; font-family:franklin gothic medium\"> * Manually it is not feasable to do the calulation when we are trying to get an analytical solution to minimize this cost function, We refer to gradient descent to minimize this cost function </span>"
   ]
  },
  {
   "cell_type": "markdown",
   "metadata": {},
   "source": [
    "# <span style= \"color:#021e78 ; font-family:franklin gothic medium\"> Gradient Descent</span>"
   ]
  },
  {
   "cell_type": "markdown",
   "metadata": {},
   "source": [
    "## <span style= \"color:#021e78 ; font-family:franklin gothic medium\"> * We can describe the cost function through vectorized matrix notation and use gradient descent to have a computer figure out the set of Beta coeffiecient values that minimizes the cost/loss function </span>"
   ]
  },
  {
   "cell_type": "markdown",
   "metadata": {},
   "source": [
    "## <span style= \"color:#021e78 ; font-family:franklin gothic medium\"> We can use a gradient to express the derivative of the cost fucntion with respect to each ${\\beta}$ </span>"
   ]
  },
  {
   "cell_type": "markdown",
   "metadata": {},
   "source": [
    "$ \\hat{y} = \\hat{\\beta}_{0} + \\sum \\limits_{j=1}^{p}X_{j}\\hat{\\beta}_{j} $"
   ]
  },
  {
   "cell_type": "markdown",
   "metadata": {},
   "source": [
    "# <span style= \"color:#660b03 ; font-family:franklin gothic medium\"> Python Coding Simple Lienar Regression </span>"
   ]
  },
  {
   "cell_type": "markdown",
   "metadata": {},
   "source": [
    "## <span style= \"color:#660b03 ; font-family:franklin gothic medium\"> We will first try Simple Linear Regression, being simple just contain only two features  </span>"
   ]
  },
  {
   "cell_type": "markdown",
   "metadata": {},
   "source": [
    "## <span style= \"color:#660b03 ; font-family:franklin gothic medium\"> We will use numpy polifit function which uses poly fit  </span>"
   ]
  },
  {
   "cell_type": "code",
   "execution_count": 132,
   "metadata": {},
   "outputs": [],
   "source": [
    "import numpy as np\n",
    "import pandas as pd\n",
    "import matplotlib.pyplot as plt\n",
    "import seaborn as sns"
   ]
  },
  {
   "cell_type": "code",
   "execution_count": 133,
   "metadata": {},
   "outputs": [],
   "source": [
    "df  = pd.read_csv(\"Advertising.csv\")"
   ]
  },
  {
   "cell_type": "code",
   "execution_count": 134,
   "metadata": {},
   "outputs": [
    {
     "data": {
      "text/html": [
       "<div>\n",
       "<style scoped>\n",
       "    .dataframe tbody tr th:only-of-type {\n",
       "        vertical-align: middle;\n",
       "    }\n",
       "\n",
       "    .dataframe tbody tr th {\n",
       "        vertical-align: top;\n",
       "    }\n",
       "\n",
       "    .dataframe thead th {\n",
       "        text-align: right;\n",
       "    }\n",
       "</style>\n",
       "<table border=\"1\" class=\"dataframe\">\n",
       "  <thead>\n",
       "    <tr style=\"text-align: right;\">\n",
       "      <th></th>\n",
       "      <th>TV</th>\n",
       "      <th>radio</th>\n",
       "      <th>newspaper</th>\n",
       "      <th>sales</th>\n",
       "    </tr>\n",
       "  </thead>\n",
       "  <tbody>\n",
       "    <tr>\n",
       "      <th>0</th>\n",
       "      <td>230.1</td>\n",
       "      <td>37.8</td>\n",
       "      <td>69.2</td>\n",
       "      <td>22.1</td>\n",
       "    </tr>\n",
       "    <tr>\n",
       "      <th>1</th>\n",
       "      <td>44.5</td>\n",
       "      <td>39.3</td>\n",
       "      <td>45.1</td>\n",
       "      <td>10.4</td>\n",
       "    </tr>\n",
       "    <tr>\n",
       "      <th>2</th>\n",
       "      <td>17.2</td>\n",
       "      <td>45.9</td>\n",
       "      <td>69.3</td>\n",
       "      <td>9.3</td>\n",
       "    </tr>\n",
       "    <tr>\n",
       "      <th>3</th>\n",
       "      <td>151.5</td>\n",
       "      <td>41.3</td>\n",
       "      <td>58.5</td>\n",
       "      <td>18.5</td>\n",
       "    </tr>\n",
       "    <tr>\n",
       "      <th>4</th>\n",
       "      <td>180.8</td>\n",
       "      <td>10.8</td>\n",
       "      <td>58.4</td>\n",
       "      <td>12.9</td>\n",
       "    </tr>\n",
       "  </tbody>\n",
       "</table>\n",
       "</div>"
      ],
      "text/plain": [
       "      TV  radio  newspaper  sales\n",
       "0  230.1   37.8       69.2   22.1\n",
       "1   44.5   39.3       45.1   10.4\n",
       "2   17.2   45.9       69.3    9.3\n",
       "3  151.5   41.3       58.5   18.5\n",
       "4  180.8   10.8       58.4   12.9"
      ]
     },
     "execution_count": 134,
     "metadata": {},
     "output_type": "execute_result"
    }
   ],
   "source": [
    "df.head()"
   ]
  },
  {
   "cell_type": "code",
   "execution_count": 135,
   "metadata": {},
   "outputs": [],
   "source": [
    "df[\"total_spend\"] = df[\"TV\"] + df[\"radio\"] + df[\"newspaper\"]"
   ]
  },
  {
   "cell_type": "code",
   "execution_count": 136,
   "metadata": {},
   "outputs": [
    {
     "data": {
      "text/html": [
       "<div>\n",
       "<style scoped>\n",
       "    .dataframe tbody tr th:only-of-type {\n",
       "        vertical-align: middle;\n",
       "    }\n",
       "\n",
       "    .dataframe tbody tr th {\n",
       "        vertical-align: top;\n",
       "    }\n",
       "\n",
       "    .dataframe thead th {\n",
       "        text-align: right;\n",
       "    }\n",
       "</style>\n",
       "<table border=\"1\" class=\"dataframe\">\n",
       "  <thead>\n",
       "    <tr style=\"text-align: right;\">\n",
       "      <th></th>\n",
       "      <th>TV</th>\n",
       "      <th>radio</th>\n",
       "      <th>newspaper</th>\n",
       "      <th>sales</th>\n",
       "      <th>total_spend</th>\n",
       "    </tr>\n",
       "  </thead>\n",
       "  <tbody>\n",
       "    <tr>\n",
       "      <th>0</th>\n",
       "      <td>230.1</td>\n",
       "      <td>37.8</td>\n",
       "      <td>69.2</td>\n",
       "      <td>22.1</td>\n",
       "      <td>337.1</td>\n",
       "    </tr>\n",
       "    <tr>\n",
       "      <th>1</th>\n",
       "      <td>44.5</td>\n",
       "      <td>39.3</td>\n",
       "      <td>45.1</td>\n",
       "      <td>10.4</td>\n",
       "      <td>128.9</td>\n",
       "    </tr>\n",
       "    <tr>\n",
       "      <th>2</th>\n",
       "      <td>17.2</td>\n",
       "      <td>45.9</td>\n",
       "      <td>69.3</td>\n",
       "      <td>9.3</td>\n",
       "      <td>132.4</td>\n",
       "    </tr>\n",
       "    <tr>\n",
       "      <th>3</th>\n",
       "      <td>151.5</td>\n",
       "      <td>41.3</td>\n",
       "      <td>58.5</td>\n",
       "      <td>18.5</td>\n",
       "      <td>251.3</td>\n",
       "    </tr>\n",
       "    <tr>\n",
       "      <th>4</th>\n",
       "      <td>180.8</td>\n",
       "      <td>10.8</td>\n",
       "      <td>58.4</td>\n",
       "      <td>12.9</td>\n",
       "      <td>250.0</td>\n",
       "    </tr>\n",
       "  </tbody>\n",
       "</table>\n",
       "</div>"
      ],
      "text/plain": [
       "      TV  radio  newspaper  sales  total_spend\n",
       "0  230.1   37.8       69.2   22.1        337.1\n",
       "1   44.5   39.3       45.1   10.4        128.9\n",
       "2   17.2   45.9       69.3    9.3        132.4\n",
       "3  151.5   41.3       58.5   18.5        251.3\n",
       "4  180.8   10.8       58.4   12.9        250.0"
      ]
     },
     "execution_count": 136,
     "metadata": {},
     "output_type": "execute_result"
    }
   ],
   "source": [
    "df.head()"
   ]
  },
  {
   "cell_type": "code",
   "execution_count": 137,
   "metadata": {},
   "outputs": [
    {
     "data": {
      "text/plain": [
       "<AxesSubplot:xlabel='total_spend', ylabel='sales'>"
      ]
     },
     "execution_count": 137,
     "metadata": {},
     "output_type": "execute_result"
    },
    {
     "data": {
      "image/png": "[encoded data removed]",
      "text/plain": [
       "<Figure size 432x288 with 1 Axes>"
      ]
     },
     "metadata": {
      "needs_background": "light"
     },
     "output_type": "display_data"
    }
   ],
   "source": [
    "sns.scatterplot(data = df,  x = 'total_spend', y = 'sales')"
   ]
  },
  {
   "cell_type": "markdown",
   "metadata": {},
   "source": [
    "##### We can clearly see that total sum of spend is having linear relationship with Sales"
   ]
  },
  {
   "cell_type": "code",
   "execution_count": 138,
   "metadata": {},
   "outputs": [
    {
     "data": {
      "text/plain": [
       "<AxesSubplot:xlabel='total_spend', ylabel='sales'>"
      ]
     },
     "execution_count": 138,
     "metadata": {},
     "output_type": "execute_result"
    },
    {
     "data": {
      "image/png": "[encoded data removed]",
      "text/plain": [
       "<Figure size 432x288 with 1 Axes>"
      ]
     },
     "metadata": {
      "needs_background": "light"
     },
     "output_type": "display_data"
    }
   ],
   "source": [
    "# We also have reg plot which is a regression line plot, it creates the regression line using Ols\n",
    "sns.regplot(data = df,  x = 'total_spend', y = 'sales')"
   ]
  },
  {
   "cell_type": "code",
   "execution_count": 139,
   "metadata": {},
   "outputs": [],
   "source": [
    "# X is the independent variabel and y is dependent varibale\n",
    "\n",
    "X = df[\"total_spend\"]\n",
    "y = df[\"sales\"]"
   ]
  },
  {
   "cell_type": "code",
   "execution_count": 140,
   "metadata": {},
   "outputs": [],
   "source": [
    "#numpy has function called np.polyfit which calculates least squres polyfit we can call help(np.polyfit) to read more on that\n",
    "# we want to create and euqation as \n",
    "# y = mx + b\n",
    "# and in terms of beta coeff.\n",
    "#y = B1x + B0\n",
    "# polyfit provides the vaules of B1 and B0 using OLS, but it only consider x not like x1, x3, as it takes only one varibale\n"
   ]
  },
  {
   "cell_type": "code",
   "execution_count": 141,
   "metadata": {},
   "outputs": [
    {
     "data": {
      "text/plain": [
       "array([0.04868788, 4.24302822])"
      ]
     },
     "execution_count": 141,
     "metadata": {},
     "output_type": "execute_result"
    }
   ],
   "source": [
    "np.polyfit(X, y , deg=1)"
   ]
  },
  {
   "cell_type": "markdown",
   "metadata": {},
   "source": [
    "##### Above mentioned result of np.polyfit gives and array of two number and these are ${\\beta}{1}$ and  ${\\beta}{0}$"
   ]
  },
  {
   "cell_type": "markdown",
   "metadata": {},
   "source": [
    "##  ${\\beta}{1}$ = 0.04868788 & ${\\beta}{0}$ = 4.24302822"
   ]
  },
  {
   "cell_type": "code",
   "execution_count": 142,
   "metadata": {},
   "outputs": [],
   "source": [
    "potential_spend = np.linspace(0,500, 100)"
   ]
  },
  {
   "cell_type": "code",
   "execution_count": 143,
   "metadata": {},
   "outputs": [],
   "source": [
    "predicted_sales = 0.04868788 * potential_spend + 4.24302822"
   ]
  },
  {
   "cell_type": "code",
   "execution_count": 144,
   "metadata": {},
   "outputs": [
    {
     "data": {
      "image/png": "[encoded data removed]",
      "text/plain": [
       "<Figure size 432x288 with 1 Axes>"
      ]
     },
     "metadata": {
      "needs_background": "light"
     },
     "output_type": "display_data"
    }
   ],
   "source": [
    "sns.scatterplot(data = df,  x = 'total_spend', y = 'sales')\n",
    "plt.plot(potential_spend, predicted_sales, color = \"red\")\n",
    "plt.show()"
   ]
  },
  {
   "cell_type": "code",
   "execution_count": 145,
   "metadata": {},
   "outputs": [
    {
     "data": {
      "text/plain": [
       "13.98"
      ]
     },
     "execution_count": 145,
     "metadata": {},
     "output_type": "execute_result"
    }
   ],
   "source": [
    "expcted_spend  = 200\n",
    "predicted_sales_1 = 0.04868788 * expcted_spend + 4.24302822\n",
    "round(predicted_sales_1, 2)"
   ]
  },
  {
   "cell_type": "markdown",
   "metadata": {},
   "source": [
    "###  Check preformance"
   ]
  },
  {
   "cell_type": "markdown",
   "metadata": {},
   "source": [
    "### To check the performance we need to do train test slpit and due this reason np.polyfit is not and good choice even for OLS"
   ]
  },
  {
   "cell_type": "markdown",
   "metadata": {},
   "source": [
    "# <span style= \"color:#5f0366 ; font-family:franklin gothic medium\">Overview of Scikit_learn </span>"
   ]
  },
  {
   "cell_type": "markdown",
   "metadata": {},
   "source": [
    "## <span style= \"color:#5f0366 ; font-family:franklin gothic medium\">When we need to build more complex models, we'll need Scikit_learn! </span>"
   ]
  },
  {
   "cell_type": "markdown",
   "metadata": {},
   "source": [
    "## <span style= \"color:#5f0366 ; font-family:franklin gothic medium\"> Scikit Learn allow useres to easily swap algorithms in and out and test various approaches on the same data</span>"
   ]
  },
  {
   "cell_type": "markdown",
   "metadata": {},
   "source": [
    "### <span style= \"color:#5f0366 ; font-family:franklin gothic medium\"> * Scikit Learn also comes with many convenience tools, including train test split functions, cross validation tools, and a variety of reporting metric functions.\n",
    " * This leaves Scikit-Learn as a on-stop shop fot many of out machine learning needs.</span>"
   ]
  },
  {
   "cell_type": "markdown",
   "metadata": {},
   "source": [
    "## <span style= \"color:#5f0366 ; font-family:franklin gothic medium\"> Train_test split can easily be done as </span>\n",
    "## <span style= \"color:green ; font-family:franklin gothic medium\">from </span><span style= \"color:black ; font-family:franklin gothic medium\">sklearn.model_selection </span><span style= \"color:green ; font-family:franklin gothic medium\">import </span><span style= \"color:blue ; font-family:franklin gothic medium\">train_test_split </span>\n",
    "### X_train, X_test,y_train, y_test = <span style= \"color:blue ; font-family:franklin gothic medium\">train_test_split (X,y) </span>"
   ]
  },
  {
   "cell_type": "markdown",
   "metadata": {},
   "source": [
    "## <span style= \"color:#5f0366 ; font-family:franklin gothic medium\"> To import models </span>\n",
    "## <span style= \"color:green ; font-family:franklin gothic medium\">from </span><span style= \"color:black ; font-family:franklin gothic medium\">sklearn.model_family </span><span style= \"color:green ; font-family:franklin gothic medium\">import </span><span style= \"color:blue ; font-family:franklin gothic medium\">ModelAlgo(some model which you want to use </span>\n",
    "### X_train, X_test,y_train, y_test = <span style= \"color:blue ; font-family:franklin gothic medium\">mymodel - ModelAlgo(param1, param2) </span>"
   ]
  },
  {
   "cell_type": "markdown",
   "metadata": {},
   "source": [
    "## <span style= \"color:#5f0366 ; font-family:franklin gothic medium\"> To fit models on the training data</span>\n",
    "### mymodel.fit (X_train, y_train)"
   ]
  },
  {
   "cell_type": "markdown",
   "metadata": {},
   "source": [
    "## <span style= \"color:#5f0366 ; font-family:franklin gothic medium\"> To make predictions on test data</span>\n",
    "### predictions = mymodel.predict (X_train, y_train)"
   ]
  },
  {
   "cell_type": "markdown",
   "metadata": {},
   "source": [
    "## <span style= \"color:#5f0366 ; font-family:franklin gothic medium\"> To make perfomace check we need some sort of metric </span>\n",
    "## <span style= \"color:green ; font-family:franklin gothic medium\">from </span><span style= \"color:black ; font-family:franklin gothic medium\">sklearn.metrics </span><span style= \"color:green ; font-family:franklin gothic medium\">import </span><span style= \"color:blue ; font-family:franklin gothic medium\">errormetric(some metric which you want to use </span>\n",
    "### performace = error_metric(y_test,predictions)"
   ]
  },
  {
   "cell_type": "markdown",
   "metadata": {},
   "source": [
    "## <span style= \"color:#5f0366 ; font-family:franklin gothic medium\"> The above mentioned is the genral framework code of Scikit-Learn for essentially any supervised learning models </span>"
   ]
  },
  {
   "cell_type": "markdown",
   "metadata": {},
   "source": [
    "# <span style= \"color:#5f0366 ; font-family:franklin gothic medium\"> Linear Regression with Scikit Learn </span>"
   ]
  },
  {
   "cell_type": "code",
   "execution_count": 146,
   "metadata": {},
   "outputs": [],
   "source": [
    "df = df.drop('total_spend', axis = 1)"
   ]
  },
  {
   "cell_type": "code",
   "execution_count": 147,
   "metadata": {},
   "outputs": [
    {
     "data": {
      "text/html": [
       "<div>\n",
       "<style scoped>\n",
       "    .dataframe tbody tr th:only-of-type {\n",
       "        vertical-align: middle;\n",
       "    }\n",
       "\n",
       "    .dataframe tbody tr th {\n",
       "        vertical-align: top;\n",
       "    }\n",
       "\n",
       "    .dataframe thead th {\n",
       "        text-align: right;\n",
       "    }\n",
       "</style>\n",
       "<table border=\"1\" class=\"dataframe\">\n",
       "  <thead>\n",
       "    <tr style=\"text-align: right;\">\n",
       "      <th></th>\n",
       "      <th>TV</th>\n",
       "      <th>radio</th>\n",
       "      <th>newspaper</th>\n",
       "      <th>sales</th>\n",
       "    </tr>\n",
       "  </thead>\n",
       "  <tbody>\n",
       "    <tr>\n",
       "      <th>0</th>\n",
       "      <td>230.1</td>\n",
       "      <td>37.8</td>\n",
       "      <td>69.2</td>\n",
       "      <td>22.1</td>\n",
       "    </tr>\n",
       "    <tr>\n",
       "      <th>1</th>\n",
       "      <td>44.5</td>\n",
       "      <td>39.3</td>\n",
       "      <td>45.1</td>\n",
       "      <td>10.4</td>\n",
       "    </tr>\n",
       "    <tr>\n",
       "      <th>2</th>\n",
       "      <td>17.2</td>\n",
       "      <td>45.9</td>\n",
       "      <td>69.3</td>\n",
       "      <td>9.3</td>\n",
       "    </tr>\n",
       "    <tr>\n",
       "      <th>3</th>\n",
       "      <td>151.5</td>\n",
       "      <td>41.3</td>\n",
       "      <td>58.5</td>\n",
       "      <td>18.5</td>\n",
       "    </tr>\n",
       "    <tr>\n",
       "      <th>4</th>\n",
       "      <td>180.8</td>\n",
       "      <td>10.8</td>\n",
       "      <td>58.4</td>\n",
       "      <td>12.9</td>\n",
       "    </tr>\n",
       "  </tbody>\n",
       "</table>\n",
       "</div>"
      ],
      "text/plain": [
       "      TV  radio  newspaper  sales\n",
       "0  230.1   37.8       69.2   22.1\n",
       "1   44.5   39.3       45.1   10.4\n",
       "2   17.2   45.9       69.3    9.3\n",
       "3  151.5   41.3       58.5   18.5\n",
       "4  180.8   10.8       58.4   12.9"
      ]
     },
     "execution_count": 147,
     "metadata": {},
     "output_type": "execute_result"
    }
   ],
   "source": [
    "df.head()"
   ]
  },
  {
   "cell_type": "code",
   "execution_count": 148,
   "metadata": {},
   "outputs": [
    {
     "data": {
      "image/png": "[encoded data removed]",
      "text/plain": [
       "<Figure size 1152x432 with 3 Axes>"
      ]
     },
     "metadata": {
      "needs_background": "light"
     },
     "output_type": "display_data"
    }
   ],
   "source": [
    "fig,axes = plt.subplots(nrows=1, ncols=3, figsize = (16,6))\n",
    "axes[0].plot(df[\"TV\"], df[\"sales\"], 'o')\n",
    "axes[0].set_ylabel(\"Sales\")\n",
    "axes[0].set_xlabel(\"TV Spend\")\n",
    "\n",
    "axes[1].plot(df[\"radio\"], df[\"sales\"], 'o')\n",
    "axes[1].set_ylabel(\"Sales\")\n",
    "axes[1].set_xlabel(\"radio\")\n",
    "\n",
    "axes[2].plot(df[\"newspaper\"], df[\"sales\"], 'o')\n",
    "axes[2].set_ylabel(\"Sales\")\n",
    "axes[2].set_xlabel(\"newspaper\")\n",
    "plt.tight_layout();"
   ]
  },
  {
   "cell_type": "code",
   "execution_count": 149,
   "metadata": {},
   "outputs": [],
   "source": [
    "X = df.drop(\"sales\", axis = 1)"
   ]
  },
  {
   "cell_type": "code",
   "execution_count": 150,
   "metadata": {},
   "outputs": [],
   "source": [
    "y = df[\"sales\"]"
   ]
  },
  {
   "cell_type": "code",
   "execution_count": 151,
   "metadata": {},
   "outputs": [],
   "source": [
    "from sklearn.model_selection import train_test_split"
   ]
  },
  {
   "cell_type": "code",
   "execution_count": 152,
   "metadata": {},
   "outputs": [],
   "source": [
    "X_train, X_test, y_train, y_test = train_test_split( X, y, test_size=0.30, random_state=101)"
   ]
  },
  {
   "cell_type": "code",
   "execution_count": 153,
   "metadata": {},
   "outputs": [
    {
     "data": {
      "text/plain": [
       "200"
      ]
     },
     "execution_count": 153,
     "metadata": {},
     "output_type": "execute_result"
    }
   ],
   "source": [
    "len(df)"
   ]
  },
  {
   "cell_type": "code",
   "execution_count": 154,
   "metadata": {},
   "outputs": [
    {
     "data": {
      "text/plain": [
       "140"
      ]
     },
     "execution_count": 154,
     "metadata": {},
     "output_type": "execute_result"
    }
   ],
   "source": [
    "len(X_train)"
   ]
  },
  {
   "cell_type": "code",
   "execution_count": 155,
   "metadata": {},
   "outputs": [
    {
     "data": {
      "text/plain": [
       "60"
      ]
     },
     "execution_count": 155,
     "metadata": {},
     "output_type": "execute_result"
    }
   ],
   "source": [
    "len(X_test)"
   ]
  },
  {
   "cell_type": "code",
   "execution_count": 156,
   "metadata": {},
   "outputs": [],
   "source": [
    "from sklearn.linear_model import LinearRegression"
   ]
  },
  {
   "cell_type": "code",
   "execution_count": 157,
   "metadata": {},
   "outputs": [],
   "source": [
    "model = LinearRegression() # create instance"
   ]
  },
  {
   "cell_type": "code",
   "execution_count": 158,
   "metadata": {},
   "outputs": [
    {
     "data": {
      "text/plain": [
       "LinearRegression()"
      ]
     },
     "execution_count": 158,
     "metadata": {},
     "output_type": "execute_result"
    }
   ],
   "source": [
    "model.fit(X_train, y_train)"
   ]
  },
  {
   "cell_type": "code",
   "execution_count": 159,
   "metadata": {},
   "outputs": [
    {
     "data": {
      "text/plain": [
       "array([15.74131332, 19.61062568, 11.44888935, 17.00819787,  9.17285676,\n",
       "        7.01248287, 20.28992463, 17.29953992,  9.77584467, 19.22194224,\n",
       "       12.40503154, 13.89234998, 13.72541098, 21.28794031, 18.42456638,\n",
       "        9.98198406, 15.55228966,  7.68913693,  7.55614992, 20.40311209,\n",
       "        7.79215204, 18.24214098, 24.68631904, 22.82199068,  7.97962085,\n",
       "       12.65207264, 21.46925937,  8.05228573, 12.42315981, 12.50719678,\n",
       "       10.77757812, 19.24460093, 10.070269  ,  6.70779999, 17.31492147,\n",
       "        7.76764327,  9.25393336,  8.27834697, 10.58105585, 10.63591128,\n",
       "       13.01002595,  9.77192057, 10.21469861,  8.04572042, 11.5671075 ,\n",
       "       10.08368001,  8.99806574, 16.25388914, 13.23942315, 20.81493419,\n",
       "       12.49727439, 13.96615898, 17.56285075, 11.14537013, 12.56261468,\n",
       "        5.50870279, 23.29465134, 12.62409688, 18.77399978, 15.18785675])"
      ]
     },
     "execution_count": 159,
     "metadata": {},
     "output_type": "execute_result"
    }
   ],
   "source": [
    "model.predict(X_test)"
   ]
  },
  {
   "cell_type": "markdown",
   "metadata": {},
   "source": [
    "### Once model is created we want to do performance check\n",
    "#### Scikit-Learn Performance Evaluation-Regression"
   ]
  },
  {
   "cell_type": "markdown",
   "metadata": {},
   "source": [
    "## <span style= \"color:#8c0471 ; font-family:franklin gothic medium\"> Regression task attempts to predict the continous vaues </span>"
   ]
  },
  {
   "cell_type": "markdown",
   "metadata": {},
   "source": [
    "## <span style= \"color:#8c0471 ; font-family:franklin gothic medium\"> With Regression we can't use accuracy and recall becasue it evaluates the continous varibale rather we use following\n",
    " * Mean Absolute Error\n",
    " * Mean Squared Error\n",
    " * Root Mean Square Error"
   ]
  },
  {
   "cell_type": "markdown",
   "metadata": {},
   "source": [
    "## <span style= \"color:#8c0471 ; font-family:franklin gothic medium\"> The above mentioned metrics can be used for any regression task not just Linear </span>\n",
    "\n",
    "## <span style= \"color:#8c0471 ; font-family:franklin gothic medium\"> Mean Absolute Error (MAE)</span>\n",
    "# <span style= \"color:#021e78 ; font-family:franklin gothic medium\"> ${1}/{n}\\sum \\limits_{i}^{n}{=}{1}^{| y_{i}-\\hat{y}_{i} |} $ \n",
    "\n",
    "* This is the mean of the absolute vaue of erors </span>\n",
    " \n",
    "##### <span style= \"color:#8c0471 ; font-family:franklin gothic medium\"> The main issue with MAE that it won't punish Large errors</span>\n",
    "\n",
    "## <span style= \"color:#8c0471 ; font-family:franklin gothic medium\"> Mean Squared Error (MSE)\n",
    " * Large errors are \"punished\" more than with MAE, making MSE more popular </span>\n",
    " \n",
    "# <span style= \"color:#021e78 ; font-family:franklin gothic medium\"> ${1}/{n}\\sum \\limits_{i}^{n}{=}{1}^{( y_{i}-\\hat{y}_{i} )^2} $ </span>\n",
    " \n",
    "#### <span style= \"color:#8c0471 ; font-family:franklin gothic medium\"> Issue with MSE\n",
    " * different units that y\n",
    " * It reports unites of y sqaurred! than the original y values </span>\n",
    " \n",
    "## <span style= \"color:#8c0471 ; font-family:franklin gothic medium\"> Root Mean Squared Error (MSE)</span>\n",
    "\n",
    "### <span style= \"color:#8c0471 ; font-family:franklin gothic medium\"> To fix the values we take the square root of MSE\n",
    " * It is most popular as it has same units as y</span>\n",
    "\n",
    "# <span style= \"color:#021e78 ; font-family:franklin gothic medium\">$\\sqrt( {1}/{n}\\sum \\limits_{i}^{n}{=}{1}^{( y_{i}-\\hat{y}_{i} )^2} )$</span>"
   ]
  },
  {
   "cell_type": "markdown",
   "metadata": {},
   "source": [
    "##### <span style= \"color:red ; font-family:franklin gothic medium\"> While predicting context is everything for eg.</span>\n",
    "\n",
    "##### <span style= \"color:red ; font-family:franklin gothic medium\">A RMSE of 10 is good if you predicting house prices or high valued item but when it comes to predict Candy price its a horrible amount of error \n",
    " * Compare your error metric to the avergae value of the label in your data set to try to get an intuition of it's overall performance.\n",
    " * Domain knowledge also plays and important role here!</span>"
   ]
  },
  {
   "cell_type": "code",
   "execution_count": 160,
   "metadata": {},
   "outputs": [],
   "source": [
    "test_predictions = model.predict(X_test) # comapre with y_test"
   ]
  },
  {
   "cell_type": "code",
   "execution_count": 161,
   "metadata": {},
   "outputs": [
    {
     "data": {
      "text/plain": [
       "array([15.74131332, 19.61062568, 11.44888935, 17.00819787,  9.17285676,\n",
       "        7.01248287, 20.28992463, 17.29953992,  9.77584467, 19.22194224,\n",
       "       12.40503154, 13.89234998, 13.72541098, 21.28794031, 18.42456638,\n",
       "        9.98198406, 15.55228966,  7.68913693,  7.55614992, 20.40311209,\n",
       "        7.79215204, 18.24214098, 24.68631904, 22.82199068,  7.97962085,\n",
       "       12.65207264, 21.46925937,  8.05228573, 12.42315981, 12.50719678,\n",
       "       10.77757812, 19.24460093, 10.070269  ,  6.70779999, 17.31492147,\n",
       "        7.76764327,  9.25393336,  8.27834697, 10.58105585, 10.63591128,\n",
       "       13.01002595,  9.77192057, 10.21469861,  8.04572042, 11.5671075 ,\n",
       "       10.08368001,  8.99806574, 16.25388914, 13.23942315, 20.81493419,\n",
       "       12.49727439, 13.96615898, 17.56285075, 11.14537013, 12.56261468,\n",
       "        5.50870279, 23.29465134, 12.62409688, 18.77399978, 15.18785675])"
      ]
     },
     "execution_count": 161,
     "metadata": {},
     "output_type": "execute_result"
    }
   ],
   "source": [
    "test_predictions"
   ]
  },
  {
   "cell_type": "code",
   "execution_count": 162,
   "metadata": {},
   "outputs": [],
   "source": [
    "# comparing the results"
   ]
  },
  {
   "cell_type": "code",
   "execution_count": 163,
   "metadata": {},
   "outputs": [],
   "source": [
    "from sklearn.metrics import mean_absolute_error, mean_squared_error"
   ]
  },
  {
   "cell_type": "code",
   "execution_count": 164,
   "metadata": {},
   "outputs": [
    {
     "data": {
      "text/plain": [
       "1.2137457736144805"
      ]
     },
     "execution_count": 164,
     "metadata": {},
     "output_type": "execute_result"
    }
   ],
   "source": [
    "mean_absolute_error(y_test, test_predictions) # it's 10% error"
   ]
  },
  {
   "cell_type": "code",
   "execution_count": 165,
   "metadata": {},
   "outputs": [
    {
     "data": {
      "text/plain": [
       "2.298716697886378"
      ]
     },
     "execution_count": 165,
     "metadata": {},
     "output_type": "execute_result"
    }
   ],
   "source": [
    "mean_squared_error(y_test, test_predictions)"
   ]
  },
  {
   "cell_type": "code",
   "execution_count": 166,
   "metadata": {},
   "outputs": [
    {
     "data": {
      "text/plain": [
       "1.5161519375993877"
      ]
     },
     "execution_count": 166,
     "metadata": {},
     "output_type": "execute_result"
    }
   ],
   "source": [
    "#RMSE\n",
    "np.sqrt(mean_squared_error(y_test, test_predictions)) # it's almost also 10%"
   ]
  },
  {
   "cell_type": "markdown",
   "metadata": {},
   "source": [
    "# <span style= \"color:#264501 ; font-family:franklin gothic medium\"> Residuals PLots -  Evaluating Residuals</span>"
   ]
  },
  {
   "cell_type": "markdown",
   "metadata": {},
   "source": [
    "# <span style= \"color:#264501 ; font-family:franklin gothic medium\"> Residuals are the difference between (y-$\\hat{y}$)</span>\n",
    "\n",
    "### <span style= \"color:red ; font-family:franklin gothic medium\"> It is important to evaluate residuals and not just calcualte perfomrance metrics like (RMSE)</span>"
   ]
  },
  {
   "cell_type": "code",
   "execution_count": 167,
   "metadata": {},
   "outputs": [],
   "source": [
    "# Check Anscombe's quartet graph"
   ]
  },
  {
   "cell_type": "markdown",
   "metadata": {},
   "source": [
    "##### <span style= \"color:#264501 ; font-family:franklin gothic medium\">It is easily tell visually for one feature whether line is 'Best fit or not, but what if we have more than one feature. \n",
    "* We can't see this discrepance of fit visually if we have multiple features!</span>"
   ]
  },
  {
   "cell_type": "markdown",
   "metadata": {},
   "source": [
    "## <span style= \"color:#264501 ; font-family:franklin gothic medium\"> Rather we can plot the residual error agaist the true y values</span>"
   ]
  },
  {
   "cell_type": "markdown",
   "metadata": {},
   "source": [
    "### <span style= \"color:#264501 ; font-family:franklin gothic medium\"> Residule Plotting</span>"
   ]
  },
  {
   "cell_type": "code",
   "execution_count": 168,
   "metadata": {},
   "outputs": [],
   "source": [
    "test_residules = y_test - test_predictions"
   ]
  },
  {
   "cell_type": "code",
   "execution_count": 169,
   "metadata": {},
   "outputs": [
    {
     "data": {
      "image/png": "[encoded data removed]",
      "text/plain": [
       "<Figure size 432x288 with 1 Axes>"
      ]
     },
     "metadata": {
      "needs_background": "light"
     },
     "output_type": "display_data"
    }
   ],
   "source": [
    "sns.scatterplot(x = y_test, y = test_residules)\n",
    "plt.axhline(y=0, color = 'red', ls = \"--\" );"
   ]
  },
  {
   "cell_type": "markdown",
   "metadata": {},
   "source": [
    "## Its looks random"
   ]
  },
  {
   "cell_type": "markdown",
   "metadata": {},
   "source": [
    "##### In case if it looks clear line, or curve that would show that something is not correct with the dataset and linear regression should not be used . In the anove case it looks random which means residuals are eually distributed aroud zero."
   ]
  },
  {
   "cell_type": "code",
   "execution_count": 170,
   "metadata": {},
   "outputs": [
    {
     "data": {
      "image/png": "[encoded data removed]",
      "text/plain": [
       "<Figure size 360x360 with 1 Axes>"
      ]
     },
     "metadata": {
      "needs_background": "light"
     },
     "output_type": "display_data"
    }
   ],
   "source": [
    "sns.displot(test_residules, bins = 25, kde = True);"
   ]
  },
  {
   "cell_type": "markdown",
   "metadata": {},
   "source": [
    "#### The main plot reveal the issue of the dataset is to check is the residual plot, as it should look random for linear regression to be used "
   ]
  },
  {
   "cell_type": "markdown",
   "metadata": {},
   "source": [
    "# <span style= \"color:#450129 ; font-family:franklin gothic medium\">Model Deployment and Coefficient Interpretation</span>"
   ]
  },
  {
   "cell_type": "markdown",
   "metadata": {},
   "source": [
    "# <span style= \"color:#450129 ; font-family:franklin gothic medium\">ML process with Supervised ML\n",
    " * X and y data\n",
    " * Split data to training and test  with X_test, X_train, Y_test, Y-train\n",
    " * Fit the model\n",
    " * Adjust as Needed(will check later, how the parameters and hyperparameters)\n",
    " * Evaluate Model Perfromance with Test Data\n",
    " * Deploy the Model</span>\n",
    " \n",
    " ### <span style= \"color:#450129 ; font-family:franklin gothic medium\">So Far we have covered the performance evaluation, Now looks as model deployment and Coefficient Interpretaion </span>"
   ]
  },
  {
   "cell_type": "code",
   "execution_count": 171,
   "metadata": {},
   "outputs": [],
   "source": [
    "final_model = LinearRegression()"
   ]
  },
  {
   "cell_type": "code",
   "execution_count": 172,
   "metadata": {},
   "outputs": [
    {
     "data": {
      "text/plain": [
       "LinearRegression()"
      ]
     },
     "execution_count": 172,
     "metadata": {},
     "output_type": "execute_result"
    }
   ],
   "source": [
    "final_model.fit(X,y) # we will train all the data in this scenario"
   ]
  },
  {
   "cell_type": "code",
   "execution_count": 173,
   "metadata": {},
   "outputs": [
    {
     "data": {
      "text/plain": [
       "array([ 0.04576465,  0.18853002, -0.00103749])"
      ]
     },
     "execution_count": 173,
     "metadata": {},
     "output_type": "execute_result"
    }
   ],
   "source": [
    "final_model.coef_ # to check the coefficients"
   ]
  },
  {
   "cell_type": "code",
   "execution_count": 174,
   "metadata": {},
   "outputs": [
    {
     "data": {
      "text/html": [
       "<div>\n",
       "<style scoped>\n",
       "    .dataframe tbody tr th:only-of-type {\n",
       "        vertical-align: middle;\n",
       "    }\n",
       "\n",
       "    .dataframe tbody tr th {\n",
       "        vertical-align: top;\n",
       "    }\n",
       "\n",
       "    .dataframe thead th {\n",
       "        text-align: right;\n",
       "    }\n",
       "</style>\n",
       "<table border=\"1\" class=\"dataframe\">\n",
       "  <thead>\n",
       "    <tr style=\"text-align: right;\">\n",
       "      <th></th>\n",
       "      <th>TV</th>\n",
       "      <th>radio</th>\n",
       "      <th>newspaper</th>\n",
       "    </tr>\n",
       "  </thead>\n",
       "  <tbody>\n",
       "    <tr>\n",
       "      <th>0</th>\n",
       "      <td>230.1</td>\n",
       "      <td>37.8</td>\n",
       "      <td>69.2</td>\n",
       "    </tr>\n",
       "    <tr>\n",
       "      <th>1</th>\n",
       "      <td>44.5</td>\n",
       "      <td>39.3</td>\n",
       "      <td>45.1</td>\n",
       "    </tr>\n",
       "    <tr>\n",
       "      <th>2</th>\n",
       "      <td>17.2</td>\n",
       "      <td>45.9</td>\n",
       "      <td>69.3</td>\n",
       "    </tr>\n",
       "    <tr>\n",
       "      <th>3</th>\n",
       "      <td>151.5</td>\n",
       "      <td>41.3</td>\n",
       "      <td>58.5</td>\n",
       "    </tr>\n",
       "    <tr>\n",
       "      <th>4</th>\n",
       "      <td>180.8</td>\n",
       "      <td>10.8</td>\n",
       "      <td>58.4</td>\n",
       "    </tr>\n",
       "  </tbody>\n",
       "</table>\n",
       "</div>"
      ],
      "text/plain": [
       "      TV  radio  newspaper\n",
       "0  230.1   37.8       69.2\n",
       "1   44.5   39.3       45.1\n",
       "2   17.2   45.9       69.3\n",
       "3  151.5   41.3       58.5\n",
       "4  180.8   10.8       58.4"
      ]
     },
     "execution_count": 174,
     "metadata": {},
     "output_type": "execute_result"
    }
   ],
   "source": [
    "X.head() # TV coef = 0.04576465, radio = 0.18853002, newspaper = 0.18853002"
   ]
  },
  {
   "cell_type": "markdown",
   "metadata": {},
   "source": [
    "##### <span style= \"color:#264501 ; font-family:franklin gothic medium\">  When coefficients are zero that means there is no real relationship between feature and label.</span>"
   ]
  },
  {
   "cell_type": "markdown",
   "metadata": {},
   "source": [
    "<span style= \"color:#264501 ; font-family:franklin gothic medium\"> We can't check the predictions against each varibale, rather doing is residual plot is the best option when we have more than one feature</span>"
   ]
  },
  {
   "cell_type": "markdown",
   "metadata": {},
   "source": [
    "<span style= \"color:#264501 ; font-family:franklin gothic medium\"> Saving a model for deployment</span>"
   ]
  },
  {
   "cell_type": "markdown",
   "metadata": {},
   "source": [
    "## <span style= \"color:green ; font-family:franklin gothic medium\">from </span><span style= \"color:black ; font-family:franklin gothic medium\">joblib </span><span style= \"color:green ; font-family:franklin gothic medium\">import </span><span style= \"color:blue ; font-family:franklin gothic medium\">dump, load</span>"
   ]
  },
  {
   "cell_type": "markdown",
   "metadata": {},
   "source": [
    "##### these are essentially two functions of joblib which save or dump the model and then load it to use"
   ]
  },
  {
   "cell_type": "code",
   "execution_count": 175,
   "metadata": {},
   "outputs": [],
   "source": [
    "from joblib import dump, load"
   ]
  },
  {
   "cell_type": "code",
   "execution_count": 176,
   "metadata": {},
   "outputs": [
    {
     "data": {
      "text/plain": [
       "['final_sales_model.joblib']"
      ]
     },
     "execution_count": 176,
     "metadata": {},
     "output_type": "execute_result"
    }
   ],
   "source": [
    "dump(final_model, 'final_sales_model.joblib')"
   ]
  },
  {
   "cell_type": "code",
   "execution_count": 177,
   "metadata": {},
   "outputs": [],
   "source": [
    "# load\n",
    "loaded_model = load('final_sales_model.joblib')"
   ]
  },
  {
   "cell_type": "code",
   "execution_count": 178,
   "metadata": {},
   "outputs": [
    {
     "data": {
      "text/plain": [
       "array([ 0.04576465,  0.18853002, -0.00103749])"
      ]
     },
     "execution_count": 178,
     "metadata": {},
     "output_type": "execute_result"
    }
   ],
   "source": [
    "# then the loaded_model is trained regression model\n",
    "loaded_model.coef_"
   ]
  },
  {
   "cell_type": "markdown",
   "metadata": {},
   "source": [
    "##### <span style= \"color:green ; font-family:franklin gothic medium\"> Let's try out our deployed model to predict some new data</span>"
   ]
  },
  {
   "cell_type": "code",
   "execution_count": 179,
   "metadata": {},
   "outputs": [],
   "source": [
    "# Example campaign to test\n",
    "# 149 on TV, 22 on radio, 12 on newspaper\n",
    "campaign = [[149,22,12]]"
   ]
  },
  {
   "cell_type": "code",
   "execution_count": 180,
   "metadata": {},
   "outputs": [
    {
     "data": {
      "text/plain": [
       "array([13.893032])"
      ]
     },
     "execution_count": 180,
     "metadata": {},
     "output_type": "execute_result"
    }
   ],
   "source": [
    "loaded_model.predict(campaign)"
   ]
  },
  {
   "cell_type": "markdown",
   "metadata": {},
   "source": [
    "## <b><span style= \"color:#ba0b71 ; font-family:franklin gothic medium\">With this we have completed the Supervised Machine learning model. Further we will dive in variation in regression, when to use them and tuning the hyperparameters</span></b>"
   ]
  },
  {
   "cell_type": "markdown",
   "metadata": {},
   "source": [
    "<hr style=\"border:2px solid gray\"></hr>"
   ]
  },
  {
   "cell_type": "markdown",
   "metadata": {},
   "source": [
    "# <b><span style= \"color:#8c2703 ; font-family:franklin gothic medium\">Polynomical Regression</span></b>"
   ]
  },
  {
   "cell_type": "markdown",
   "metadata": {},
   "source": [
    "# <b><span style= \"color:#8c2703 ; font-family:franklin gothic medium\"> There are two issues polynomical regression will address for us:\n",
    " * Non-Linear feature relationships to label\n",
    " * Interaction terms between features </span></b>"
   ]
  },
  {
   "cell_type": "markdown",
   "metadata": {},
   "source": [
    "## <span style= \"color:#264501 ; font-family:franklin gothic medium\"> What if have some feature which behaves as log(x), with this scenario its dificult to find a linear relationship"
   ]
  },
  {
   "cell_type": "code",
   "execution_count": 181,
   "metadata": {},
   "outputs": [],
   "source": [
    "x = df[\"radio\"]"
   ]
  },
  {
   "cell_type": "code",
   "execution_count": 182,
   "metadata": {},
   "outputs": [],
   "source": [
    "y = df[\"sales\"]"
   ]
  },
  {
   "cell_type": "code",
   "execution_count": 183,
   "metadata": {},
   "outputs": [
    {
     "name": "stderr",
     "output_type": "stream",
     "text": [
      "C:\\Program Files\\Anaconda3\\lib\\site-packages\\pandas\\core\\series.py:726: RuntimeWarning: divide by zero encountered in log\n",
      "  result = getattr(ufunc, method)(*inputs, **kwargs)\n"
     ]
    }
   ],
   "source": [
    "x = np.log(x)"
   ]
  },
  {
   "cell_type": "code",
   "execution_count": 184,
   "metadata": {},
   "outputs": [
    {
     "name": "stderr",
     "output_type": "stream",
     "text": [
      "C:\\Program Files\\Anaconda3\\lib\\site-packages\\seaborn\\_decorators.py:36: FutureWarning: Pass the following variables as keyword args: x, y. From version 0.12, the only valid positional argument will be `data`, and passing other arguments without an explicit keyword will result in an error or misinterpretation.\n",
      "  warnings.warn(\n"
     ]
    },
    {
     "data": {
      "image/png": "[encoded data removed]",
      "text/plain": [
       "<Figure size 432x288 with 1 Axes>"
      ]
     },
     "metadata": {
      "needs_background": "light"
     },
     "output_type": "display_data"
    }
   ],
   "source": [
    "sns.scatterplot(x,y);"
   ]
  },
  {
   "cell_type": "markdown",
   "metadata": {},
   "source": [
    "# <span style= \"color:#264501 ; font-family:franklin gothic medium\"> We can see from the above the relations is not linear </span>"
   ]
  },
  {
   "cell_type": "markdown",
   "metadata": {},
   "source": [
    "# <span style= \"color:#264501 ; font-family:franklin gothic medium\"> But if we take higher order like ${y} {=}{log}{(}{x}^{2}{)}$, it start to become linear."
   ]
  },
  {
   "cell_type": "code",
   "execution_count": 185,
   "metadata": {},
   "outputs": [],
   "source": [
    "x = x**2"
   ]
  },
  {
   "cell_type": "code",
   "execution_count": 186,
   "metadata": {},
   "outputs": [
    {
     "name": "stderr",
     "output_type": "stream",
     "text": [
      "C:\\Program Files\\Anaconda3\\lib\\site-packages\\seaborn\\_decorators.py:36: FutureWarning: Pass the following variables as keyword args: x, y. From version 0.12, the only valid positional argument will be `data`, and passing other arguments without an explicit keyword will result in an error or misinterpretation.\n",
      "  warnings.warn(\n"
     ]
    },
    {
     "data": {
      "text/plain": [
       "<AxesSubplot:xlabel='radio', ylabel='sales'>"
      ]
     },
     "execution_count": 186,
     "metadata": {},
     "output_type": "execute_result"
    },
    {
     "data": {
      "image/png": "[encoded data removed]",
      "text/plain": [
       "<Figure size 432x288 with 1 Axes>"
      ]
     },
     "metadata": {
      "needs_background": "light"
     },
     "output_type": "display_data"
    }
   ],
   "source": [
    "sns.scatterplot(x,y)"
   ]
  },
  {
   "cell_type": "code",
   "execution_count": 187,
   "metadata": {},
   "outputs": [],
   "source": [
    "x = x**3"
   ]
  },
  {
   "cell_type": "code",
   "execution_count": 188,
   "metadata": {},
   "outputs": [
    {
     "name": "stderr",
     "output_type": "stream",
     "text": [
      "C:\\Program Files\\Anaconda3\\lib\\site-packages\\seaborn\\_decorators.py:36: FutureWarning: Pass the following variables as keyword args: x, y. From version 0.12, the only valid positional argument will be `data`, and passing other arguments without an explicit keyword will result in an error or misinterpretation.\n",
      "  warnings.warn(\n"
     ]
    },
    {
     "data": {
      "text/plain": [
       "<AxesSubplot:xlabel='radio', ylabel='sales'>"
      ]
     },
     "execution_count": 188,
     "metadata": {},
     "output_type": "execute_result"
    },
    {
     "data": {
      "image/png": "[encoded data removed]",
      "text/plain": [
       "<Figure size 432x288 with 1 Axes>"
      ]
     },
     "metadata": {
      "needs_background": "light"
     },
     "output_type": "display_data"
    }
   ],
   "source": [
    "sns.scatterplot(x,y)"
   ]
  },
  {
   "cell_type": "markdown",
   "metadata": {},
   "source": [
    "#### <span style= \"color:#264501 ; font-family:franklin gothic medium\"> It becomes easy to find good beta coefficient for those higher order x than the original x feature and thats the motivation behind Polynomical Regression</span>"
   ]
  },
  {
   "cell_type": "markdown",
   "metadata": {},
   "source": [
    "# <span style= \"color:#7a0e06 ; font-family:franklin gothic medium\"> Interaction Terms</span>"
   ]
  },
  {
   "cell_type": "markdown",
   "metadata": {},
   "source": [
    "#### <span style= \"color:#7a0e06 ; font-family:franklin gothic medium\"> In case of features are only significant when in sync with one another</span>"
   ]
  },
  {
   "cell_type": "markdown",
   "metadata": {},
   "source": [
    "### <span style= \"color:#7a0e06 ; font-family:franklin gothic medium\"> How we check if one feature importance increase if another fetature included:\n",
    " \n",
    " * Create a new feature by multiplying two existing feature together to create an interection term.\n",
    " * We can keep the original feature and add on this interaction term.\n",
    " * futher we have scikit-learn does this for us easily through preprocessing call.\n",
    " </span>"
   ]
  },
  {
   "cell_type": "markdown",
   "metadata": {},
   "source": [
    "## <span style= \"color:#7a0e06 ; font-family:franklin gothic medium\"> Scikit Learn Preprocessing has one tool names as Polynomial Features which automatically creates both higher order features polynomials and the interaction term between all feature combinations.</span>"
   ]
  },
  {
   "cell_type": "markdown",
   "metadata": {},
   "source": [
    "### <span style= \"color:#7a0e06 ; font-family:franklin gothic medium\"> Polinomial Features does the following\n",
    " * The bias is added to the features (the value of 1.0)\n",
    " * Values rasied to a power of each degree for e.g. (${x}^{1}{,}{x}^{2}{,}{x}^{3}$, ...)\n",
    " * inerations between all pairs of featurs(e.g. ${x}{1}{ * }{x}{2}{,}{x}{1}{ * }{x}{3}$,...)"
   ]
  },
  {
   "cell_type": "markdown",
   "metadata": {},
   "source": [
    "## <span style= \"color:#7a0e06 ; font-family:franklin gothic medium\">Let's look at the pratical example</span>"
   ]
  },
  {
   "cell_type": "code",
   "execution_count": 189,
   "metadata": {},
   "outputs": [],
   "source": [
    "df2= pd.read_csv(Advertising.csv\")"
   ]
  },
  {
   "cell_type": "code",
   "execution_count": 190,
   "metadata": {},
   "outputs": [
    {
     "data": {
      "text/html": [
       "<div>\n",
       "<style scoped>\n",
       "    .dataframe tbody tr th:only-of-type {\n",
       "        vertical-align: middle;\n",
       "    }\n",
       "\n",
       "    .dataframe tbody tr th {\n",
       "        vertical-align: top;\n",
       "    }\n",
       "\n",
       "    .dataframe thead th {\n",
       "        text-align: right;\n",
       "    }\n",
       "</style>\n",
       "<table border=\"1\" class=\"dataframe\">\n",
       "  <thead>\n",
       "    <tr style=\"text-align: right;\">\n",
       "      <th></th>\n",
       "      <th>TV</th>\n",
       "      <th>radio</th>\n",
       "      <th>newspaper</th>\n",
       "      <th>sales</th>\n",
       "    </tr>\n",
       "  </thead>\n",
       "  <tbody>\n",
       "    <tr>\n",
       "      <th>0</th>\n",
       "      <td>230.1</td>\n",
       "      <td>37.8</td>\n",
       "      <td>69.2</td>\n",
       "      <td>22.1</td>\n",
       "    </tr>\n",
       "    <tr>\n",
       "      <th>1</th>\n",
       "      <td>44.5</td>\n",
       "      <td>39.3</td>\n",
       "      <td>45.1</td>\n",
       "      <td>10.4</td>\n",
       "    </tr>\n",
       "    <tr>\n",
       "      <th>2</th>\n",
       "      <td>17.2</td>\n",
       "      <td>45.9</td>\n",
       "      <td>69.3</td>\n",
       "      <td>9.3</td>\n",
       "    </tr>\n",
       "    <tr>\n",
       "      <th>3</th>\n",
       "      <td>151.5</td>\n",
       "      <td>41.3</td>\n",
       "      <td>58.5</td>\n",
       "      <td>18.5</td>\n",
       "    </tr>\n",
       "    <tr>\n",
       "      <th>4</th>\n",
       "      <td>180.8</td>\n",
       "      <td>10.8</td>\n",
       "      <td>58.4</td>\n",
       "      <td>12.9</td>\n",
       "    </tr>\n",
       "  </tbody>\n",
       "</table>\n",
       "</div>"
      ],
      "text/plain": [
       "      TV  radio  newspaper  sales\n",
       "0  230.1   37.8       69.2   22.1\n",
       "1   44.5   39.3       45.1   10.4\n",
       "2   17.2   45.9       69.3    9.3\n",
       "3  151.5   41.3       58.5   18.5\n",
       "4  180.8   10.8       58.4   12.9"
      ]
     },
     "execution_count": 190,
     "metadata": {},
     "output_type": "execute_result"
    }
   ],
   "source": [
    "df2.head()"
   ]
  },
  {
   "cell_type": "code",
   "execution_count": 191,
   "metadata": {},
   "outputs": [],
   "source": [
    "X = df.drop(\"sales\", axis = 1)"
   ]
  },
  {
   "cell_type": "code",
   "execution_count": 192,
   "metadata": {},
   "outputs": [],
   "source": [
    "y = df[\"sales\"]"
   ]
  },
  {
   "cell_type": "code",
   "execution_count": 193,
   "metadata": {},
   "outputs": [],
   "source": [
    "from sklearn.preprocessing import PolynomialFeatures"
   ]
  },
  {
   "cell_type": "code",
   "execution_count": 194,
   "metadata": {},
   "outputs": [],
   "source": [
    "polynomical_converter = PolynomialFeatures(degree=2, include_bias=False)# dgree which want to rasie the order to "
   ]
  },
  {
   "cell_type": "code",
   "execution_count": 195,
   "metadata": {},
   "outputs": [
    {
     "data": {
      "text/plain": [
       "PolynomialFeatures(include_bias=False)"
      ]
     },
     "execution_count": 195,
     "metadata": {},
     "output_type": "execute_result"
    }
   ],
   "source": [
    "polynomical_converter.fit(X)# fitting here means it is going to grab and analyize all the feature ,it is not going to transofrm anything\n",
    "# it is not a machine learning model"
   ]
  },
  {
   "cell_type": "code",
   "execution_count": 196,
   "metadata": {},
   "outputs": [
    {
     "data": {
      "text/plain": [
       "array([[ 230.1 ,   37.8 ,   69.2 , ..., 1428.84, 2615.76, 4788.64],\n",
       "       [  44.5 ,   39.3 ,   45.1 , ..., 1544.49, 1772.43, 2034.01],\n",
       "       [  17.2 ,   45.9 ,   69.3 , ..., 2106.81, 3180.87, 4802.49],\n",
       "       ...,\n",
       "       [ 177.  ,    9.3 ,    6.4 , ...,   86.49,   59.52,   40.96],\n",
       "       [ 283.6 ,   42.  ,   66.2 , ..., 1764.  , 2780.4 , 4382.44],\n",
       "       [ 232.1 ,    8.6 ,    8.7 , ...,   73.96,   74.82,   75.69]])"
      ]
     },
     "execution_count": 196,
     "metadata": {},
     "output_type": "execute_result"
    }
   ],
   "source": [
    "polynomical_converter.transform(X)# We can see below the trasnformed features"
   ]
  },
  {
   "cell_type": "code",
   "execution_count": 197,
   "metadata": {},
   "outputs": [
    {
     "data": {
      "text/plain": [
       "(200, 9)"
      ]
     },
     "execution_count": 197,
     "metadata": {},
     "output_type": "execute_result"
    }
   ],
   "source": [
    "polynomical_converter.transform(X).shape"
   ]
  },
  {
   "cell_type": "markdown",
   "metadata": {},
   "source": [
    "### we can see for 3 fearues it has created 9 fearues "
   ]
  },
  {
   "cell_type": "code",
   "execution_count": 198,
   "metadata": {},
   "outputs": [],
   "source": [
    "poly_features = polynomical_converter.transform(X)"
   ]
  },
  {
   "cell_type": "code",
   "execution_count": 199,
   "metadata": {},
   "outputs": [
    {
     "data": {
      "text/plain": [
       "TV           230.1\n",
       "radio         37.8\n",
       "newspaper     69.2\n",
       "Name: 0, dtype: float64"
      ]
     },
     "execution_count": 199,
     "metadata": {},
     "output_type": "execute_result"
    }
   ],
   "source": [
    "X.iloc[0]"
   ]
  },
  {
   "cell_type": "code",
   "execution_count": 200,
   "metadata": {},
   "outputs": [
    {
     "data": {
      "text/plain": [
       "array([2.301000e+02, 3.780000e+01, 6.920000e+01, 5.294601e+04,\n",
       "       8.697780e+03, 1.592292e+04, 1.428840e+03, 2.615760e+03,\n",
       "       4.788640e+03])"
      ]
     },
     "execution_count": 200,
     "metadata": {},
     "output_type": "execute_result"
    }
   ],
   "source": [
    "poly_features[0]"
   ]
  },
  {
   "cell_type": "markdown",
   "metadata": {},
   "source": [
    "# <span style= \"color:#264501 ; font-family:franklin gothic medium\"> It has created 3 original feature, 3 interaction term and 3 square terms</span>"
   ]
  },
  {
   "cell_type": "markdown",
   "metadata": {},
   "source": [
    "# <span style= \"color:#264501 ; font-family:franklin gothic medium\">It has expanded our feature set from 3 to 9 which later we can use in training data. We use it as if they were original feature </span>"
   ]
  },
  {
   "cell_type": "markdown",
   "metadata": {},
   "source": [
    "##### <span style= \"color:#264501 ; font-family:franklin gothic medium\">We have done fit and trasnform in two seperate lines but with scikit_learn we have fit_transform together to combine tow steps in one and yields the same output</span>"
   ]
  },
  {
   "cell_type": "markdown",
   "metadata": {},
   "source": [
    "## <span style= \"color:#264501 ; font-family:franklin gothic medium\">Training and Evaluating Polynomical regression </span>"
   ]
  },
  {
   "cell_type": "markdown",
   "metadata": {},
   "source": [
    "##### <span style= \"color:red ; font-family:franklin gothic medium\">Important note with polynimical regression, in this case we don't just save the model but the polynomial feature converter for deployment because for new data with 3 features has to be converted to 9 features before putting it thourgh model </span>"
   ]
  },
  {
   "cell_type": "code",
   "execution_count": 201,
   "metadata": {},
   "outputs": [],
   "source": [
    "from sklearn.model_selection import train_test_split"
   ]
  },
  {
   "cell_type": "code",
   "execution_count": 202,
   "metadata": {},
   "outputs": [],
   "source": [
    "X_train, X_test, y_train, y_test = train_test_split(poly_features, y, test_size=0.30, random_state=101)"
   ]
  },
  {
   "cell_type": "code",
   "execution_count": 203,
   "metadata": {},
   "outputs": [],
   "source": [
    "from sklearn.linear_model import LinearRegression"
   ]
  },
  {
   "cell_type": "code",
   "execution_count": 204,
   "metadata": {},
   "outputs": [],
   "source": [
    "model = LinearRegression()"
   ]
  },
  {
   "cell_type": "code",
   "execution_count": 205,
   "metadata": {},
   "outputs": [
    {
     "data": {
      "text/plain": [
       "LinearRegression()"
      ]
     },
     "execution_count": 205,
     "metadata": {},
     "output_type": "execute_result"
    }
   ],
   "source": [
    "model.fit(X_train, y_train)"
   ]
  },
  {
   "cell_type": "code",
   "execution_count": 206,
   "metadata": {},
   "outputs": [],
   "source": [
    "test_predictions2 = model.predict(X_test)"
   ]
  },
  {
   "cell_type": "code",
   "execution_count": 207,
   "metadata": {},
   "outputs": [
    {
     "data": {
      "text/plain": [
       "array([ 5.17095811e-02,  1.30848864e-02,  1.20000085e-02, -1.10892474e-04,\n",
       "        1.14212673e-03, -5.24100082e-05,  3.34919737e-05,  1.46380310e-04,\n",
       "       -3.04715806e-05])"
      ]
     },
     "execution_count": 207,
     "metadata": {},
     "output_type": "execute_result"
    }
   ],
   "source": [
    "model.coef_"
   ]
  },
  {
   "cell_type": "code",
   "execution_count": 208,
   "metadata": {},
   "outputs": [],
   "source": [
    "from sklearn.metrics import mean_absolute_error, mean_squared_error"
   ]
  },
  {
   "cell_type": "code",
   "execution_count": 209,
   "metadata": {},
   "outputs": [],
   "source": [
    "MAE = mean_absolute_error(y_test,test_predictions2)"
   ]
  },
  {
   "cell_type": "code",
   "execution_count": 210,
   "metadata": {},
   "outputs": [],
   "source": [
    "MSE = mean_squared_error(y_test, test_predictions2)"
   ]
  },
  {
   "cell_type": "code",
   "execution_count": 211,
   "metadata": {},
   "outputs": [],
   "source": [
    "RMSE = np.sqrt(MSE)"
   ]
  },
  {
   "cell_type": "code",
   "execution_count": 212,
   "metadata": {},
   "outputs": [
    {
     "data": {
      "text/plain": [
       "(0.489679804480361, 0.6646431757269028)"
      ]
     },
     "execution_count": 212,
     "metadata": {},
     "output_type": "execute_result"
    }
   ],
   "source": [
    "MAE, RMSE"
   ]
  },
  {
   "cell_type": "markdown",
   "metadata": {},
   "source": [
    "### <span style= \"color:#264501 ; font-family:franklin gothic medium\"> Polynomial Regresssion has perform better in comparison to Linear Regression</span>"
   ]
  },
  {
   "cell_type": "markdown",
   "metadata": {},
   "source": [
    "# <span style= \"color:#067a3e ; font-family:franklin gothic medium\"> Bais Variance Trade-Off</span>"
   ]
  },
  {
   "cell_type": "markdown",
   "metadata": {},
   "source": [
    "### <span style= \"color:#067a3e ; font-family:franklin gothic medium\">Bias Is the inability of the model to tuly capture relationship in the training data, which means model is having high residules</span>\n",
    "### <span style= \"color:#067a3e ; font-family:franklin gothic medium\">Variance indicates differnece of fits in differnt datasets for e.g. we have two datasets train and test. On training data we get error is 10 and on test we get 90 there is a difference of 90 which means high variability"
   ]
  },
  {
   "cell_type": "markdown",
   "metadata": {},
   "source": [
    "<img src=\"data:image/png;base64,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\" />"
   ]
  },
  {
   "cell_type": "markdown",
   "metadata": {},
   "source": [
    "## <span style= \"color:#067a3e ; font-family:franklin gothic medium\"> Overfittign Versus Underfitting </span>"
   ]
  },
  {
   "cell_type": "markdown",
   "metadata": {},
   "source": [
    "### <span style= \"color:#067a3e ; font-family:franklin gothic medium\"> In general, increasing model complexity in seach for better performance leads to a Bias-Variance trade-off</span>\n",
    "\n",
    "### <span style= \"color:#067a3e ; font-family:franklin gothic medium\"> We want to have a model that can generalize well to new unseen data, but also account for variance and patters in the known data</span>\n",
    "\n",
    "### <span style= \"color:#067a3e ; font-family:franklin gothic medium\"> Extreme bias or extreme variance both lead to bad models</span>\n",
    "\n",
    "### <span style= \"color:#067a3e ; font-family:franklin gothic medium\"> We can visualise this effect by considering a model that underfits(high bias) or a model that overfits(high varinace)</span>"
   ]
  },
  {
   "cell_type": "markdown",
   "metadata": {},
   "source": [
    "# <span style= \"color:#067a3e ; font-family:franklin gothic medium\"> Overfitting\n",
    " * The model fits too much to the noise from the data\n",
    " * This often results in low error on training sets but high error on test/validation sets </span>"
   ]
  },
  {
   "cell_type": "markdown",
   "metadata": {},
   "source": [
    "# <span style= \"color:#067a3e ; font-family:franklin gothic medium\">Underfitting\n",
    " * Model doesn't capture the underlying trend of the data and doesn't fit the data well enough\n",
    " * Low variance but high bias\n",
    " * Underfitting is often a result of and excessively simple model</span>"
   ]
  },
  {
   "cell_type": "markdown",
   "metadata": {},
   "source": [
    "## <span style= \"color:red ; font-family:franklin gothic medium\">Impotant Note: Overfitting can be harder to detect, since good perfomrance on training data could lead to a model that appears to be performaning well</spna>"
   ]
  },
  {
   "cell_type": "markdown",
   "metadata": {},
   "source": [
    "### <span style= \"color:#067a3e ; font-family:franklin gothic medium\"> Good model</span>"
   ]
  },
  {
   "cell_type": "code",
   "execution_count": 213,
   "metadata": {},
   "outputs": [],
   "source": [
    "sample_Good = pd.DataFrame({'Error':[7,6,5,4,3,2,1],'Model_complexity':[1,2,3,4,5,6,7]},)\n"
   ]
  },
  {
   "cell_type": "code",
   "execution_count": 214,
   "metadata": {},
   "outputs": [],
   "source": [
    "sample_Good[\"Model_complexity\"]= sample_Good[\"Model_complexity\"]**14"
   ]
  },
  {
   "cell_type": "code",
   "execution_count": 215,
   "metadata": {},
   "outputs": [
    {
     "data": {
      "image/png": "[encoded data removed]",
      "text/plain": [
       "<Figure size 800x400 with 1 Axes>"
      ]
     },
     "metadata": {
      "needs_background": "light"
     },
     "output_type": "display_data"
    }
   ],
   "source": [
    "plt.figure(figsize=(8,4),dpi = 100)\n",
    "sns.lineplot(data = sample_Good, x = 'Model_complexity', y = 'Error');\n",
    "plt.title(\"Good Model: Model Complexity increasing and error also descreasing\", color = 'blue');"
   ]
  },
  {
   "cell_type": "markdown",
   "metadata": {},
   "source": [
    "### <span style= \"color:#067a3e ; font-family:franklin gothic medium\"> Bad model</span>\n"
   ]
  },
  {
   "cell_type": "code",
   "execution_count": 216,
   "metadata": {},
   "outputs": [],
   "source": [
    "sample_bad = pd.DataFrame({'Error':[1,2,3,4,5,6,7],'Model_complexity':[1,2,3,4,5,6,7]},)"
   ]
  },
  {
   "cell_type": "code",
   "execution_count": 217,
   "metadata": {},
   "outputs": [],
   "source": [
    "sample_bad[\"Model_complexity\"] = np.log10(sample_bad[\"Model_complexity\"])"
   ]
  },
  {
   "cell_type": "code",
   "execution_count": 218,
   "metadata": {},
   "outputs": [
    {
     "data": {
      "image/png": "[encoded data removed]",
      "text/plain": [
       "<Figure size 800x400 with 1 Axes>"
      ]
     },
     "metadata": {
      "needs_background": "light"
     },
     "output_type": "display_data"
    }
   ],
   "source": [
    "plt.figure(figsize=(8,4),dpi = 100)\n",
    "sns.lineplot(data = sample_bad, x = 'Model_complexity', y = 'Error', color = 'red');\n",
    "plt.title(\"Bad Model: Error Increasing and error also Increasing\", color = 'red');"
   ]
  },
  {
   "cell_type": "markdown",
   "metadata": {},
   "source": [
    "## <span style= \"color:#067a3e ; font-family:franklin gothic medium\"> Adjusting Model Parameters</span>"
   ]
  },
  {
   "cell_type": "markdown",
   "metadata": {},
   "source": [
    "### <span style= \"color:#067a3e ; font-family:franklin gothic medium\"> In case of polynomial regression we will increase the degree , we will create a loop which will create differnt models with different degree and create visualization</span>"
   ]
  },
  {
   "cell_type": "code",
   "execution_count": 219,
   "metadata": {},
   "outputs": [],
   "source": [
    "# create the different order poly\n",
    "# split poly features train/test\n",
    "# fit on training \n",
    "# store /save the rmse for Both the training and test set\n",
    "# Plot the results (error vs  poly order)"
   ]
  },
  {
   "cell_type": "code",
   "execution_count": 220,
   "metadata": {},
   "outputs": [],
   "source": [
    "train_rmse_errors = []\n",
    "test_rmse_errors = []\n",
    "\n",
    "for d in range(1,10):\n",
    "    \n",
    "    poly_converter = PolynomialFeatures(degree= d, include_bias= False)\n",
    "    \n",
    "    poly_features = poly_converter.fit_transform(X)\n",
    "    \n",
    "    X_train, X_test, y_train, y_test = train_test_split(poly_features, y, test_size=0.30, random_state=101)\n",
    "    \n",
    "    model = LinearRegression()\n",
    "    model.fit(X_train, y_train)\n",
    "\n",
    "    train_pred = model.predict(X_train)\n",
    "    test_pred = model.predict(X_test)\n",
    "    \n",
    "    train_rmse = np.sqrt(mean_squared_error(y_train,train_pred))\n",
    "    test_rmse = np.sqrt(mean_squared_error(y_test, test_pred))\n",
    "    \n",
    "    train_rmse_errors.append(train_rmse)\n",
    "    test_rmse_errors.append(test_rmse)\n",
    "    "
   ]
  },
  {
   "cell_type": "code",
   "execution_count": 221,
   "metadata": {},
   "outputs": [
    {
     "data": {
      "text/plain": [
       "[1.734594124329376,\n",
       " 0.5879574085292231,\n",
       " 0.433934435690207,\n",
       " 0.35170836883993495,\n",
       " 0.2509342937299238,\n",
       " 0.19972295384551517,\n",
       " 5.427585514086315,\n",
       " 0.14113797646457107,\n",
       " 0.17123071301797124]"
      ]
     },
     "execution_count": 221,
     "metadata": {},
     "output_type": "execute_result"
    }
   ],
   "source": [
    "train_rmse_errors"
   ]
  },
  {
   "cell_type": "code",
   "execution_count": 222,
   "metadata": {},
   "outputs": [
    {
     "data": {
      "text/plain": [
       "[1.516151937599388,\n",
       " 0.6646431757269028,\n",
       " 0.5803286825176949,\n",
       " 0.5077742620525109,\n",
       " 2.5758251249157142,\n",
       " 4.193454925239622,\n",
       " 1371.9961124560466,\n",
       " 4113.92964606549,\n",
       " 95549.5877413218]"
      ]
     },
     "execution_count": 222,
     "metadata": {},
     "output_type": "execute_result"
    }
   ],
   "source": [
    "test_rmse_errors"
   ]
  },
  {
   "cell_type": "code",
   "execution_count": 223,
   "metadata": {},
   "outputs": [
    {
     "data": {
      "image/png": "[encoded data removed]",
      "text/plain": [
       "<Figure size 800x400 with 1 Axes>"
      ]
     },
     "metadata": {
      "needs_background": "light"
     },
     "output_type": "display_data"
    }
   ],
   "source": [
    "#Lets, check upto 6 degree\n",
    "plt.figure(figsize = (8,4), dpi= 100)\n",
    "plt.plot(range(1,6), train_rmse_errors[:5],label = \"Train RMSE\")\n",
    "plt.plot(range(1,6), test_rmse_errors[:5],label = \"Test RMSE\")\n",
    "plt.ylabel(\"RMSE\")\n",
    "plt.xlabel('Degree of Poly')\n",
    "plt.legend();"
   ]
  },
  {
   "cell_type": "code",
   "execution_count": 224,
   "metadata": {},
   "outputs": [
    {
     "data": {
      "image/png": "[encoded data removed]",
      "text/plain": [
       "<Figure size 800x400 with 1 Axes>"
      ]
     },
     "metadata": {
      "needs_background": "light"
     },
     "output_type": "display_data"
    }
   ],
   "source": [
    "#Lets, check upto last degree\n",
    "plt.figure(figsize = (8,4), dpi= 100)\n",
    "plt.plot(range(1,10), train_rmse_errors,label = \"Train RMSE\")\n",
    "plt.plot(range(1,10), test_rmse_errors,label = \"Test RMSE\")\n",
    "plt.ylabel(\"RMSE\")\n",
    "plt.xlabel('Degree of Poly')\n",
    "plt.legend();"
   ]
  },
  {
   "cell_type": "markdown",
   "metadata": {},
   "source": [
    "### <span style= \"color:#067a3e ; font-family:franklin gothic medium\"> From here you will need to choose the correct degree or optimial level of hyperparameter, so that we will get good work Model</span>"
   ]
  },
  {
   "cell_type": "markdown",
   "metadata": {},
   "source": [
    "# <span style= \"color:#067a3e ; font-family:franklin gothic medium\"> Polynomical Regression Model Deployment</span>"
   ]
  },
  {
   "cell_type": "code",
   "execution_count": 225,
   "metadata": {},
   "outputs": [],
   "source": [
    "final_poly_coverter = PolynomialFeatures(degree=3, include_bias= False)"
   ]
  },
  {
   "cell_type": "code",
   "execution_count": 226,
   "metadata": {},
   "outputs": [],
   "source": [
    "final_model = LinearRegression()"
   ]
  },
  {
   "cell_type": "code",
   "execution_count": 227,
   "metadata": {},
   "outputs": [
    {
     "data": {
      "text/plain": [
       "LinearRegression()"
      ]
     },
     "execution_count": 227,
     "metadata": {},
     "output_type": "execute_result"
    }
   ],
   "source": [
    "full_coverted_X = final_poly_coverter.fit_transform(X)\n",
    "final_model.fit(full_coverted_X,y)"
   ]
  },
  {
   "cell_type": "code",
   "execution_count": 228,
   "metadata": {},
   "outputs": [],
   "source": [
    "from joblib import dump, load"
   ]
  },
  {
   "cell_type": "code",
   "execution_count": 229,
   "metadata": {},
   "outputs": [
    {
     "data": {
      "text/plain": [
       "['final_poly_model.joblib']"
      ]
     },
     "execution_count": 229,
     "metadata": {},
     "output_type": "execute_result"
    }
   ],
   "source": [
    "dump(final_model,'final_poly_model.joblib')"
   ]
  },
  {
   "cell_type": "code",
   "execution_count": 230,
   "metadata": {},
   "outputs": [
    {
     "data": {
      "text/plain": [
       "['final_converter.joblib']"
      ]
     },
     "execution_count": 230,
     "metadata": {},
     "output_type": "execute_result"
    }
   ],
   "source": [
    "dump(final_poly_coverter, \"final_converter.joblib\")"
   ]
  },
  {
   "cell_type": "code",
   "execution_count": 231,
   "metadata": {},
   "outputs": [],
   "source": [
    "# while deployment \n",
    "loaded_converter = load(\"final_converter.joblib\")"
   ]
  },
  {
   "cell_type": "code",
   "execution_count": 232,
   "metadata": {},
   "outputs": [],
   "source": [
    "loaded_model = load(\"final_poly_model.joblib\")"
   ]
  },
  {
   "cell_type": "code",
   "execution_count": 233,
   "metadata": {},
   "outputs": [],
   "source": [
    "new_cam = [[149, 22, 12]]"
   ]
  },
  {
   "cell_type": "code",
   "execution_count": 234,
   "metadata": {},
   "outputs": [],
   "source": [
    "trasformed_data = loaded_converter.fit_transform(new_cam)"
   ]
  },
  {
   "cell_type": "code",
   "execution_count": 235,
   "metadata": {},
   "outputs": [
    {
     "data": {
      "text/plain": [
       "array([14.64501014])"
      ]
     },
     "execution_count": 235,
     "metadata": {},
     "output_type": "execute_result"
    }
   ],
   "source": [
    "loaded_model.predict(trasformed_data)"
   ]
  },
  {
   "cell_type": "markdown",
   "metadata": {},
   "source": [
    "<hr style=\"border:2px solid gray\"></hr>"
   ]
  },
  {
   "cell_type": "markdown",
   "metadata": {},
   "source": [
    "# <span style= \"color:#5e030e ; font-family:franklin gothic medium\">Regularization</span>"
   ]
  },
  {
   "cell_type": "markdown",
   "metadata": {},
   "source": [
    "## <span style= \"color:#5e030e ; font-family:franklin gothic medium\">Regularization Seeks to solve a few common model issues by :\n",
    "\n",
    " * Minimizing model complexity\n",
    " * Peanising the loss function\n",
    " * Reducing model overfitting (add more bias to reduce model varinace)</span>"
   ]
  },
  {
   "cell_type": "markdown",
   "metadata": {},
   "source": [
    "## <span style= \"color:#5e030e ; font-family:franklin gothic medium\"> In General We can think of regularization as a way to reduce model overfitting and variance.\n",
    " * Required some additional bias\n",
    " * Required a search for optimal penalty hyperparameter </span>"
   ]
  },
  {
   "cell_type": "markdown",
   "metadata": {},
   "source": [
    "## <span style= \"color:#5e030e ; font-family:franklin gothic medium\"> There are three main types of Regularization:\n",
    "    \n",
    " * L1 Regularization\n",
    "    * LASSO regression\n",
    "    \n",
    " * L2 Regularization\n",
    "    * Ridge Regression\n",
    "    \n",
    " * Combining L1 and L2\n",
    "    * Elastic Net"
   ]
  },
  {
   "cell_type": "markdown",
   "metadata": {},
   "source": [
    "## <span style= \"color:#5e030e ; font-family:franklin gothic medium\"> L1 Regularization (Lasso Regression) adds a penalty equal to the absolute value of the magnitude of coefficients.\n",
    "     * Limits the size of the coefficients.\n",
    "     * can yield sparse models where some coefficients can become zero\n",
    "    "
   ]
  },
  {
   "cell_type": "markdown",
   "metadata": {},
   "source": [
    "#### $\\sum^{n}_{i=1}{({y}_{i}-\\beta_{0}-\\sum^{p}_{j=1}\\beta_{j}{x}_{ij})}^{2}{ + }\\lambda\\sum^{p}_{j=1}{|}\\beta_{j}{|} { = } {RSS} { + } \\underline{\\lambda\\sum^{p}_{j=1}{|}\\beta_{j}{|}}$"
   ]
  },
  {
   "cell_type": "markdown",
   "metadata": {},
   "source": [
    "## <span style= \"color:#5e030e ; font-family:franklin gothic medium\"> Underlined part of the function is the absolute value of the magnitude of coefficients added as a penalty term</span>"
   ]
  },
  {
   "cell_type": "markdown",
   "metadata": {},
   "source": [
    "#### <span style= \"color:#5e030e ; font-family:franklin gothic medium\"> $\\lambda$ parameter is hyperparameter which can be tuned </span>"
   ]
  },
  {
   "cell_type": "markdown",
   "metadata": {},
   "source": [
    "## <span style= \"color:#5e030e ; font-family:franklin gothic medium\"> L2 Regularization (Ridge Regression) adds a penalty equal to the square of the magnitude of coefficients.\n",
    "    \n",
    "     * All coefficients are shrunk by the same factor\n",
    "     * Doesn't necessarily eliminate coefficients.\n",
    "    "
   ]
  },
  {
   "cell_type": "markdown",
   "metadata": {},
   "source": [
    "#### $\\sum^{n}_{i=1}{({y}_{i}-\\beta_{0}-\\sum^{p}_{j=1}\\beta_{j}{x}_{ij})}^{2}{ + }\\lambda\\sum^{p}_{j=1}\\beta_{j}^{2} { = } {RSS} { + } \\underline{\\lambda\\sum^{p}_{j=1}\\beta_{j}^{2}}$"
   ]
  },
  {
   "cell_type": "markdown",
   "metadata": {},
   "source": [
    "## <span style= \"color:#5e030e ; font-family:franklin gothic medium\"> Underlined part of the function is the square of the magnitude of coefficients added as a penalty term</span>"
   ]
  },
  {
   "cell_type": "markdown",
   "metadata": {},
   "source": [
    "#### <span style= \"color:#5e030e ; font-family:franklin gothic medium\"> $\\lambda$ parameter is hyperparameter which can be tuned </span>"
   ]
  },
  {
   "cell_type": "markdown",
   "metadata": {},
   "source": [
    "#### <span style= \"color:red ; font-family:franklin gothic medium\"> $\\lambda$ coefficeint parameter is to decide how strong the penalty should be (0 means no penalty)</span>"
   ]
  },
  {
   "cell_type": "markdown",
   "metadata": {},
   "source": [
    "## <span style= \"color:#5e030e ; font-family:franklin gothic medium\"> Elastic Net combined L1 and L2 with the addition of an alpha parameter deciding the ratio between them</span>"
   ]
  },
  {
   "cell_type": "markdown",
   "metadata": {},
   "source": [
    "#### $\\frac{\\sum_{i=1}^{n}{({y}_{i} { - } {x}^{J}_{i} \\hat\\beta)}^{2}}{2{n}} { + }\\underline{ \\lambda{(}{\\frac{1-\\alpha}{2}}\\sum^{m}_{j=1}\\hat\\beta^{2}_{j}{ + }\\alpha\\sum^{m}_{j-i}{|}\\hat\\beta_{j}{|}     {)}}$"
   ]
  },
  {
   "cell_type": "markdown",
   "metadata": {},
   "source": [
    "## <span style= \"color:#5e030e ; font-family:franklin gothic medium\"> Underlined part of the function is combining L1 and L2 $\\alpha$ decides the ration between L1 and L2 regularization so that we can decide how much of each we want to use of them </span>\n",
    "\n",
    "#### <span style= \"color:#5e030e ; font-family:franklin gothic medium\"> For eg, if we care choosing $\\alpha$ = 0 then L1 (last part cancelled out) and if we choose $\\alpha$ = 1 L2 (first part gets cancelled out) </span>"
   ]
  },
  {
   "cell_type": "markdown",
   "metadata": {},
   "source": [
    "## <span style= \"color:#5e030e ; font-family:franklin gothic medium\"> Regularization methods do have a cost:\n",
    " * Introduce the additional hyperparameter that needs to be tunes\n",
    " * A multiplier to the penalty to decide the \"strength\" of the penalty"
   ]
  },
  {
   "cell_type": "markdown",
   "metadata": {},
   "source": [
    "## <span style= \"color:#5e030e ; font-family:franklin gothic medium\"> Before discussing Regularization futher , we will discuss some important topics:\n",
    "    * Feature scaling\n",
    "    * Cross Validation"
   ]
  },
  {
   "cell_type": "markdown",
   "metadata": {},
   "source": [
    "# <span style= \"color:#35035e ; font-family:franklin gothic medium\"> Feature Scaling"
   ]
  },
  {
   "cell_type": "markdown",
   "metadata": {},
   "source": [
    "### <span style= \"color:#35035e ; font-family:franklin gothic medium\"> Feature scaling provides many benefits to our machine learning process!</span>\n",
    "\n",
    "### <span style= \"color:#35035e ; font-family:franklin gothic medium\">  Some Machine Learning Models that rely on distance metrics (eg. KNN) require Scaling to perform well.</span>\n"
   ]
  },
  {
   "cell_type": "markdown",
   "metadata": {},
   "source": [
    "##### <span style= \"color:red ; font-family:franklin gothic medium\">Note: Some ML Algos where scaling won't have a effect (e.g. CART based methods or Tree based methods)"
   ]
  },
  {
   "cell_type": "markdown",
   "metadata": {},
   "source": [
    "## <span style= \"color:#35035e ; font-family:franklin gothic medium\"> Some important points to remember is :</span>\n",
    "\n",
    "#### * <span style= \"color:#35035e ; font-family:franklin gothic medium\"> Must always scale new unseen data before feeding to model</span>\n",
    "#### * <span style= \"color:#35035e ; font-family:franklin gothic medium\">Effects interpretability of feature coeefficients\n",
    "     * Easier to compare coefficients to one another , harder to relate back to original unscaled feature"
   ]
  },
  {
   "cell_type": "markdown",
   "metadata": {},
   "source": [
    "## <span style= \"color:#35035e ; font-family:franklin gothic medium\"> Feature Scaling Benifits:\n",
    "     * Can lead to great increases in performance\n",
    "     * Absolutely necessary for some models\n",
    "     * Virtually no \"real\" downside to scaling feature"
   ]
  },
  {
   "cell_type": "markdown",
   "metadata": {},
   "source": [
    "## <span style= \"color:#35035e ; font-family:franklin gothic medium\"> There are two main ways to scale features</span>\n",
    "\n",
    "### <span style= \"color:#35035e ; font-family:franklin gothic medium\">Standardization\n",
    " * Rescales date to have a mean($\\mu$) of 0 and standard deviation ($\\sigma$) of 1.</span>\n",
    " \n",
    "### <span style= \"color:#35035e ; font-family:franklin gothic medium\">Normalization\n",
    " * Rescales all data values to be between 0-1\n",
    "  "
   ]
  },
  {
   "cell_type": "markdown",
   "metadata": {},
   "source": [
    "## <span style= \"color:#35035e ; font-family:franklin gothic medium\">Standardization\n",
    " * Rescales data to have a mean($\\mu$) of 0 and standard deviation ($\\sigma$) of 1(unit variance) and Mathematically can be show as below.</span>\n",
    " \n",
    "# ${X}_{changed} {  =  } \\frac{{X}{ - }\\mu}\\sigma$"
   ]
  },
  {
   "cell_type": "markdown",
   "metadata": {},
   "source": [
    "### <span style= \"color:red ; font-family:franklin gothic medium\">Namesake can be confusing since this is also referred to Z-score normalization\". </span>"
   ]
  },
  {
   "cell_type": "markdown",
   "metadata": {},
   "source": [
    "## <span style= \"color:#35035e ; font-family:franklin gothic medium\">Normalization\n",
    " * Scales all data values to be between 0 and 1.</span>\n",
    " \n",
    "## ${X}_{changed} {  =  } \\frac{{X}{ - }{X}_{min}}{{X}_{max}{ -}{X}_{min}}$"
   ]
  },
  {
   "cell_type": "markdown",
   "metadata": {},
   "source": [
    "## <span style= \"color:#35035e ; font-family:franklin gothic medium\"> Both Scaling comes with .fit() and .transform() in scikit-learn</span>\n",
    "### <span style= \"color:#35035e ; font-family:franklin gothic medium\"> A .fit() method call simply calculates the necessary statistics (min, max, mean, sd)</span>\n",
    "### <span style= \"color:#35035e ; font-family:franklin gothic medium\"> A .transform() method call actually scales data and returns the new scaled version of data </span>"
   ]
  },
  {
   "cell_type": "markdown",
   "metadata": {},
   "source": [
    "# <span style= \"color:red ; font-family:franklin gothic medium\"> An important consideration to be made about when to call fit and when to call transform\n",
    " * We only fit to training data.\n",
    " * calculating statistical information should only come from training data.\n",
    " * Don't want to assume prior knowledge of the test set!</span>\n",
    " \n",
    " ## <span style= \"color:red ; font-family:franklin gothic medium\">If at all use it on entire data that would cause data leakage:\n",
    "     * Calculating statistics from full data leads to some information of the test set leaking into the training process upon transform() conversion"
   ]
  },
  {
   "cell_type": "markdown",
   "metadata": {},
   "source": [
    " ## <span style= \"color:red ; font-family:franklin gothic medium\"> Feature scaling process:\n",
    "     * Perform train test split\n",
    "     * Fit to training feature data\n",
    "     * Transform training feature data\n",
    "     * Transform test feature data"
   ]
  },
  {
   "cell_type": "markdown",
   "metadata": {},
   "source": [
    " ## <span style= \"color:red ; font-family:franklin gothic medium\"> Do we need to scale the label?\n",
    "    \n",
    "     * In gerenal it is not necessary not advsied\n",
    "     * Normalising the output distribution is altering the defination of the target.\n",
    "     * Predicting a distribution that doesn't mirror you real-world target\n",
    "     * Can negatively impact stochastic gradient descent. "
   ]
  },
  {
   "cell_type": "markdown",
   "metadata": {},
   "source": [
    " # <span style= \"color:#4d2702 ; font-family:franklin gothic medium\"> Cross Validation\n",
    "  "
   ]
  },
  {
   "cell_type": "markdown",
   "metadata": {},
   "source": [
    "## <span style= \"color:#4d2702 ; font-family:franklin gothic medium\"> Cross Validation is more advanced set of methods for splitting data into training and testings sets"
   ]
  },
  {
   "cell_type": "markdown",
   "metadata": {},
   "source": [
    "## <span style= \"color:#4d2702 ; font-family:franklin gothic medium\"> There is a way we can achieve:\n",
    "    * Train all the data\n",
    "    * Evaluate on all the data \n",
    " ### <span style= \"color:#4d2702 ; font-family:franklin gothic medium\">While it sounds impossible, we can achive this with corss validation!"
   ]
  },
  {
   "cell_type": "markdown",
   "metadata": {},
   "source": [
    "## <span style= \"color:#4d2702 ; font-family:franklin gothic medium\">How it works:\n",
    "     * Split data into K equal parts:\n",
    "     * 1/k left as test set\n",
    "     * Train model and get error metric for split\n",
    "     * Keep repeating for all possible splits\n",
    "     * We then Average error which is also expected performance"
   ]
  },
  {
   "cell_type": "markdown",
   "metadata": {},
   "source": [
    "## <span style= \"color:#4d2702 ; font-family:franklin gothic medium\">Things to remember:\n",
    "     * Largest K possible would be K equal to the number of rows.\n",
    "         * This is know as leave one out cross validation\n",
    "         * It is computationally expensive!"
   ]
  },
  {
   "cell_type": "markdown",
   "metadata": {},
   "source": [
    "### <span style= \"color:#4d2702 ; font-family:franklin gothic medium\">\n",
    "* One consideration to note with K-fold cross validation and a standard train-test split is fairly tuninng hyperparameters.\n",
    " * If we tune hyperparameters to test data perfromance, are we ever fairly getting performance metrics?\n",
    "    * We do create a hold out test set\n",
    " * After training and tuninig performance final evaluation will be done on hold out test set\n",
    " * Remember we can't tune after this final test evaluation!\n",
    "</span>"
   ]
  },
  {
   "cell_type": "markdown",
   "metadata": {},
   "source": [
    "## <span style= \"color:#4d2702 ; font-family:franklin gothic medium\"> * Many regularization methods have tunable parameters we can adjust based on cross-validation techniques</span>\n",
    "## <span style= \"color:#4d2702 ; font-family:franklin gothic medium\"> * For simplicity, there are times we will opt for a simple two part train test split </span>"
   ]
  },
  {
   "cell_type": "markdown",
   "metadata": {},
   "source": [
    "# <span style= \"color:#275903 ; font-family:franklin gothic medium\"> Regularization for Linear Regression - Data Set up - Practical</span>"
   ]
  },
  {
   "cell_type": "code",
   "execution_count": 236,
   "metadata": {},
   "outputs": [],
   "source": [
    "df = pd.read_csv(\"Advertising.csv\")"
   ]
  },
  {
   "cell_type": "code",
   "execution_count": 237,
   "metadata": {},
   "outputs": [
    {
     "data": {
      "text/html": [
       "<div>\n",
       "<style scoped>\n",
       "    .dataframe tbody tr th:only-of-type {\n",
       "        vertical-align: middle;\n",
       "    }\n",
       "\n",
       "    .dataframe tbody tr th {\n",
       "        vertical-align: top;\n",
       "    }\n",
       "\n",
       "    .dataframe thead th {\n",
       "        text-align: right;\n",
       "    }\n",
       "</style>\n",
       "<table border=\"1\" class=\"dataframe\">\n",
       "  <thead>\n",
       "    <tr style=\"text-align: right;\">\n",
       "      <th></th>\n",
       "      <th>TV</th>\n",
       "      <th>radio</th>\n",
       "      <th>newspaper</th>\n",
       "      <th>sales</th>\n",
       "    </tr>\n",
       "  </thead>\n",
       "  <tbody>\n",
       "    <tr>\n",
       "      <th>0</th>\n",
       "      <td>230.1</td>\n",
       "      <td>37.8</td>\n",
       "      <td>69.2</td>\n",
       "      <td>22.1</td>\n",
       "    </tr>\n",
       "    <tr>\n",
       "      <th>1</th>\n",
       "      <td>44.5</td>\n",
       "      <td>39.3</td>\n",
       "      <td>45.1</td>\n",
       "      <td>10.4</td>\n",
       "    </tr>\n",
       "    <tr>\n",
       "      <th>2</th>\n",
       "      <td>17.2</td>\n",
       "      <td>45.9</td>\n",
       "      <td>69.3</td>\n",
       "      <td>9.3</td>\n",
       "    </tr>\n",
       "    <tr>\n",
       "      <th>3</th>\n",
       "      <td>151.5</td>\n",
       "      <td>41.3</td>\n",
       "      <td>58.5</td>\n",
       "      <td>18.5</td>\n",
       "    </tr>\n",
       "    <tr>\n",
       "      <th>4</th>\n",
       "      <td>180.8</td>\n",
       "      <td>10.8</td>\n",
       "      <td>58.4</td>\n",
       "      <td>12.9</td>\n",
       "    </tr>\n",
       "  </tbody>\n",
       "</table>\n",
       "</div>"
      ],
      "text/plain": [
       "      TV  radio  newspaper  sales\n",
       "0  230.1   37.8       69.2   22.1\n",
       "1   44.5   39.3       45.1   10.4\n",
       "2   17.2   45.9       69.3    9.3\n",
       "3  151.5   41.3       58.5   18.5\n",
       "4  180.8   10.8       58.4   12.9"
      ]
     },
     "execution_count": 237,
     "metadata": {},
     "output_type": "execute_result"
    }
   ],
   "source": [
    "df.head()"
   ]
  },
  {
   "cell_type": "code",
   "execution_count": 238,
   "metadata": {},
   "outputs": [],
   "source": [
    "X = df.drop(\"sales\", axis = 1)"
   ]
  },
  {
   "cell_type": "code",
   "execution_count": 239,
   "metadata": {},
   "outputs": [],
   "source": [
    "y = df[\"sales\"]"
   ]
  },
  {
   "cell_type": "markdown",
   "metadata": {},
   "source": [
    "### <span style= \"color:#275903 ; font-family:franklin gothic medium\"> Let's create polynomial featues as before to expand our dataset</span>"
   ]
  },
  {
   "cell_type": "code",
   "execution_count": 240,
   "metadata": {},
   "outputs": [],
   "source": [
    "from sklearn.preprocessing import PolynomialFeatures"
   ]
  },
  {
   "cell_type": "code",
   "execution_count": 241,
   "metadata": {},
   "outputs": [],
   "source": [
    "polynomial_coverter3 = PolynomialFeatures(degree= 3, include_bias= False)"
   ]
  },
  {
   "cell_type": "code",
   "execution_count": 242,
   "metadata": {},
   "outputs": [],
   "source": [
    "poly_features = polynomial_coverter3.fit_transform(X)"
   ]
  },
  {
   "cell_type": "code",
   "execution_count": 243,
   "metadata": {},
   "outputs": [
    {
     "data": {
      "text/plain": [
       "(200, 19)"
      ]
     },
     "execution_count": 243,
     "metadata": {},
     "output_type": "execute_result"
    }
   ],
   "source": [
    "poly_features.shape"
   ]
  },
  {
   "cell_type": "code",
   "execution_count": 244,
   "metadata": {},
   "outputs": [],
   "source": [
    "from sklearn.model_selection import train_test_split"
   ]
  },
  {
   "cell_type": "code",
   "execution_count": 245,
   "metadata": {},
   "outputs": [],
   "source": [
    "X_train, X_test, y_train, y_test = train_test_split(poly_features, y, test_size=0.30, random_state=101)"
   ]
  },
  {
   "cell_type": "markdown",
   "metadata": {},
   "source": [
    "### <span style= \"color:#275903 ; font-family:franklin gothic medium\"> Let's Scale the data now</span>"
   ]
  },
  {
   "cell_type": "code",
   "execution_count": 246,
   "metadata": {},
   "outputs": [],
   "source": [
    "from sklearn.preprocessing import StandardScaler"
   ]
  },
  {
   "cell_type": "code",
   "execution_count": 247,
   "metadata": {},
   "outputs": [],
   "source": [
    "scaler = StandardScaler()"
   ]
  },
  {
   "cell_type": "code",
   "execution_count": 248,
   "metadata": {},
   "outputs": [
    {
     "data": {
      "text/plain": [
       "StandardScaler()"
      ]
     },
     "execution_count": 248,
     "metadata": {},
     "output_type": "execute_result"
    }
   ],
   "source": [
    "scaler.fit(X_train) # We only fit to train data to avoid data leakage. And we don't scale y"
   ]
  },
  {
   "cell_type": "code",
   "execution_count": 249,
   "metadata": {},
   "outputs": [],
   "source": [
    "X_train = scaler.transform(X_train)"
   ]
  },
  {
   "cell_type": "code",
   "execution_count": 250,
   "metadata": {},
   "outputs": [],
   "source": [
    "X_test = scaler.transform(X_test)"
   ]
  },
  {
   "cell_type": "code",
   "execution_count": 251,
   "metadata": {},
   "outputs": [
    {
     "data": {
      "text/plain": [
       "array([ 0.49300171, -0.33994238,  1.61586707,  0.28407363, -0.02568776,\n",
       "        1.49677566, -0.59023161,  0.41659155,  1.6137853 ,  0.08057172,\n",
       "       -0.05392229,  1.01524393, -0.36986163,  0.52457967,  1.48737034,\n",
       "       -0.66096022, -0.16360242,  0.54694754,  1.37075536])"
      ]
     },
     "execution_count": 251,
     "metadata": {},
     "output_type": "execute_result"
    }
   ],
   "source": [
    "X_train[0]"
   ]
  },
  {
   "cell_type": "code",
   "execution_count": 252,
   "metadata": {},
   "outputs": [
    {
     "data": {
      "text/plain": [
       "array([2.30100000e+02, 3.78000000e+01, 6.92000000e+01, 5.29460100e+04,\n",
       "       8.69778000e+03, 1.59229200e+04, 1.42884000e+03, 2.61576000e+03,\n",
       "       4.78864000e+03, 1.21828769e+07, 2.00135918e+06, 3.66386389e+06,\n",
       "       3.28776084e+05, 6.01886376e+05, 1.10186606e+06, 5.40101520e+04,\n",
       "       9.88757280e+04, 1.81010592e+05, 3.31373888e+05])"
      ]
     },
     "execution_count": 252,
     "metadata": {},
     "output_type": "execute_result"
    }
   ],
   "source": [
    "poly_features[0]"
   ]
  },
  {
   "cell_type": "markdown",
   "metadata": {},
   "source": [
    "#### <span style= \"color:#275903 ; font-family:franklin gothic medium\">We can see X_train is now scaled</span>"
   ]
  },
  {
   "cell_type": "markdown",
   "metadata": {},
   "source": [
    "## <span style= \"color:#275903 ; font-family:franklin gothic medium\"> Now as the data ready we can now start Regularization </span>"
   ]
  },
  {
   "cell_type": "markdown",
   "metadata": {},
   "source": [
    "# <span style= \"color:#275903 ; font-family:franklin gothic medium\"> Ridge Regression Theory and intution</span>"
   ]
  },
  {
   "cell_type": "markdown",
   "metadata": {},
   "source": [
    "### <span style= \"color:#275903 ; font-family:franklin gothic medium\"> * Ridge Regression is a regularization technique that works by helping to reduce the potential for overfitting to the training data</span>\n",
    "### <span style= \"color:#275903 ; font-family:franklin gothic medium\"> * It does this by adding in a penalty term to the error that is based on the squared value of the coefficients.</span>"
   ]
  },
  {
   "cell_type": "markdown",
   "metadata": {},
   "source": [
    "### <span style= \"color:#275903 ; font-family:franklin gothic medium\"> The general formula for the regression line looks like below</span>"
   ]
  },
  {
   "cell_type": "markdown",
   "metadata": {},
   "source": [
    "# <span style= \"color:#275903 ; font-family:franklin gothic medium\">$\\hat{y}{ = }\\hat\\beta_{0} { + }\\hat\\beta_{1}{x}_{1}{ + }\\hat\\beta_{2}{x}_{2}{ + }{....}{ + } \\hat\\beta_{p}{x}_{p}$</span>"
   ]
  },
  {
   "cell_type": "markdown",
   "metadata": {},
   "source": [
    "### <span style= \"color:#275903 ; font-family:franklin gothic medium\"> The Beta coefficeints were solved by minimizing the residual sum of squares (RSS)</span>"
   ]
  },
  {
   "cell_type": "markdown",
   "metadata": {},
   "source": [
    "# <span style= \"color:#275903 ; font-family:franklin gothic medium\"> RSS = $\\sum_{i=1}^{n}{({y}_{i}{ - }\\hat{y}_{i})}^2$</span>"
   ]
  },
  {
   "cell_type": "markdown",
   "metadata": {},
   "source": [
    "## <span style= \"color:#275903 ; font-family:franklin gothic medium\"> We can substitute our regression equation for $\\hat{y}$ :</span>"
   ]
  },
  {
   "cell_type": "markdown",
   "metadata": {},
   "source": [
    "### <span style= \"color:#275903 ; font-family:franklin gothic medium\"> We can summarize the RSS as follows : </span>"
   ]
  },
  {
   "cell_type": "markdown",
   "metadata": {},
   "source": [
    "# <span style= \"color:#275903 ; font-family:franklin gothic medium\"> RSS = $\\sum^{n}_{i=1}{({y}_{i}{ - }\\beta_{0} { - }\\sum^{p}_{j=1}\\beta_{j}{x}_{ij})}^2$</span>"
   ]
  },
  {
   "cell_type": "markdown",
   "metadata": {},
   "source": [
    "## <span style= \"color:#275903 ; font-family:franklin gothic medium\"> The goal here for Ridge Regression is to help prevent overfitting by adding an additional penalty term."
   ]
  },
  {
   "cell_type": "markdown",
   "metadata": {},
   "source": [
    "# <span style= \"color:#275903 ; font-family:franklin gothic medium\"> RSS = $\\sum^{n}_{i=1}{({y}_{i}{ - }\\beta_{0} { - }\\sum^{p}_{j=1}\\beta_{j}{x}_{ij})}^2 { + }$</span><span style= \"color:red ; font-family:franklin gothic medium\">  $\\underline {\\lambda\\sum_{j=1}^{p}\\beta^{2}_{j}}$</span>"
   ]
  },
  {
   "cell_type": "markdown",
   "metadata": {},
   "source": [
    "### <span style= \"color:#275903 ; font-family:franklin gothic medium\"> Ridge Regression seesk to minimize this entire term RSS + Penalty <span style= \"color:red ; font-family:franklin gothic medium\">(Red colored part of the euqation)</span>"
   ]
  },
  {
   "cell_type": "markdown",
   "metadata": {},
   "source": [
    "### <span style= \"color:#275903 ; font-family:franklin gothic medium\"> Shrikage panelty based off the squared coefficient : <span style= \"color:red ; font-family:franklin gothic medium\">$\\beta^{2}_{j}$ </span>"
   ]
  },
  {
   "cell_type": "markdown",
   "metadata": {},
   "source": [
    "### <span style= \"color:#275903 ; font-family:franklin gothic medium\"> Shrikage panelty also has a tunable Lamba parameter !</span>\n",
    "### <span style= \"color:#275903 ; font-family:franklin gothic medium\"> Lambda determines how severe the penalty is</span>\n",
    "### <span style= \"color:#275903 ; font-family:franklin gothic medium\"> In theory it can be any value from 0 to positive infinity</span>\n",
    "### <span style= \"color:#275903 ; font-family:franklin gothic medium\"> If 0 is chosen for Lambda that means it simple no penalty</span>\n"
   ]
  },
  {
   "cell_type": "markdown",
   "metadata": {},
   "source": [
    "## <span style= \"color:#275903 ; font-family:franklin gothic medium\"> To Choose the best lamda value we use cross validation</span>"
   ]
  },
  {
   "cell_type": "markdown",
   "metadata": {},
   "source": [
    "# <span style= \"color:#275903 ; font-family:franklin gothic medium\"> L2 Regularization Ridge regression - Practical</span>"
   ]
  },
  {
   "cell_type": "markdown",
   "metadata": {},
   "source": [
    "## <span style= \"color:red ; font-family:franklin gothic medium\">Important Note! SKlearn refers to lambda as alpha within the class call! </span>\n",
    "## <span style= \"color:red ; font-family:franklin gothic medium\">For cross validation , SKlearn uses a \"scorer object\"</span>\n",
    "## <span style= \"color:red ; font-family:franklin gothic medium\">All scorer objets follow the convention than highter return values are better than lower return values</span>\n",
    "#### <span style= \"color:red ; font-family:franklin gothic medium\">For e.g. for clasiffication task higher accuracy score is good but for regression higher RMSE is not, SKlearn fixes the issue by making it negative RMSE which means higher negative RMSE is good</span>"
   ]
  },
  {
   "cell_type": "code",
   "execution_count": 253,
   "metadata": {},
   "outputs": [],
   "source": [
    "from sklearn.linear_model import Ridge"
   ]
  },
  {
   "cell_type": "code",
   "execution_count": 254,
   "metadata": {},
   "outputs": [],
   "source": [
    "ridge_model = Ridge(alpha = 10)"
   ]
  },
  {
   "cell_type": "code",
   "execution_count": 255,
   "metadata": {},
   "outputs": [
    {
     "data": {
      "text/plain": [
       "Ridge(alpha=10)"
      ]
     },
     "execution_count": 255,
     "metadata": {},
     "output_type": "execute_result"
    }
   ],
   "source": [
    "ridge_model.fit(X_train,y_train)"
   ]
  },
  {
   "cell_type": "code",
   "execution_count": 256,
   "metadata": {},
   "outputs": [],
   "source": [
    "test_predictions = ridge_model.predict(X_test)"
   ]
  },
  {
   "cell_type": "code",
   "execution_count": 257,
   "metadata": {},
   "outputs": [],
   "source": [
    "from sklearn.metrics import mean_absolute_error, mean_squared_error"
   ]
  },
  {
   "cell_type": "code",
   "execution_count": 258,
   "metadata": {},
   "outputs": [],
   "source": [
    "MAE = mean_absolute_error(y_test,test_predictions)"
   ]
  },
  {
   "cell_type": "code",
   "execution_count": 259,
   "metadata": {},
   "outputs": [
    {
     "data": {
      "text/plain": [
       "0.5774404204714175"
      ]
     },
     "execution_count": 259,
     "metadata": {},
     "output_type": "execute_result"
    }
   ],
   "source": [
    "MAE"
   ]
  },
  {
   "cell_type": "code",
   "execution_count": 260,
   "metadata": {},
   "outputs": [],
   "source": [
    "RMSE = np.sqrt(mean_squared_error(y_test,test_predictions))"
   ]
  },
  {
   "cell_type": "code",
   "execution_count": 261,
   "metadata": {},
   "outputs": [
    {
     "data": {
      "text/plain": [
       "0.8946386461319682"
      ]
     },
     "execution_count": 261,
     "metadata": {},
     "output_type": "execute_result"
    }
   ],
   "source": [
    "RMSE"
   ]
  },
  {
   "cell_type": "markdown",
   "metadata": {},
   "source": [
    "## <span style= \"color:#275903 ; font-family:franklin gothic medium\">To find best alpha value, we do cross validation</span>"
   ]
  },
  {
   "cell_type": "code",
   "execution_count": 262,
   "metadata": {},
   "outputs": [],
   "source": [
    "from sklearn.linear_model import RidgeCV"
   ]
  },
  {
   "cell_type": "code",
   "execution_count": 265,
   "metadata": {},
   "outputs": [],
   "source": [
    "ridge_cv_model = RidgeCV(alphas = (0.1,1.0,10.0))"
   ]
  },
  {
   "cell_type": "code",
   "execution_count": 266,
   "metadata": {},
   "outputs": [
    {
     "data": {
      "text/plain": [
       "RidgeCV(alphas=array([ 0.1,  1. , 10. ]))"
      ]
     },
     "execution_count": 266,
     "metadata": {},
     "output_type": "execute_result"
    }
   ],
   "source": [
    "ridge_cv_model.fit(X_train, y_train) # Here we will fir on both X-train and y_train becasue we want to create K-fold validation "
   ]
  },
  {
   "cell_type": "code",
   "execution_count": 268,
   "metadata": {},
   "outputs": [
    {
     "data": {
      "text/plain": [
       "0.1"
      ]
     },
     "execution_count": 268,
     "metadata": {},
     "output_type": "execute_result"
    }
   ],
   "source": [
    "ridge_cv_model.alpha_# to check which alpha has done well"
   ]
  },
  {
   "cell_type": "code",
   "execution_count": 269,
   "metadata": {},
   "outputs": [],
   "source": [
    "from sklearn.metrics import SCORERS # this provide scores for alphas "
   ]
  },
  {
   "cell_type": "code",
   "execution_count": 271,
   "metadata": {},
   "outputs": [
    {
     "data": {
      "text/plain": [
       "dict_keys(['explained_variance', 'r2', 'max_error', 'neg_median_absolute_error', 'neg_mean_absolute_error', 'neg_mean_squared_error', 'neg_mean_squared_log_error', 'neg_root_mean_squared_error', 'neg_mean_poisson_deviance', 'neg_mean_gamma_deviance', 'accuracy', 'roc_auc', 'roc_auc_ovr', 'roc_auc_ovo', 'roc_auc_ovr_weighted', 'roc_auc_ovo_weighted', 'balanced_accuracy', 'average_precision', 'neg_log_loss', 'neg_brier_score', 'adjusted_rand_score', 'homogeneity_score', 'completeness_score', 'v_measure_score', 'mutual_info_score', 'adjusted_mutual_info_score', 'normalized_mutual_info_score', 'fowlkes_mallows_score', 'precision', 'precision_macro', 'precision_micro', 'precision_samples', 'precision_weighted', 'recall', 'recall_macro', 'recall_micro', 'recall_samples', 'recall_weighted', 'f1', 'f1_macro', 'f1_micro', 'f1_samples', 'f1_weighted', 'jaccard', 'jaccard_macro', 'jaccard_micro', 'jaccard_samples', 'jaccard_weighted'])"
      ]
     },
     "execution_count": 271,
     "metadata": {},
     "output_type": "execute_result"
    }
   ],
   "source": [
    "SCORERS.keys()# with this we an see as it was saif higher is better, mean squared error is now negative squared error"
   ]
  },
  {
   "cell_type": "markdown",
   "metadata": {},
   "source": [
    "#### We will run it again with scoring metrics"
   ]
  },
  {
   "cell_type": "code",
   "execution_count": 272,
   "metadata": {},
   "outputs": [],
   "source": [
    "ridge_cv_model = RidgeCV(alphas = (0.1,1.0,10.0), scoring='neg_mean_absolute_error')"
   ]
  },
  {
   "cell_type": "code",
   "execution_count": 273,
   "metadata": {},
   "outputs": [
    {
     "data": {
      "text/plain": [
       "RidgeCV(alphas=array([ 0.1,  1. , 10. ]), scoring='neg_mean_absolute_error')"
      ]
     },
     "execution_count": 273,
     "metadata": {},
     "output_type": "execute_result"
    }
   ],
   "source": [
    "ridge_cv_model.fit(X_train, y_train)"
   ]
  },
  {
   "cell_type": "code",
   "execution_count": 274,
   "metadata": {},
   "outputs": [
    {
     "data": {
      "text/plain": [
       "0.1"
      ]
     },
     "execution_count": 274,
     "metadata": {},
     "output_type": "execute_result"
    }
   ],
   "source": [
    "ridge_cv_model.alpha_"
   ]
  },
  {
   "cell_type": "code",
   "execution_count": 275,
   "metadata": {},
   "outputs": [],
   "source": [
    "test_predictions2 = ridge_cv_model.predict(X_test)"
   ]
  },
  {
   "cell_type": "code",
   "execution_count": 276,
   "metadata": {},
   "outputs": [],
   "source": [
    "MAE = mean_absolute_error(y_test, test_predictions2)"
   ]
  },
  {
   "cell_type": "code",
   "execution_count": 282,
   "metadata": {},
   "outputs": [],
   "source": [
    "RSME = np.sqrt(mean_squared_error(y_test, test_predictions2))"
   ]
  },
  {
   "cell_type": "code",
   "execution_count": 283,
   "metadata": {},
   "outputs": [
    {
     "data": {
      "text/plain": [
       "0.42737748843450635"
      ]
     },
     "execution_count": 283,
     "metadata": {},
     "output_type": "execute_result"
    }
   ],
   "source": [
    "MAE"
   ]
  },
  {
   "cell_type": "code",
   "execution_count": 284,
   "metadata": {},
   "outputs": [
    {
     "data": {
      "text/plain": [
       "0.8946386461319682"
      ]
     },
     "execution_count": 284,
     "metadata": {},
     "output_type": "execute_result"
    }
   ],
   "source": [
    "RMSE"
   ]
  },
  {
   "cell_type": "code",
   "execution_count": 280,
   "metadata": {},
   "outputs": [
    {
     "data": {
      "text/plain": [
       "array([ 5.40769392,  0.5885865 ,  0.40390395, -6.18263924,  4.59607939,\n",
       "       -1.18789654, -1.15200458,  0.57837796, -0.1261586 ,  2.5569777 ,\n",
       "       -1.38900471,  0.86059434,  0.72219553, -0.26129256,  0.17870787,\n",
       "        0.44353612, -0.21362436, -0.04622473, -0.06441449])"
      ]
     },
     "execution_count": 280,
     "metadata": {},
     "output_type": "execute_result"
    }
   ],
   "source": [
    "ridge_cv_model.coef_"
   ]
  },
  {
   "cell_type": "code",
   "execution_count": 281,
   "metadata": {},
   "outputs": [
    {
     "data": {
      "text/plain": [
       "-0.3749223340292961"
      ]
     },
     "execution_count": 281,
     "metadata": {},
     "output_type": "execute_result"
    }
   ],
   "source": [
    "ridge_cv_model.best_score_"
   ]
  },
  {
   "cell_type": "markdown",
   "metadata": {},
   "source": [
    "# <span style= \"color:#035918 ; font-family:franklin gothic medium\">L1 Regularization- Lasso Regression - Therory and Implementation</span>"
   ]
  },
  {
   "cell_type": "markdown",
   "metadata": {},
   "source": [
    "## <span style= \"color:#035918 ; font-family:franklin gothic medium\"> L1 regularization adds a penalty equal to the absolute value of the magnitude of coeffiecients.</span>"
   ]
  },
  {
   "cell_type": "markdown",
   "metadata": {},
   "source": [
    "# <span style= \"color:#035918 ; font-family:franklin gothic medium\">RSS = $\\lambda\\sum_{j=1}^{p}{|\\beta_{j}|}$</span>"
   ]
  },
  {
   "cell_type": "markdown",
   "metadata": {},
   "source": [
    "## <span style= \"color:#035918 ; font-family:franklin gothic medium\">L1 regularization limits the size of the coefficients.</span>\n",
    "##  <span style= \"color:#035918 ; font-family:franklin gothic medium\">And can yield sparse models where some coefficients can become zero, which is not the case we saw with l2 regularization</span>\n",
    "##  <span style= \"color:#035918 ; font-family:franklin gothic medium\">LASSO can force some of the coefficient estimated to be exactly to zero when the tuning hyper parameter LAMBDA is sufficiently large</span>\n",
    "## <span style= \"color:#035918 ; font-family:franklin gothic medium\"> Similar to subset selection , the LASSO performs varibale selection</span>\n",
    "## <span style= \"color:#035918 ; font-family:franklin gothic medium\">Models generated from the LASSO are generally much easier to interpret."
   ]
  },
  {
   "cell_type": "markdown",
   "metadata": {},
   "source": [
    "### <span style= \"color:#035918 ; font-family:franklin gothic medium\">LassoCV unlike RidgeCV in sklearn operates on checking of alphas within a range, instead of providing the alphas directly</span>\n",
    "\n",
    "## <span style= \"color:#035918 ; font-family:franklin gothic medium\">Lets see LASSO practically now"
   ]
  },
  {
   "cell_type": "markdown",
   "metadata": {},
   "source": [
    "## <span style= \"color:#035918 ; font-family:franklin gothic medium\">LASSO full form is least absolute shrinkage and selection operator</span>"
   ]
  },
  {
   "cell_type": "code",
   "execution_count": 285,
   "metadata": {},
   "outputs": [],
   "source": [
    "from sklearn.linear_model import LassoCV"
   ]
  },
  {
   "cell_type": "code",
   "execution_count": 291,
   "metadata": {},
   "outputs": [],
   "source": [
    "Lasso_CV_model = LassoCV(eps = 0.1, n_alphas= 100, cv = 5)"
   ]
  },
  {
   "cell_type": "code",
   "execution_count": 292,
   "metadata": {},
   "outputs": [
    {
     "data": {
      "text/plain": [
       "LassoCV(cv=5, eps=0.1)"
      ]
     },
     "execution_count": 292,
     "metadata": {},
     "output_type": "execute_result"
    }
   ],
   "source": [
    "Lasso_CV_model.fit(X_train,y_train)"
   ]
  },
  {
   "cell_type": "code",
   "execution_count": 293,
   "metadata": {},
   "outputs": [
    {
     "data": {
      "text/plain": [
       "0.4943070909225828"
      ]
     },
     "execution_count": 293,
     "metadata": {},
     "output_type": "execute_result"
    }
   ],
   "source": [
    "Lasso_CV_model.alpha_"
   ]
  },
  {
   "cell_type": "code",
   "execution_count": 295,
   "metadata": {},
   "outputs": [],
   "source": [
    "test_predictions3 = Lasso_CV_model.predict(X_test)"
   ]
  },
  {
   "cell_type": "code",
   "execution_count": 297,
   "metadata": {},
   "outputs": [],
   "source": [
    "MAE = mean_absolute_error(y_test, test_predictions3)"
   ]
  },
  {
   "cell_type": "code",
   "execution_count": 304,
   "metadata": {},
   "outputs": [],
   "source": [
    "RMSE = np.sqrt(mean_squared_error(y_test, test_predictions3))"
   ]
  },
  {
   "cell_type": "code",
   "execution_count": 305,
   "metadata": {},
   "outputs": [
    {
     "data": {
      "text/plain": [
       "0.6541723161252856"
      ]
     },
     "execution_count": 305,
     "metadata": {},
     "output_type": "execute_result"
    }
   ],
   "source": [
    "MAE"
   ]
  },
  {
   "cell_type": "code",
   "execution_count": 306,
   "metadata": {},
   "outputs": [
    {
     "data": {
      "text/plain": [
       "1.1308001022762535"
      ]
     },
     "execution_count": 306,
     "metadata": {},
     "output_type": "execute_result"
    }
   ],
   "source": [
    "RMSE"
   ]
  },
  {
   "cell_type": "code",
   "execution_count": 302,
   "metadata": {},
   "outputs": [
    {
     "data": {
      "text/plain": [
       "array([1.002651  , 0.        , 0.        , 0.        , 3.79745279,\n",
       "       0.        , 0.        , 0.        , 0.        , 0.        ,\n",
       "       0.        , 0.        , 0.        , 0.        , 0.        ,\n",
       "       0.        , 0.        , 0.        , 0.        ])"
      ]
     },
     "execution_count": 302,
     "metadata": {},
     "output_type": "execute_result"
    }
   ],
   "source": [
    "Lasso_CV_model.coef_ # here is only considering two feature"
   ]
  },
  {
   "cell_type": "markdown",
   "metadata": {},
   "source": [
    "#### <span style= \"color:#035918 ; font-family:franklin gothic medium\">If we hypertune the parameter like eps and increase it's search wider then it will start considering more features, making model complex</span>"
   ]
  },
  {
   "cell_type": "markdown",
   "metadata": {},
   "source": [
    "# <span style= \"color:#035918 ; font-family:franklin gothic medium\">L1 and L2 combined Elastic net"
   ]
  },
  {
   "cell_type": "markdown",
   "metadata": {},
   "source": [
    "## <span style= \"color:#035918 ; font-family:franklin gothic medium\"> For the case of only two features"
   ]
  },
  {
   "cell_type": "markdown",
   "metadata": {},
   "source": [
    "# <span style= \"color:#035918 ; font-family:franklin gothic medium\"> $\\hat{y}{ = }\\beta_{1}{x}_{1}{ + }\\beta_{2}{x}_{2}$"
   ]
  },
  {
   "cell_type": "markdown",
   "metadata": {},
   "source": [
    "## <span style= \"color:#035918 ; font-family:franklin gothic medium\"> Lasso Regression Penalty:"
   ]
  },
  {
   "cell_type": "markdown",
   "metadata": {},
   "source": [
    "# <span style= \"color:#035918 ; font-family:franklin gothic medium\"> ${|}\\beta_{1}{|} { + }{|}\\beta_{2}{|}\\le{ s }$"
   ]
  },
  {
   "cell_type": "markdown",
   "metadata": {},
   "source": [
    "## <span style= \"color:#035918 ; font-family:franklin gothic medium\"> Ridge Regression Penalty:"
   ]
  },
  {
   "cell_type": "markdown",
   "metadata": {},
   "source": [
    "# <span style= \"color:#035918 ; font-family:franklin gothic medium\">$\\beta_{1}^{2} { + }\\beta_{1}^{2}\\le{ s}$"
   ]
  },
  {
   "cell_type": "markdown",
   "metadata": {},
   "source": [
    "## <span style= \"color:#035918 ; font-family:franklin gothic medium\">S is some value s"
   ]
  },
  {
   "cell_type": "markdown",
   "metadata": {},
   "source": [
    "## <span style= \"color:#035918 ; font-family:franklin gothic medium\">Elastic net seeks to improve both L1 and L2 Regularization by combining both of them :"
   ]
  },
  {
   "cell_type": "markdown",
   "metadata": {},
   "source": [
    "#### <span style= \"color:#035918 ; font-family:franklin gothic medium\"> Error = $\\sum_{i=1}^{n}{({y}_{i}{ -} \\beta_{0}{ - }\\sum^{p}_{j=1}\\beta_{j}{x}_{ij})}^{2}{ + }\\underline{\\lambda_{1}\\sum^{p}_{j=1}\\beta^{2}_{j}{ + }\\lambda_{2}\\sum^{p}_{j=1}{|\\beta_{j}|} }$"
   ]
  },
  {
   "cell_type": "markdown",
   "metadata": {},
   "source": [
    "###  <span style= \"color:#035918 ; font-family:franklin gothic medium\"> we have two distinct lambda value for each penalty $\\lambda_{1}$ for ridge and $\\lambda_{2}$ for lasso."
   ]
  },
  {
   "cell_type": "markdown",
   "metadata": {},
   "source": [
    "###  <span style= \"color:#035918 ; font-family:franklin gothic medium\">Alternatively we can express as ration between L1 and L2."
   ]
  },
  {
   "cell_type": "markdown",
   "metadata": {},
   "source": [
    "#### <span style= \"color:#035918 ; font-family:franklin gothic medium\">$\\frac{\\sum^{n}_{i=1}{({y}_{i}{ - }{x}^{j}_{i}\\hat\\beta)}^{2}}{{2}_{n}} { + } \\lambda{(\\frac{{1}{ - }\\alpha}{2}\\sum^{m}_{j=1}\\hat\\beta^{2}_{j}{+}\\alpha\\sum^{m}_{j=1}{|\\hat\\beta_{j}|}   )}$"
   ]
  },
  {
   "cell_type": "markdown",
   "metadata": {},
   "source": [
    "### <span style= \"color:#035918 ; font-family:franklin gothic medium\">Lets see practical for Elastic Net"
   ]
  },
  {
   "cell_type": "code",
   "execution_count": 307,
   "metadata": {},
   "outputs": [],
   "source": [
    "from sklearn.linear_model import ElasticNetCV"
   ]
  },
  {
   "cell_type": "code",
   "execution_count": 309,
   "metadata": {},
   "outputs": [],
   "source": [
    "elastic_model = ElasticNetCV(l1_ratio=[.1,.5,.7,.9,.95,.99,1], eps=0.001, n_alphas=100, max_iter=100000)"
   ]
  },
  {
   "cell_type": "code",
   "execution_count": 310,
   "metadata": {},
   "outputs": [
    {
     "data": {
      "text/plain": [
       "ElasticNetCV(l1_ratio=[0.1, 0.5, 0.7, 0.9, 0.95, 0.99, 1], max_iter=100000)"
      ]
     },
     "execution_count": 310,
     "metadata": {},
     "output_type": "execute_result"
    }
   ],
   "source": [
    "elastic_model.fit(X_train, y_train)"
   ]
  },
  {
   "cell_type": "code",
   "execution_count": 311,
   "metadata": {},
   "outputs": [
    {
     "data": {
      "text/plain": [
       "[0.1, 0.5, 0.7, 0.9, 0.95, 0.99, 1]"
      ]
     },
     "execution_count": 311,
     "metadata": {},
     "output_type": "execute_result"
    }
   ],
   "source": [
    "elastic_model.l1_ratio"
   ]
  },
  {
   "cell_type": "code",
   "execution_count": 312,
   "metadata": {},
   "outputs": [
    {
     "data": {
      "text/plain": [
       "1.0"
      ]
     },
     "execution_count": 312,
     "metadata": {},
     "output_type": "execute_result"
    }
   ],
   "source": [
    "elastic_model.l1_ratio_"
   ]
  },
  {
   "cell_type": "code",
   "execution_count": 313,
   "metadata": {},
   "outputs": [
    {
     "data": {
      "text/plain": [
       "0.004943070909225827"
      ]
     },
     "execution_count": 313,
     "metadata": {},
     "output_type": "execute_result"
    }
   ],
   "source": [
    "elastic_model.alpha_"
   ]
  },
  {
   "cell_type": "code",
   "execution_count": 314,
   "metadata": {},
   "outputs": [
    {
     "data": {
      "text/plain": [
       "0.4943070909225828"
      ]
     },
     "execution_count": 314,
     "metadata": {},
     "output_type": "execute_result"
    }
   ],
   "source": [
    "Lasso_CV_model.alpha_"
   ]
  },
  {
   "cell_type": "code",
   "execution_count": 315,
   "metadata": {},
   "outputs": [],
   "source": [
    "test_predictions_elastic = elastic_model.predict(X_test)"
   ]
  },
  {
   "cell_type": "code",
   "execution_count": 316,
   "metadata": {},
   "outputs": [],
   "source": [
    "MAE = mean_absolute_error(y_test, test_predictions_elastic)"
   ]
  },
  {
   "cell_type": "code",
   "execution_count": 317,
   "metadata": {},
   "outputs": [
    {
     "data": {
      "text/plain": [
       "0.4335034618590069"
      ]
     },
     "execution_count": 317,
     "metadata": {},
     "output_type": "execute_result"
    }
   ],
   "source": [
    "MAE"
   ]
  },
  {
   "cell_type": "code",
   "execution_count": null,
   "metadata": {},
   "outputs": [],
   "source": []
  }
 ],
 "metadata": {
  "kernelspec": {
   "display_name": "Python 3",
   "language": "python",
   "name": "python3"
  },
  "language_info": {
   "codemirror_mode": {
    "name": "ipython",
    "version": 3
   },
   "file_extension": ".py",
   "mimetype": "text/x-python",
   "name": "python",
   "nbconvert_exporter": "python",
   "pygments_lexer": "ipython3",
   "version": "3.8.5"
  }
 },
 "nbformat": 4,
 "nbformat_minor": 4
}
