{
 "cells": [
  {
   "cell_type": "markdown",
   "metadata": {},
   "source": [
    "# Matplot Lib Visualization"
   ]
  },
  {
   "cell_type": "markdown",
   "metadata": {},
   "source": [
    "Topics Covered\n",
    "1: Matplotlib Basiscs and Functions\n",
    "2: Matplotlib Figures\n",
    "3: Matplotlib Subplots\n",
    "4: Matplotlib Styling"
   ]
  },
  {
   "cell_type": "code",
   "execution_count": 1,
   "metadata": {},
   "outputs": [],
   "source": [
    "#function plots are line plt.plot(x,y)"
   ]
  },
  {
   "cell_type": "code",
   "execution_count": 2,
   "metadata": {},
   "outputs": [],
   "source": [
    "import matplotlib.pyplot as plt"
   ]
  },
  {
   "cell_type": "code",
   "execution_count": 3,
   "metadata": {},
   "outputs": [],
   "source": [
    "#with pyscript we need to use plt.show()"
   ]
  },
  {
   "cell_type": "code",
   "execution_count": 4,
   "metadata": {},
   "outputs": [],
   "source": [
    "import numpy as np"
   ]
  },
  {
   "cell_type": "code",
   "execution_count": 5,
   "metadata": {},
   "outputs": [],
   "source": [
    "x = np.arange(0,10)"
   ]
  },
  {
   "cell_type": "code",
   "execution_count": 6,
   "metadata": {},
   "outputs": [],
   "source": [
    "y = 2*x"
   ]
  },
  {
   "cell_type": "code",
   "execution_count": 7,
   "metadata": {},
   "outputs": [
    {
     "data": {
      "text/plain": [
       "array([0, 1, 2, 3, 4, 5, 6, 7, 8, 9])"
      ]
     },
     "execution_count": 7,
     "metadata": {},
     "output_type": "execute_result"
    }
   ],
   "source": [
    "x"
   ]
  },
  {
   "cell_type": "code",
   "execution_count": 8,
   "metadata": {},
   "outputs": [
    {
     "data": {
      "text/plain": [
       "array([ 0,  2,  4,  6,  8, 10, 12, 14, 16, 18])"
      ]
     },
     "execution_count": 8,
     "metadata": {},
     "output_type": "execute_result"
    }
   ],
   "source": [
    "y"
   ]
  },
  {
   "cell_type": "code",
   "execution_count": 9,
   "metadata": {},
   "outputs": [
    {
     "data": {
      "image/png": "[encoded data removed]",
      "text/plain": [
       "<Figure size 432x288 with 1 Axes>"
      ]
     },
     "metadata": {
      "needs_background": "light"
     },
     "output_type": "display_data"
    }
   ],
   "source": [
    "plt.plot(x,y)\n",
    "plt.xlabel('X Axis')# xlable\n",
    "plt.ylabel(\"Y Axis\")#ylable\n",
    "# We can add limits to the x and y axis as well\n",
    "plt.xlim(0,6)\n",
    "plt.ylim(0,15)\n",
    "plt.title(\"String Title\")\n",
    "plt.savefig(r\"\\\\lm\\central\\GlobalSpecialty\\NYC\\NewYork\\Program Operations\\Reconciliations\\ProgOpsTeam\\Digamber\\firstplt.png\")"
   ]
  },
  {
   "cell_type": "code",
   "execution_count": 10,
   "metadata": {},
   "outputs": [],
   "source": [
    "#this was functional programing of matplotlib"
   ]
  },
  {
   "cell_type": "markdown",
   "metadata": {},
   "source": [
    "\n",
    "# Matplotlib Figure Object\n"
   ]
  },
  {
   "cell_type": "markdown",
   "metadata": {},
   "source": [
    "## <span style=\"color:blue\" > Understanding the figure Object</span>."
   ]
  },
  {
   "cell_type": "code",
   "execution_count": 11,
   "metadata": {},
   "outputs": [],
   "source": [
    "# the more comprehensicve Matplotlib OOP API makes used of a figure object"
   ]
  },
  {
   "cell_type": "code",
   "execution_count": 12,
   "metadata": {},
   "outputs": [
    {
     "data": {
      "text/plain": [
       "<Figure size 432x288 with 0 Axes>"
      ]
     },
     "execution_count": 12,
     "metadata": {},
     "output_type": "execute_result"
    },
    {
     "data": {
      "text/plain": [
       "<Figure size 432x288 with 0 Axes>"
      ]
     },
     "metadata": {},
     "output_type": "display_data"
    }
   ],
   "source": [
    "plt.figure()# created a black canvas of figure size 432X288. a figure object gets creates"
   ]
  },
  {
   "cell_type": "code",
   "execution_count": 13,
   "metadata": {},
   "outputs": [
    {
     "data": {
      "text/plain": [
       "<Figure size 720x720 with 0 Axes>"
      ]
     },
     "execution_count": 13,
     "metadata": {},
     "output_type": "execute_result"
    },
    {
     "data": {
      "text/plain": [
       "<Figure size 720x720 with 0 Axes>"
      ]
     },
     "metadata": {},
     "output_type": "display_data"
    }
   ],
   "source": [
    "plt.figure(figsize = (10,10) )# to create custom size canvas of 10 X 10 inch"
   ]
  },
  {
   "cell_type": "code",
   "execution_count": 14,
   "metadata": {},
   "outputs": [
    {
     "data": {
      "text/plain": [
       "[<matplotlib.lines.Line2D at 0x220d33172b0>]"
      ]
     },
     "execution_count": 14,
     "metadata": {},
     "output_type": "execute_result"
    },
    {
     "data": {
      "image/png": "[encoded data removed]",
      "text/plain": [
       "<Figure size 432x288 with 1 Axes>"
      ]
     },
     "metadata": {
      "needs_background": "light"
     },
     "output_type": "display_data"
    }
   ],
   "source": [
    "fig = plt.figure() # create a figure\n",
    "axes = fig.add_axes([0,0,1,1])# adjust teh parameter\n",
    "axes.plot(x,y)# plot varibales"
   ]
  },
  {
   "cell_type": "code",
   "execution_count": 15,
   "metadata": {},
   "outputs": [],
   "source": [
    "# This methodolygy allows us to add in multiplle axes as well as move and resize the axes"
   ]
  },
  {
   "cell_type": "code",
   "execution_count": 16,
   "metadata": {},
   "outputs": [],
   "source": [
    "a = np.linspace(0,10,11)"
   ]
  },
  {
   "cell_type": "code",
   "execution_count": 17,
   "metadata": {},
   "outputs": [],
   "source": [
    "b = a**4"
   ]
  },
  {
   "cell_type": "code",
   "execution_count": 18,
   "metadata": {},
   "outputs": [
    {
     "data": {
      "text/plain": [
       "array([0.000e+00, 1.000e+00, 1.600e+01, 8.100e+01, 2.560e+02, 6.250e+02,\n",
       "       1.296e+03, 2.401e+03, 4.096e+03, 6.561e+03, 1.000e+04])"
      ]
     },
     "execution_count": 18,
     "metadata": {},
     "output_type": "execute_result"
    }
   ],
   "source": [
    "b"
   ]
  },
  {
   "cell_type": "code",
   "execution_count": 19,
   "metadata": {},
   "outputs": [],
   "source": [
    "x = np.arange(0,10)"
   ]
  },
  {
   "cell_type": "code",
   "execution_count": 20,
   "metadata": {},
   "outputs": [],
   "source": [
    "y = 2*x"
   ]
  },
  {
   "cell_type": "code",
   "execution_count": 21,
   "metadata": {},
   "outputs": [
    {
     "data": {
      "image/png": "[encoded data removed]",
      "text/plain": [
       "<Figure size 432x288 with 1 Axes>"
      ]
     },
     "metadata": {
      "needs_background": "light"
     },
     "output_type": "display_data"
    }
   ],
   "source": [
    "fig = plt.figure() # main property of plt.figure or commonly used is figsize and DPI\n",
    "axes = fig.add_axes([0,0,1,1]) # adding set of axes\n",
    "axes.plot(x,y); # [<matplotlib.lines.Line2D at 0x186a1b28850>] this message shows the memory space where this figure object creared\n",
    "                # t get rid of the same we can do either plt.show() or use semicolon ;\n",
    "                # all code should be in the same sell if we are useing juppyter\n"
   ]
  },
  {
   "cell_type": "code",
   "execution_count": 22,
   "metadata": {},
   "outputs": [
    {
     "data": {
      "image/png": "[encoded data removed]",
      "text/plain": [
       "<Figure size 432x288 with 1 Axes>"
      ]
     },
     "metadata": {
      "needs_background": "light"
     },
     "output_type": "display_data"
    }
   ],
   "source": [
    "fig = plt.figure() \n",
    "axes = fig.add_axes([0,0,1,1])\n",
    "axes.plot(a,b);"
   ]
  },
  {
   "cell_type": "markdown",
   "metadata": {},
   "source": [
    "## <span style = \"color:green\"> Adding Multiple Set of Axis to the Same Figure</span>."
   ]
  },
  {
   "cell_type": "code",
   "execution_count": 23,
   "metadata": {},
   "outputs": [
    {
     "data": {
      "text/plain": [
       "matplotlib.figure.Figure"
      ]
     },
     "execution_count": 23,
     "metadata": {},
     "output_type": "execute_result"
    }
   ],
   "source": [
    "type(fig)"
   ]
  },
  {
   "cell_type": "code",
   "execution_count": 24,
   "metadata": {},
   "outputs": [
    {
     "data": {
      "image/png": "[encoded data removed]",
      "text/plain": [
       "<Figure size 432x288 with 2 Axes>"
      ]
     },
     "metadata": {
      "needs_background": "light"
     },
     "output_type": "display_data"
    }
   ],
   "source": [
    "fig = plt.figure() \n",
    "#large Axes\n",
    "axes1 = fig.add_axes([0,0,1,1]) \n",
    "axes1.plot(a,b)\n",
    "\n",
    "# following parameters can be used to add the title & label for each individual axis\n",
    "axes1.set_xlim(0,8)\n",
    "axes1.set_ylim(0,8000)\n",
    "axes1.set_xlabel(\"A\")\n",
    "axes1.set_ylabel(\"B\")\n",
    "axes1.set_title(\"Power of 4\")\n",
    "\n",
    "#small Axes\n",
    "axes2 = fig.add_axes([1,1,0.25,0.25]) # (0.2,0.5) are x and Y cordinated desides where the subplot to placed and \n",
    "                                        #(0.25,0.25), are do decide how big the fig should be the width and height\n",
    "    \n",
    "\n",
    "axes2.plot(x,y)\n",
    "axes2.set_xlim(1,2)\n",
    "axes2.set_ylim(0,50)\n",
    "axes2.set_xlabel(\"A\")\n",
    "axes2.set_ylabel(\"B\")\n",
    "axes2.set_title(\"Zoomed in \")\n",
    "\n",
    "plt.show()"
   ]
  },
  {
   "cell_type": "markdown",
   "metadata": {},
   "source": [
    "# <span style = \"color:green;font-family: cursive\"> Figure paramenters and saving figure</span>."
   ]
  },
  {
   "cell_type": "code",
   "execution_count": 25,
   "metadata": {
    "scrolled": true
   },
   "outputs": [
    {
     "data": {
      "image/png": "[encoded data removed]",
      "text/plain": [
       "<Figure size 200x200 with 1 Axes>"
      ]
     },
     "metadata": {
      "needs_background": "light"
     },
     "output_type": "display_data"
    }
   ],
   "source": [
    "fig = plt.figure(figsize=(2,2),dpi = 100) # dpi is make the figure onre clear\n",
    "                            # figure size to to cutomises the size and iput is in inches\n",
    "axes1  = fig.add_axes([0,0,1,1])\n",
    "\n",
    "axes1.plot(a,b)\n",
    "\n",
    "# eporting the figure\n",
    "\n",
    "fig.savefig(\"new_fig.png\", bbox_inches ='tight')\n",
    "# bbox_inches='tight' parameter ius used to save the axis values as else fig will save without axis\n",
    "\n",
    "plt.show()\n"
   ]
  },
  {
   "cell_type": "markdown",
   "metadata": {},
   "source": [
    "# <Span style = \"color:green ; font-family: times new roman\">Matplotlib Subplot Functionality</span>."
   ]
  },
  {
   "cell_type": "markdown",
   "metadata": {},
   "source": [
    "### <Span style = \"color:green ; font-family: times new roman\">Arrange set of axes to line up multiple plots side by side is in a preconfigured function of Matplotlib with plt.subplots()</span>."
   ]
  },
  {
   "cell_type": "markdown",
   "metadata": {},
   "source": [
    "#### fig, axes = plt.subplots(nrows =1, ncols =2)"
   ]
  },
  {
   "cell_type": "markdown",
   "metadata": {},
   "source": [
    "##### It create the two figures on 1 row"
   ]
  },
  {
   "cell_type": "code",
   "execution_count": 26,
   "metadata": {},
   "outputs": [],
   "source": [
    "#plt.subplots() retunrs a tuple which by comon convention labeld (fig,axis)\n",
    "# Fig is the entire figure canvas \n",
    "# axes is numpy array holdong each of the axes according to position in the overall cavas"
   ]
  },
  {
   "cell_type": "code",
   "execution_count": 27,
   "metadata": {},
   "outputs": [
    {
     "data": {
      "text/plain": [
       "array([ 0.,  1.,  2.,  3.,  4.,  5.,  6.,  7.,  8.,  9., 10.])"
      ]
     },
     "execution_count": 27,
     "metadata": {},
     "output_type": "execute_result"
    }
   ],
   "source": [
    "a"
   ]
  },
  {
   "cell_type": "code",
   "execution_count": 28,
   "metadata": {},
   "outputs": [
    {
     "data": {
      "text/plain": [
       "array([0.000e+00, 1.000e+00, 1.600e+01, 8.100e+01, 2.560e+02, 6.250e+02,\n",
       "       1.296e+03, 2.401e+03, 4.096e+03, 6.561e+03, 1.000e+04])"
      ]
     },
     "execution_count": 28,
     "metadata": {},
     "output_type": "execute_result"
    }
   ],
   "source": [
    "b"
   ]
  },
  {
   "cell_type": "code",
   "execution_count": 29,
   "metadata": {},
   "outputs": [
    {
     "data": {
      "text/plain": [
       "array([0, 1, 2, 3, 4, 5, 6, 7, 8, 9])"
      ]
     },
     "execution_count": 29,
     "metadata": {},
     "output_type": "execute_result"
    }
   ],
   "source": [
    "x"
   ]
  },
  {
   "cell_type": "code",
   "execution_count": 30,
   "metadata": {},
   "outputs": [
    {
     "data": {
      "text/plain": [
       "array([ 0,  2,  4,  6,  8, 10, 12, 14, 16, 18])"
      ]
     },
     "execution_count": 30,
     "metadata": {},
     "output_type": "execute_result"
    }
   ],
   "source": [
    "y"
   ]
  },
  {
   "cell_type": "code",
   "execution_count": 31,
   "metadata": {},
   "outputs": [],
   "source": [
    "#fig,axes = plt.subplots(nrows= 1, ncols=2)\n",
    "\n"
   ]
  },
  {
   "cell_type": "code",
   "execution_count": 32,
   "metadata": {},
   "outputs": [
    {
     "data": {
      "text/plain": [
       "matplotlib.axes._axes.Axes"
      ]
     },
     "execution_count": 32,
     "metadata": {},
     "output_type": "execute_result"
    }
   ],
   "source": [
    "type(axes)"
   ]
  },
  {
   "cell_type": "code",
   "execution_count": 33,
   "metadata": {},
   "outputs": [
    {
     "ename": "AttributeError",
     "evalue": "'Axes' object has no attribute 'shape'",
     "output_type": "error",
     "traceback": [
      "\u001b[1;31m---------------------------------------------------------------------------\u001b[0m",
      "\u001b[1;31mAttributeError\u001b[0m                            Traceback (most recent call last)",
      "\u001b[1;32m~\\AppData\\Local\\Temp\\ipykernel_23940\\933769828.py\u001b[0m in \u001b[0;36m<cell line: 1>\u001b[1;34m()\u001b[0m\n\u001b[1;32m----> 1\u001b[1;33m \u001b[0maxes\u001b[0m\u001b[1;33m.\u001b[0m\u001b[0mshape\u001b[0m\u001b[1;33m\u001b[0m\u001b[1;33m\u001b[0m\u001b[0m\n\u001b[0m",
      "\u001b[1;31mAttributeError\u001b[0m: 'Axes' object has no attribute 'shape'"
     ]
    }
   ],
   "source": [
    "axes.shape"
   ]
  },
  {
   "cell_type": "code",
   "execution_count": null,
   "metadata": {},
   "outputs": [],
   "source": [
    "fig,axesn = plt.subplots(nrows= 1, ncols=2)\n",
    "\n",
    "axesn[0].plot(x,y) # 0 to plot 1 \n",
    "axesn[1].plot(a,b)\n"
   ]
  },
  {
   "cell_type": "code",
   "execution_count": null,
   "metadata": {
    "scrolled": true
   },
   "outputs": [],
   "source": [
    "# for a situation where nrows are more them\n",
    "\n",
    "fig1, axess = plt.subplots(nrows = 2, ncols = 2)\n",
    "# it creates the four plots\n",
    "# not axes becomes 2x2 ndarray like following\n",
    "#array([[<AxesSubplot:>, <AxesSubplot:>],\n",
    "       #[<AxesSubplot:>, <AxesSubplot:>]], dtype=object)\n",
    "# To access the first plot we then need to do following\n",
    "axess[0][0].plot(x,y)\n",
    "#we can set the title and x and y labels in the same as we did before\n",
    "axess[0][0].set_title('X label')\n",
    "\n",
    "axess[0][1].plot(a,b)\n",
    "\n",
    "axess[1][1].plot(x,y)\n",
    "\n",
    "axess[1][0].plot(a,b)\n",
    "\n",
    "\n",
    "# to create spacing between teh figures\n",
    "# We can use fig.tight_layout()\n",
    "# ot the following\n",
    "# it has two main parameters wspace=None is for width space,hspace=None is for height space,\n",
    "fig1.subplots_adjust(wspace =.5, hspace =.5)\n",
    "\n",
    "# for complet figure lever title\n",
    "fig1.suptitle(\"Figure Level\", fontsize = 16)\n",
    "#Exporting the sublots\n",
    "fig1.savefig(\"new_subplot.png\", bbox_inches = 'tight')"
   ]
  },
  {
   "cell_type": "markdown",
   "metadata": {},
   "source": [
    "***"
   ]
  },
  {
   "cell_type": "markdown",
   "metadata": {},
   "source": [
    "# <span style = \"color:red ; font-family: times new roman\">Matplotlib Styling</span>.\n",
    "## <span style = \"color:red ; font-family: times new roman\">Legends</span>."
   ]
  },
  {
   "cell_type": "code",
   "execution_count": null,
   "metadata": {},
   "outputs": [],
   "source": [
    "x1 = np.linspace(0,11,10)"
   ]
  },
  {
   "cell_type": "code",
   "execution_count": null,
   "metadata": {},
   "outputs": [],
   "source": [
    "fig2 = plt.figure()\n",
    "ax = fig2.add_axes([0,0,1,1])\n",
    "ax.plot(x1,x1, label = \"X Vs X\")# add labels fist for the plot\n",
    "ax.plot(x1,x1**2 , label = \"X Vs X **2\")\n",
    "ax.legend(loc = (1.1, 0.5)) # this comand will print the legend on the graph paramentes of loc can be adjusted where to set them\n",
    "\n"
   ]
  },
  {
   "cell_type": "markdown",
   "metadata": {},
   "source": [
    "## <span style = \"color:red ; font-family: times new roman\">Visual Styling</span>."
   ]
  },
  {
   "cell_type": "code",
   "execution_count": null,
   "metadata": {},
   "outputs": [],
   "source": [
    "fig3 = plt.figure()\n",
    "\n",
    "ax = fig3.add_axes([0,0,0.5,0.5])\n",
    "\n",
    "ax.plot(x1,x1, color = '#f20ff2', label = \"X Vs X\")# to change the color or we can use RGB Hex code or write the color name like purple\n",
    "\n",
    "ax.plot(x1 , x1+1, color = 'yellow', label = \"X Vs X+1\")\n",
    "\n",
    "ax.legend(loc = (1.1, 0.5))"
   ]
  },
  {
   "cell_type": "markdown",
   "metadata": {},
   "source": [
    "## <span style = \"color:red ; font-family: times new roman\">Line and Marker Style</span>."
   ]
  },
  {
   "cell_type": "code",
   "execution_count": null,
   "metadata": {},
   "outputs": [],
   "source": [
    "fig4 = plt.figure()\n",
    "\n",
    "ax1 = fig4.add_axes([0,0,0.5,0.5])\n",
    "\n",
    "# we can do different line styles as well like '--','-','-.', 'steps'\n",
    "\n",
    "ax1.plot(x1,x1, color = '#f20ff2', lw = 3, ls = '--' )# lw to change the line width 1 is default or linewidth,\n",
    "\n",
    "ax1.plot(x1 , x1+1, color = 'yellow',linewidth  =3, linestyle = ':')# ls for line style to change of linestyle \n",
    "\n",
    "# to create customer line syle\n",
    "# lines = ax1.plot(x, x+1, color = \"purple\", linewidth = 5)\n",
    "#lines[0].set_dates([5,2,10,2]) which meand [5 = line, 2 = empty space, 10 = another dashes, 2 = empty spaces repeated]\n"
   ]
  },
  {
   "cell_type": "code",
   "execution_count": null,
   "metadata": {},
   "outputs": [],
   "source": [
    "# markers\n",
    "fig5 = plt.figure()\n",
    "\n",
    "ax2 = fig5.add_axes([0,0,0.5,0.5])\n",
    "\n",
    "\n",
    "\n",
    "ax2.plot(x1,x1+1, color = '#f20ff2', lw = 1, marker = 'o', ls = '--', ms = 9)# this will create markers on datapoints\n",
    "\n",
    "# type of markers can be find on mtplotlib.marker documentation"
   ]
  },
  {
   "cell_type": "markdown",
   "metadata": {},
   "source": [
    "******"
   ]
  },
  {
   "cell_type": "markdown",
   "metadata": {},
   "source": [
    "# <span style = \"color:#07ed13 ; font-family:times new roman\">TWIN Axis</span>."
   ]
  },
  {
   "cell_type": "code",
   "execution_count": 38,
   "metadata": {},
   "outputs": [
    {
     "data": {
      "image/png": "[encoded data removed]",
      "text/plain": [
       "<Figure size 432x288 with 2 Axes>"
      ]
     },
     "metadata": {
      "needs_background": "light"
     },
     "output_type": "display_data"
    }
   ],
   "source": [
    "fig, ax1 = plt.subplots()\n",
    "ax1.plot(x,x**2, lw =2, color = \"blue\")\n",
    "ax1.set_ylabel(r\"area$(m^2)$\", fontsize = 18, color = \"blue\")\n",
    "for label in ax1.get_yticklabels():\n",
    "    label.set_color(\"blue\")\n",
    "ax2 = ax1.twinx()\n",
    "ax2.plot(x,x**3, lw=2,color=\"red\")\n",
    "ax2.set_ylabel(r\"volume $(m^3)$\",fontsize = 18, color = \"red\")\n",
    "for label in ax2.get_yticklabels():\n",
    "    label.set_color(\"red\")"
   ]
  },
  {
   "cell_type": "code",
   "execution_count": null,
   "metadata": {},
   "outputs": [],
   "source": []
  },
  {
   "cell_type": "code",
   "execution_count": null,
   "metadata": {},
   "outputs": [],
   "source": [
    "# further reading can be done from below link\n",
    "\"https://matplotlib.org/2.0.2/gallery.html\""
   ]
  }
 ],
 "metadata": {
  "kernelspec": {
   "display_name": "Python 3",
   "language": "python",
   "name": "python3"
  },
  "language_info": {
   "codemirror_mode": {
    "name": "ipython",
    "version": 3
   },
   "file_extension": ".py",
   "mimetype": "text/x-python",
   "name": "python",
   "nbconvert_exporter": "python",
   "pygments_lexer": "ipython3",
   "version": "3.8.5"
  }
 },
 "nbformat": 4,
 "nbformat_minor": 5
}
