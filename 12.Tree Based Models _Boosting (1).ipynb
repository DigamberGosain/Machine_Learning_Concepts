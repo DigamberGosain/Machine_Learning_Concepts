{
 "cells": [
  {
   "cell_type": "markdown",
   "metadata": {},
   "source": [
    "# <span style =\"color:#0596b0;font-family:helvetica\"> Tree Based Models - Boosting"
   ]
  },
  {
   "cell_type": "markdown",
   "metadata": {},
   "source": [
    "## <span style =\"color:#0596b0;font-family:helvetica\"> We have so far learned about Decision Trees and have seeked to improve them with Random Forest Models</span>\n",
    "## <span style =\"color:#0596b0;font-family:helvetica\"> There is another methodology of seeking to improve on the single deciosn tree, know as boosting"
   ]
  },
  {
   "cell_type": "markdown",
   "metadata": {},
   "source": [
    "## <span style =\"color:#0596b0;font-family:helvetica\"> Topics Covered\n",
    "* Boosting and Meta-Learing\n",
    "* AdaBoost(Adaptive boosting) Theory\n",
    "* Example of ADABoost\n",
    "* Gradient Boosting Theory\n",
    "* Examples of Gradient Boosting"
   ]
  },
  {
   "cell_type": "markdown",
   "metadata": {},
   "source": [
    "# <span style =\"color:#0596b0;font-family:helvetica\"> Boosting"
   ]
  },
  {
   "cell_type": "markdown",
   "metadata": {},
   "source": [
    "### <span style =\"color:#0596b0;font-family:helvetica\"> The concept of boosing is not actually a machine learning algorith, it is a methodology applied to existing machine learning algorithm and it is most commonly applied to the Decision Tree "
   ]
  },
  {
   "cell_type": "markdown",
   "metadata": {},
   "source": [
    "## <span style =\"color:#0596b0;font-family:helvetica\"> Main formula for boosting"
   ]
  },
  {
   "cell_type": "markdown",
   "metadata": {},
   "source": [
    "$\\large{F}_{T}{(}{x}{)}{ = }\\sum_{t = 1}^{T}{f}_{t}{(}{x}{)}$"
   ]
  },
  {
   "cell_type": "markdown",
   "metadata": {},
   "source": [
    "## <span style =\"color:#0596b0;font-family:helvetica\"> The above function says your overall boosted meta learning model is eqaul to the sum of T number of models.When we talk about boosting, we are talking about process of aggregating bunch of weak learners into a overall strong ensemble model</span>\n",
    "$\\large{f}_{t}{(}{x}{)}\\rightarrow$ $\\large{f}_{t}{(}{x}{)}{ = }\\alpha_{t}{h}{(}{x}{)}$\n",
    "### <span style =\"color:#0596b0;font-family:helvetica\">We can think of lower case ${f}_{t}{(X)}$ as sum cofficient times a machines learning model."
   ]
  },
  {
   "cell_type": "markdown",
   "metadata": {},
   "source": [
    "## <span style =\"color:#0596b0;font-family:helvetica\"> Which implies that a combination of estimators with an applied coefficient could act as an effective ensemble estimator"
   ]
  },
  {
   "cell_type": "markdown",
   "metadata": {},
   "source": [
    "### <span style =\"color:#0596b0;font-family:helvetica\"> Note h(x) can in theory be any machine learning algorithm (estimator/learner), not just limited to decision tree"
   ]
  },
  {
   "cell_type": "markdown",
   "metadata": {},
   "source": [
    "### <span style =\"color:#0596b0;font-family:helvetica\"> For decision tree models, we can use simple trees in place of h(x) and combine them with the coefficients on each model."
   ]
  },
  {
   "cell_type": "markdown",
   "metadata": {},
   "source": [
    "# <span style =\"color:#0596b0;font-family:helvetica\"> ADABoost - Adaptive Boosting"
   ]
  },
  {
   "cell_type": "markdown",
   "metadata": {},
   "source": [
    "### <span style =\"color:#0596b0;font-family:helvetica\"> AdaBoost works by using an ensemble of weak learners and then combine then through the use of weighted sum.</span>\n",
    "### <span style =\"color:#0596b0;font-family:helvetica\"> Adaboost adapts by using previously created weak learners in order to adjust misclassified instances for the next created weak learner, which means for decision trees it created trees in a sequence, it creates one \"learner\" and \"store\" the information and then create another and thats the reason it is know as adaptive boosting"
   ]
  },
  {
   "cell_type": "markdown",
   "metadata": {},
   "source": [
    "# <span style =\"color:#0596b0;font-family:helvetica\">Now question comes what is a weak learner?</span>\n",
    "    \n",
    "## <span style =\"color:#0596b0;font-family:helvetica\">A weak model is a model that is too simple to perform well on its own. We can think in term of decision tree. The weakest decision tree possible would be a stump. means one node and two leaves!"
   ]
  },
  {
   "cell_type": "markdown",
   "metadata": {},
   "source": [
    "<img src=\"data:image/png;base64,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\" />"
   ]
  },
  {
   "cell_type": "markdown",
   "metadata": {},
   "source": [
    "## <span style =\"color:#0596b0;font-family:helvetica\"> Unlike a single decision tree which fits to all the data at once(also reffered as fitting the data hard), AdaBoost aggreagtes multiple weak learners, allowing the overall ensemble model to learn slowly from the features"
   ]
  },
  {
   "cell_type": "markdown",
   "metadata": {},
   "source": [
    "## <span style =\"color:#0596b0;font-family:helvetica\"> AdaBoost Process"
   ]
  },
  {
   "cell_type": "markdown",
   "metadata": {},
   "source": [
    "$\\large{F}_{T}{(}{x}{)}{ = }\\sum_{t = 1}^{T}{f}_{t}{(}{x}{)}$"
   ]
  },
  {
   "cell_type": "markdown",
   "metadata": {},
   "source": [
    "### <span style =\"color:#0596b0;font-family:helvetica\"> As we saw before this formula, where captial T is actual number of weak learners we are going to make. So before we start the boosing process we decide for Capital T or we can do grid search.think it as how many trees you want to make as in random forest</span>\n",
    "### <span style =\"color:#0596b0;font-family:helvetica\">Then each $ {f}_{t}$  is a weak learner that takes an object ${(}{x}{)}$ as input and return a prediction what it believe could be.</span>\n",
    "\n",
    "$\\large{f}_{t}{(}{x}{)}\\rightarrow$ $\\large{f}_{t}{(}{x}{)}{ = }\\alpha_{t}{h}{(}{x}{)}$\n",
    "\n",
    "### <span style =\"color:#0596b0;font-family:helvetica\"> So each weak learner i.e. ${f}_{t}$ will produce an output hyposthesis i.e. ${h}{(x)}$, We can think of this hypothesis, as just what the stump itself (that weak learner) hypothesis the output for the classes should be</span>\n",
    "### <span style =\"color:#0596b0;font-family:helvetica\">Then we have this $\\alpha_{t}$ parameter ${t}$ means of that weak leanrer.so alpha here is wieghting factor to which output hypothesis will be multuplied.So if any point stump is good learner alpha parameter will be high in case if weak learner is not good alpha parameter will be low\n",
    "    "
   ]
  },
  {
   "cell_type": "markdown",
   "metadata": {},
   "source": [
    "$\\large {E}_{t} { = }\\sum{E}{[}{F}_{t-1}{(}{{x}_{i}}{)}{ + }\\alpha_{t}{h}{(}{{x}_{i}}{)}{]}$"
   ]
  },
  {
   "cell_type": "markdown",
   "metadata": {},
   "source": [
    "### <span style =\"color:#0596b0;font-family:helvetica\"> We end up deciding the alpha parameter (coefficient), so that the sum of the training error i.e. E of t of the resulting T staged boost classifier is minimized."
   ]
  },
  {
   "cell_type": "markdown",
   "metadata": {},
   "source": [
    "## <span style =\"color:#0596b0;font-family:helvetica\"> These are the main formula behind adaptive boosting process"
   ]
  },
  {
   "cell_type": "markdown",
   "metadata": {},
   "source": [
    "## <span style =\"color:#0596b0;font-family:helvetica\">Along with the above process we are also updating a set of weights for a data point $\\large{w}_{i,t}$ like w is the weight , i is the index of that data point in the row and t stands for that particular weighting for that particular tree"
   ]
  },
  {
   "cell_type": "markdown",
   "metadata": {},
   "source": [
    "# <span style =\"color:#0596b0;font-family:helvetica\">Algorithm steps\n",
    "* We will start with some number of samples $\\large{x}_{1}{.........}{x}_{n}$\n",
    "* For classification we have some set of desired outputs like $\\large{y}_{1}{.........}{y}_{n}$ and predictions will be in rage of ${y}\\in{(}{-1,1}{)}$\n",
    "* Then we set up initial weights for every single data points $\\large{w}_{1,1}$  where first 1 is for the first row and second one is that we are setting up this for the very first learner $\\large{w}_{1,1}{....}{w}_{n,1}$ and also we will set up the intial weights as $\\large\\frac{1}{n}$. Which means if have 10 data points we will set up the intial weights as$\\large\\frac{1}{n}$ thus at the begning every data point has same weight attached\n",
    "* Then we will calcualte the error fuction ${E}{(}{f}{(}{X}{)}{,}{y}{,}{i}{)}{ = }{e}^{{-y}_{i}{f}{(}{x}_{i}{)}}$ and by using it we will be able to figure out a coefficient later on down the line.\n",
    "* And weak learner themselves ${h}{:}{x}\\rightarrow{(}{-1,1}{)}$ are gona output some hypothesis given that x datapoint which is range of (-1,1)"
   ]
  },
  {
   "cell_type": "markdown",
   "metadata": {},
   "source": [
    "## <span style =\"color:#0596b0;font-family:helvetica\"> Training Process\n",
    "* for t in 1...T: Capital T is how many weak learner decided to create\n",
    "* We gonna choose hypothesis of x (${h}_{t}{(}{x}{)}$)\n",
    "    * We will find the weak learner (${h}_{t}{(}{x}{)}$) that minimises $\\epsilon_{t}$ i.e. error. which is the weighted sum error for misclassifed points $\\epsilon_{t}{ = } \\sum^{n}_{i=1} {w}_{i,t}$ \n",
    "* the weak learner found should meet the given condition $\\large\\alpha_{t}{ = }\\frac{1}{2}{ln}{(}\\frac{{1}{-}\\epsilon_{t}}{\\epsilon_{t}}{)}$"
   ]
  },
  {
   "cell_type": "markdown",
   "metadata": {},
   "source": [
    "### <span style =\"color:#0596b0;font-family:helvetica\"> Keep in mind this process will be applicable to all the trees built in sequense"
   ]
  },
  {
   "cell_type": "markdown",
   "metadata": {},
   "source": [
    "# <span style =\"color:#0596b0;font-family:helvetica\">\n",
    "* Once we have done that we end up adding to existing ensemble\n",
    "    * So we have set of lerners already created i.e.${F}_{t-1}{x} $ and we add it to $ \\alpha_{t}{h}_{t}{(}{x}{)}$:\n",
    "    * $\\large{F}_{t}{x}{ = }{F}_{t-1}{x}{ + }\\alpha_{t}{h}_{t}{(}{x}{)}$ \n",
    "* And Then we update the wieghts for next set of weak learners:\n",
    "    * $\\large{w}_{{i},{t+1}}{ = } {w}_{i,t}{e}^{{-y}\\alpha_{t}{h}_{t}{x}_{i}}$ for i in 1...n\n",
    "    * keep Renormalize until $\\large{w}_{{i}{,}{t +1}}$ sunch that\n",
    "    * $\\large\\sum_{i}{w}_{{i}{,}{t+1}}$ = 1"
   ]
  },
  {
   "cell_type": "markdown",
   "metadata": {},
   "source": [
    "<img src=\"data:image/png;base64,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\" />"
   ]
  },
  {
   "cell_type": "markdown",
   "metadata": {},
   "source": [
    "## <span style =\"color:#0596b0;font-family:helvetica\"> AdaBoost Prcoess: Visual Walkthrough"
   ]
  },
  {
   "cell_type": "markdown",
   "metadata": {},
   "source": [
    "### <span style =\"color:#0596b0;font-family:helvetica\"> We had out set ready which explained above.Now wee are ready to go and\n",
    "* Choose ${h}_{t}{(}{x}{)}$\n",
    "    * Find weak learner ${h}_{t}{(}{x}{)}$ that minimizes $\\epsilon_{t}$(the weighted sum error for misclassified points)\n",
    "        $\\large\\epsilon_{t}{ = } \\sum^{n}_{i = 1} {w}_{i,t}$ for ${h}_{t}{(}{x}_{i}{)}\\ne{y}_{i}$\n",
    "    * Which means all misclassfied points will be added with more weights by taking away the weights from correctly classified\n",
    "* On its done we end up choosing the alpha coefficeints to order to multiply with that weak learner\n",
    "    * $\\large\\alpha_{t} = \\frac{1}{2}{ln}{(}\\frac{{1}{ - }\\epsilon_{t}}{\\epsilon_{t}}{)}$\n",
    "* And thats our first tree, but remember this is a process built out in series and what we now is moving to the next tree with updated set of weights\n",
    "* And we will take the updated set of weights and we will have now another weak model , but this weak model doesn't learn from original dataset, it is now being trained of this previous tree which has the weights attached and that's the reason it is also know as slow learner as it using the learnings of previous weak learner.\n",
    "* Now whch means we will have another weak learner and veru likely will choose different features in order to classify given more weights being added to misclassfied points before.\n",
    "* Then we again go alpha prameter i.e. error term coefficient so we will be havnig $\\alpha$ at t+1"
   ]
  },
  {
   "cell_type": "markdown",
   "metadata": {},
   "source": [
    "### <span style =\"color:#0596b0;font-family:helvetica\"> Now we continue this process till we reach Capital T amount of trees, recall the below formula where ${f}$ ${t}$ is itself a weak learner and the coefficients is multiplied with the output hypothesis which a weak learner produces for each sample in the training set.</span>\n",
    "<span>$\\large{F}_{T}{(}{x}{)}{ = }\\sum_{t = 1}^{T}{f}_{t}{(}{x}{)}$</span>\n",
    "Where $\\large{f}_{t}{(}{x}{)}\\rightarrow$ $\\large{f}_{t}{(}{x}{)}{ = }\\alpha_{t}{h}{(}{x}{)}$\n",
    "   "
   ]
  },
  {
   "cell_type": "markdown",
   "metadata": {},
   "source": [
    "### <span style =\"color:#0596b0;font-family:helvetica\"> Which now means we sum up all the predictions together, So given we have various weak learner and they each have their unique cofficient we gona be able to make something a belended model,or an ensemble model of these weak learners.</span>\n",
    "  $ \\large\\alpha_{t} { + }\\alpha_{{t} {+}{1}} { + }\\alpha_{{t} {+} {2}} $"
   ]
  },
  {
   "cell_type": "markdown",
   "metadata": {},
   "source": [
    "### <span style =\"color:#0596b0;font-family:helvetica\"> When we perform Adaboost and see the final result its appear to be meta-learning. Its taking multiple weak learners i.e. the single stumbs and then its gona multiply them with the coefficients that being solved for within the error term and building strong model."
   ]
  },
  {
   "cell_type": "markdown",
   "metadata": {},
   "source": [
    "## <span style =\"color:#0596b0;font-family:helvetica\"> This know as adaptive boosting process</span>\n",
    "### <span style =\"color:#0596b0;font-family:helvetica\"> Adaptive boosting because you end up adapting due the learning of previous trees."
   ]
  },
  {
   "cell_type": "markdown",
   "metadata": {},
   "source": [
    "## <span style =\"color:#0596b0;font-family:helvetica\"> Summarizing Adaboost\n",
    "* AdaBoost uses an ensemble of weak learners that learn slowly in series.\n",
    "* Certain Weak learners have more \"say\" in the final output than others due to the multiplied alpha parameter.\n",
    "* Each subsequent t weak learner is built using reweighted data set form the t-1 weak learner."
   ]
  },
  {
   "cell_type": "markdown",
   "metadata": {},
   "source": [
    "## <span style =\"color:#0596b0;font-family:helvetica\">Intuition of Adaptive Boosting:\n",
    "* Each stump essentially represents the strength of a feature to predict\n",
    "* Building these stumps in series and adding the alpha parameter allows us to untelligently compbine the importance of each feature together.</span>\n",
    "### <span style =\"color:red;font-family:helvetica\">Important notes on Adaptive Boosting:\n",
    "* Unlike Random Forrest, it is possible to overfit with AdaBoost, however it take many trees to do this.As we build more and more tree the Capital \"T\" for how many weak learners you trying to produce. Usually the error is gona be stabalize just like random forrest."
   ]
  },
  {
   "cell_type": "markdown",
   "metadata": {},
   "source": [
    "# <span style =\"color:#0596b0;font-family:helvetica\"> AdaBoost in coding"
   ]
  },
  {
   "cell_type": "markdown",
   "metadata": {},
   "source": [
    "### <span style =\"color:#0596b0;font-family:helvetica\"> We will work with mushroom data Which has variety of categorical data and lable is to  predict Poisonous vs. edible"
   ]
  },
  {
   "cell_type": "markdown",
   "metadata": {},
   "source": [
    "#### <span style =\"color:#0596b0;font-family:helvetica\"> Tree Based models have great capabilities to rteport feature importance.</span>\n",
    "#### <span style =\"color:#0596b0;font-family:helvetica\"> AdaBoost specifically has stumps focusing on one feature at a time, whic be usefull in creating mushrrom picking guidelines\n",
    "    "
   ]
  },
  {
   "cell_type": "code",
   "execution_count": 1,
   "metadata": {},
   "outputs": [],
   "source": [
    "import numpy as np\n",
    "import pandas as pd\n",
    "import matplotlib.pyplot as plt\n",
    "import seaborn as sns"
   ]
  },
  {
   "cell_type": "code",
   "execution_count": 2,
   "metadata": {},
   "outputs": [],
   "source": [
    "df = pd.read_csv(\"mushrooms.csv\")"
   ]
  },
  {
   "cell_type": "code",
   "execution_count": 3,
   "metadata": {},
   "outputs": [
    {
     "data": {
      "text/html": [
       "<div>\n",
       "<style scoped>\n",
       "    .dataframe tbody tr th:only-of-type {\n",
       "        vertical-align: middle;\n",
       "    }\n",
       "\n",
       "    .dataframe tbody tr th {\n",
       "        vertical-align: top;\n",
       "    }\n",
       "\n",
       "    .dataframe thead th {\n",
       "        text-align: right;\n",
       "    }\n",
       "</style>\n",
       "<table border=\"1\" class=\"dataframe\">\n",
       "  <thead>\n",
       "    <tr style=\"text-align: right;\">\n",
       "      <th></th>\n",
       "      <th>class</th>\n",
       "      <th>cap-shape</th>\n",
       "      <th>cap-surface</th>\n",
       "      <th>cap-color</th>\n",
       "      <th>bruises</th>\n",
       "      <th>odor</th>\n",
       "      <th>gill-attachment</th>\n",
       "      <th>gill-spacing</th>\n",
       "      <th>gill-size</th>\n",
       "      <th>gill-color</th>\n",
       "      <th>...</th>\n",
       "      <th>stalk-surface-below-ring</th>\n",
       "      <th>stalk-color-above-ring</th>\n",
       "      <th>stalk-color-below-ring</th>\n",
       "      <th>veil-type</th>\n",
       "      <th>veil-color</th>\n",
       "      <th>ring-number</th>\n",
       "      <th>ring-type</th>\n",
       "      <th>spore-print-color</th>\n",
       "      <th>population</th>\n",
       "      <th>habitat</th>\n",
       "    </tr>\n",
       "  </thead>\n",
       "  <tbody>\n",
       "    <tr>\n",
       "      <th>0</th>\n",
       "      <td>p</td>\n",
       "      <td>x</td>\n",
       "      <td>s</td>\n",
       "      <td>n</td>\n",
       "      <td>t</td>\n",
       "      <td>p</td>\n",
       "      <td>f</td>\n",
       "      <td>c</td>\n",
       "      <td>n</td>\n",
       "      <td>k</td>\n",
       "      <td>...</td>\n",
       "      <td>s</td>\n",
       "      <td>w</td>\n",
       "      <td>w</td>\n",
       "      <td>p</td>\n",
       "      <td>w</td>\n",
       "      <td>o</td>\n",
       "      <td>p</td>\n",
       "      <td>k</td>\n",
       "      <td>s</td>\n",
       "      <td>u</td>\n",
       "    </tr>\n",
       "    <tr>\n",
       "      <th>1</th>\n",
       "      <td>e</td>\n",
       "      <td>x</td>\n",
       "      <td>s</td>\n",
       "      <td>y</td>\n",
       "      <td>t</td>\n",
       "      <td>a</td>\n",
       "      <td>f</td>\n",
       "      <td>c</td>\n",
       "      <td>b</td>\n",
       "      <td>k</td>\n",
       "      <td>...</td>\n",
       "      <td>s</td>\n",
       "      <td>w</td>\n",
       "      <td>w</td>\n",
       "      <td>p</td>\n",
       "      <td>w</td>\n",
       "      <td>o</td>\n",
       "      <td>p</td>\n",
       "      <td>n</td>\n",
       "      <td>n</td>\n",
       "      <td>g</td>\n",
       "    </tr>\n",
       "    <tr>\n",
       "      <th>2</th>\n",
       "      <td>e</td>\n",
       "      <td>b</td>\n",
       "      <td>s</td>\n",
       "      <td>w</td>\n",
       "      <td>t</td>\n",
       "      <td>l</td>\n",
       "      <td>f</td>\n",
       "      <td>c</td>\n",
       "      <td>b</td>\n",
       "      <td>n</td>\n",
       "      <td>...</td>\n",
       "      <td>s</td>\n",
       "      <td>w</td>\n",
       "      <td>w</td>\n",
       "      <td>p</td>\n",
       "      <td>w</td>\n",
       "      <td>o</td>\n",
       "      <td>p</td>\n",
       "      <td>n</td>\n",
       "      <td>n</td>\n",
       "      <td>m</td>\n",
       "    </tr>\n",
       "    <tr>\n",
       "      <th>3</th>\n",
       "      <td>p</td>\n",
       "      <td>x</td>\n",
       "      <td>y</td>\n",
       "      <td>w</td>\n",
       "      <td>t</td>\n",
       "      <td>p</td>\n",
       "      <td>f</td>\n",
       "      <td>c</td>\n",
       "      <td>n</td>\n",
       "      <td>n</td>\n",
       "      <td>...</td>\n",
       "      <td>s</td>\n",
       "      <td>w</td>\n",
       "      <td>w</td>\n",
       "      <td>p</td>\n",
       "      <td>w</td>\n",
       "      <td>o</td>\n",
       "      <td>p</td>\n",
       "      <td>k</td>\n",
       "      <td>s</td>\n",
       "      <td>u</td>\n",
       "    </tr>\n",
       "    <tr>\n",
       "      <th>4</th>\n",
       "      <td>e</td>\n",
       "      <td>x</td>\n",
       "      <td>s</td>\n",
       "      <td>g</td>\n",
       "      <td>f</td>\n",
       "      <td>n</td>\n",
       "      <td>f</td>\n",
       "      <td>w</td>\n",
       "      <td>b</td>\n",
       "      <td>k</td>\n",
       "      <td>...</td>\n",
       "      <td>s</td>\n",
       "      <td>w</td>\n",
       "      <td>w</td>\n",
       "      <td>p</td>\n",
       "      <td>w</td>\n",
       "      <td>o</td>\n",
       "      <td>e</td>\n",
       "      <td>n</td>\n",
       "      <td>a</td>\n",
       "      <td>g</td>\n",
       "    </tr>\n",
       "  </tbody>\n",
       "</table>\n",
       "<p>5 rows × 23 columns</p>\n",
       "</div>"
      ],
      "text/plain": [
       "  class cap-shape cap-surface cap-color bruises odor gill-attachment  \\\n",
       "0     p         x           s         n       t    p               f   \n",
       "1     e         x           s         y       t    a               f   \n",
       "2     e         b           s         w       t    l               f   \n",
       "3     p         x           y         w       t    p               f   \n",
       "4     e         x           s         g       f    n               f   \n",
       "\n",
       "  gill-spacing gill-size gill-color  ... stalk-surface-below-ring  \\\n",
       "0            c         n          k  ...                        s   \n",
       "1            c         b          k  ...                        s   \n",
       "2            c         b          n  ...                        s   \n",
       "3            c         n          n  ...                        s   \n",
       "4            w         b          k  ...                        s   \n",
       "\n",
       "  stalk-color-above-ring stalk-color-below-ring veil-type veil-color  \\\n",
       "0                      w                      w         p          w   \n",
       "1                      w                      w         p          w   \n",
       "2                      w                      w         p          w   \n",
       "3                      w                      w         p          w   \n",
       "4                      w                      w         p          w   \n",
       "\n",
       "  ring-number ring-type spore-print-color population habitat  \n",
       "0           o         p                 k          s       u  \n",
       "1           o         p                 n          n       g  \n",
       "2           o         p                 n          n       m  \n",
       "3           o         p                 k          s       u  \n",
       "4           o         e                 n          a       g  \n",
       "\n",
       "[5 rows x 23 columns]"
      ]
     },
     "execution_count": 3,
     "metadata": {},
     "output_type": "execute_result"
    }
   ],
   "source": [
    "df.head()"
   ]
  },
  {
   "cell_type": "code",
   "execution_count": 4,
   "metadata": {},
   "outputs": [
    {
     "data": {
      "text/plain": [
       "<AxesSubplot:xlabel='class', ylabel='count'>"
      ]
     },
     "execution_count": 4,
     "metadata": {},
     "output_type": "execute_result"
    },
    {
     "data": {
      "image/png": "[encoded data removed]",
      "text/plain": [
       "<Figure size 432x288 with 1 Axes>"
      ]
     },
     "metadata": {
      "needs_background": "light"
     },
     "output_type": "display_data"
    }
   ],
   "source": [
    "sns.countplot(data=df, x = \"class\") # to check the data balance"
   ]
  },
  {
   "cell_type": "code",
   "execution_count": 5,
   "metadata": {},
   "outputs": [
    {
     "data": {
      "text/html": [
       "<div>\n",
       "<style scoped>\n",
       "    .dataframe tbody tr th:only-of-type {\n",
       "        vertical-align: middle;\n",
       "    }\n",
       "\n",
       "    .dataframe tbody tr th {\n",
       "        vertical-align: top;\n",
       "    }\n",
       "\n",
       "    .dataframe thead th {\n",
       "        text-align: right;\n",
       "    }\n",
       "</style>\n",
       "<table border=\"1\" class=\"dataframe\">\n",
       "  <thead>\n",
       "    <tr style=\"text-align: right;\">\n",
       "      <th></th>\n",
       "      <th>class</th>\n",
       "      <th>cap-shape</th>\n",
       "      <th>cap-surface</th>\n",
       "      <th>cap-color</th>\n",
       "      <th>bruises</th>\n",
       "      <th>odor</th>\n",
       "      <th>gill-attachment</th>\n",
       "      <th>gill-spacing</th>\n",
       "      <th>gill-size</th>\n",
       "      <th>gill-color</th>\n",
       "      <th>...</th>\n",
       "      <th>stalk-surface-below-ring</th>\n",
       "      <th>stalk-color-above-ring</th>\n",
       "      <th>stalk-color-below-ring</th>\n",
       "      <th>veil-type</th>\n",
       "      <th>veil-color</th>\n",
       "      <th>ring-number</th>\n",
       "      <th>ring-type</th>\n",
       "      <th>spore-print-color</th>\n",
       "      <th>population</th>\n",
       "      <th>habitat</th>\n",
       "    </tr>\n",
       "  </thead>\n",
       "  <tbody>\n",
       "    <tr>\n",
       "      <th>count</th>\n",
       "      <td>8124</td>\n",
       "      <td>8124</td>\n",
       "      <td>8124</td>\n",
       "      <td>8124</td>\n",
       "      <td>8124</td>\n",
       "      <td>8124</td>\n",
       "      <td>8124</td>\n",
       "      <td>8124</td>\n",
       "      <td>8124</td>\n",
       "      <td>8124</td>\n",
       "      <td>...</td>\n",
       "      <td>8124</td>\n",
       "      <td>8124</td>\n",
       "      <td>8124</td>\n",
       "      <td>8124</td>\n",
       "      <td>8124</td>\n",
       "      <td>8124</td>\n",
       "      <td>8124</td>\n",
       "      <td>8124</td>\n",
       "      <td>8124</td>\n",
       "      <td>8124</td>\n",
       "    </tr>\n",
       "    <tr>\n",
       "      <th>unique</th>\n",
       "      <td>2</td>\n",
       "      <td>6</td>\n",
       "      <td>4</td>\n",
       "      <td>10</td>\n",
       "      <td>2</td>\n",
       "      <td>9</td>\n",
       "      <td>2</td>\n",
       "      <td>2</td>\n",
       "      <td>2</td>\n",
       "      <td>12</td>\n",
       "      <td>...</td>\n",
       "      <td>4</td>\n",
       "      <td>9</td>\n",
       "      <td>9</td>\n",
       "      <td>1</td>\n",
       "      <td>4</td>\n",
       "      <td>3</td>\n",
       "      <td>5</td>\n",
       "      <td>9</td>\n",
       "      <td>6</td>\n",
       "      <td>7</td>\n",
       "    </tr>\n",
       "    <tr>\n",
       "      <th>top</th>\n",
       "      <td>e</td>\n",
       "      <td>x</td>\n",
       "      <td>y</td>\n",
       "      <td>n</td>\n",
       "      <td>f</td>\n",
       "      <td>n</td>\n",
       "      <td>f</td>\n",
       "      <td>c</td>\n",
       "      <td>b</td>\n",
       "      <td>b</td>\n",
       "      <td>...</td>\n",
       "      <td>s</td>\n",
       "      <td>w</td>\n",
       "      <td>w</td>\n",
       "      <td>p</td>\n",
       "      <td>w</td>\n",
       "      <td>o</td>\n",
       "      <td>p</td>\n",
       "      <td>w</td>\n",
       "      <td>v</td>\n",
       "      <td>d</td>\n",
       "    </tr>\n",
       "    <tr>\n",
       "      <th>freq</th>\n",
       "      <td>4208</td>\n",
       "      <td>3656</td>\n",
       "      <td>3244</td>\n",
       "      <td>2284</td>\n",
       "      <td>4748</td>\n",
       "      <td>3528</td>\n",
       "      <td>7914</td>\n",
       "      <td>6812</td>\n",
       "      <td>5612</td>\n",
       "      <td>1728</td>\n",
       "      <td>...</td>\n",
       "      <td>4936</td>\n",
       "      <td>4464</td>\n",
       "      <td>4384</td>\n",
       "      <td>8124</td>\n",
       "      <td>7924</td>\n",
       "      <td>7488</td>\n",
       "      <td>3968</td>\n",
       "      <td>2388</td>\n",
       "      <td>4040</td>\n",
       "      <td>3148</td>\n",
       "    </tr>\n",
       "  </tbody>\n",
       "</table>\n",
       "<p>4 rows × 23 columns</p>\n",
       "</div>"
      ],
      "text/plain": [
       "       class cap-shape cap-surface cap-color bruises  odor gill-attachment  \\\n",
       "count   8124      8124        8124      8124    8124  8124            8124   \n",
       "unique     2         6           4        10       2     9               2   \n",
       "top        e         x           y         n       f     n               f   \n",
       "freq    4208      3656        3244      2284    4748  3528            7914   \n",
       "\n",
       "       gill-spacing gill-size gill-color  ... stalk-surface-below-ring  \\\n",
       "count          8124      8124       8124  ...                     8124   \n",
       "unique            2         2         12  ...                        4   \n",
       "top               c         b          b  ...                        s   \n",
       "freq           6812      5612       1728  ...                     4936   \n",
       "\n",
       "       stalk-color-above-ring stalk-color-below-ring veil-type veil-color  \\\n",
       "count                    8124                   8124      8124       8124   \n",
       "unique                      9                      9         1          4   \n",
       "top                         w                      w         p          w   \n",
       "freq                     4464                   4384      8124       7924   \n",
       "\n",
       "       ring-number ring-type spore-print-color population habitat  \n",
       "count         8124      8124              8124       8124    8124  \n",
       "unique           3         5                 9          6       7  \n",
       "top              o         p                 w          v       d  \n",
       "freq          7488      3968              2388       4040    3148  \n",
       "\n",
       "[4 rows x 23 columns]"
      ]
     },
     "execution_count": 5,
     "metadata": {},
     "output_type": "execute_result"
    }
   ],
   "source": [
    "df.describe()"
   ]
  },
  {
   "cell_type": "code",
   "execution_count": 6,
   "metadata": {},
   "outputs": [],
   "source": [
    "feat_uni = df.describe().transpose().reset_index().sort_values(\"unique\")"
   ]
  },
  {
   "cell_type": "code",
   "execution_count": 7,
   "metadata": {},
   "outputs": [
    {
     "data": {
      "image/png": "[encoded data removed]",
      "text/plain": [
       "<Figure size 2400x1200 with 1 Axes>"
      ]
     },
     "metadata": {
      "needs_background": "light"
     },
     "output_type": "display_data"
    }
   ],
   "source": [
    "plt.figure(figsize=(12,6),dpi= 200)\n",
    "sns.barplot(data=feat_uni, x = \"index\", y = \"unique\")\n",
    "plt.xticks(rotation = 90);"
   ]
  },
  {
   "cell_type": "code",
   "execution_count": 8,
   "metadata": {},
   "outputs": [],
   "source": [
    "X = df.drop('class', axis = 1)"
   ]
  },
  {
   "cell_type": "code",
   "execution_count": 9,
   "metadata": {},
   "outputs": [
    {
     "data": {
      "text/plain": [
       "cap-shape                   0\n",
       "cap-surface                 0\n",
       "cap-color                   0\n",
       "bruises                     0\n",
       "odor                        0\n",
       "gill-attachment             0\n",
       "gill-spacing                0\n",
       "gill-size                   0\n",
       "gill-color                  0\n",
       "stalk-shape                 0\n",
       "stalk-root                  0\n",
       "stalk-surface-above-ring    0\n",
       "stalk-surface-below-ring    0\n",
       "stalk-color-above-ring      0\n",
       "stalk-color-below-ring      0\n",
       "veil-type                   0\n",
       "veil-color                  0\n",
       "ring-number                 0\n",
       "ring-type                   0\n",
       "spore-print-color           0\n",
       "population                  0\n",
       "habitat                     0\n",
       "dtype: int64"
      ]
     },
     "execution_count": 9,
     "metadata": {},
     "output_type": "execute_result"
    }
   ],
   "source": [
    "X.isnull().sum()"
   ]
  },
  {
   "cell_type": "code",
   "execution_count": 10,
   "metadata": {},
   "outputs": [],
   "source": [
    "X = pd.get_dummies(X, drop_first= True)"
   ]
  },
  {
   "cell_type": "code",
   "execution_count": 11,
   "metadata": {},
   "outputs": [],
   "source": [
    "y = df[\"class\"]"
   ]
  },
  {
   "cell_type": "code",
   "execution_count": 12,
   "metadata": {},
   "outputs": [],
   "source": [
    "from sklearn.model_selection import train_test_split"
   ]
  },
  {
   "cell_type": "code",
   "execution_count": 13,
   "metadata": {},
   "outputs": [],
   "source": [
    "X_train, X_test, y_train, y_test = train_test_split( X, y, test_size=0.15, random_state=101)"
   ]
  },
  {
   "cell_type": "code",
   "execution_count": 14,
   "metadata": {},
   "outputs": [],
   "source": [
    "from sklearn.ensemble import AdaBoostClassifier"
   ]
  },
  {
   "cell_type": "markdown",
   "metadata": {},
   "source": [
    "### <span style =\"color:#0596b0;font-family:helvetica\"> class AdaBoostClassifier(sklearn.base.ClassifierMixin, BaseWeightBoosting) AdaBoostClassifier(base_estimator=None, *, n_estimators=50, learning_rate=1.0, algorithm='SAMME.R', random_state=None)"
   ]
  },
  {
   "cell_type": "markdown",
   "metadata": {},
   "source": [
    "## <span style =\"color:#0596b0;font-family:helvetica\"> An AdaBoost classifier is a meta-estimator that begins by fitting a classifier on the original dataset and then fits additional copies of the classifier on the same dataset but where the weights of incorrectly classified instances are adjusted such that subsequent classifiers focus more on difficult cases."
   ]
  },
  {
   "cell_type": "markdown",
   "metadata": {},
   "source": [
    "### <span style =\"color:#0596b0;font-family:helvetica\"> In scikit-learn base_estimator by default is DecisionTree with max_dept of 1 which means a stump tree\n",
    "    "
   ]
  },
  {
   "cell_type": "markdown",
   "metadata": {},
   "source": [
    "###  <span style =\"color:#0596b0;font-family:helvetica\"> n_estimators is how many stump tree you want to create"
   ]
  },
  {
   "cell_type": "markdown",
   "metadata": {},
   "source": [
    "## <span style =\"color:#0596b0;font-family:helvetica\"> So create a very stump model"
   ]
  },
  {
   "cell_type": "code",
   "execution_count": 15,
   "metadata": {},
   "outputs": [],
   "source": [
    "model = AdaBoostClassifier(n_estimators=1)"
   ]
  },
  {
   "cell_type": "code",
   "execution_count": 16,
   "metadata": {},
   "outputs": [
    {
     "data": {
      "text/plain": [
       "AdaBoostClassifier(n_estimators=1)"
      ]
     },
     "execution_count": 16,
     "metadata": {},
     "output_type": "execute_result"
    }
   ],
   "source": [
    "model.fit(X_train,y_train)"
   ]
  },
  {
   "cell_type": "code",
   "execution_count": 17,
   "metadata": {},
   "outputs": [],
   "source": [
    "# evaluation"
   ]
  },
  {
   "cell_type": "code",
   "execution_count": 18,
   "metadata": {},
   "outputs": [],
   "source": [
    "from sklearn.metrics import classification_report, plot_confusion_matrix,accuracy_score"
   ]
  },
  {
   "cell_type": "code",
   "execution_count": 19,
   "metadata": {},
   "outputs": [],
   "source": [
    "predicitons = model.predict(X_test)"
   ]
  },
  {
   "cell_type": "code",
   "execution_count": 20,
   "metadata": {},
   "outputs": [
    {
     "name": "stdout",
     "output_type": "stream",
     "text": [
      "              precision    recall  f1-score   support\n",
      "\n",
      "           e       0.96      0.81      0.88       655\n",
      "           p       0.81      0.96      0.88       564\n",
      "\n",
      "    accuracy                           0.88      1219\n",
      "   macro avg       0.88      0.88      0.88      1219\n",
      "weighted avg       0.89      0.88      0.88      1219\n",
      "\n"
     ]
    }
   ],
   "source": [
    "print(classification_report(y_test,predicitons))"
   ]
  },
  {
   "cell_type": "code",
   "execution_count": 21,
   "metadata": {},
   "outputs": [
    {
     "data": {
      "text/plain": [
       "array([0., 0., 0., 0., 0., 0., 0., 0., 0., 0., 0., 0., 0., 0., 0., 0., 0.,\n",
       "       0., 0., 0., 0., 0., 1., 0., 0., 0., 0., 0., 0., 0., 0., 0., 0., 0.,\n",
       "       0., 0., 0., 0., 0., 0., 0., 0., 0., 0., 0., 0., 0., 0., 0., 0., 0.,\n",
       "       0., 0., 0., 0., 0., 0., 0., 0., 0., 0., 0., 0., 0., 0., 0., 0., 0.,\n",
       "       0., 0., 0., 0., 0., 0., 0., 0., 0., 0., 0., 0., 0., 0., 0., 0., 0.,\n",
       "       0., 0., 0., 0., 0., 0., 0., 0., 0., 0.])"
      ]
     },
     "execution_count": 21,
     "metadata": {},
     "output_type": "execute_result"
    }
   ],
   "source": [
    "model.feature_importances_"
   ]
  },
  {
   "cell_type": "markdown",
   "metadata": {},
   "source": [
    "### <span style =\"color:#0596b0;font-family:helvetica\"> Feature importance is available with every tree based models. With the above results we can see a bunch of 0's and one of them is 1, so we can think of it as our model technically is just a single stump which means it's gona say 1 feature is 100% important to the model's capability to predict because single feature has been split on.</span>\n",
    "### <span style =\"color:#0596b0;font-family:helvetica\"> To figure out which feature is that"
   ]
  },
  {
   "cell_type": "code",
   "execution_count": 23,
   "metadata": {},
   "outputs": [
    {
     "data": {
      "text/plain": [
       "22"
      ]
     },
     "execution_count": 23,
     "metadata": {},
     "output_type": "execute_result"
    }
   ],
   "source": [
    "model.feature_importances_.argmax()# to see what is the index of that feature"
   ]
  },
  {
   "cell_type": "code",
   "execution_count": 24,
   "metadata": {},
   "outputs": [
    {
     "data": {
      "text/plain": [
       "'odor_n'"
      ]
     },
     "execution_count": 24,
     "metadata": {},
     "output_type": "execute_result"
    }
   ],
   "source": [
    "X.columns[22]"
   ]
  },
  {
   "cell_type": "markdown",
   "metadata": {},
   "source": [
    "## <span style =\"color:#0596b0;font-family:helvetica\"> It measn when there is no odor then the mushroom is probably edible"
   ]
  },
  {
   "cell_type": "code",
   "execution_count": 27,
   "metadata": {},
   "outputs": [
    {
     "data": {
      "text/plain": [
       "<AxesSubplot:xlabel='odor', ylabel='count'>"
      ]
     },
     "execution_count": 27,
     "metadata": {},
     "output_type": "execute_result"
    },
    {
     "data": {
      "image/png": "[encoded data removed]",
      "text/plain": [
       "<Figure size 432x288 with 1 Axes>"
      ]
     },
     "metadata": {
      "needs_background": "light"
     },
     "output_type": "display_data"
    }
   ],
   "source": [
    "sns.countplot(data = df, x = \"odor\", hue = \"class\")"
   ]
  },
  {
   "cell_type": "markdown",
   "metadata": {},
   "source": [
    "## <span style =\"color:#0596b0;font-family:helvetica\"> Now let's add more weak learners to the model"
   ]
  },
  {
   "cell_type": "code",
   "execution_count": 28,
   "metadata": {},
   "outputs": [
    {
     "data": {
      "text/plain": [
       "95"
      ]
     },
     "execution_count": 28,
     "metadata": {},
     "output_type": "execute_result"
    }
   ],
   "source": [
    "len(X.columns)"
   ]
  },
  {
   "cell_type": "markdown",
   "metadata": {},
   "source": [
    "## <span style =\"color:#0596b0;font-family:helvetica\"> It measn we have 95 subset of feature, which also means we can make out 95 stumbs and then see which feature is most important"
   ]
  },
  {
   "cell_type": "code",
   "execution_count": 30,
   "metadata": {},
   "outputs": [],
   "source": [
    "error_rates = []\n",
    "\n",
    "for n in range(1,96):\n",
    "    model = AdaBoostClassifier(n_estimators=n)\n",
    "    model.fit(X_train,y_train)\n",
    "    preds = model.predict(X_test)\n",
    "    \n",
    "    \n",
    "    err = 1- accuracy_score(y_test,preds)\n",
    "    error_rates.append(err)"
   ]
  },
  {
   "cell_type": "markdown",
   "metadata": {},
   "source": [
    "## <span style =\"color:#0596b0;font-family:helvetica\"> With this code we are trying to capture error rate for all 95 estimators and will plot to see at which estimator error stabalizes like and elbow method"
   ]
  },
  {
   "cell_type": "code",
   "execution_count": 31,
   "metadata": {},
   "outputs": [
    {
     "data": {
      "image/png": "[encoded data removed]",
      "text/plain": [
       "<Figure size 432x288 with 1 Axes>"
      ]
     },
     "metadata": {
      "needs_background": "light"
     },
     "output_type": "display_data"
    }
   ],
   "source": [
    "plt.plot(range(1,96),error_rates);"
   ]
  },
  {
   "cell_type": "markdown",
   "metadata": {},
   "source": [
    "#### <span style =\"color:#0596b0;font-family:helvetica\"> So We can see after 20 estimators we don't see much improvement in error"
   ]
  },
  {
   "cell_type": "markdown",
   "metadata": {},
   "source": [
    "## <span style =\"color:#0596b0;font-family:helvetica\"> We can do the above way to identify optimal estimators to reduce error or we can use our good old friend Grid search"
   ]
  },
  {
   "cell_type": "code",
   "execution_count": 34,
   "metadata": {},
   "outputs": [
    {
     "data": {
      "text/plain": [
       "AdaBoostClassifier(n_estimators=95)"
      ]
     },
     "execution_count": 34,
     "metadata": {},
     "output_type": "execute_result"
    }
   ],
   "source": [
    "model"
   ]
  },
  {
   "cell_type": "markdown",
   "metadata": {},
   "source": [
    "## <span style =\"color:#0596b0;font-family:helvetica\"> We can see the last model saved is with 95 estimators but our optimal estimators are 20 or 18, we can build another model with 20 n_estimaror before final use"
   ]
  },
  {
   "cell_type": "code",
   "execution_count": 35,
   "metadata": {},
   "outputs": [],
   "source": [
    "featur = pd.DataFrame(index=X.columns, data = model.feature_importances_, columns=[\"Importance\"])"
   ]
  },
  {
   "cell_type": "code",
   "execution_count": 37,
   "metadata": {},
   "outputs": [],
   "source": [
    "imp_feats = featur[featur[\"Importance\"]>0]"
   ]
  },
  {
   "cell_type": "code",
   "execution_count": 38,
   "metadata": {},
   "outputs": [
    {
     "data": {
      "text/html": [
       "<div>\n",
       "<style scoped>\n",
       "    .dataframe tbody tr th:only-of-type {\n",
       "        vertical-align: middle;\n",
       "    }\n",
       "\n",
       "    .dataframe tbody tr th {\n",
       "        vertical-align: top;\n",
       "    }\n",
       "\n",
       "    .dataframe thead th {\n",
       "        text-align: right;\n",
       "    }\n",
       "</style>\n",
       "<table border=\"1\" class=\"dataframe\">\n",
       "  <thead>\n",
       "    <tr style=\"text-align: right;\">\n",
       "      <th></th>\n",
       "      <th>Importance</th>\n",
       "    </tr>\n",
       "  </thead>\n",
       "  <tbody>\n",
       "    <tr>\n",
       "      <th>cap-color_c</th>\n",
       "      <td>0.010526</td>\n",
       "    </tr>\n",
       "    <tr>\n",
       "      <th>cap-color_n</th>\n",
       "      <td>0.010526</td>\n",
       "    </tr>\n",
       "    <tr>\n",
       "      <th>cap-color_w</th>\n",
       "      <td>0.010526</td>\n",
       "    </tr>\n",
       "    <tr>\n",
       "      <th>bruises_t</th>\n",
       "      <td>0.052632</td>\n",
       "    </tr>\n",
       "    <tr>\n",
       "      <th>odor_c</th>\n",
       "      <td>0.031579</td>\n",
       "    </tr>\n",
       "    <tr>\n",
       "      <th>odor_f</th>\n",
       "      <td>0.031579</td>\n",
       "    </tr>\n",
       "    <tr>\n",
       "      <th>odor_n</th>\n",
       "      <td>0.063158</td>\n",
       "    </tr>\n",
       "    <tr>\n",
       "      <th>odor_p</th>\n",
       "      <td>0.021053</td>\n",
       "    </tr>\n",
       "    <tr>\n",
       "      <th>gill-spacing_w</th>\n",
       "      <td>0.094737</td>\n",
       "    </tr>\n",
       "    <tr>\n",
       "      <th>gill-size_n</th>\n",
       "      <td>0.094737</td>\n",
       "    </tr>\n",
       "    <tr>\n",
       "      <th>stalk-shape_t</th>\n",
       "      <td>0.010526</td>\n",
       "    </tr>\n",
       "    <tr>\n",
       "      <th>stalk-root_b</th>\n",
       "      <td>0.010526</td>\n",
       "    </tr>\n",
       "    <tr>\n",
       "      <th>stalk-surface-above-ring_k</th>\n",
       "      <td>0.063158</td>\n",
       "    </tr>\n",
       "    <tr>\n",
       "      <th>stalk-surface-below-ring_y</th>\n",
       "      <td>0.031579</td>\n",
       "    </tr>\n",
       "    <tr>\n",
       "      <th>stalk-color-below-ring_n</th>\n",
       "      <td>0.063158</td>\n",
       "    </tr>\n",
       "    <tr>\n",
       "      <th>stalk-color-below-ring_w</th>\n",
       "      <td>0.010526</td>\n",
       "    </tr>\n",
       "    <tr>\n",
       "      <th>ring-number_t</th>\n",
       "      <td>0.010526</td>\n",
       "    </tr>\n",
       "    <tr>\n",
       "      <th>spore-print-color_r</th>\n",
       "      <td>0.052632</td>\n",
       "    </tr>\n",
       "    <tr>\n",
       "      <th>spore-print-color_w</th>\n",
       "      <td>0.168421</td>\n",
       "    </tr>\n",
       "    <tr>\n",
       "      <th>population_c</th>\n",
       "      <td>0.105263</td>\n",
       "    </tr>\n",
       "    <tr>\n",
       "      <th>population_v</th>\n",
       "      <td>0.042105</td>\n",
       "    </tr>\n",
       "    <tr>\n",
       "      <th>habitat_w</th>\n",
       "      <td>0.010526</td>\n",
       "    </tr>\n",
       "  </tbody>\n",
       "</table>\n",
       "</div>"
      ],
      "text/plain": [
       "                            Importance\n",
       "cap-color_c                   0.010526\n",
       "cap-color_n                   0.010526\n",
       "cap-color_w                   0.010526\n",
       "bruises_t                     0.052632\n",
       "odor_c                        0.031579\n",
       "odor_f                        0.031579\n",
       "odor_n                        0.063158\n",
       "odor_p                        0.021053\n",
       "gill-spacing_w                0.094737\n",
       "gill-size_n                   0.094737\n",
       "stalk-shape_t                 0.010526\n",
       "stalk-root_b                  0.010526\n",
       "stalk-surface-above-ring_k    0.063158\n",
       "stalk-surface-below-ring_y    0.031579\n",
       "stalk-color-below-ring_n      0.063158\n",
       "stalk-color-below-ring_w      0.010526\n",
       "ring-number_t                 0.010526\n",
       "spore-print-color_r           0.052632\n",
       "spore-print-color_w           0.168421\n",
       "population_c                  0.105263\n",
       "population_v                  0.042105\n",
       "habitat_w                     0.010526"
      ]
     },
     "execution_count": 38,
     "metadata": {},
     "output_type": "execute_result"
    }
   ],
   "source": [
    "imp_feats"
   ]
  },
  {
   "cell_type": "code",
   "execution_count": 43,
   "metadata": {},
   "outputs": [
    {
     "data": {
      "image/png": "[encoded data removed]",
      "text/plain": [
       "<Figure size 720x360 with 1 Axes>"
      ]
     },
     "metadata": {
      "needs_background": "light"
     },
     "output_type": "display_data"
    }
   ],
   "source": [
    "plt.figure(figsize=(10,5))\n",
    "sns.barplot(data = imp_feats.sort_values(\"Importance\"), x= imp_feats.index, y = \"Importance\")\n",
    "plt.xticks(rotation = 90);"
   ]
  },
  {
   "cell_type": "code",
   "execution_count": 44,
   "metadata": {},
   "outputs": [],
   "source": [
    "model18 = AdaBoostClassifier(n_estimators= 18)"
   ]
  },
  {
   "cell_type": "code",
   "execution_count": 56,
   "metadata": {},
   "outputs": [
    {
     "data": {
      "text/plain": [
       "AdaBoostClassifier(n_estimators=18)"
      ]
     },
     "execution_count": 56,
     "metadata": {},
     "output_type": "execute_result"
    }
   ],
   "source": [
    "model18.fit(X_train,y_train)"
   ]
  },
  {
   "cell_type": "code",
   "execution_count": 57,
   "metadata": {},
   "outputs": [],
   "source": [
    "feat = pd.DataFrame(index = X.columns,  data = model.feature_importances_, columns=[\"Importance\"])"
   ]
  },
  {
   "cell_type": "code",
   "execution_count": 58,
   "metadata": {},
   "outputs": [],
   "source": [
    "imp_feat18 = feat[feat[\"Importance\"]>0]"
   ]
  },
  {
   "cell_type": "code",
   "execution_count": 59,
   "metadata": {},
   "outputs": [
    {
     "data": {
      "text/html": [
       "<div>\n",
       "<style scoped>\n",
       "    .dataframe tbody tr th:only-of-type {\n",
       "        vertical-align: middle;\n",
       "    }\n",
       "\n",
       "    .dataframe tbody tr th {\n",
       "        vertical-align: top;\n",
       "    }\n",
       "\n",
       "    .dataframe thead th {\n",
       "        text-align: right;\n",
       "    }\n",
       "</style>\n",
       "<table border=\"1\" class=\"dataframe\">\n",
       "  <thead>\n",
       "    <tr style=\"text-align: right;\">\n",
       "      <th></th>\n",
       "      <th>Importance</th>\n",
       "    </tr>\n",
       "  </thead>\n",
       "  <tbody>\n",
       "    <tr>\n",
       "      <th>cap-color_c</th>\n",
       "      <td>0.010526</td>\n",
       "    </tr>\n",
       "    <tr>\n",
       "      <th>cap-color_n</th>\n",
       "      <td>0.010526</td>\n",
       "    </tr>\n",
       "    <tr>\n",
       "      <th>cap-color_w</th>\n",
       "      <td>0.010526</td>\n",
       "    </tr>\n",
       "    <tr>\n",
       "      <th>bruises_t</th>\n",
       "      <td>0.052632</td>\n",
       "    </tr>\n",
       "    <tr>\n",
       "      <th>odor_c</th>\n",
       "      <td>0.031579</td>\n",
       "    </tr>\n",
       "    <tr>\n",
       "      <th>odor_f</th>\n",
       "      <td>0.031579</td>\n",
       "    </tr>\n",
       "    <tr>\n",
       "      <th>odor_n</th>\n",
       "      <td>0.063158</td>\n",
       "    </tr>\n",
       "    <tr>\n",
       "      <th>odor_p</th>\n",
       "      <td>0.021053</td>\n",
       "    </tr>\n",
       "    <tr>\n",
       "      <th>gill-spacing_w</th>\n",
       "      <td>0.094737</td>\n",
       "    </tr>\n",
       "    <tr>\n",
       "      <th>gill-size_n</th>\n",
       "      <td>0.094737</td>\n",
       "    </tr>\n",
       "    <tr>\n",
       "      <th>stalk-shape_t</th>\n",
       "      <td>0.010526</td>\n",
       "    </tr>\n",
       "    <tr>\n",
       "      <th>stalk-root_b</th>\n",
       "      <td>0.010526</td>\n",
       "    </tr>\n",
       "    <tr>\n",
       "      <th>stalk-surface-above-ring_k</th>\n",
       "      <td>0.063158</td>\n",
       "    </tr>\n",
       "    <tr>\n",
       "      <th>stalk-surface-below-ring_y</th>\n",
       "      <td>0.031579</td>\n",
       "    </tr>\n",
       "    <tr>\n",
       "      <th>stalk-color-below-ring_n</th>\n",
       "      <td>0.063158</td>\n",
       "    </tr>\n",
       "    <tr>\n",
       "      <th>stalk-color-below-ring_w</th>\n",
       "      <td>0.010526</td>\n",
       "    </tr>\n",
       "    <tr>\n",
       "      <th>ring-number_t</th>\n",
       "      <td>0.010526</td>\n",
       "    </tr>\n",
       "    <tr>\n",
       "      <th>spore-print-color_r</th>\n",
       "      <td>0.052632</td>\n",
       "    </tr>\n",
       "    <tr>\n",
       "      <th>spore-print-color_w</th>\n",
       "      <td>0.168421</td>\n",
       "    </tr>\n",
       "    <tr>\n",
       "      <th>population_c</th>\n",
       "      <td>0.105263</td>\n",
       "    </tr>\n",
       "    <tr>\n",
       "      <th>population_v</th>\n",
       "      <td>0.042105</td>\n",
       "    </tr>\n",
       "    <tr>\n",
       "      <th>habitat_w</th>\n",
       "      <td>0.010526</td>\n",
       "    </tr>\n",
       "  </tbody>\n",
       "</table>\n",
       "</div>"
      ],
      "text/plain": [
       "                            Importance\n",
       "cap-color_c                   0.010526\n",
       "cap-color_n                   0.010526\n",
       "cap-color_w                   0.010526\n",
       "bruises_t                     0.052632\n",
       "odor_c                        0.031579\n",
       "odor_f                        0.031579\n",
       "odor_n                        0.063158\n",
       "odor_p                        0.021053\n",
       "gill-spacing_w                0.094737\n",
       "gill-size_n                   0.094737\n",
       "stalk-shape_t                 0.010526\n",
       "stalk-root_b                  0.010526\n",
       "stalk-surface-above-ring_k    0.063158\n",
       "stalk-surface-below-ring_y    0.031579\n",
       "stalk-color-below-ring_n      0.063158\n",
       "stalk-color-below-ring_w      0.010526\n",
       "ring-number_t                 0.010526\n",
       "spore-print-color_r           0.052632\n",
       "spore-print-color_w           0.168421\n",
       "population_c                  0.105263\n",
       "population_v                  0.042105\n",
       "habitat_w                     0.010526"
      ]
     },
     "execution_count": 59,
     "metadata": {},
     "output_type": "execute_result"
    }
   ],
   "source": [
    "imp_feat18"
   ]
  },
  {
   "cell_type": "code",
   "execution_count": 60,
   "metadata": {},
   "outputs": [
    {
     "data": {
      "image/png": "[encoded data removed]",
      "text/plain": [
       "<Figure size 1200x600 with 1 Axes>"
      ]
     },
     "metadata": {
      "needs_background": "light"
     },
     "output_type": "display_data"
    }
   ],
   "source": [
    "plt.figure(figsize=(12,6), dpi = 100)\n",
    "sns.barplot(data = imp_feat18.sort_values(\"Importance\"),x = imp_feat18.index, y = \"Importance\")\n",
    "plt.xticks(rotation = 90);"
   ]
  },
  {
   "cell_type": "markdown",
   "metadata": {},
   "source": [
    "## <span style =\"color:#0596b0;font-family:helvetica\"> As we see by increasing the n_estimator which has become more important lets look at the predictions."
   ]
  },
  {
   "cell_type": "code",
   "execution_count": 61,
   "metadata": {},
   "outputs": [],
   "source": [
    "pred18 = model18.predict(X_test)"
   ]
  },
  {
   "cell_type": "code",
   "execution_count": 62,
   "metadata": {},
   "outputs": [
    {
     "name": "stdout",
     "output_type": "stream",
     "text": [
      "              precision    recall  f1-score   support\n",
      "\n",
      "           e       1.00      1.00      1.00       655\n",
      "           p       1.00      1.00      1.00       564\n",
      "\n",
      "    accuracy                           1.00      1219\n",
      "   macro avg       1.00      1.00      1.00      1219\n",
      "weighted avg       1.00      1.00      1.00      1219\n",
      "\n"
     ]
    }
   ],
   "source": [
    "print(classification_report(y_test, pred18))"
   ]
  },
  {
   "cell_type": "markdown",
   "metadata": {},
   "source": [
    "# <span style =\"color:#0596b0;font-family:helvetica\"> Gradient Boosting"
   ]
  },
  {
   "cell_type": "markdown",
   "metadata": {},
   "source": [
    "### <span style =\"color:#0596b0;font-family:helvetica\"> Gradient Boosting is a very similar idea to AdaBoost where weak learners are created in series in order to produce a strong ensemble model.</span>\n",
    "### <span style =\"color:#0596b0;font-family:helvetica\"> Gradient Boosting makes use of residual error for learning"
   ]
  },
  {
   "cell_type": "markdown",
   "metadata": {},
   "source": [
    "## <span style =\"color:#0596b0;font-family:helvetica\"> Gradient Boosting vs AdaBoost:\n",
    "* Larger Trees allowed in Gradient Boosting.\n",
    "* Learnign Rate coefficient same for all weak learners unlike Adaboost where we had sperate coefficients for each learner.\n",
    "* Graudual series learning is based on training on the residuals of the revious model."
   ]
  },
  {
   "cell_type": "markdown",
   "metadata": {},
   "source": [
    "## <span style =\"color:#0596b0;font-family:helvetica\"> Gradient Boosting Regression Eaxample"
   ]
  },
  {
   "cell_type": "code",
   "execution_count": 64,
   "metadata": {},
   "outputs": [],
   "source": [
    "data = {\"Area m2\":[200,190,230],\"Bedrooms\":[3,2,3],\"Bathrooms\":[2,1,3],\"Price\":[500000,462000,565000]}\n",
    "f_d = pd.DataFrame(data)"
   ]
  },
  {
   "cell_type": "code",
   "execution_count": 65,
   "metadata": {},
   "outputs": [
    {
     "data": {
      "text/html": [
       "<div>\n",
       "<style scoped>\n",
       "    .dataframe tbody tr th:only-of-type {\n",
       "        vertical-align: middle;\n",
       "    }\n",
       "\n",
       "    .dataframe tbody tr th {\n",
       "        vertical-align: top;\n",
       "    }\n",
       "\n",
       "    .dataframe thead th {\n",
       "        text-align: right;\n",
       "    }\n",
       "</style>\n",
       "<table border=\"1\" class=\"dataframe\">\n",
       "  <thead>\n",
       "    <tr style=\"text-align: right;\">\n",
       "      <th></th>\n",
       "      <th>Area m2</th>\n",
       "      <th>Bedrooms</th>\n",
       "      <th>Bathrooms</th>\n",
       "      <th>Price</th>\n",
       "    </tr>\n",
       "  </thead>\n",
       "  <tbody>\n",
       "    <tr>\n",
       "      <th>0</th>\n",
       "      <td>200</td>\n",
       "      <td>3</td>\n",
       "      <td>2</td>\n",
       "      <td>500000</td>\n",
       "    </tr>\n",
       "    <tr>\n",
       "      <th>1</th>\n",
       "      <td>190</td>\n",
       "      <td>2</td>\n",
       "      <td>1</td>\n",
       "      <td>462000</td>\n",
       "    </tr>\n",
       "    <tr>\n",
       "      <th>2</th>\n",
       "      <td>230</td>\n",
       "      <td>3</td>\n",
       "      <td>3</td>\n",
       "      <td>565000</td>\n",
       "    </tr>\n",
       "  </tbody>\n",
       "</table>\n",
       "</div>"
      ],
      "text/plain": [
       "   Area m2  Bedrooms  Bathrooms   Price\n",
       "0      200         3          2  500000\n",
       "1      190         2          1  462000\n",
       "2      230         3          3  565000"
      ]
     },
     "execution_count": 65,
     "metadata": {},
     "output_type": "execute_result"
    }
   ],
   "source": [
    "f_d"
   ]
  },
  {
   "cell_type": "markdown",
   "metadata": {},
   "source": [
    "### <span style =\"color:#0596b0;font-family:helvetica\"> So We will be training a Decision Tree for this data, and this is not a stump it can be a larger Decision Tree. and we get some predicted $\\large\\hat{y}$ value."
   ]
  },
  {
   "cell_type": "code",
   "execution_count": 67,
   "metadata": {},
   "outputs": [
    {
     "data": {
      "text/html": [
       "<div>\n",
       "<style scoped>\n",
       "    .dataframe tbody tr th:only-of-type {\n",
       "        vertical-align: middle;\n",
       "    }\n",
       "\n",
       "    .dataframe tbody tr th {\n",
       "        vertical-align: top;\n",
       "    }\n",
       "\n",
       "    .dataframe thead th {\n",
       "        text-align: right;\n",
       "    }\n",
       "</style>\n",
       "<table border=\"1\" class=\"dataframe\">\n",
       "  <thead>\n",
       "    <tr style=\"text-align: right;\">\n",
       "      <th></th>\n",
       "      <th>y</th>\n",
       "      <th>y_pred</th>\n",
       "    </tr>\n",
       "  </thead>\n",
       "  <tbody>\n",
       "    <tr>\n",
       "      <th>0</th>\n",
       "      <td>500000</td>\n",
       "      <td>509000</td>\n",
       "    </tr>\n",
       "    <tr>\n",
       "      <th>1</th>\n",
       "      <td>462000</td>\n",
       "      <td>509000</td>\n",
       "    </tr>\n",
       "    <tr>\n",
       "      <th>2</th>\n",
       "      <td>565000</td>\n",
       "      <td>509000</td>\n",
       "    </tr>\n",
       "  </tbody>\n",
       "</table>\n",
       "</div>"
      ],
      "text/plain": [
       "        y  y_pred\n",
       "0  500000  509000\n",
       "1  462000  509000\n",
       "2  565000  509000"
      ]
     },
     "execution_count": 67,
     "metadata": {},
     "output_type": "execute_result"
    }
   ],
   "source": [
    "pred = {\"y\":[500000,462000,565000],\"y_pred\":[509000,509000,509000]}\n",
    "pred = pd.DataFrame(pred)\n",
    "pred"
   ]
  },
  {
   "cell_type": "markdown",
   "metadata": {},
   "source": [
    "### <span style =\"color:#0596b0;font-family:helvetica\">So, we can see single Decision Tree doesn't perform well, infact it predicted same prices for all the houses which mean value of the houses."
   ]
  },
  {
   "cell_type": "markdown",
   "metadata": {},
   "source": [
    "### <span style =\"color:#0596b0;font-family:helvetica\"> The next step in Gradient boosting is to calculate residual i.e. e = y - $\\hat{y}$"
   ]
  },
  {
   "cell_type": "code",
   "execution_count": 69,
   "metadata": {},
   "outputs": [
    {
     "data": {
      "text/html": [
       "<div>\n",
       "<style scoped>\n",
       "    .dataframe tbody tr th:only-of-type {\n",
       "        vertical-align: middle;\n",
       "    }\n",
       "\n",
       "    .dataframe tbody tr th {\n",
       "        vertical-align: top;\n",
       "    }\n",
       "\n",
       "    .dataframe thead th {\n",
       "        text-align: right;\n",
       "    }\n",
       "</style>\n",
       "<table border=\"1\" class=\"dataframe\">\n",
       "  <thead>\n",
       "    <tr style=\"text-align: right;\">\n",
       "      <th></th>\n",
       "      <th>y</th>\n",
       "      <th>y_pred</th>\n",
       "      <th>error</th>\n",
       "    </tr>\n",
       "  </thead>\n",
       "  <tbody>\n",
       "    <tr>\n",
       "      <th>0</th>\n",
       "      <td>500000</td>\n",
       "      <td>509000</td>\n",
       "      <td>-9000</td>\n",
       "    </tr>\n",
       "    <tr>\n",
       "      <th>1</th>\n",
       "      <td>462000</td>\n",
       "      <td>509000</td>\n",
       "      <td>-47000</td>\n",
       "    </tr>\n",
       "    <tr>\n",
       "      <th>2</th>\n",
       "      <td>565000</td>\n",
       "      <td>509000</td>\n",
       "      <td>56000</td>\n",
       "    </tr>\n",
       "  </tbody>\n",
       "</table>\n",
       "</div>"
      ],
      "text/plain": [
       "        y  y_pred  error\n",
       "0  500000  509000  -9000\n",
       "1  462000  509000 -47000\n",
       "2  565000  509000  56000"
      ]
     },
     "execution_count": 69,
     "metadata": {},
     "output_type": "execute_result"
    }
   ],
   "source": [
    "pred[\"error\"] = pred[\"y\"] - pred[\"y_pred\"]\n",
    "pred"
   ]
  },
  {
   "cell_type": "markdown",
   "metadata": {},
   "source": [
    "###  <span style =\"color:#0596b0;font-family:helvetica\">So the above residual or error has the information of how first Decision Tree has performed. Now in Gradient Boosting Process we create a new model, however this new model is not trying to predict \"y\" based of the features rather it will try to predict \"e\" the residual or error term based of features"
   ]
  },
  {
   "cell_type": "markdown",
   "metadata": {},
   "source": [
    "## <span style =\"color:#0596b0;font-family:helvetica\"> Now we will create a new model to predict error and now this decision tree is now optimised to predict the error column not the orignal \"y\" feature. and we will call that newly predcited columns as \"f1\""
   ]
  },
  {
   "cell_type": "code",
   "execution_count": 78,
   "metadata": {},
   "outputs": [
    {
     "data": {
      "text/html": [
       "<div>\n",
       "<style scoped>\n",
       "    .dataframe tbody tr th:only-of-type {\n",
       "        vertical-align: middle;\n",
       "    }\n",
       "\n",
       "    .dataframe tbody tr th {\n",
       "        vertical-align: top;\n",
       "    }\n",
       "\n",
       "    .dataframe thead th {\n",
       "        text-align: right;\n",
       "    }\n",
       "</style>\n",
       "<table border=\"1\" class=\"dataframe\">\n",
       "  <thead>\n",
       "    <tr style=\"text-align: right;\">\n",
       "      <th></th>\n",
       "      <th>y</th>\n",
       "      <th>y_pred</th>\n",
       "      <th>error</th>\n",
       "      <th>f1</th>\n",
       "    </tr>\n",
       "  </thead>\n",
       "  <tbody>\n",
       "    <tr>\n",
       "      <th>0</th>\n",
       "      <td>500000</td>\n",
       "      <td>509000</td>\n",
       "      <td>-9000</td>\n",
       "      <td>-8000</td>\n",
       "    </tr>\n",
       "    <tr>\n",
       "      <th>1</th>\n",
       "      <td>462000</td>\n",
       "      <td>509000</td>\n",
       "      <td>-47000</td>\n",
       "      <td>-50000</td>\n",
       "    </tr>\n",
       "    <tr>\n",
       "      <th>2</th>\n",
       "      <td>565000</td>\n",
       "      <td>509000</td>\n",
       "      <td>56000</td>\n",
       "      <td>50000</td>\n",
       "    </tr>\n",
       "  </tbody>\n",
       "</table>\n",
       "</div>"
      ],
      "text/plain": [
       "        y  y_pred  error     f1\n",
       "0  500000  509000  -9000  -8000\n",
       "1  462000  509000 -47000 -50000\n",
       "2  565000  509000  56000  50000"
      ]
     },
     "execution_count": 78,
     "metadata": {},
     "output_type": "execute_result"
    }
   ],
   "source": [
    "f1 = pd.DataFrame(data=[-8000,-50000,50000], columns=[\"f1\"])\n",
    "error_pred = pd.concat([pred,f1], axis=1)\n",
    "error_pred"
   ]
  },
  {
   "cell_type": "markdown",
   "metadata": {},
   "source": [
    "### <span style =\"color:#0596b0;font-family:helvetica\"> This new decision tree model is still using x features(Area,bedroom, bathroom), but rahter predicting y it is now tyring to predict using same x features, the residuals from the previous model. As we are learning in series."
   ]
  },
  {
   "cell_type": "markdown",
   "metadata": {},
   "source": [
    "### <span style =\"color:#0596b0;font-family:helvetica\"> Now what Gradient Boosting does is, it update the original prediction for \"y\" using the error prediction by using the following formula"
   ]
  },
  {
   "cell_type": "code",
   "execution_count": 79,
   "metadata": {},
   "outputs": [
    {
     "data": {
      "text/html": [
       "<div>\n",
       "<style scoped>\n",
       "    .dataframe tbody tr th:only-of-type {\n",
       "        vertical-align: middle;\n",
       "    }\n",
       "\n",
       "    .dataframe tbody tr th {\n",
       "        vertical-align: top;\n",
       "    }\n",
       "\n",
       "    .dataframe thead th {\n",
       "        text-align: right;\n",
       "    }\n",
       "</style>\n",
       "<table border=\"1\" class=\"dataframe\">\n",
       "  <thead>\n",
       "    <tr style=\"text-align: right;\">\n",
       "      <th></th>\n",
       "      <th>y</th>\n",
       "      <th>y_pred</th>\n",
       "      <th>error</th>\n",
       "      <th>f1</th>\n",
       "      <th>F1 = y_pred + f1</th>\n",
       "    </tr>\n",
       "  </thead>\n",
       "  <tbody>\n",
       "    <tr>\n",
       "      <th>0</th>\n",
       "      <td>500000</td>\n",
       "      <td>509000</td>\n",
       "      <td>-9000</td>\n",
       "      <td>-8000</td>\n",
       "      <td>501000</td>\n",
       "    </tr>\n",
       "    <tr>\n",
       "      <th>1</th>\n",
       "      <td>462000</td>\n",
       "      <td>509000</td>\n",
       "      <td>-47000</td>\n",
       "      <td>-50000</td>\n",
       "      <td>459000</td>\n",
       "    </tr>\n",
       "    <tr>\n",
       "      <th>2</th>\n",
       "      <td>565000</td>\n",
       "      <td>509000</td>\n",
       "      <td>56000</td>\n",
       "      <td>50000</td>\n",
       "      <td>559000</td>\n",
       "    </tr>\n",
       "  </tbody>\n",
       "</table>\n",
       "</div>"
      ],
      "text/plain": [
       "        y  y_pred  error     f1  F1 = y_pred + f1\n",
       "0  500000  509000  -9000  -8000            501000\n",
       "1  462000  509000 -47000 -50000            459000\n",
       "2  565000  509000  56000  50000            559000"
      ]
     },
     "execution_count": 79,
     "metadata": {},
     "output_type": "execute_result"
    }
   ],
   "source": [
    "error_pred[\"F1 = y_pred + f1\"] = error_pred[\"y_pred\"]+error_pred[\"f1\"]\n",
    "error_pred"
   ]
  },
  {
   "cell_type": "markdown",
   "metadata": {},
   "source": [
    "### <span style =\"color:#0596b0;font-family:helvetica\">And now if notice when we do adjustment of error, we are actually getting closer to the $\\large{y}$"
   ]
  },
  {
   "cell_type": "markdown",
   "metadata": {},
   "source": [
    "### <span style =\"color:#0596b0;font-family:helvetica\"> We can continue this process in series"
   ]
  },
  {
   "cell_type": "markdown",
   "metadata": {},
   "source": [
    "## <span style =\"color:#0596b0;font-family:helvetica\"> Gradient Boosting Process Formula is</span>\n",
    "# $\\large{F}_{m} { = } {F}_{m-1} { + }{f}_{m}$"
   ]
  },
  {
   "cell_type": "markdown",
   "metadata": {},
   "source": [
    "### <span style =\"color:#0596b0;font-family:helvetica\"> And the way we can adjust the Gradient Boosting Process is Learning Rate, so we actually end up multiplying a residual prediction by a learning rate</span>\n",
    "# $\\large{F}_{m} { = } {F}_{m-1} { + }{(}{learning rate}{*}{f}_{m}{)}$"
   ]
  },
  {
   "cell_type": "markdown",
   "metadata": {},
   "source": [
    "### <span style =\"color:#0596b0;font-family:helvetica\"> And this learning rate will be same accross the model, unlike Adaboost which has its own special coefficients for every single weak learner. and Learning rate can be adjusted so smaller your learning rate is , more time model will take in learning."
   ]
  },
  {
   "cell_type": "markdown",
   "metadata": {},
   "source": [
    "##  <span style =\"color:#0596b0;font-family:helvetica\"> Gradient Boosting Process Step by Step:\n",
    "* Create intial model :${f}_{0}$m which outout the $\\hat{y}$.\n",
    "* Train another moldel on error\n",
    "    * $\\large{e}{ = }{y} { - }{f}_{0}$\n",
    "* Then we wuill create a new prediction \n",
    "    * $\\large{F}_{1} { = }{f}_{0} { + } {n}{f}_{1}$\n",
    "* Repeat as needed\n",
    "    * ${F}_{m}{ = }{f}{m-1}{ + }{n}{f}_{m}$"
   ]
  },
  {
   "cell_type": "markdown",
   "metadata": {},
   "source": [
    "# <span style =\"color:#0596b0;font-family:helvetica\"> Note for classification , we can use the logit as an error metric:</span>\n",
    "## $\\large\\hat{y}{ = }{log}{(}\\frac{\\hat{p}}{{1}{-}\\hat{p}}{)}$ where $\\large\\hat{p}{ = } \\frac{1}{{1}{ + }{e}^{{-}\\hat{y}}}$"
   ]
  },
  {
   "cell_type": "markdown",
   "metadata": {},
   "source": [
    "## <span style =\"color:#0596b0;font-family:helvetica\"> Note, the learning rate is the same for each new model in this series, it is not unique to each subsequent model(unlike AdaBoost's aplha coefficients)</span>\n",
    "## <span style =\"color:#0596b0;font-family:helvetica\"> Gradient Boosting is faily robust to overfitting, allowing for the number of estimators to be set high be default(~100)."
   ]
  },
  {
   "cell_type": "markdown",
   "metadata": {},
   "source": [
    "### <span style =\"color:#0596b0;font-family:helvetica\"> Gradient Boosting Intuition</span>\n",
    "#### <span style =\"color:#0596b0;font-family:helvetica\">  We optimize the series of trees by learning on the residuals, forcing subsequent trees to attempt to correct for the error in the previous trees."
   ]
  },
  {
   "cell_type": "markdown",
   "metadata": {},
   "source": [
    "## <span style =\"color:#0596b0;font-family:helvetica\">  Why we can't do Gradient Boosting all the time:\n",
    "* The trade-off is training time.\n",
    "* A learning rate is between 0-1, which means a very low value would mean each subsequent tree has little \"say\", meaning more trees need to be created, casuing a longer computational training time.The lower the learning rate the more number of trees you need in series to really have an effect and larger the learning rate the subsequent tree will have large effect means you need few decision trees to start heavily modifying the $\\large\\hat{y}$ value.\n",
    "* But if you make it two large you will not get the peak or best performance on prediction metrics because you are not taking the time to learn of the residual to see what features important for the next coming deciosn trees. we can use rather Grid Search"
   ]
  },
  {
   "cell_type": "markdown",
   "metadata": {},
   "source": [
    "#  <span style =\"color:#0596b0;font-family:helvetica\"> Gradient Boosting Coding Example"
   ]
  },
  {
   "cell_type": "code",
   "execution_count": 80,
   "metadata": {},
   "outputs": [],
   "source": [
    "df = pd.read_csv(\"mushrooms.csv\")"
   ]
  },
  {
   "cell_type": "code",
   "execution_count": 81,
   "metadata": {},
   "outputs": [
    {
     "data": {
      "text/html": [
       "<div>\n",
       "<style scoped>\n",
       "    .dataframe tbody tr th:only-of-type {\n",
       "        vertical-align: middle;\n",
       "    }\n",
       "\n",
       "    .dataframe tbody tr th {\n",
       "        vertical-align: top;\n",
       "    }\n",
       "\n",
       "    .dataframe thead th {\n",
       "        text-align: right;\n",
       "    }\n",
       "</style>\n",
       "<table border=\"1\" class=\"dataframe\">\n",
       "  <thead>\n",
       "    <tr style=\"text-align: right;\">\n",
       "      <th></th>\n",
       "      <th>class</th>\n",
       "      <th>cap-shape</th>\n",
       "      <th>cap-surface</th>\n",
       "      <th>cap-color</th>\n",
       "      <th>bruises</th>\n",
       "      <th>odor</th>\n",
       "      <th>gill-attachment</th>\n",
       "      <th>gill-spacing</th>\n",
       "      <th>gill-size</th>\n",
       "      <th>gill-color</th>\n",
       "      <th>...</th>\n",
       "      <th>stalk-surface-below-ring</th>\n",
       "      <th>stalk-color-above-ring</th>\n",
       "      <th>stalk-color-below-ring</th>\n",
       "      <th>veil-type</th>\n",
       "      <th>veil-color</th>\n",
       "      <th>ring-number</th>\n",
       "      <th>ring-type</th>\n",
       "      <th>spore-print-color</th>\n",
       "      <th>population</th>\n",
       "      <th>habitat</th>\n",
       "    </tr>\n",
       "  </thead>\n",
       "  <tbody>\n",
       "    <tr>\n",
       "      <th>0</th>\n",
       "      <td>p</td>\n",
       "      <td>x</td>\n",
       "      <td>s</td>\n",
       "      <td>n</td>\n",
       "      <td>t</td>\n",
       "      <td>p</td>\n",
       "      <td>f</td>\n",
       "      <td>c</td>\n",
       "      <td>n</td>\n",
       "      <td>k</td>\n",
       "      <td>...</td>\n",
       "      <td>s</td>\n",
       "      <td>w</td>\n",
       "      <td>w</td>\n",
       "      <td>p</td>\n",
       "      <td>w</td>\n",
       "      <td>o</td>\n",
       "      <td>p</td>\n",
       "      <td>k</td>\n",
       "      <td>s</td>\n",
       "      <td>u</td>\n",
       "    </tr>\n",
       "    <tr>\n",
       "      <th>1</th>\n",
       "      <td>e</td>\n",
       "      <td>x</td>\n",
       "      <td>s</td>\n",
       "      <td>y</td>\n",
       "      <td>t</td>\n",
       "      <td>a</td>\n",
       "      <td>f</td>\n",
       "      <td>c</td>\n",
       "      <td>b</td>\n",
       "      <td>k</td>\n",
       "      <td>...</td>\n",
       "      <td>s</td>\n",
       "      <td>w</td>\n",
       "      <td>w</td>\n",
       "      <td>p</td>\n",
       "      <td>w</td>\n",
       "      <td>o</td>\n",
       "      <td>p</td>\n",
       "      <td>n</td>\n",
       "      <td>n</td>\n",
       "      <td>g</td>\n",
       "    </tr>\n",
       "    <tr>\n",
       "      <th>2</th>\n",
       "      <td>e</td>\n",
       "      <td>b</td>\n",
       "      <td>s</td>\n",
       "      <td>w</td>\n",
       "      <td>t</td>\n",
       "      <td>l</td>\n",
       "      <td>f</td>\n",
       "      <td>c</td>\n",
       "      <td>b</td>\n",
       "      <td>n</td>\n",
       "      <td>...</td>\n",
       "      <td>s</td>\n",
       "      <td>w</td>\n",
       "      <td>w</td>\n",
       "      <td>p</td>\n",
       "      <td>w</td>\n",
       "      <td>o</td>\n",
       "      <td>p</td>\n",
       "      <td>n</td>\n",
       "      <td>n</td>\n",
       "      <td>m</td>\n",
       "    </tr>\n",
       "    <tr>\n",
       "      <th>3</th>\n",
       "      <td>p</td>\n",
       "      <td>x</td>\n",
       "      <td>y</td>\n",
       "      <td>w</td>\n",
       "      <td>t</td>\n",
       "      <td>p</td>\n",
       "      <td>f</td>\n",
       "      <td>c</td>\n",
       "      <td>n</td>\n",
       "      <td>n</td>\n",
       "      <td>...</td>\n",
       "      <td>s</td>\n",
       "      <td>w</td>\n",
       "      <td>w</td>\n",
       "      <td>p</td>\n",
       "      <td>w</td>\n",
       "      <td>o</td>\n",
       "      <td>p</td>\n",
       "      <td>k</td>\n",
       "      <td>s</td>\n",
       "      <td>u</td>\n",
       "    </tr>\n",
       "    <tr>\n",
       "      <th>4</th>\n",
       "      <td>e</td>\n",
       "      <td>x</td>\n",
       "      <td>s</td>\n",
       "      <td>g</td>\n",
       "      <td>f</td>\n",
       "      <td>n</td>\n",
       "      <td>f</td>\n",
       "      <td>w</td>\n",
       "      <td>b</td>\n",
       "      <td>k</td>\n",
       "      <td>...</td>\n",
       "      <td>s</td>\n",
       "      <td>w</td>\n",
       "      <td>w</td>\n",
       "      <td>p</td>\n",
       "      <td>w</td>\n",
       "      <td>o</td>\n",
       "      <td>e</td>\n",
       "      <td>n</td>\n",
       "      <td>a</td>\n",
       "      <td>g</td>\n",
       "    </tr>\n",
       "  </tbody>\n",
       "</table>\n",
       "<p>5 rows × 23 columns</p>\n",
       "</div>"
      ],
      "text/plain": [
       "  class cap-shape cap-surface cap-color bruises odor gill-attachment  \\\n",
       "0     p         x           s         n       t    p               f   \n",
       "1     e         x           s         y       t    a               f   \n",
       "2     e         b           s         w       t    l               f   \n",
       "3     p         x           y         w       t    p               f   \n",
       "4     e         x           s         g       f    n               f   \n",
       "\n",
       "  gill-spacing gill-size gill-color  ... stalk-surface-below-ring  \\\n",
       "0            c         n          k  ...                        s   \n",
       "1            c         b          k  ...                        s   \n",
       "2            c         b          n  ...                        s   \n",
       "3            c         n          n  ...                        s   \n",
       "4            w         b          k  ...                        s   \n",
       "\n",
       "  stalk-color-above-ring stalk-color-below-ring veil-type veil-color  \\\n",
       "0                      w                      w         p          w   \n",
       "1                      w                      w         p          w   \n",
       "2                      w                      w         p          w   \n",
       "3                      w                      w         p          w   \n",
       "4                      w                      w         p          w   \n",
       "\n",
       "  ring-number ring-type spore-print-color population habitat  \n",
       "0           o         p                 k          s       u  \n",
       "1           o         p                 n          n       g  \n",
       "2           o         p                 n          n       m  \n",
       "3           o         p                 k          s       u  \n",
       "4           o         e                 n          a       g  \n",
       "\n",
       "[5 rows x 23 columns]"
      ]
     },
     "execution_count": 81,
     "metadata": {},
     "output_type": "execute_result"
    }
   ],
   "source": [
    "df.head()"
   ]
  },
  {
   "cell_type": "code",
   "execution_count": 82,
   "metadata": {},
   "outputs": [],
   "source": [
    "X = df.drop(\"class\", axis = 1)"
   ]
  },
  {
   "cell_type": "code",
   "execution_count": 83,
   "metadata": {},
   "outputs": [],
   "source": [
    "X = pd.get_dummies(X, drop_first=True)"
   ]
  },
  {
   "cell_type": "code",
   "execution_count": 84,
   "metadata": {},
   "outputs": [],
   "source": [
    "y = df[\"class\"]"
   ]
  },
  {
   "cell_type": "code",
   "execution_count": 85,
   "metadata": {},
   "outputs": [],
   "source": [
    "from sklearn.model_selection import train_test_split"
   ]
  },
  {
   "cell_type": "code",
   "execution_count": 86,
   "metadata": {},
   "outputs": [],
   "source": [
    "X_train, X_test, y_train, y_test = train_test_split( X, y, test_size=0.10, random_state=101)"
   ]
  },
  {
   "cell_type": "code",
   "execution_count": 87,
   "metadata": {},
   "outputs": [],
   "source": [
    "from sklearn.ensemble import GradientBoostingClassifier"
   ]
  },
  {
   "cell_type": "markdown",
   "metadata": {},
   "source": [
    "#### <span style =\"color:#0596b0;font-family:helvetica\"> GradientBoostingClassfier Parameter:class sklearn.ensemble.GradientBoostingClassifier(*, loss='log_loss', learning_rate=0.1, n_estimators=100, subsample=1.0, criterion='friedman_mse', min_samples_split=2, min_samples_leaf=1, min_weight_fraction_leaf=0.0, max_depth=3, min_impurity_decrease=0.0, init=None, random_state=None, max_features=None, verbose=0, max_leaf_nodes=None, warm_start=False, validation_fraction=0.1, n_iter_no_change=None, tol=0.0001, ccp_alpha=0.0)"
   ]
  },
  {
   "cell_type": "markdown",
   "metadata": {},
   "source": [
    "### <span style =\"color:#0596b0;font-family:helvetica\">As advsied before boosting is meta learning models and tend to works best with Decision tree models and same reflect in sklearn documentation as well , you will see most of the hyperparameters are same as Decision tree, however max_dept is now 3 as default. With Adaboost max_depth was 1 being stump trees."
   ]
  },
  {
   "cell_type": "code",
   "execution_count": 88,
   "metadata": {},
   "outputs": [],
   "source": [
    "from sklearn.model_selection import GridSearchCV"
   ]
  },
  {
   "cell_type": "code",
   "execution_count": 89,
   "metadata": {},
   "outputs": [],
   "source": [
    "param_grid = {'n_estimators':[50,100],\n",
    "             \"learning_rate\":[0.1,0.05,0.2],\n",
    "             'max_depth':[3,4,5]}"
   ]
  },
  {
   "cell_type": "code",
   "execution_count": 90,
   "metadata": {},
   "outputs": [],
   "source": [
    "gb_model = GradientBoostingClassifier()"
   ]
  },
  {
   "cell_type": "code",
   "execution_count": 91,
   "metadata": {},
   "outputs": [],
   "source": [
    "grid = GridSearchCV(gb_model,param_grid)"
   ]
  },
  {
   "cell_type": "code",
   "execution_count": 92,
   "metadata": {},
   "outputs": [
    {
     "data": {
      "text/plain": [
       "GridSearchCV(estimator=GradientBoostingClassifier(),\n",
       "             param_grid={'learning_rate': [0.1, 0.05, 0.2],\n",
       "                         'max_depth': [3, 4, 5], 'n_estimators': [50, 100]})"
      ]
     },
     "execution_count": 92,
     "metadata": {},
     "output_type": "execute_result"
    }
   ],
   "source": [
    "grid.fit(X_train,y_train)"
   ]
  },
  {
   "cell_type": "code",
   "execution_count": 93,
   "metadata": {},
   "outputs": [
    {
     "data": {
      "text/plain": [
       "{'learning_rate': 0.1, 'max_depth': 3, 'n_estimators': 50}"
      ]
     },
     "execution_count": 93,
     "metadata": {},
     "output_type": "execute_result"
    }
   ],
   "source": [
    "grid.best_params_"
   ]
  },
  {
   "cell_type": "code",
   "execution_count": 94,
   "metadata": {},
   "outputs": [],
   "source": [
    "from sklearn.metrics import classification_report, plot_confusion_matrix, accuracy_score"
   ]
  },
  {
   "cell_type": "code",
   "execution_count": 98,
   "metadata": {},
   "outputs": [],
   "source": [
    "predictions1 = grid.predict(X_test)"
   ]
  },
  {
   "cell_type": "code",
   "execution_count": 99,
   "metadata": {},
   "outputs": [
    {
     "data": {
      "text/plain": [
       "GradientBoostingClassifier(n_estimators=50)"
      ]
     },
     "execution_count": 99,
     "metadata": {},
     "output_type": "execute_result"
    }
   ],
   "source": [
    "grid.best_estimator_"
   ]
  },
  {
   "cell_type": "code",
   "execution_count": 101,
   "metadata": {},
   "outputs": [
    {
     "name": "stdout",
     "output_type": "stream",
     "text": [
      "              precision    recall  f1-score   support\n",
      "\n",
      "           e       1.00      1.00      1.00       444\n",
      "           p       1.00      1.00      1.00       369\n",
      "\n",
      "    accuracy                           1.00       813\n",
      "   macro avg       1.00      1.00      1.00       813\n",
      "weighted avg       1.00      1.00      1.00       813\n",
      "\n"
     ]
    }
   ],
   "source": [
    "print(classification_report(y_test,predictions1))"
   ]
  },
  {
   "cell_type": "code",
   "execution_count": 102,
   "metadata": {},
   "outputs": [
    {
     "data": {
      "text/plain": [
       "array([ 1.71990251e-04,  1.36564869e-16,  0.00000000e+00,  0.00000000e+00,\n",
       "        0.00000000e+00,  1.68661908e-03,  3.40184507e-16,  7.83120041e-16,\n",
       "        0.00000000e+00,  0.00000000e+00,  1.60700374e-16,  0.00000000e+00,\n",
       "        3.42622105e-17,  0.00000000e+00,  0.00000000e+00,  1.65907977e-05,\n",
       "        2.44684069e-03,  5.63101037e-02,  1.30525988e-04,  2.15346341e-02,\n",
       "        2.07370954e-02,  2.56774725e-05,  6.15629900e-01,  9.28195823e-03,\n",
       "        0.00000000e+00,  0.00000000e+00,  0.00000000e+00,  1.21929787e-02,\n",
       "        1.06415317e-02,  0.00000000e+00,  0.00000000e+00,  0.00000000e+00,\n",
       "        0.00000000e+00,  0.00000000e+00,  0.00000000e+00,  9.46144398e-18,\n",
       "        0.00000000e+00,  0.00000000e+00,  0.00000000e+00,  0.00000000e+00,\n",
       "        3.72420500e-04,  8.31285054e-04,  1.29016949e-01,  0.00000000e+00,\n",
       "        3.80708261e-02,  1.30746262e-03,  2.38342217e-17,  0.00000000e+00,\n",
       "       -1.26327127e-19,  4.24176168e-04,  2.79383826e-02,  1.23347620e-04,\n",
       "        0.00000000e+00,  0.00000000e+00,  4.36930144e-04,  0.00000000e+00,\n",
       "        0.00000000e+00,  3.23692403e-04,  0.00000000e+00,  1.35372705e-04,\n",
       "        0.00000000e+00,  0.00000000e+00,  1.87341720e-05,  0.00000000e+00,\n",
       "        0.00000000e+00,  3.97186743e-03,  3.00340085e-03,  0.00000000e+00,\n",
       "        0.00000000e+00,  0.00000000e+00,  7.36598621e-04,  1.28757931e-04,\n",
       "        0.00000000e+00,  0.00000000e+00,  8.01025119e-05,  6.64536453e-04,\n",
       "        1.45765785e-04,  1.41565433e-04,  1.29130796e-04,  0.00000000e+00,\n",
       "        3.19571619e-02,  3.77457464e-03,  1.71066272e-03,  0.00000000e+00,\n",
       "        3.08057844e-03,  0.00000000e+00,  0.00000000e+00,  6.69271969e-04,\n",
       "        0.00000000e+00,  3.20196151e-19,  0.00000000e+00,  0.00000000e+00,\n",
       "        0.00000000e+00,  2.65161840e-17,  0.00000000e+00])"
      ]
     },
     "execution_count": 102,
     "metadata": {},
     "output_type": "execute_result"
    }
   ],
   "source": [
    "grid.best_estimator_.feature_importances_### features importance comes only after best estimators when we are doing grid search"
   ]
  },
  {
   "cell_type": "code",
   "execution_count": 103,
   "metadata": {},
   "outputs": [],
   "source": [
    "feat_import = grid.best_estimator_.feature_importances_"
   ]
  },
  {
   "cell_type": "code",
   "execution_count": 104,
   "metadata": {},
   "outputs": [],
   "source": [
    "imp_f = pd.DataFrame(index = X.columns, data = feat_import, columns=[\"Importance\"])"
   ]
  },
  {
   "cell_type": "code",
   "execution_count": 107,
   "metadata": {},
   "outputs": [],
   "source": [
    "imp_f = imp_f[imp_f[\"Importance\"]>0.0005]"
   ]
  },
  {
   "cell_type": "code",
   "execution_count": 108,
   "metadata": {},
   "outputs": [
    {
     "data": {
      "text/html": [
       "<div>\n",
       "<style scoped>\n",
       "    .dataframe tbody tr th:only-of-type {\n",
       "        vertical-align: middle;\n",
       "    }\n",
       "\n",
       "    .dataframe tbody tr th {\n",
       "        vertical-align: top;\n",
       "    }\n",
       "\n",
       "    .dataframe thead th {\n",
       "        text-align: right;\n",
       "    }\n",
       "</style>\n",
       "<table border=\"1\" class=\"dataframe\">\n",
       "  <thead>\n",
       "    <tr style=\"text-align: right;\">\n",
       "      <th></th>\n",
       "      <th>Importance</th>\n",
       "    </tr>\n",
       "  </thead>\n",
       "  <tbody>\n",
       "    <tr>\n",
       "      <th>cap-surface_g</th>\n",
       "      <td>0.001687</td>\n",
       "    </tr>\n",
       "    <tr>\n",
       "      <th>cap-color_y</th>\n",
       "      <td>0.002447</td>\n",
       "    </tr>\n",
       "    <tr>\n",
       "      <th>bruises_t</th>\n",
       "      <td>0.056310</td>\n",
       "    </tr>\n",
       "    <tr>\n",
       "      <th>odor_f</th>\n",
       "      <td>0.021535</td>\n",
       "    </tr>\n",
       "    <tr>\n",
       "      <th>odor_l</th>\n",
       "      <td>0.020737</td>\n",
       "    </tr>\n",
       "    <tr>\n",
       "      <th>odor_n</th>\n",
       "      <td>0.615630</td>\n",
       "    </tr>\n",
       "    <tr>\n",
       "      <th>odor_p</th>\n",
       "      <td>0.009282</td>\n",
       "    </tr>\n",
       "    <tr>\n",
       "      <th>gill-spacing_w</th>\n",
       "      <td>0.012193</td>\n",
       "    </tr>\n",
       "    <tr>\n",
       "      <th>gill-size_n</th>\n",
       "      <td>0.010642</td>\n",
       "    </tr>\n",
       "    <tr>\n",
       "      <th>stalk-root_b</th>\n",
       "      <td>0.000831</td>\n",
       "    </tr>\n",
       "    <tr>\n",
       "      <th>stalk-root_c</th>\n",
       "      <td>0.129017</td>\n",
       "    </tr>\n",
       "    <tr>\n",
       "      <th>stalk-root_r</th>\n",
       "      <td>0.038071</td>\n",
       "    </tr>\n",
       "    <tr>\n",
       "      <th>stalk-surface-above-ring_k</th>\n",
       "      <td>0.001307</td>\n",
       "    </tr>\n",
       "    <tr>\n",
       "      <th>stalk-surface-below-ring_y</th>\n",
       "      <td>0.027938</td>\n",
       "    </tr>\n",
       "    <tr>\n",
       "      <th>stalk-color-below-ring_w</th>\n",
       "      <td>0.003972</td>\n",
       "    </tr>\n",
       "    <tr>\n",
       "      <th>stalk-color-below-ring_y</th>\n",
       "      <td>0.003003</td>\n",
       "    </tr>\n",
       "    <tr>\n",
       "      <th>ring-number_o</th>\n",
       "      <td>0.000737</td>\n",
       "    </tr>\n",
       "    <tr>\n",
       "      <th>ring-type_p</th>\n",
       "      <td>0.000665</td>\n",
       "    </tr>\n",
       "    <tr>\n",
       "      <th>spore-print-color_r</th>\n",
       "      <td>0.031957</td>\n",
       "    </tr>\n",
       "    <tr>\n",
       "      <th>spore-print-color_u</th>\n",
       "      <td>0.003775</td>\n",
       "    </tr>\n",
       "    <tr>\n",
       "      <th>spore-print-color_w</th>\n",
       "      <td>0.001711</td>\n",
       "    </tr>\n",
       "    <tr>\n",
       "      <th>population_c</th>\n",
       "      <td>0.003081</td>\n",
       "    </tr>\n",
       "    <tr>\n",
       "      <th>population_v</th>\n",
       "      <td>0.000669</td>\n",
       "    </tr>\n",
       "  </tbody>\n",
       "</table>\n",
       "</div>"
      ],
      "text/plain": [
       "                            Importance\n",
       "cap-surface_g                 0.001687\n",
       "cap-color_y                   0.002447\n",
       "bruises_t                     0.056310\n",
       "odor_f                        0.021535\n",
       "odor_l                        0.020737\n",
       "odor_n                        0.615630\n",
       "odor_p                        0.009282\n",
       "gill-spacing_w                0.012193\n",
       "gill-size_n                   0.010642\n",
       "stalk-root_b                  0.000831\n",
       "stalk-root_c                  0.129017\n",
       "stalk-root_r                  0.038071\n",
       "stalk-surface-above-ring_k    0.001307\n",
       "stalk-surface-below-ring_y    0.027938\n",
       "stalk-color-below-ring_w      0.003972\n",
       "stalk-color-below-ring_y      0.003003\n",
       "ring-number_o                 0.000737\n",
       "ring-type_p                   0.000665\n",
       "spore-print-color_r           0.031957\n",
       "spore-print-color_u           0.003775\n",
       "spore-print-color_w           0.001711\n",
       "population_c                  0.003081\n",
       "population_v                  0.000669"
      ]
     },
     "execution_count": 108,
     "metadata": {},
     "output_type": "execute_result"
    }
   ],
   "source": [
    "imp_f"
   ]
  },
  {
   "cell_type": "code",
   "execution_count": 110,
   "metadata": {},
   "outputs": [],
   "source": [
    "imp_f = imp_f.sort_values(\"Importance\")"
   ]
  },
  {
   "cell_type": "code",
   "execution_count": 113,
   "metadata": {},
   "outputs": [
    {
     "data": {
      "image/png": "[encoded data removed]",
      "text/plain": [
       "<Figure size 2400x1600 with 1 Axes>"
      ]
     },
     "metadata": {
      "needs_background": "light"
     },
     "output_type": "display_data"
    }
   ],
   "source": [
    "plt.figure(figsize=(12,8),dpi = 200)\n",
    "sns.barplot(data = imp_f, x = imp_f.index, y = \"Importance\")\n",
    "plt.xticks(rotation = 90);"
   ]
  },
  {
   "cell_type": "code",
   "execution_count": null,
   "metadata": {},
   "outputs": [],
   "source": []
  }
 ],
 "metadata": {
  "kernelspec": {
   "display_name": "Python 3",
   "language": "python",
   "name": "python3"
  },
  "language_info": {
   "codemirror_mode": {
    "name": "ipython",
    "version": 3
   },
   "file_extension": ".py",
   "mimetype": "text/x-python",
   "name": "python",
   "nbconvert_exporter": "python",
   "pygments_lexer": "ipython3",
   "version": "3.8.5"
  }
 },
 "nbformat": 4,
 "nbformat_minor": 4
}
